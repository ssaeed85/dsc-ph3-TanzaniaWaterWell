{
 "cells": [
  {
   "cell_type": "markdown",
   "id": "5e22e45c",
   "metadata": {
    "ExecuteTime": {
     "end_time": "2022-04-19T15:03:56.825390Z",
     "start_time": "2022-04-19T15:03:56.823390Z"
    }
   },
   "source": [
    "References:\\\n",
    "    https://machinelearningmastery.com/save-load-machine-learning-models-python-scikit-learn/ (pickle)\\\n",
    "    https://towardsdatascience.com/coding-a-custom-imputer-in-scikit-learn-31bd68e541de(custom Imputer)"
   ]
  },
  {
   "cell_type": "markdown",
   "id": "b2b4911c",
   "metadata": {},
   "source": [
    "# Business Problem"
   ]
  },
  {
   "cell_type": "markdown",
   "id": "4e759d5a",
   "metadata": {},
   "source": [
    ">According to WHO, one out of six people lack access to safe drinking water in Tanzania (WHO/UNICEF, 2004).\n",
    ">-https://projectzawadi.org/water-shortage/\n",
    "\n",
    ">It is estimated that Tanzania spends 70 per cent of its health budget on preventable WASH (Water, Sanitation and Hygiene) ->related diseases as the majority of the population does not have access to improved sanitation, and close to half of the >population does not have access to clean drinking water.\n",
    ">-https://www.unicef.org/tanzania/what-we-do/wash\n",
    "\n",
    "Resolving the water poverty crisis has been an ongoing agenda for the Tanzanian government water body for decades now. The Tanzanian government in conjunction with various charity efforts and the villages themselves has made major strides in improving the life of the Tanzanian people.\n",
    "\n",
    ">In the year 2000, 73 percent of Tanzanians were living without basic access to safe water. The most up-to-date numbers from >2017 show that the percentage was nearly halved and continues to fall.\n",
    ">-https://lifewater.org/blog/tanzania-water-crisis-facts/\n",
    "\n",
    "Looking at past water well data, I believe we can help the Tanzanian government get closer to its 2025 vision of improved sanitation to 95 per cent of its people. I believe a predictive model that helps identify water wells in a state of disrepair can help the Tanzanian water body better allocate its resources."
   ]
  },
  {
   "cell_type": "markdown",
   "id": "37692d60",
   "metadata": {},
   "source": [
    "# Data"
   ]
  },
  {
   "cell_type": "markdown",
   "id": "52afbebf",
   "metadata": {},
   "source": [
    "The data was gathered from [drivendata.com](https://www.drivendata.org/competitions/7/pump-it-up-data-mining-the-water-table/) who in turn had gathered it from Taarifa and the Tanzanian Ministry of Water. The dataset covers nearly 60,000 different water well sites across the years going as far back as 1960. \n",
    "\n",
    "Each record has a total of 39 input features. Each record has multiclass label to predict for the output. The well sites are labeled either _'functional'_, _'functional needs repairs'_, or _'non-functional'_.\n",
    "\n",
    "The goal is to be able to predict with a level certainty the operating conditions of a well site given its details.\n",
    "\n",
    "The primary hurdle in this dataset has been to account for incomplete data or missing data. For a more detailed analysis please refer to the [Notebook_DataExploration.ipynb](Notebook_DataExploration.ipynb)\n"
   ]
  },
  {
   "cell_type": "markdown",
   "id": "f71f7453",
   "metadata": {},
   "source": [
    "# Import Libraries"
   ]
  },
  {
   "cell_type": "code",
   "execution_count": 3,
   "id": "5ec06b4a",
   "metadata": {
    "ExecuteTime": {
     "end_time": "2022-04-21T14:10:34.186427Z",
     "start_time": "2022-04-21T14:10:33.978855Z"
    }
   },
   "outputs": [],
   "source": [
    "import pandas as pd\n",
    "pd.set_option('display.max_columns', None)\n",
    "\n",
    "import numpy as np\n",
    "import matplotlib.pyplot as plt\n",
    "import pickle\n",
    "\n",
    "from sklearn.dummy import DummyClassifier\n",
    "from sklearn.neighbors import KNeighborsClassifier\n",
    "from sklearn.model_selection import train_test_split, GridSearchCV, cross_val_score,cross_val_predict, cross_validate\n",
    "from sklearn.pipeline import Pipeline\n",
    "from sklearn.preprocessing import StandardScaler, MinMaxScaler, OneHotEncoder, FunctionTransformer\n",
    "from sklearn.impute import SimpleImputer,KNNImputer\n",
    "from sklearn.compose import ColumnTransformer\n",
    "from sklearn.linear_model import LogisticRegression\n",
    "from sklearn.ensemble import RandomForestClassifier\n",
    "from sklearn.metrics import plot_confusion_matrix, recall_score,\\\n",
    "    accuracy_score, precision_score, f1_score, classification_report, ConfusionMatrixDisplay, confusion_matrix\n",
    "import xgboost\n",
    "\n",
    "import random\n",
    "random.seed(42)\n",
    "\n",
    "from imblearn.over_sampling import SMOTE\n",
    "from imblearn.pipeline import Pipeline as ImPipeline"
   ]
  },
  {
   "cell_type": "markdown",
   "id": "135d7b2b",
   "metadata": {},
   "source": [
    "## Additional custom imports"
   ]
  },
  {
   "cell_type": "code",
   "execution_count": 64,
   "id": "976758fc",
   "metadata": {
    "ExecuteTime": {
     "end_time": "2022-04-22T03:10:58.564796Z",
     "start_time": "2022-04-22T03:10:58.551793Z"
    }
   },
   "outputs": [],
   "source": [
    "from src.pandas_helper import colInfo\n",
    "from src.pandas_helper import modelReport\n",
    "from src.pandas_helper import getAllCrossValScores\n",
    "from src.pandas_helper import prettyPrintGridCVResults\n",
    "\n",
    "\n",
    "from src.sklearn_helper import CoordinatesImputer"
   ]
  },
  {
   "cell_type": "markdown",
   "id": "c3f900e6",
   "metadata": {},
   "source": [
    "**Note:** To speed up running of model fit cells, the n_jobs parameter is set to a global variable. This can be set to -1 to allow access to the entirety of your machine's CPU resources for operations in this notebook (where applicable). This ***will*** make your machine essentially unusable until the operations have finished performing. Set this to None for regular operations"
   ]
  },
  {
   "cell_type": "code",
   "execution_count": 120,
   "id": "698a805d",
   "metadata": {
    "ExecuteTime": {
     "end_time": "2022-04-22T05:21:07.474749Z",
     "start_time": "2022-04-22T05:21:07.472749Z"
    }
   },
   "outputs": [],
   "source": [
    "Notebook_n_jobs = 4"
   ]
  },
  {
   "cell_type": "markdown",
   "id": "5f3d9644",
   "metadata": {},
   "source": [
    "# Load Data"
   ]
  },
  {
   "cell_type": "markdown",
   "id": "a7949ed9",
   "metadata": {},
   "source": [
    "Lets start by loading the data set. In our particular case the independent and dependent variables have already been separated as two different files.\n",
    "\n",
    "**Note:** The file names suggest this is only the training set, and this is true. This dataset is originally part of a competition and the test label set was not provided. To help with validating our findings and making our final assessments, the raw training set will be considered as the entire dataset. We will split this into our new training and test datasets."
   ]
  },
  {
   "cell_type": "code",
   "execution_count": 66,
   "id": "ef76e843",
   "metadata": {
    "ExecuteTime": {
     "end_time": "2022-04-22T03:19:35.521840Z",
     "start_time": "2022-04-22T03:19:32.415393Z"
    },
    "scrolled": false
   },
   "outputs": [
    {
     "data": {
      "text/html": [
       "<style  type=\"text/css\" >\n",
       "</style><table id=\"T_08b54c74_c1eb_11ec_868f_ec2e98d37a84\" ><caption>Table Info</caption><thead>    <tr>        <th class=\"blank level0\" ></th>        <th class=\"col_heading level0 col0\" >Number</th>        <th class=\"col_heading level0 col1\" >Percentage</th>    </tr>    <tr>        <th class=\"index_name level0\" ></th>        <th class=\"blank\" ></th>        <th class=\"blank\" ></th>    </tr></thead><tbody>\n",
       "                <tr>\n",
       "                        <th id=\"T_08b54c74_c1eb_11ec_868f_ec2e98d37a84level0_row0\" class=\"row_heading level0 row0\" >Zeroes</th>\n",
       "                        <td id=\"T_08b54c74_c1eb_11ec_868f_ec2e98d37a84row0_col0\" class=\"data row0 col0\" >0</td>\n",
       "                        <td id=\"T_08b54c74_c1eb_11ec_868f_ec2e98d37a84row0_col1\" class=\"data row0 col1\" >0.00 %</td>\n",
       "            </tr>\n",
       "            <tr>\n",
       "                        <th id=\"T_08b54c74_c1eb_11ec_868f_ec2e98d37a84level0_row1\" class=\"row_heading level0 row1\" >Missing</th>\n",
       "                        <td id=\"T_08b54c74_c1eb_11ec_868f_ec2e98d37a84row1_col0\" class=\"data row1 col0\" >0</td>\n",
       "                        <td id=\"T_08b54c74_c1eb_11ec_868f_ec2e98d37a84row1_col1\" class=\"data row1 col1\" >0.00 %</td>\n",
       "            </tr>\n",
       "            <tr>\n",
       "                        <th id=\"T_08b54c74_c1eb_11ec_868f_ec2e98d37a84level0_row2\" class=\"row_heading level0 row2\" >Unknown</th>\n",
       "                        <td id=\"T_08b54c74_c1eb_11ec_868f_ec2e98d37a84row2_col0\" class=\"data row2 col0\" >0</td>\n",
       "                        <td id=\"T_08b54c74_c1eb_11ec_868f_ec2e98d37a84row2_col1\" class=\"data row2 col1\" >0.00 %</td>\n",
       "            </tr>\n",
       "            <tr>\n",
       "                        <th id=\"T_08b54c74_c1eb_11ec_868f_ec2e98d37a84level0_row3\" class=\"row_heading level0 row3\" >Uniques</th>\n",
       "                        <td id=\"T_08b54c74_c1eb_11ec_868f_ec2e98d37a84row3_col0\" class=\"data row3 col0\" >3</td>\n",
       "                        <td id=\"T_08b54c74_c1eb_11ec_868f_ec2e98d37a84row3_col1\" class=\"data row3 col1\" >0.01 %</td>\n",
       "            </tr>\n",
       "            <tr>\n",
       "                        <th id=\"T_08b54c74_c1eb_11ec_868f_ec2e98d37a84level0_row4\" class=\"row_heading level0 row4\" >Mean</th>\n",
       "                        <td id=\"T_08b54c74_c1eb_11ec_868f_ec2e98d37a84row4_col0\" class=\"data row4 col0\" >0.00</td>\n",
       "                        <td id=\"T_08b54c74_c1eb_11ec_868f_ec2e98d37a84row4_col1\" class=\"data row4 col1\" >-</td>\n",
       "            </tr>\n",
       "            <tr>\n",
       "                        <th id=\"T_08b54c74_c1eb_11ec_868f_ec2e98d37a84level0_row5\" class=\"row_heading level0 row5\" >Median</th>\n",
       "                        <td id=\"T_08b54c74_c1eb_11ec_868f_ec2e98d37a84row5_col0\" class=\"data row5 col0\" >0.00</td>\n",
       "                        <td id=\"T_08b54c74_c1eb_11ec_868f_ec2e98d37a84row5_col1\" class=\"data row5 col1\" >-</td>\n",
       "            </tr>\n",
       "    </tbody></table>"
      ],
      "text/plain": [
       "<pandas.io.formats.style.Styler at 0x239819457f0>"
      ]
     },
     "metadata": {},
     "output_type": "display_data"
    },
    {
     "data": {
      "text/html": [
       "<style  type=\"text/css\" >\n",
       "</style><table id=\"T_08b59a99_c1eb_11ec_ab4f_ec2e98d37a84\" ><caption>Top 10 Value Count Info</caption><thead>    <tr>        <th class=\"blank level0\" ></th>        <th class=\"col_heading level0 col0\" >Value Count</th>        <th class=\"col_heading level0 col1\" >% Value Count</th>    </tr></thead><tbody>\n",
       "                <tr>\n",
       "                        <th id=\"T_08b59a99_c1eb_11ec_ab4f_ec2e98d37a84level0_row0\" class=\"row_heading level0 row0\" >functional</th>\n",
       "                        <td id=\"T_08b59a99_c1eb_11ec_ab4f_ec2e98d37a84row0_col0\" class=\"data row0 col0\" >32259</td>\n",
       "                        <td id=\"T_08b59a99_c1eb_11ec_ab4f_ec2e98d37a84row0_col1\" class=\"data row0 col1\" >54.308081</td>\n",
       "            </tr>\n",
       "            <tr>\n",
       "                        <th id=\"T_08b59a99_c1eb_11ec_ab4f_ec2e98d37a84level0_row1\" class=\"row_heading level0 row1\" >non functional</th>\n",
       "                        <td id=\"T_08b59a99_c1eb_11ec_ab4f_ec2e98d37a84row1_col0\" class=\"data row1 col0\" >22824</td>\n",
       "                        <td id=\"T_08b59a99_c1eb_11ec_ab4f_ec2e98d37a84row1_col1\" class=\"data row1 col1\" >38.424242</td>\n",
       "            </tr>\n",
       "            <tr>\n",
       "                        <th id=\"T_08b59a99_c1eb_11ec_ab4f_ec2e98d37a84level0_row2\" class=\"row_heading level0 row2\" >functional needs repair</th>\n",
       "                        <td id=\"T_08b59a99_c1eb_11ec_ab4f_ec2e98d37a84row2_col0\" class=\"data row2 col0\" >4317</td>\n",
       "                        <td id=\"T_08b59a99_c1eb_11ec_ab4f_ec2e98d37a84row2_col1\" class=\"data row2 col1\" >7.267677</td>\n",
       "            </tr>\n",
       "    </tbody></table>"
      ],
      "text/plain": [
       "<pandas.io.formats.style.Styler at 0x239815a1310>"
      ]
     },
     "metadata": {},
     "output_type": "display_data"
    },
    {
     "data": {
      "image/png": "[encoded data removed]",
      "text/plain": [
       "<Figure size 1080x576 with 1 Axes>"
      ]
     },
     "metadata": {
      "needs_background": "light"
     },
     "output_type": "display_data"
    }
   ],
   "source": [
    "X = pd.read_csv('data/Training_set.csv')\n",
    "y = pd.read_csv('data/Training_labels.csv').status_group\n",
    "colInfo(y)"
   ]
  },
  {
   "cell_type": "markdown",
   "id": "2a0aba6a",
   "metadata": {},
   "source": [
    "We can see this is a multi class classification problem. There is a class imbalance with the smallest class comprising of 7.26%. We might be able to overcome this by employing oversampling in some of our models."
   ]
  },
  {
   "cell_type": "markdown",
   "id": "6aaee3d1",
   "metadata": {},
   "source": [
    "# Train Test Split"
   ]
  },
  {
   "cell_type": "markdown",
   "id": "31c4c505",
   "metadata": {},
   "source": [
    "Next, we'll use train test split to create our training and holdout sets. We shall default to the default split of 75% training and 25% validation set."
   ]
  },
  {
   "cell_type": "code",
   "execution_count": 70,
   "id": "1d8b2fe8",
   "metadata": {
    "ExecuteTime": {
     "end_time": "2022-04-22T03:25:33.638528Z",
     "start_time": "2022-04-22T03:25:33.325942Z"
    }
   },
   "outputs": [],
   "source": [
    "X_train,X_test, y_train, y_test = train_test_split(X,y,random_state=42)"
   ]
  },
  {
   "cell_type": "code",
   "execution_count": 71,
   "id": "8129e760",
   "metadata": {
    "ExecuteTime": {
     "end_time": "2022-04-22T03:25:35.669972Z",
     "start_time": "2022-04-22T03:25:35.638965Z"
    },
    "scrolled": true
   },
   "outputs": [
    {
     "data": {
      "text/html": [
       "<div>\n",
       "<style scoped>\n",
       "    .dataframe tbody tr th:only-of-type {\n",
       "        vertical-align: middle;\n",
       "    }\n",
       "\n",
       "    .dataframe tbody tr th {\n",
       "        vertical-align: top;\n",
       "    }\n",
       "\n",
       "    .dataframe thead th {\n",
       "        text-align: right;\n",
       "    }\n",
       "</style>\n",
       "<table border=\"1\" class=\"dataframe\">\n",
       "  <thead>\n",
       "    <tr style=\"text-align: right;\">\n",
       "      <th></th>\n",
       "      <th>id</th>\n",
       "      <th>amount_tsh</th>\n",
       "      <th>date_recorded</th>\n",
       "      <th>funder</th>\n",
       "      <th>gps_height</th>\n",
       "      <th>installer</th>\n",
       "      <th>longitude</th>\n",
       "      <th>latitude</th>\n",
       "      <th>wpt_name</th>\n",
       "      <th>num_private</th>\n",
       "      <th>basin</th>\n",
       "      <th>subvillage</th>\n",
       "      <th>region</th>\n",
       "      <th>region_code</th>\n",
       "      <th>district_code</th>\n",
       "      <th>lga</th>\n",
       "      <th>ward</th>\n",
       "      <th>population</th>\n",
       "      <th>public_meeting</th>\n",
       "      <th>recorded_by</th>\n",
       "      <th>scheme_management</th>\n",
       "      <th>scheme_name</th>\n",
       "      <th>permit</th>\n",
       "      <th>construction_year</th>\n",
       "      <th>extraction_type</th>\n",
       "      <th>extraction_type_group</th>\n",
       "      <th>extraction_type_class</th>\n",
       "      <th>management</th>\n",
       "      <th>management_group</th>\n",
       "      <th>payment</th>\n",
       "      <th>payment_type</th>\n",
       "      <th>water_quality</th>\n",
       "      <th>quality_group</th>\n",
       "      <th>quantity</th>\n",
       "      <th>quantity_group</th>\n",
       "      <th>source</th>\n",
       "      <th>source_type</th>\n",
       "      <th>source_class</th>\n",
       "      <th>waterpoint_type</th>\n",
       "      <th>waterpoint_type_group</th>\n",
       "    </tr>\n",
       "  </thead>\n",
       "  <tbody>\n",
       "    <tr>\n",
       "      <th>24947</th>\n",
       "      <td>33935</td>\n",
       "      <td>20.0</td>\n",
       "      <td>2011-03-08</td>\n",
       "      <td>Government Of Tanzania</td>\n",
       "      <td>330</td>\n",
       "      <td>Ce</td>\n",
       "      <td>38.123839</td>\n",
       "      <td>-6.087137e+00</td>\n",
       "      <td>Ccm</td>\n",
       "      <td>0</td>\n",
       "      <td>Wami / Ruvu</td>\n",
       "      <td>Kilangawageni</td>\n",
       "      <td>Pwani</td>\n",
       "      <td>6</td>\n",
       "      <td>1</td>\n",
       "      <td>Bagamoyo</td>\n",
       "      <td>Mbwewe</td>\n",
       "      <td>80</td>\n",
       "      <td>True</td>\n",
       "      <td>GeoData Consultants Ltd</td>\n",
       "      <td>VWC</td>\n",
       "      <td>Kwaruhombo wa</td>\n",
       "      <td>True</td>\n",
       "      <td>1972</td>\n",
       "      <td>ksb</td>\n",
       "      <td>submersible</td>\n",
       "      <td>submersible</td>\n",
       "      <td>vwc</td>\n",
       "      <td>user-group</td>\n",
       "      <td>pay per bucket</td>\n",
       "      <td>per bucket</td>\n",
       "      <td>salty</td>\n",
       "      <td>salty</td>\n",
       "      <td>insufficient</td>\n",
       "      <td>insufficient</td>\n",
       "      <td>machine dbh</td>\n",
       "      <td>borehole</td>\n",
       "      <td>groundwater</td>\n",
       "      <td>communal standpipe</td>\n",
       "      <td>communal standpipe</td>\n",
       "    </tr>\n",
       "    <tr>\n",
       "      <th>22630</th>\n",
       "      <td>49654</td>\n",
       "      <td>0.0</td>\n",
       "      <td>2013-02-16</td>\n",
       "      <td>Dwsp</td>\n",
       "      <td>0</td>\n",
       "      <td>DWE</td>\n",
       "      <td>0.000000</td>\n",
       "      <td>-2.000000e-08</td>\n",
       "      <td>Mwamahonza</td>\n",
       "      <td>0</td>\n",
       "      <td>Lake Victoria</td>\n",
       "      <td>Mwamahala</td>\n",
       "      <td>Mwanza</td>\n",
       "      <td>17</td>\n",
       "      <td>1</td>\n",
       "      <td>Magu</td>\n",
       "      <td>Nkungulu</td>\n",
       "      <td>0</td>\n",
       "      <td>NaN</td>\n",
       "      <td>GeoData Consultants Ltd</td>\n",
       "      <td>WUG</td>\n",
       "      <td>NaN</td>\n",
       "      <td>False</td>\n",
       "      <td>0</td>\n",
       "      <td>nira/tanira</td>\n",
       "      <td>nira/tanira</td>\n",
       "      <td>handpump</td>\n",
       "      <td>wug</td>\n",
       "      <td>user-group</td>\n",
       "      <td>unknown</td>\n",
       "      <td>unknown</td>\n",
       "      <td>soft</td>\n",
       "      <td>good</td>\n",
       "      <td>enough</td>\n",
       "      <td>enough</td>\n",
       "      <td>shallow well</td>\n",
       "      <td>shallow well</td>\n",
       "      <td>groundwater</td>\n",
       "      <td>hand pump</td>\n",
       "      <td>hand pump</td>\n",
       "    </tr>\n",
       "    <tr>\n",
       "      <th>13789</th>\n",
       "      <td>39287</td>\n",
       "      <td>0.0</td>\n",
       "      <td>2011-08-13</td>\n",
       "      <td>Dasip</td>\n",
       "      <td>0</td>\n",
       "      <td>DASIP</td>\n",
       "      <td>33.312321</td>\n",
       "      <td>-2.814100e+00</td>\n",
       "      <td>Chanongu</td>\n",
       "      <td>0</td>\n",
       "      <td>Lake Victoria</td>\n",
       "      <td>Chanongu</td>\n",
       "      <td>Mwanza</td>\n",
       "      <td>19</td>\n",
       "      <td>4</td>\n",
       "      <td>Kwimba</td>\n",
       "      <td>Wala</td>\n",
       "      <td>0</td>\n",
       "      <td>True</td>\n",
       "      <td>GeoData Consultants Ltd</td>\n",
       "      <td>VWC</td>\n",
       "      <td>NaN</td>\n",
       "      <td>True</td>\n",
       "      <td>0</td>\n",
       "      <td>india mark ii</td>\n",
       "      <td>india mark ii</td>\n",
       "      <td>handpump</td>\n",
       "      <td>vwc</td>\n",
       "      <td>user-group</td>\n",
       "      <td>never pay</td>\n",
       "      <td>never pay</td>\n",
       "      <td>soft</td>\n",
       "      <td>good</td>\n",
       "      <td>enough</td>\n",
       "      <td>enough</td>\n",
       "      <td>machine dbh</td>\n",
       "      <td>borehole</td>\n",
       "      <td>groundwater</td>\n",
       "      <td>hand pump</td>\n",
       "      <td>hand pump</td>\n",
       "    </tr>\n",
       "  </tbody>\n",
       "</table>\n",
       "</div>"
      ],
      "text/plain": [
       "          id  amount_tsh date_recorded                  funder  gps_height  \\\n",
       "24947  33935        20.0    2011-03-08  Government Of Tanzania         330   \n",
       "22630  49654         0.0    2013-02-16                    Dwsp           0   \n",
       "13789  39287         0.0    2011-08-13                   Dasip           0   \n",
       "\n",
       "      installer  longitude      latitude    wpt_name  num_private  \\\n",
       "24947        Ce  38.123839 -6.087137e+00         Ccm            0   \n",
       "22630       DWE   0.000000 -2.000000e-08  Mwamahonza            0   \n",
       "13789     DASIP  33.312321 -2.814100e+00    Chanongu            0   \n",
       "\n",
       "               basin     subvillage  region  region_code  district_code  \\\n",
       "24947    Wami / Ruvu  Kilangawageni   Pwani            6              1   \n",
       "22630  Lake Victoria      Mwamahala  Mwanza           17              1   \n",
       "13789  Lake Victoria       Chanongu  Mwanza           19              4   \n",
       "\n",
       "            lga      ward  population public_meeting              recorded_by  \\\n",
       "24947  Bagamoyo    Mbwewe          80           True  GeoData Consultants Ltd   \n",
       "22630      Magu  Nkungulu           0            NaN  GeoData Consultants Ltd   \n",
       "13789    Kwimba      Wala           0           True  GeoData Consultants Ltd   \n",
       "\n",
       "      scheme_management    scheme_name permit  construction_year  \\\n",
       "24947               VWC  Kwaruhombo wa   True               1972   \n",
       "22630               WUG            NaN  False                  0   \n",
       "13789               VWC            NaN   True                  0   \n",
       "\n",
       "      extraction_type extraction_type_group extraction_type_class management  \\\n",
       "24947             ksb           submersible           submersible        vwc   \n",
       "22630     nira/tanira           nira/tanira              handpump        wug   \n",
       "13789   india mark ii         india mark ii              handpump        vwc   \n",
       "\n",
       "      management_group         payment payment_type water_quality  \\\n",
       "24947       user-group  pay per bucket   per bucket         salty   \n",
       "22630       user-group         unknown      unknown          soft   \n",
       "13789       user-group       never pay    never pay          soft   \n",
       "\n",
       "      quality_group      quantity quantity_group        source   source_type  \\\n",
       "24947         salty  insufficient   insufficient   machine dbh      borehole   \n",
       "22630          good        enough         enough  shallow well  shallow well   \n",
       "13789          good        enough         enough   machine dbh      borehole   \n",
       "\n",
       "      source_class     waterpoint_type waterpoint_type_group  \n",
       "24947  groundwater  communal standpipe    communal standpipe  \n",
       "22630  groundwater           hand pump             hand pump  \n",
       "13789  groundwater           hand pump             hand pump  "
      ]
     },
     "execution_count": 71,
     "metadata": {},
     "output_type": "execute_result"
    }
   ],
   "source": [
    "X_train.head(3)"
   ]
  },
  {
   "cell_type": "markdown",
   "id": "ceeb5ea2",
   "metadata": {},
   "source": [
    "For more details on the columns and their distribution please refer to _Notebook_DataExploration.ipynb_ file"
   ]
  },
  {
   "cell_type": "markdown",
   "id": "1567b120",
   "metadata": {},
   "source": [
    "Lets validate our split hasn't changed the composition of the output variable"
   ]
  },
  {
   "cell_type": "code",
   "execution_count": 68,
   "id": "118ce8fa",
   "metadata": {
    "ExecuteTime": {
     "end_time": "2022-04-22T03:24:59.758705Z",
     "start_time": "2022-04-22T03:24:59.750703Z"
    }
   },
   "outputs": [
    {
     "data": {
      "text/plain": [
       "functional                 0.542334\n",
       "non functional             0.384871\n",
       "functional needs repair    0.072795\n",
       "Name: status_group, dtype: float64"
      ]
     },
     "execution_count": 68,
     "metadata": {},
     "output_type": "execute_result"
    }
   ],
   "source": [
    "y_train.value_counts(normalize=True)"
   ]
  },
  {
   "cell_type": "code",
   "execution_count": 67,
   "id": "a306e8e5",
   "metadata": {
    "ExecuteTime": {
     "end_time": "2022-04-22T03:24:58.239453Z",
     "start_time": "2022-04-22T03:24:58.225450Z"
    },
    "scrolled": false
   },
   "outputs": [
    {
     "data": {
      "text/plain": [
       "functional                 0.545320\n",
       "non functional             0.382357\n",
       "functional needs repair    0.072323\n",
       "Name: status_group, dtype: float64"
      ]
     },
     "execution_count": 67,
     "metadata": {},
     "output_type": "execute_result"
    }
   ],
   "source": [
    "y_test.value_counts(normalize=True)"
   ]
  },
  {
   "cell_type": "markdown",
   "id": "5760df6f",
   "metadata": {},
   "source": [
    "The numbers are almost identical. We are good to proceed"
   ]
  },
  {
   "cell_type": "markdown",
   "id": "92df328e",
   "metadata": {},
   "source": [
    "# Features"
   ]
  },
  {
   "cell_type": "markdown",
   "id": "000da26b",
   "metadata": {},
   "source": [
    "We shall be employing to streamline the modeling process. As part of the data exploration phase we were able to a few potential concerns. Lets look at them and address as best we can"
   ]
  },
  {
   "cell_type": "markdown",
   "id": "cbc5e87f",
   "metadata": {},
   "source": [
    "### GPS coordinates"
   ]
  },
  {
   "cell_type": "code",
   "execution_count": 84,
   "id": "f3de893c",
   "metadata": {
    "ExecuteTime": {
     "end_time": "2022-04-22T03:32:50.004966Z",
     "start_time": "2022-04-22T03:32:49.964957Z"
    },
    "scrolled": false
   },
   "outputs": [
    {
     "data": {
      "text/plain": [
       "latitude       longitude  region       \n",
       "-2.000000e-08  0.000000   Shinyanga        753\n",
       "                          Mwanza           586\n",
       "-6.957328e+00  37.541579  Morogoro           2\n",
       "-6.991294e+00  39.085965  Dar es Salaam      2\n",
       "-2.494353e+00  32.956523  Mwanza             2\n",
       "dtype: int64"
      ]
     },
     "execution_count": 84,
     "metadata": {},
     "output_type": "execute_result"
    }
   ],
   "source": [
    "X_train[['latitude','longitude','region']].value_counts()[:5]"
   ]
  },
  {
   "cell_type": "code",
   "execution_count": 83,
   "id": "7db22464",
   "metadata": {
    "ExecuteTime": {
     "end_time": "2022-04-22T03:32:48.720173Z",
     "start_time": "2022-04-22T03:32:48.694167Z"
    },
    "scrolled": false
   },
   "outputs": [
    {
     "data": {
      "text/plain": [
       "latitude       longitude  region   \n",
       "-2.000000e-08  0.000000   Shinyanga    252\n",
       "                          Mwanza       221\n",
       "-2.490324e+00  32.987670  Mwanza         2\n",
       "-6.963557e+00  37.543351  Morogoro       2\n",
       "-2.510639e+00  32.993277  Mwanza         2\n",
       "dtype: int64"
      ]
     },
     "execution_count": 83,
     "metadata": {},
     "output_type": "execute_result"
    }
   ],
   "source": [
    "X_test[['latitude','longitude','region']].value_counts()[:5]"
   ]
  },
  {
   "cell_type": "code",
   "execution_count": 88,
   "id": "e7b5de03",
   "metadata": {
    "ExecuteTime": {
     "end_time": "2022-04-22T03:33:31.056964Z",
     "start_time": "2022-04-22T03:33:31.012952Z"
    }
   },
   "outputs": [
    {
     "data": {
      "text/plain": [
       "1812"
      ]
     },
     "execution_count": 88,
     "metadata": {},
     "output_type": "execute_result"
    }
   ],
   "source": [
    "X_train[['latitude','longitude','region']].value_counts()[:2].sum() +\\\n",
    "X_test[['latitude','longitude','region']].value_counts()[:2].sum()"
   ]
  },
  {
   "cell_type": "markdown",
   "id": "c7e9ab87",
   "metadata": {
    "ExecuteTime": {
     "end_time": "2022-04-20T13:24:02.402456Z",
     "start_time": "2022-04-20T13:24:02.397455Z"
    }
   },
   "source": [
    "The data set has 1812 (including the both sets) records where the latitude and longitude were recorded as $(-2\\times10^{-8},0)$ or effectively $(0,0)$ which is off the west coast of Africa in the Atlantic Ocean. We can as result be certain, these were either recorded in error or were not recorded at all.\n",
    "\n",
    "We will use a custom imputer to impute these values during our pipeline operations. The imputer will look at other well sites associated with the same _region_ and impute the median coordinates for all its well sites.\n",
    "\n",
    "As you can see above only the Mwanza and Shinyanga regions will be affected."
   ]
  },
  {
   "cell_type": "markdown",
   "id": "29e4f5ef",
   "metadata": {},
   "source": [
    "### construction_year"
   ]
  },
  {
   "cell_type": "code",
   "execution_count": 16,
   "id": "0a8eea40",
   "metadata": {
    "ExecuteTime": {
     "end_time": "2022-04-21T05:46:53.159314Z",
     "start_time": "2022-04-21T05:46:52.893243Z"
    },
    "scrolled": false
   },
   "outputs": [
    {
     "data": {
      "text/html": [
       "<style  type=\"text/css\" >\n",
       "</style><table id=\"T_72240bd2_c136_11ec_8199_ec2e98d37a84\" ><caption>Table Info</caption><thead>    <tr>        <th class=\"blank level0\" ></th>        <th class=\"col_heading level0 col0\" >Number</th>        <th class=\"col_heading level0 col1\" >Percentage</th>    </tr>    <tr>        <th class=\"index_name level0\" ></th>        <th class=\"blank\" ></th>        <th class=\"blank\" ></th>    </tr></thead><tbody>\n",
       "                <tr>\n",
       "                        <th id=\"T_72240bd2_c136_11ec_8199_ec2e98d37a84level0_row0\" class=\"row_heading level0 row0\" >Zeroes</th>\n",
       "                        <td id=\"T_72240bd2_c136_11ec_8199_ec2e98d37a84row0_col0\" class=\"data row0 col0\" >15,463</td>\n",
       "                        <td id=\"T_72240bd2_c136_11ec_8199_ec2e98d37a84row0_col1\" class=\"data row0 col1\" >34.71 %</td>\n",
       "            </tr>\n",
       "            <tr>\n",
       "                        <th id=\"T_72240bd2_c136_11ec_8199_ec2e98d37a84level0_row1\" class=\"row_heading level0 row1\" >Missing</th>\n",
       "                        <td id=\"T_72240bd2_c136_11ec_8199_ec2e98d37a84row1_col0\" class=\"data row1 col0\" >0</td>\n",
       "                        <td id=\"T_72240bd2_c136_11ec_8199_ec2e98d37a84row1_col1\" class=\"data row1 col1\" >0.00 %</td>\n",
       "            </tr>\n",
       "            <tr>\n",
       "                        <th id=\"T_72240bd2_c136_11ec_8199_ec2e98d37a84level0_row2\" class=\"row_heading level0 row2\" >Unknown</th>\n",
       "                        <td id=\"T_72240bd2_c136_11ec_8199_ec2e98d37a84row2_col0\" class=\"data row2 col0\" >0</td>\n",
       "                        <td id=\"T_72240bd2_c136_11ec_8199_ec2e98d37a84row2_col1\" class=\"data row2 col1\" >0.00 %</td>\n",
       "            </tr>\n",
       "            <tr>\n",
       "                        <th id=\"T_72240bd2_c136_11ec_8199_ec2e98d37a84level0_row3\" class=\"row_heading level0 row3\" >Uniques</th>\n",
       "                        <td id=\"T_72240bd2_c136_11ec_8199_ec2e98d37a84row3_col0\" class=\"data row3 col0\" >55</td>\n",
       "                        <td id=\"T_72240bd2_c136_11ec_8199_ec2e98d37a84row3_col1\" class=\"data row3 col1\" >0.12 %</td>\n",
       "            </tr>\n",
       "            <tr>\n",
       "                        <th id=\"T_72240bd2_c136_11ec_8199_ec2e98d37a84level0_row4\" class=\"row_heading level0 row4\" >Mean</th>\n",
       "                        <td id=\"T_72240bd2_c136_11ec_8199_ec2e98d37a84row4_col0\" class=\"data row4 col0\" >1303.75</td>\n",
       "                        <td id=\"T_72240bd2_c136_11ec_8199_ec2e98d37a84row4_col1\" class=\"data row4 col1\" >-</td>\n",
       "            </tr>\n",
       "            <tr>\n",
       "                        <th id=\"T_72240bd2_c136_11ec_8199_ec2e98d37a84level0_row5\" class=\"row_heading level0 row5\" >Median</th>\n",
       "                        <td id=\"T_72240bd2_c136_11ec_8199_ec2e98d37a84row5_col0\" class=\"data row5 col0\" >1986.00</td>\n",
       "                        <td id=\"T_72240bd2_c136_11ec_8199_ec2e98d37a84row5_col1\" class=\"data row5 col1\" >-</td>\n",
       "            </tr>\n",
       "    </tbody></table>"
      ],
      "text/plain": [
       "<pandas.io.formats.style.Styler at 0x1a547204fd0>"
      ]
     },
     "metadata": {},
     "output_type": "display_data"
    },
    {
     "data": {
      "text/html": [
       "<style  type=\"text/css\" >\n",
       "</style><table id=\"T_722459f5_c136_11ec_af75_ec2e98d37a84\" ><caption>Top 10 Value Count Info</caption><thead>    <tr>        <th class=\"blank level0\" ></th>        <th class=\"col_heading level0 col0\" >Value Count</th>        <th class=\"col_heading level0 col1\" >% Value Count</th>    </tr></thead><tbody>\n",
       "                <tr>\n",
       "                        <th id=\"T_722459f5_c136_11ec_af75_ec2e98d37a84level0_row0\" class=\"row_heading level0 row0\" >0</th>\n",
       "                        <td id=\"T_722459f5_c136_11ec_af75_ec2e98d37a84row0_col0\" class=\"data row0 col0\" >15463</td>\n",
       "                        <td id=\"T_722459f5_c136_11ec_af75_ec2e98d37a84row0_col1\" class=\"data row0 col1\" >34.709315</td>\n",
       "            </tr>\n",
       "            <tr>\n",
       "                        <th id=\"T_722459f5_c136_11ec_af75_ec2e98d37a84level0_row1\" class=\"row_heading level0 row1\" >2010</th>\n",
       "                        <td id=\"T_722459f5_c136_11ec_af75_ec2e98d37a84row1_col0\" class=\"data row1 col0\" >2001</td>\n",
       "                        <td id=\"T_722459f5_c136_11ec_af75_ec2e98d37a84row1_col1\" class=\"data row1 col1\" >4.491582</td>\n",
       "            </tr>\n",
       "            <tr>\n",
       "                        <th id=\"T_722459f5_c136_11ec_af75_ec2e98d37a84level0_row2\" class=\"row_heading level0 row2\" >2008</th>\n",
       "                        <td id=\"T_722459f5_c136_11ec_af75_ec2e98d37a84row2_col0\" class=\"data row2 col0\" >1959</td>\n",
       "                        <td id=\"T_722459f5_c136_11ec_af75_ec2e98d37a84row2_col1\" class=\"data row2 col1\" >4.397306</td>\n",
       "            </tr>\n",
       "            <tr>\n",
       "                        <th id=\"T_722459f5_c136_11ec_af75_ec2e98d37a84level0_row3\" class=\"row_heading level0 row3\" >2009</th>\n",
       "                        <td id=\"T_722459f5_c136_11ec_af75_ec2e98d37a84row3_col0\" class=\"data row3 col0\" >1892</td>\n",
       "                        <td id=\"T_722459f5_c136_11ec_af75_ec2e98d37a84row3_col1\" class=\"data row3 col1\" >4.246914</td>\n",
       "            </tr>\n",
       "            <tr>\n",
       "                        <th id=\"T_722459f5_c136_11ec_af75_ec2e98d37a84level0_row4\" class=\"row_heading level0 row4\" >2000</th>\n",
       "                        <td id=\"T_722459f5_c136_11ec_af75_ec2e98d37a84row4_col0\" class=\"data row4 col0\" >1595</td>\n",
       "                        <td id=\"T_722459f5_c136_11ec_af75_ec2e98d37a84row4_col1\" class=\"data row4 col1\" >3.580247</td>\n",
       "            </tr>\n",
       "            <tr>\n",
       "                        <th id=\"T_722459f5_c136_11ec_af75_ec2e98d37a84level0_row5\" class=\"row_heading level0 row5\" >2007</th>\n",
       "                        <td id=\"T_722459f5_c136_11ec_af75_ec2e98d37a84row5_col0\" class=\"data row5 col0\" >1195</td>\n",
       "                        <td id=\"T_722459f5_c136_11ec_af75_ec2e98d37a84row5_col1\" class=\"data row5 col1\" >2.682379</td>\n",
       "            </tr>\n",
       "            <tr>\n",
       "                        <th id=\"T_722459f5_c136_11ec_af75_ec2e98d37a84level0_row6\" class=\"row_heading level0 row6\" >2006</th>\n",
       "                        <td id=\"T_722459f5_c136_11ec_af75_ec2e98d37a84row6_col0\" class=\"data row6 col0\" >1103</td>\n",
       "                        <td id=\"T_722459f5_c136_11ec_af75_ec2e98d37a84row6_col1\" class=\"data row6 col1\" >2.475870</td>\n",
       "            </tr>\n",
       "            <tr>\n",
       "                        <th id=\"T_722459f5_c136_11ec_af75_ec2e98d37a84level0_row7\" class=\"row_heading level0 row7\" >2003</th>\n",
       "                        <td id=\"T_722459f5_c136_11ec_af75_ec2e98d37a84row7_col0\" class=\"data row7 col0\" >989</td>\n",
       "                        <td id=\"T_722459f5_c136_11ec_af75_ec2e98d37a84row7_col1\" class=\"data row7 col1\" >2.219978</td>\n",
       "            </tr>\n",
       "            <tr>\n",
       "                        <th id=\"T_722459f5_c136_11ec_af75_ec2e98d37a84level0_row8\" class=\"row_heading level0 row8\" >2011</th>\n",
       "                        <td id=\"T_722459f5_c136_11ec_af75_ec2e98d37a84row8_col0\" class=\"data row8 col0\" >943</td>\n",
       "                        <td id=\"T_722459f5_c136_11ec_af75_ec2e98d37a84row8_col1\" class=\"data row8 col1\" >2.116723</td>\n",
       "            </tr>\n",
       "            <tr>\n",
       "                        <th id=\"T_722459f5_c136_11ec_af75_ec2e98d37a84level0_row9\" class=\"row_heading level0 row9\" >2012</th>\n",
       "                        <td id=\"T_722459f5_c136_11ec_af75_ec2e98d37a84row9_col0\" class=\"data row9 col0\" >839</td>\n",
       "                        <td id=\"T_722459f5_c136_11ec_af75_ec2e98d37a84row9_col1\" class=\"data row9 col1\" >1.883277</td>\n",
       "            </tr>\n",
       "    </tbody></table>"
      ],
      "text/plain": [
       "<pandas.io.formats.style.Styler at 0x1a54721f670>"
      ]
     },
     "metadata": {},
     "output_type": "display_data"
    },
    {
     "data": {
      "image/png": "[encoded data removed]",
      "text/plain": [
       "<Figure size 1080x576 with 1 Axes>"
      ]
     },
     "metadata": {
      "needs_background": "light"
     },
     "output_type": "display_data"
    }
   ],
   "source": [
    "colInfo(X_train.construction_year)"
   ]
  },
  {
   "cell_type": "markdown",
   "id": "85f2a686",
   "metadata": {},
   "source": [
    "Every well water pump has a construction year recorded defining when the site was built. However, as you can see in the training set there is a high number (34%) of zeroes. Assuming that this is an error and well water pumps were not being installed in 0AD, we shall impute these values using a simple imputer."
   ]
  },
  {
   "cell_type": "markdown",
   "id": "297352dc",
   "metadata": {},
   "source": [
    "### Full feature list"
   ]
  },
  {
   "cell_type": "markdown",
   "id": "535d9fc2",
   "metadata": {},
   "source": [
    "After exploring the remaining features I've decided to use a majority of the categorical data. The final list of features being utilized are:\n",
    "\n",
    "Numerical:\n",
    ">- construction_year\n",
    ">- latitude\n",
    ">- longitude\n",
    "\n",
    "Categorical:\n",
    ">- region\n",
    ">- public_meeting\n",
    ">- scheme_management\n",
    ">- permit\n",
    ">- source_class\n",
    ">- basin\n",
    ">- extraction_type_class\n",
    ">- management\n",
    ">- payment\n",
    ">- quality_group\n",
    ">- quantity\n",
    ">- source_type\n",
    ">- waterpoint_type_group"
   ]
  },
  {
   "cell_type": "markdown",
   "id": "428de2e1",
   "metadata": {},
   "source": [
    "### Pipelines"
   ]
  },
  {
   "cell_type": "markdown",
   "id": "218b36f0",
   "metadata": {},
   "source": [
    "To streamline the process we shall be defining our pipelines here. Depending upon the feature we shall employ the appropriate pipelines. Even amongst categoricals we have a few columns that require more that one impute. "
   ]
  },
  {
   "cell_type": "code",
   "execution_count": 89,
   "id": "b205bd70",
   "metadata": {
    "ExecuteTime": {
     "end_time": "2022-04-22T03:43:25.110993Z",
     "start_time": "2022-04-22T03:43:25.100991Z"
    }
   },
   "outputs": [],
   "source": [
    "#Impute nans as well as 'unknown's\n",
    "subpipe_cat1 = Pipeline(steps=[\n",
    "    ('cat1_imp1', SimpleImputer(missing_values=np.nan,strategy='most_frequent')),\n",
    "    ('cat1_imp2', SimpleImputer(missing_values='unknown',strategy='most_frequent')),\n",
    "    ('cat1_ohe', OneHotEncoder(sparse=False, handle_unknown='ignore'))\n",
    "])\n",
    "\n",
    "#Only OneHotEncode\n",
    "subpipe_cat2 = Pipeline(steps=[\n",
    "    ('cat2_ohe', OneHotEncoder(sparse=False, handle_unknown='ignore'))\n",
    "])\n",
    "\n",
    "#Impute median and scale (0,1)\n",
    "subpipe_num = Pipeline(steps=[\n",
    "    ('num_imp', SimpleImputer(missing_values=np.nan,strategy='median')),\n",
    "    ('num_sc', MinMaxScaler()),    \n",
    "])\n",
    "\n",
    "\n",
    "#Specifically designed for imputing erroneous coordinates\n",
    "#As part of your column transformations,an additional column (default='region') will be needed to be passed\n",
    "#Returning dataframe excludes this additional column\n",
    "#Impute (0,0) coordinates from the corresponding regions mean/median  and scale (0,1)\n",
    "subpipe_coord = Pipeline(steps=[\n",
    "    ('coord_imp', CoordinatesImputer(groupByTarget='region',metric='median')), \n",
    "    ('coord_sc', MinMaxScaler()),    \n",
    "])"
   ]
  },
  {
   "cell_type": "markdown",
   "id": "5917a81b",
   "metadata": {},
   "source": [
    "# Models"
   ]
  },
  {
   "cell_type": "markdown",
   "id": "5de670a6",
   "metadata": {},
   "source": [
    "Now, that we have set up our pipelines we can finally get to modeling.\n",
    "\n",
    "Note, that the overall metric that we will be measuring a model by is classification accuracy, or how well does the model classify across all classes. As a secondary metric we shall be looking at the F1-score, harmonic mean of precision and accuracy. "
   ]
  },
  {
   "cell_type": "markdown",
   "id": "5efcb2b7",
   "metadata": {},
   "source": [
    "## Baseline - Dummy Classifier"
   ]
  },
  {
   "cell_type": "markdown",
   "id": "e3a1376e",
   "metadata": {},
   "source": [
    "Using a dummy classifier to establish our baseline.\\\n",
    "Since, this classifier ignores input variables, and in the interest of time, we will not employ our column transformation pipeline."
   ]
  },
  {
   "cell_type": "code",
   "execution_count": 13,
   "id": "508886d2",
   "metadata": {
    "ExecuteTime": {
     "end_time": "2022-04-21T14:11:06.675463Z",
     "start_time": "2022-04-21T14:11:06.650457Z"
    },
    "scrolled": true
   },
   "outputs": [
    {
     "data": {
      "text/plain": [
       "DummyClassifier()"
      ]
     },
     "execution_count": 13,
     "metadata": {},
     "output_type": "execute_result"
    }
   ],
   "source": [
    "baseline_00 = DummyClassifier()\n",
    "baseline_00.fit(X_train,y_train)"
   ]
  },
  {
   "cell_type": "code",
   "execution_count": 65,
   "id": "455b941b",
   "metadata": {
    "ExecuteTime": {
     "end_time": "2022-04-22T03:11:04.171168Z",
     "start_time": "2022-04-22T03:11:03.230993Z"
    }
   },
   "outputs": [
    {
     "name": "stderr",
     "output_type": "stream",
     "text": [
      "C:\\Users\\saads\\anaconda3\\envs\\learn-env\\lib\\site-packages\\sklearn\\metrics\\_classification.py:1318: UndefinedMetricWarning: Precision is ill-defined and being set to 0.0 in labels with no predicted samples. Use `zero_division` parameter to control this behavior.\n",
      "  _warn_prf(average, modifier, msg_start, len(result))\n",
      "C:\\Users\\saads\\anaconda3\\envs\\learn-env\\lib\\site-packages\\sklearn\\metrics\\_classification.py:1318: UndefinedMetricWarning: Precision is ill-defined and being set to 0.0 in labels with no predicted samples. Use `zero_division` parameter to control this behavior.\n",
      "  _warn_prf(average, modifier, msg_start, len(result))\n",
      "C:\\Users\\saads\\anaconda3\\envs\\learn-env\\lib\\site-packages\\sklearn\\metrics\\_classification.py:1318: UndefinedMetricWarning: Precision is ill-defined and being set to 0.0 in labels with no predicted samples. Use `zero_division` parameter to control this behavior.\n",
      "  _warn_prf(average, modifier, msg_start, len(result))\n",
      "C:\\Users\\saads\\anaconda3\\envs\\learn-env\\lib\\site-packages\\sklearn\\metrics\\_classification.py:1318: UndefinedMetricWarning: Precision is ill-defined and being set to 0.0 in labels with no predicted samples. Use `zero_division` parameter to control this behavior.\n",
      "  _warn_prf(average, modifier, msg_start, len(result))\n",
      "C:\\Users\\saads\\anaconda3\\envs\\learn-env\\lib\\site-packages\\sklearn\\metrics\\_classification.py:1318: UndefinedMetricWarning: Precision is ill-defined and being set to 0.0 in labels with no predicted samples. Use `zero_division` parameter to control this behavior.\n",
      "  _warn_prf(average, modifier, msg_start, len(result))\n"
     ]
    },
    {
     "data": {
      "text/html": [
       "<style  type=\"text/css\" >\n",
       "</style><table id=\"T_d832f4d2_c1e9_11ec_af22_ec2e98d37a84\" ><caption>Cross Validation Results</caption><thead>    <tr>        <th class=\"blank level0\" ></th>        <th class=\"col_heading level0 col0\" >Scores</th>    </tr>    <tr>        <th class=\"index_name level0\" ></th>        <th class=\"blank\" ></th>    </tr></thead><tbody>\n",
       "                <tr>\n",
       "                        <th id=\"T_d832f4d2_c1e9_11ec_af22_ec2e98d37a84level0_row0\" class=\"row_heading level0 row0\" >Accuracy</th>\n",
       "                        <td id=\"T_d832f4d2_c1e9_11ec_af22_ec2e98d37a84row0_col0\" class=\"data row0 col0\" >0.5423</td>\n",
       "            </tr>\n",
       "            <tr>\n",
       "                        <th id=\"T_d832f4d2_c1e9_11ec_af22_ec2e98d37a84level0_row1\" class=\"row_heading level0 row1\" >Precision</th>\n",
       "                        <td id=\"T_d832f4d2_c1e9_11ec_af22_ec2e98d37a84row1_col0\" class=\"data row1 col0\" >0.1808</td>\n",
       "            </tr>\n",
       "            <tr>\n",
       "                        <th id=\"T_d832f4d2_c1e9_11ec_af22_ec2e98d37a84level0_row2\" class=\"row_heading level0 row2\" >Recall</th>\n",
       "                        <td id=\"T_d832f4d2_c1e9_11ec_af22_ec2e98d37a84row2_col0\" class=\"data row2 col0\" >0.3333</td>\n",
       "            </tr>\n",
       "            <tr>\n",
       "                        <th id=\"T_d832f4d2_c1e9_11ec_af22_ec2e98d37a84level0_row3\" class=\"row_heading level0 row3\" >F1</th>\n",
       "                        <td id=\"T_d832f4d2_c1e9_11ec_af22_ec2e98d37a84row3_col0\" class=\"data row3 col0\" >0.2344</td>\n",
       "            </tr>\n",
       "    </tbody></table>"
      ],
      "text/plain": [
       "<pandas.io.formats.style.Styler at 0x23981b9a7c0>"
      ]
     },
     "metadata": {},
     "output_type": "display_data"
    },
    {
     "data": {
      "image/png": "[encoded data removed]",
      "text/plain": [
       "<Figure size 576x576 with 2 Axes>"
      ]
     },
     "metadata": {
      "needs_background": "light"
     },
     "output_type": "display_data"
    }
   ],
   "source": [
    "modelReport(baseline_00,X_train,y_train)"
   ]
  },
  {
   "cell_type": "markdown",
   "id": "2ae1ac04",
   "metadata": {},
   "source": [
    "54% accuracy and 23% F1-score. \\\n",
    "The performance is rather poor as expected with the dummy classifier classifying every site as functional. However, this establishes a good baseline to compare against."
   ]
  },
  {
   "cell_type": "code",
   "execution_count": 21,
   "id": "3d566048",
   "metadata": {
    "ExecuteTime": {
     "end_time": "2022-04-21T01:23:27.179656Z",
     "start_time": "2022-04-21T01:23:27.173664Z"
    }
   },
   "outputs": [],
   "source": [
    "filePath = f'models/{baseline_00=}'.split('=')[0] + '.sav'\n",
    "pickle.dump(baseline_00, open(filePath, 'wb'))"
   ]
  },
  {
   "cell_type": "markdown",
   "id": "12c54f8b",
   "metadata": {},
   "source": [
    "##  First Simple Model - Logistic Regression"
   ]
  },
  {
   "cell_type": "markdown",
   "id": "9c99585f",
   "metadata": {},
   "source": [
    "### Simple Model"
   ]
  },
  {
   "cell_type": "markdown",
   "id": "9cc46141",
   "metadata": {},
   "source": [
    "We shall employ a basic Logistic Regression model as our first model"
   ]
  },
  {
   "cell_type": "code",
   "execution_count": 17,
   "id": "598395f4",
   "metadata": {
    "ExecuteTime": {
     "end_time": "2022-04-21T14:11:31.283845Z",
     "start_time": "2022-04-21T14:11:31.266841Z"
    }
   },
   "outputs": [],
   "source": [
    "ct = ColumnTransformer(transformers=[\n",
    "\n",
    "    ('ct_cyr', subpipe_num, ['construction_year']),\n",
    "    \n",
    "    # Note: region is passed to allow groupby. Not returned.\n",
    "    ('ct_coord', subpipe_coord, ['latitude', 'longitude', 'region']),\n",
    "    \n",
    "    ('ct_cat1', subpipe_cat1, ['public_meeting','scheme_management', 'permit', 'source_class']),\n",
    "    \n",
    "    ('ct_cat2', subpipe_cat2, ['basin', 'extraction_type_class', 'management', 'payment', 'quality_group',\n",
    "                               'quantity', 'source_type', 'waterpoint_type_group']),\n",
    "\n",
    "])"
   ]
  },
  {
   "cell_type": "code",
   "execution_count": 18,
   "id": "7f46f6b7",
   "metadata": {
    "ExecuteTime": {
     "end_time": "2022-04-21T14:12:23.614997Z",
     "start_time": "2022-04-21T14:11:35.202800Z"
    },
    "scrolled": false
   },
   "outputs": [
    {
     "data": {
      "text/html": [
       "<style  type=\"text/css\" >\n",
       "</style><table id=\"T_1093d1f9_c17d_11ec_af75_ec2e98d37a84\" ><caption>Cross Validation Results</caption><thead>    <tr>        <th class=\"blank level0\" ></th>        <th class=\"col_heading level0 col0\" >Scores</th>    </tr>    <tr>        <th class=\"index_name level0\" ></th>        <th class=\"blank\" ></th>    </tr></thead><tbody>\n",
       "                <tr>\n",
       "                        <th id=\"T_1093d1f9_c17d_11ec_af75_ec2e98d37a84level0_row0\" class=\"row_heading level0 row0\" >Accuracy</th>\n",
       "                        <td id=\"T_1093d1f9_c17d_11ec_af75_ec2e98d37a84row0_col0\" class=\"data row0 col0\" >0.7279</td>\n",
       "            </tr>\n",
       "            <tr>\n",
       "                        <th id=\"T_1093d1f9_c17d_11ec_af75_ec2e98d37a84level0_row1\" class=\"row_heading level0 row1\" >Precision</th>\n",
       "                        <td id=\"T_1093d1f9_c17d_11ec_af75_ec2e98d37a84row1_col0\" class=\"data row1 col0\" >0.6146</td>\n",
       "            </tr>\n",
       "            <tr>\n",
       "                        <th id=\"T_1093d1f9_c17d_11ec_af75_ec2e98d37a84level0_row2\" class=\"row_heading level0 row2\" >Recall</th>\n",
       "                        <td id=\"T_1093d1f9_c17d_11ec_af75_ec2e98d37a84row2_col0\" class=\"data row2 col0\" >0.5115</td>\n",
       "            </tr>\n",
       "            <tr>\n",
       "                        <th id=\"T_1093d1f9_c17d_11ec_af75_ec2e98d37a84level0_row3\" class=\"row_heading level0 row3\" >F1</th>\n",
       "                        <td id=\"T_1093d1f9_c17d_11ec_af75_ec2e98d37a84row3_col0\" class=\"data row3 col0\" >0.5056</td>\n",
       "            </tr>\n",
       "    </tbody></table>"
      ],
      "text/plain": [
       "<pandas.io.formats.style.Styler at 0x239ee401070>"
      ]
     },
     "metadata": {},
     "output_type": "display_data"
    },
    {
     "data": {
      "image/png": "[encoded data removed]",
      "text/plain": [
       "<Figure size 576x576 with 2 Axes>"
      ]
     },
     "metadata": {
      "needs_background": "light"
     },
     "output_type": "display_data"
    }
   ],
   "source": [
    "log_reg_pipe = Pipeline([\n",
    "    ('ct', ct),\n",
    "    ('log_reg', LogisticRegression(random_state=42, n_jobs=Notebook_n_jobs))\n",
    "])\n",
    "log_reg_pipe.fit(X_train, y_train)\n",
    "modelReport(log_reg_pipe,X_train,y_train)"
   ]
  },
  {
   "cell_type": "code",
   "execution_count": 25,
   "id": "317fcc1d",
   "metadata": {
    "ExecuteTime": {
     "end_time": "2022-04-21T01:24:48.134080Z",
     "start_time": "2022-04-21T01:24:48.086984Z"
    }
   },
   "outputs": [],
   "source": [
    "filePath = f'models/{log_reg_pipe=}'.split('=')[0] + '.sav'\n",
    "pickle.dump(log_reg_pipe, open(filePath, 'wb'))"
   ]
  },
  {
   "cell_type": "markdown",
   "id": "0dc2721a",
   "metadata": {},
   "source": [
    "72.79% accuracy and 50.56% F1-score. \\\n",
    "In conjunction with our column transformer a simple logistic regression model shows massive improvements over the baseline. We can already see a massive improvement in classifying non-functional well sites.\n",
    "\n",
    "Lets try and tune it better."
   ]
  },
  {
   "cell_type": "markdown",
   "id": "38cdd640",
   "metadata": {
    "ExecuteTime": {
     "end_time": "2022-04-20T16:56:46.063835Z",
     "start_time": "2022-04-20T16:56:46.023737Z"
    }
   },
   "source": [
    "### Hypertuned Model"
   ]
  },
  {
   "cell_type": "code",
   "execution_count": 19,
   "id": "d6e8d86e",
   "metadata": {
    "ExecuteTime": {
     "end_time": "2022-04-21T14:16:08.778204Z",
     "start_time": "2022-04-21T14:12:29.826763Z"
    },
    "scrolled": false
   },
   "outputs": [],
   "source": [
    "params = {}\n",
    "params['log_reg__C'] = [0.1, 1, 10,100]\n",
    "params['log_reg__max_iter'] = [50,100, 150,200]\n",
    "params['log_reg__solver'] = ['lbfgs', 'sag']\n",
    "\n",
    "log_reg_gs1 = GridSearchCV(estimator=log_reg_pipe,\n",
    "                           param_grid=params,\n",
    "                           cv=5,\n",
    "                           n_jobs=Notebook_n_jobs,\n",
    "                           scoring=[ 'accuracy','precision_macro','recall_macro','f1_macro'],\n",
    "                           refit='accuracy',\n",
    "                           return_train_score=True)\n",
    "log_reg_gs1.fit(X_train, y_train)\n",
    "\n",
    "filePath = f'models/{log_reg_gs1=}'.split('=')[0] + '.sav'\n",
    "pickle.dump(log_reg_gs1, open(filePath, 'wb'))"
   ]
  },
  {
   "cell_type": "code",
   "execution_count": 20,
   "id": "5a291b87",
   "metadata": {
    "ExecuteTime": {
     "end_time": "2022-04-21T14:16:09.127299Z",
     "start_time": "2022-04-21T14:16:09.097291Z"
    },
    "scrolled": false
   },
   "outputs": [
    {
     "data": {
      "text/html": [
       "<div>\n",
       "<style scoped>\n",
       "    .dataframe tbody tr th:only-of-type {\n",
       "        vertical-align: middle;\n",
       "    }\n",
       "\n",
       "    .dataframe tbody tr th {\n",
       "        vertical-align: top;\n",
       "    }\n",
       "\n",
       "    .dataframe thead th {\n",
       "        text-align: right;\n",
       "    }\n",
       "</style>\n",
       "<table border=\"1\" class=\"dataframe\">\n",
       "  <thead>\n",
       "    <tr style=\"text-align: right;\">\n",
       "      <th></th>\n",
       "      <th>Mean Test Accuracy</th>\n",
       "      <th>Mean Test Precision (macro)</th>\n",
       "      <th>Mean Test Recall (macro)</th>\n",
       "      <th>Mean Test F1-Score (macro)</th>\n",
       "      <th>param_log_reg__C</th>\n",
       "      <th>param_log_reg__max_iter</th>\n",
       "      <th>param_log_reg__solver</th>\n",
       "    </tr>\n",
       "    <tr>\n",
       "      <th>Rank (By Accuracy)</th>\n",
       "      <th></th>\n",
       "      <th></th>\n",
       "      <th></th>\n",
       "      <th></th>\n",
       "      <th></th>\n",
       "      <th></th>\n",
       "      <th></th>\n",
       "    </tr>\n",
       "  </thead>\n",
       "  <tbody>\n",
       "    <tr>\n",
       "      <th>1</th>\n",
       "      <td>0.7281</td>\n",
       "      <td>0.6077</td>\n",
       "      <td>0.5116</td>\n",
       "      <td>0.5056</td>\n",
       "      <td>10</td>\n",
       "      <td>100</td>\n",
       "      <td>lbfgs</td>\n",
       "    </tr>\n",
       "    <tr>\n",
       "      <th>2</th>\n",
       "      <td>0.7280</td>\n",
       "      <td>0.5880</td>\n",
       "      <td>0.5106</td>\n",
       "      <td>0.5034</td>\n",
       "      <td>100</td>\n",
       "      <td>100</td>\n",
       "      <td>lbfgs</td>\n",
       "    </tr>\n",
       "    <tr>\n",
       "      <th>3</th>\n",
       "      <td>0.7280</td>\n",
       "      <td>0.6137</td>\n",
       "      <td>0.5115</td>\n",
       "      <td>0.5054</td>\n",
       "      <td>1</td>\n",
       "      <td>150</td>\n",
       "      <td>lbfgs</td>\n",
       "    </tr>\n",
       "    <tr>\n",
       "      <th>4</th>\n",
       "      <td>0.7279</td>\n",
       "      <td>0.6137</td>\n",
       "      <td>0.5115</td>\n",
       "      <td>0.5054</td>\n",
       "      <td>1</td>\n",
       "      <td>200</td>\n",
       "      <td>lbfgs</td>\n",
       "    </tr>\n",
       "    <tr>\n",
       "      <th>5</th>\n",
       "      <td>0.7279</td>\n",
       "      <td>0.6137</td>\n",
       "      <td>0.5115</td>\n",
       "      <td>0.5054</td>\n",
       "      <td>1</td>\n",
       "      <td>200</td>\n",
       "      <td>sag</td>\n",
       "    </tr>\n",
       "    <tr>\n",
       "      <th>5</th>\n",
       "      <td>0.7279</td>\n",
       "      <td>0.6132</td>\n",
       "      <td>0.5116</td>\n",
       "      <td>0.5056</td>\n",
       "      <td>100</td>\n",
       "      <td>150</td>\n",
       "      <td>lbfgs</td>\n",
       "    </tr>\n",
       "    <tr>\n",
       "      <th>5</th>\n",
       "      <td>0.7279</td>\n",
       "      <td>0.6137</td>\n",
       "      <td>0.5115</td>\n",
       "      <td>0.5054</td>\n",
       "      <td>1</td>\n",
       "      <td>150</td>\n",
       "      <td>sag</td>\n",
       "    </tr>\n",
       "    <tr>\n",
       "      <th>5</th>\n",
       "      <td>0.7279</td>\n",
       "      <td>0.6146</td>\n",
       "      <td>0.5115</td>\n",
       "      <td>0.5056</td>\n",
       "      <td>1</td>\n",
       "      <td>100</td>\n",
       "      <td>lbfgs</td>\n",
       "    </tr>\n",
       "    <tr>\n",
       "      <th>9</th>\n",
       "      <td>0.7279</td>\n",
       "      <td>0.6132</td>\n",
       "      <td>0.5115</td>\n",
       "      <td>0.5054</td>\n",
       "      <td>10</td>\n",
       "      <td>200</td>\n",
       "      <td>lbfgs</td>\n",
       "    </tr>\n",
       "    <tr>\n",
       "      <th>9</th>\n",
       "      <td>0.7279</td>\n",
       "      <td>0.6123</td>\n",
       "      <td>0.5115</td>\n",
       "      <td>0.5054</td>\n",
       "      <td>100</td>\n",
       "      <td>200</td>\n",
       "      <td>lbfgs</td>\n",
       "    </tr>\n",
       "    <tr>\n",
       "      <th>11</th>\n",
       "      <td>0.7279</td>\n",
       "      <td>0.6124</td>\n",
       "      <td>0.5116</td>\n",
       "      <td>0.5056</td>\n",
       "      <td>10</td>\n",
       "      <td>150</td>\n",
       "      <td>lbfgs</td>\n",
       "    </tr>\n",
       "    <tr>\n",
       "      <th>12</th>\n",
       "      <td>0.7278</td>\n",
       "      <td>0.6116</td>\n",
       "      <td>0.5112</td>\n",
       "      <td>0.5049</td>\n",
       "      <td>1</td>\n",
       "      <td>100</td>\n",
       "      <td>sag</td>\n",
       "    </tr>\n",
       "    <tr>\n",
       "      <th>13</th>\n",
       "      <td>0.7277</td>\n",
       "      <td>0.5960</td>\n",
       "      <td>0.5090</td>\n",
       "      <td>0.5006</td>\n",
       "      <td>0.1</td>\n",
       "      <td>50</td>\n",
       "      <td>lbfgs</td>\n",
       "    </tr>\n",
       "    <tr>\n",
       "      <th>14</th>\n",
       "      <td>0.7276</td>\n",
       "      <td>0.5942</td>\n",
       "      <td>0.5110</td>\n",
       "      <td>0.5045</td>\n",
       "      <td>1</td>\n",
       "      <td>50</td>\n",
       "      <td>lbfgs</td>\n",
       "    </tr>\n",
       "    <tr>\n",
       "      <th>15</th>\n",
       "      <td>0.7275</td>\n",
       "      <td>0.6007</td>\n",
       "      <td>0.5098</td>\n",
       "      <td>0.5025</td>\n",
       "      <td>0.1</td>\n",
       "      <td>200</td>\n",
       "      <td>lbfgs</td>\n",
       "    </tr>\n",
       "    <tr>\n",
       "      <th>15</th>\n",
       "      <td>0.7275</td>\n",
       "      <td>0.5998</td>\n",
       "      <td>0.5098</td>\n",
       "      <td>0.5025</td>\n",
       "      <td>0.1</td>\n",
       "      <td>100</td>\n",
       "      <td>lbfgs</td>\n",
       "    </tr>\n",
       "    <tr>\n",
       "      <th>17</th>\n",
       "      <td>0.7275</td>\n",
       "      <td>0.6003</td>\n",
       "      <td>0.5098</td>\n",
       "      <td>0.5025</td>\n",
       "      <td>0.1</td>\n",
       "      <td>50</td>\n",
       "      <td>sag</td>\n",
       "    </tr>\n",
       "    <tr>\n",
       "      <th>17</th>\n",
       "      <td>0.7275</td>\n",
       "      <td>0.6003</td>\n",
       "      <td>0.5098</td>\n",
       "      <td>0.5025</td>\n",
       "      <td>0.1</td>\n",
       "      <td>150</td>\n",
       "      <td>sag</td>\n",
       "    </tr>\n",
       "    <tr>\n",
       "      <th>17</th>\n",
       "      <td>0.7275</td>\n",
       "      <td>0.6003</td>\n",
       "      <td>0.5098</td>\n",
       "      <td>0.5025</td>\n",
       "      <td>0.1</td>\n",
       "      <td>100</td>\n",
       "      <td>sag</td>\n",
       "    </tr>\n",
       "    <tr>\n",
       "      <th>17</th>\n",
       "      <td>0.7275</td>\n",
       "      <td>0.6003</td>\n",
       "      <td>0.5098</td>\n",
       "      <td>0.5025</td>\n",
       "      <td>0.1</td>\n",
       "      <td>200</td>\n",
       "      <td>sag</td>\n",
       "    </tr>\n",
       "    <tr>\n",
       "      <th>21</th>\n",
       "      <td>0.7274</td>\n",
       "      <td>0.5910</td>\n",
       "      <td>0.5090</td>\n",
       "      <td>0.5010</td>\n",
       "      <td>0.1</td>\n",
       "      <td>150</td>\n",
       "      <td>lbfgs</td>\n",
       "    </tr>\n",
       "    <tr>\n",
       "      <th>22</th>\n",
       "      <td>0.7274</td>\n",
       "      <td>0.5939</td>\n",
       "      <td>0.5108</td>\n",
       "      <td>0.5044</td>\n",
       "      <td>10</td>\n",
       "      <td>50</td>\n",
       "      <td>lbfgs</td>\n",
       "    </tr>\n",
       "    <tr>\n",
       "      <th>23</th>\n",
       "      <td>0.7273</td>\n",
       "      <td>0.5864</td>\n",
       "      <td>0.5097</td>\n",
       "      <td>0.5022</td>\n",
       "      <td>100</td>\n",
       "      <td>50</td>\n",
       "      <td>lbfgs</td>\n",
       "    </tr>\n",
       "    <tr>\n",
       "      <th>24</th>\n",
       "      <td>0.7269</td>\n",
       "      <td>0.5861</td>\n",
       "      <td>0.5088</td>\n",
       "      <td>0.5011</td>\n",
       "      <td>1</td>\n",
       "      <td>50</td>\n",
       "      <td>sag</td>\n",
       "    </tr>\n",
       "    <tr>\n",
       "      <th>25</th>\n",
       "      <td>0.7243</td>\n",
       "      <td>0.6042</td>\n",
       "      <td>0.5114</td>\n",
       "      <td>0.5066</td>\n",
       "      <td>10</td>\n",
       "      <td>200</td>\n",
       "      <td>sag</td>\n",
       "    </tr>\n",
       "    <tr>\n",
       "      <th>26</th>\n",
       "      <td>0.7189</td>\n",
       "      <td>0.5637</td>\n",
       "      <td>0.5058</td>\n",
       "      <td>0.4985</td>\n",
       "      <td>100</td>\n",
       "      <td>100</td>\n",
       "      <td>sag</td>\n",
       "    </tr>\n",
       "    <tr>\n",
       "      <th>27</th>\n",
       "      <td>0.7183</td>\n",
       "      <td>0.5664</td>\n",
       "      <td>0.5033</td>\n",
       "      <td>0.4950</td>\n",
       "      <td>10</td>\n",
       "      <td>100</td>\n",
       "      <td>sag</td>\n",
       "    </tr>\n",
       "    <tr>\n",
       "      <th>28</th>\n",
       "      <td>0.7181</td>\n",
       "      <td>0.5867</td>\n",
       "      <td>0.4988</td>\n",
       "      <td>0.4901</td>\n",
       "      <td>100</td>\n",
       "      <td>200</td>\n",
       "      <td>sag</td>\n",
       "    </tr>\n",
       "    <tr>\n",
       "      <th>29</th>\n",
       "      <td>0.7102</td>\n",
       "      <td>0.5764</td>\n",
       "      <td>0.5124</td>\n",
       "      <td>0.5081</td>\n",
       "      <td>100</td>\n",
       "      <td>150</td>\n",
       "      <td>sag</td>\n",
       "    </tr>\n",
       "    <tr>\n",
       "      <th>30</th>\n",
       "      <td>0.7036</td>\n",
       "      <td>0.5613</td>\n",
       "      <td>0.5020</td>\n",
       "      <td>0.4955</td>\n",
       "      <td>10</td>\n",
       "      <td>150</td>\n",
       "      <td>sag</td>\n",
       "    </tr>\n",
       "    <tr>\n",
       "      <th>31</th>\n",
       "      <td>0.7023</td>\n",
       "      <td>0.5855</td>\n",
       "      <td>0.5093</td>\n",
       "      <td>0.5055</td>\n",
       "      <td>10</td>\n",
       "      <td>50</td>\n",
       "      <td>sag</td>\n",
       "    </tr>\n",
       "    <tr>\n",
       "      <th>32</th>\n",
       "      <td>0.7001</td>\n",
       "      <td>0.5799</td>\n",
       "      <td>0.5078</td>\n",
       "      <td>0.5005</td>\n",
       "      <td>100</td>\n",
       "      <td>50</td>\n",
       "      <td>sag</td>\n",
       "    </tr>\n",
       "  </tbody>\n",
       "</table>\n",
       "</div>"
      ],
      "text/plain": [
       "                   Mean Test Accuracy Mean Test Precision (macro)  \\\n",
       "Rank (By Accuracy)                                                  \n",
       "1                              0.7281                      0.6077   \n",
       "2                              0.7280                      0.5880   \n",
       "3                              0.7280                      0.6137   \n",
       "4                              0.7279                      0.6137   \n",
       "5                              0.7279                      0.6137   \n",
       "5                              0.7279                      0.6132   \n",
       "5                              0.7279                      0.6137   \n",
       "5                              0.7279                      0.6146   \n",
       "9                              0.7279                      0.6132   \n",
       "9                              0.7279                      0.6123   \n",
       "11                             0.7279                      0.6124   \n",
       "12                             0.7278                      0.6116   \n",
       "13                             0.7277                      0.5960   \n",
       "14                             0.7276                      0.5942   \n",
       "15                             0.7275                      0.6007   \n",
       "15                             0.7275                      0.5998   \n",
       "17                             0.7275                      0.6003   \n",
       "17                             0.7275                      0.6003   \n",
       "17                             0.7275                      0.6003   \n",
       "17                             0.7275                      0.6003   \n",
       "21                             0.7274                      0.5910   \n",
       "22                             0.7274                      0.5939   \n",
       "23                             0.7273                      0.5864   \n",
       "24                             0.7269                      0.5861   \n",
       "25                             0.7243                      0.6042   \n",
       "26                             0.7189                      0.5637   \n",
       "27                             0.7183                      0.5664   \n",
       "28                             0.7181                      0.5867   \n",
       "29                             0.7102                      0.5764   \n",
       "30                             0.7036                      0.5613   \n",
       "31                             0.7023                      0.5855   \n",
       "32                             0.7001                      0.5799   \n",
       "\n",
       "                   Mean Test Recall (macro) Mean Test F1-Score (macro)  \\\n",
       "Rank (By Accuracy)                                                       \n",
       "1                                    0.5116                     0.5056   \n",
       "2                                    0.5106                     0.5034   \n",
       "3                                    0.5115                     0.5054   \n",
       "4                                    0.5115                     0.5054   \n",
       "5                                    0.5115                     0.5054   \n",
       "5                                    0.5116                     0.5056   \n",
       "5                                    0.5115                     0.5054   \n",
       "5                                    0.5115                     0.5056   \n",
       "9                                    0.5115                     0.5054   \n",
       "9                                    0.5115                     0.5054   \n",
       "11                                   0.5116                     0.5056   \n",
       "12                                   0.5112                     0.5049   \n",
       "13                                   0.5090                     0.5006   \n",
       "14                                   0.5110                     0.5045   \n",
       "15                                   0.5098                     0.5025   \n",
       "15                                   0.5098                     0.5025   \n",
       "17                                   0.5098                     0.5025   \n",
       "17                                   0.5098                     0.5025   \n",
       "17                                   0.5098                     0.5025   \n",
       "17                                   0.5098                     0.5025   \n",
       "21                                   0.5090                     0.5010   \n",
       "22                                   0.5108                     0.5044   \n",
       "23                                   0.5097                     0.5022   \n",
       "24                                   0.5088                     0.5011   \n",
       "25                                   0.5114                     0.5066   \n",
       "26                                   0.5058                     0.4985   \n",
       "27                                   0.5033                     0.4950   \n",
       "28                                   0.4988                     0.4901   \n",
       "29                                   0.5124                     0.5081   \n",
       "30                                   0.5020                     0.4955   \n",
       "31                                   0.5093                     0.5055   \n",
       "32                                   0.5078                     0.5005   \n",
       "\n",
       "                   param_log_reg__C param_log_reg__max_iter  \\\n",
       "Rank (By Accuracy)                                            \n",
       "1                                10                     100   \n",
       "2                               100                     100   \n",
       "3                                 1                     150   \n",
       "4                                 1                     200   \n",
       "5                                 1                     200   \n",
       "5                               100                     150   \n",
       "5                                 1                     150   \n",
       "5                                 1                     100   \n",
       "9                                10                     200   \n",
       "9                               100                     200   \n",
       "11                               10                     150   \n",
       "12                                1                     100   \n",
       "13                              0.1                      50   \n",
       "14                                1                      50   \n",
       "15                              0.1                     200   \n",
       "15                              0.1                     100   \n",
       "17                              0.1                      50   \n",
       "17                              0.1                     150   \n",
       "17                              0.1                     100   \n",
       "17                              0.1                     200   \n",
       "21                              0.1                     150   \n",
       "22                               10                      50   \n",
       "23                              100                      50   \n",
       "24                                1                      50   \n",
       "25                               10                     200   \n",
       "26                              100                     100   \n",
       "27                               10                     100   \n",
       "28                              100                     200   \n",
       "29                              100                     150   \n",
       "30                               10                     150   \n",
       "31                               10                      50   \n",
       "32                              100                      50   \n",
       "\n",
       "                   param_log_reg__solver  \n",
       "Rank (By Accuracy)                        \n",
       "1                                  lbfgs  \n",
       "2                                  lbfgs  \n",
       "3                                  lbfgs  \n",
       "4                                  lbfgs  \n",
       "5                                    sag  \n",
       "5                                  lbfgs  \n",
       "5                                    sag  \n",
       "5                                  lbfgs  \n",
       "9                                  lbfgs  \n",
       "9                                  lbfgs  \n",
       "11                                 lbfgs  \n",
       "12                                   sag  \n",
       "13                                 lbfgs  \n",
       "14                                 lbfgs  \n",
       "15                                 lbfgs  \n",
       "15                                 lbfgs  \n",
       "17                                   sag  \n",
       "17                                   sag  \n",
       "17                                   sag  \n",
       "17                                   sag  \n",
       "21                                 lbfgs  \n",
       "22                                 lbfgs  \n",
       "23                                 lbfgs  \n",
       "24                                   sag  \n",
       "25                                   sag  \n",
       "26                                   sag  \n",
       "27                                   sag  \n",
       "28                                   sag  \n",
       "29                                   sag  \n",
       "30                                   sag  \n",
       "31                                   sag  \n",
       "32                                   sag  "
      ]
     },
     "execution_count": 20,
     "metadata": {},
     "output_type": "execute_result"
    }
   ],
   "source": [
    "prettyPrintGridCVResults(log_reg_gs1)"
   ]
  },
  {
   "cell_type": "markdown",
   "id": "ee9e5d3e",
   "metadata": {},
   "source": [
    "Despite extensive hypertuning, it seems that the algorithm isn't able to sense the pattern all that well. We did however, see a minor bump in accuracy without loss in F1-score, with the best model showing 72.81% accuracy."
   ]
  },
  {
   "cell_type": "markdown",
   "id": "9a00fa75",
   "metadata": {},
   "source": [
    "## Random Forest"
   ]
  },
  {
   "cell_type": "markdown",
   "id": "b9935506",
   "metadata": {},
   "source": [
    "Next we shall implement an ensemble algorithm, Random Forest"
   ]
  },
  {
   "cell_type": "markdown",
   "id": "c2424ea9",
   "metadata": {},
   "source": [
    "### Simple Model"
   ]
  },
  {
   "cell_type": "code",
   "execution_count": 42,
   "id": "f0342246",
   "metadata": {
    "ExecuteTime": {
     "end_time": "2022-04-21T01:43:50.015507Z",
     "start_time": "2022-04-21T01:43:50.012514Z"
    }
   },
   "outputs": [],
   "source": [
    "ct = ColumnTransformer(transformers=[\n",
    "\n",
    "    ('ct_cyr', subpipe_num, ['construction_year']),\n",
    "    \n",
    "    # Note: region is passed to allow groupby. Not returned.\n",
    "    ('ct_coord', subpipe_coord, ['latitude', 'longitude', 'region']),\n",
    "    \n",
    "    ('ct_cat1', subpipe_cat1, ['public_meeting','scheme_management', 'permit', 'source_class']),\n",
    "    \n",
    "    ('ct_cat2', subpipe_cat2, ['basin', 'extraction_type_class', 'management', 'payment', 'quality_group',\n",
    "                               'quantity', 'source_type', 'waterpoint_type_group']),\n",
    "\n",
    "])"
   ]
  },
  {
   "cell_type": "code",
   "execution_count": 43,
   "id": "de7da716",
   "metadata": {
    "ExecuteTime": {
     "end_time": "2022-04-21T01:44:29.220752Z",
     "start_time": "2022-04-21T01:44:05.829776Z"
    },
    "scrolled": false
   },
   "outputs": [
    {
     "data": {
      "text/html": [
       "<style  type=\"text/css\" >\n",
       "</style><table id=\"T_95452842_c114_11ec_88ee_ec2e98d37a84\" ><caption>Cross Validation Results</caption><thead>    <tr>        <th class=\"blank level0\" ></th>        <th class=\"col_heading level0 col0\" >Scores</th>    </tr>    <tr>        <th class=\"index_name level0\" ></th>        <th class=\"blank\" ></th>    </tr></thead><tbody>\n",
       "                <tr>\n",
       "                        <th id=\"T_95452842_c114_11ec_88ee_ec2e98d37a84level0_row0\" class=\"row_heading level0 row0\" >Accuracy</th>\n",
       "                        <td id=\"T_95452842_c114_11ec_88ee_ec2e98d37a84row0_col0\" class=\"data row0 col0\" >0.7869</td>\n",
       "            </tr>\n",
       "            <tr>\n",
       "                        <th id=\"T_95452842_c114_11ec_88ee_ec2e98d37a84level0_row1\" class=\"row_heading level0 row1\" >Precision</th>\n",
       "                        <td id=\"T_95452842_c114_11ec_88ee_ec2e98d37a84row1_col0\" class=\"data row1 col0\" >0.6885</td>\n",
       "            </tr>\n",
       "            <tr>\n",
       "                        <th id=\"T_95452842_c114_11ec_88ee_ec2e98d37a84level0_row2\" class=\"row_heading level0 row2\" >Recall</th>\n",
       "                        <td id=\"T_95452842_c114_11ec_88ee_ec2e98d37a84row2_col0\" class=\"data row2 col0\" >0.6540</td>\n",
       "            </tr>\n",
       "            <tr>\n",
       "                        <th id=\"T_95452842_c114_11ec_88ee_ec2e98d37a84level0_row3\" class=\"row_heading level0 row3\" >F1</th>\n",
       "                        <td id=\"T_95452842_c114_11ec_88ee_ec2e98d37a84row3_col0\" class=\"data row3 col0\" >0.6676</td>\n",
       "            </tr>\n",
       "    </tbody></table>"
      ],
      "text/plain": [
       "<pandas.io.formats.style.Styler at 0x26b02521d90>"
      ]
     },
     "metadata": {},
     "output_type": "display_data"
    },
    {
     "data": {
      "image/png": "[encoded data removed]",
      "text/plain": [
       "<Figure size 576x576 with 2 Axes>"
      ]
     },
     "metadata": {
      "needs_background": "light"
     },
     "output_type": "display_data"
    }
   ],
   "source": [
    "rfc_model_pipe = Pipeline([\n",
    "    ('ct',ct),\n",
    "   ('rfc',RandomForestClassifier(random_state=42,n_jobs=Notebook_n_jobs))\n",
    "])\n",
    "\n",
    "rfc_model_pipe.fit(X_train,y_train)\n",
    "modelReport(rfc_model_pipe,X_train,y_train)\n",
    "\n",
    "filePath = f'models/{rfc_model_pipe=}'.split('=')[0] + '.sav'\n",
    "pickle.dump(rfc_model_pipe, open(filePath, 'wb'))"
   ]
  },
  {
   "cell_type": "markdown",
   "id": "bcfdc328",
   "metadata": {},
   "source": [
    "Our basic Random Forest Classifier is the best performer so far with an accuracy of 78.7% and an F1-score of 66.76%. We should be able to get more out of this modeling technique."
   ]
  },
  {
   "cell_type": "markdown",
   "id": "9a76a4d6",
   "metadata": {},
   "source": [
    "### Hypertuned Model"
   ]
  },
  {
   "cell_type": "code",
   "execution_count": 49,
   "id": "85ff09fc",
   "metadata": {
    "ExecuteTime": {
     "end_time": "2022-04-21T02:22:17.001195Z",
     "start_time": "2022-04-21T01:55:27.836389Z"
    }
   },
   "outputs": [],
   "source": [
    "params = {}\n",
    "params['rfc__criterion'] = ['gini','entropy']\n",
    "params['rfc__n_estimators'] = [350,450,500]\n",
    "params['rfc__max_depth'] = [20,23,27,30]\n",
    "params['rfc__max_leaf_nodes']=[4000,4500,5000]\n",
    "\n",
    "\n",
    "rfc_gs1 = GridSearchCV(estimator=rfc_model_pipe,\n",
    "                           param_grid=params,\n",
    "                           cv=5,\n",
    "                           n_jobs=Notebook_n_jobs,\n",
    "                           scoring=[ 'accuracy','precision_macro','recall_macro','f1_macro'],\n",
    "                           refit='accuracy',\n",
    "                           return_train_score=True)\n",
    "\n",
    "rfc_gs1.fit(X_train,y_train)\n",
    "\n",
    "filePath = f'models/{rfc_gs1=}'.split('=')[0] + '.sav'\n",
    "pickle.dump(rfc_gs1, open(filePath, 'wb'))"
   ]
  },
  {
   "cell_type": "code",
   "execution_count": 50,
   "id": "559779d2",
   "metadata": {
    "ExecuteTime": {
     "end_time": "2022-04-21T02:22:17.544607Z",
     "start_time": "2022-04-21T02:22:17.514607Z"
    },
    "scrolled": false
   },
   "outputs": [
    {
     "data": {
      "text/html": [
       "<div>\n",
       "<style scoped>\n",
       "    .dataframe tbody tr th:only-of-type {\n",
       "        vertical-align: middle;\n",
       "    }\n",
       "\n",
       "    .dataframe tbody tr th {\n",
       "        vertical-align: top;\n",
       "    }\n",
       "\n",
       "    .dataframe thead th {\n",
       "        text-align: right;\n",
       "    }\n",
       "</style>\n",
       "<table border=\"1\" class=\"dataframe\">\n",
       "  <thead>\n",
       "    <tr style=\"text-align: right;\">\n",
       "      <th></th>\n",
       "      <th>Mean Test Accuracy</th>\n",
       "      <th>Mean Test Precision (macro)</th>\n",
       "      <th>Mean Test Recall (macro)</th>\n",
       "      <th>Mean Test F1-Score (macro)</th>\n",
       "      <th>param_rfc__criterion</th>\n",
       "      <th>param_rfc__max_depth</th>\n",
       "      <th>param_rfc__max_leaf_nodes</th>\n",
       "      <th>param_rfc__n_estimators</th>\n",
       "    </tr>\n",
       "    <tr>\n",
       "      <th>Rank (By Accuracy)</th>\n",
       "      <th></th>\n",
       "      <th></th>\n",
       "      <th></th>\n",
       "      <th></th>\n",
       "      <th></th>\n",
       "      <th></th>\n",
       "      <th></th>\n",
       "      <th></th>\n",
       "    </tr>\n",
       "  </thead>\n",
       "  <tbody>\n",
       "    <tr>\n",
       "      <th>1</th>\n",
       "      <td>0.7977</td>\n",
       "      <td>0.7197</td>\n",
       "      <td>0.6444</td>\n",
       "      <td>0.6675</td>\n",
       "      <td>entropy</td>\n",
       "      <td>27</td>\n",
       "      <td>4500</td>\n",
       "      <td>450</td>\n",
       "    </tr>\n",
       "    <tr>\n",
       "      <th>2</th>\n",
       "      <td>0.7976</td>\n",
       "      <td>0.7195</td>\n",
       "      <td>0.6444</td>\n",
       "      <td>0.6675</td>\n",
       "      <td>entropy</td>\n",
       "      <td>30</td>\n",
       "      <td>4500</td>\n",
       "      <td>500</td>\n",
       "    </tr>\n",
       "    <tr>\n",
       "      <th>3</th>\n",
       "      <td>0.7976</td>\n",
       "      <td>0.7197</td>\n",
       "      <td>0.6444</td>\n",
       "      <td>0.6676</td>\n",
       "      <td>entropy</td>\n",
       "      <td>27</td>\n",
       "      <td>4500</td>\n",
       "      <td>500</td>\n",
       "    </tr>\n",
       "    <tr>\n",
       "      <th>4</th>\n",
       "      <td>0.7975</td>\n",
       "      <td>0.7217</td>\n",
       "      <td>0.6387</td>\n",
       "      <td>0.6626</td>\n",
       "      <td>entropy</td>\n",
       "      <td>27</td>\n",
       "      <td>4000</td>\n",
       "      <td>500</td>\n",
       "    </tr>\n",
       "    <tr>\n",
       "      <th>5</th>\n",
       "      <td>0.7974</td>\n",
       "      <td>0.7191</td>\n",
       "      <td>0.6441</td>\n",
       "      <td>0.6671</td>\n",
       "      <td>entropy</td>\n",
       "      <td>30</td>\n",
       "      <td>4500</td>\n",
       "      <td>350</td>\n",
       "    </tr>\n",
       "    <tr>\n",
       "      <th>...</th>\n",
       "      <td>...</td>\n",
       "      <td>...</td>\n",
       "      <td>...</td>\n",
       "      <td>...</td>\n",
       "      <td>...</td>\n",
       "      <td>...</td>\n",
       "      <td>...</td>\n",
       "      <td>...</td>\n",
       "    </tr>\n",
       "    <tr>\n",
       "      <th>68</th>\n",
       "      <td>0.7947</td>\n",
       "      <td>0.7249</td>\n",
       "      <td>0.6282</td>\n",
       "      <td>0.6529</td>\n",
       "      <td>gini</td>\n",
       "      <td>20</td>\n",
       "      <td>4500</td>\n",
       "      <td>450</td>\n",
       "    </tr>\n",
       "    <tr>\n",
       "      <th>69</th>\n",
       "      <td>0.7946</td>\n",
       "      <td>0.7247</td>\n",
       "      <td>0.6286</td>\n",
       "      <td>0.6532</td>\n",
       "      <td>gini</td>\n",
       "      <td>20</td>\n",
       "      <td>5000</td>\n",
       "      <td>500</td>\n",
       "    </tr>\n",
       "    <tr>\n",
       "      <th>70</th>\n",
       "      <td>0.7945</td>\n",
       "      <td>0.7245</td>\n",
       "      <td>0.6290</td>\n",
       "      <td>0.6537</td>\n",
       "      <td>gini</td>\n",
       "      <td>20</td>\n",
       "      <td>4500</td>\n",
       "      <td>350</td>\n",
       "    </tr>\n",
       "    <tr>\n",
       "      <th>71</th>\n",
       "      <td>0.7945</td>\n",
       "      <td>0.7272</td>\n",
       "      <td>0.6277</td>\n",
       "      <td>0.6528</td>\n",
       "      <td>gini</td>\n",
       "      <td>20</td>\n",
       "      <td>4000</td>\n",
       "      <td>350</td>\n",
       "    </tr>\n",
       "    <tr>\n",
       "      <th>72</th>\n",
       "      <td>0.7945</td>\n",
       "      <td>0.7241</td>\n",
       "      <td>0.6295</td>\n",
       "      <td>0.6541</td>\n",
       "      <td>gini</td>\n",
       "      <td>20</td>\n",
       "      <td>5000</td>\n",
       "      <td>350</td>\n",
       "    </tr>\n",
       "  </tbody>\n",
       "</table>\n",
       "<p>72 rows × 8 columns</p>\n",
       "</div>"
      ],
      "text/plain": [
       "                   Mean Test Accuracy Mean Test Precision (macro)  \\\n",
       "Rank (By Accuracy)                                                  \n",
       "1                              0.7977                      0.7197   \n",
       "2                              0.7976                      0.7195   \n",
       "3                              0.7976                      0.7197   \n",
       "4                              0.7975                      0.7217   \n",
       "5                              0.7974                      0.7191   \n",
       "...                               ...                         ...   \n",
       "68                             0.7947                      0.7249   \n",
       "69                             0.7946                      0.7247   \n",
       "70                             0.7945                      0.7245   \n",
       "71                             0.7945                      0.7272   \n",
       "72                             0.7945                      0.7241   \n",
       "\n",
       "                   Mean Test Recall (macro) Mean Test F1-Score (macro)  \\\n",
       "Rank (By Accuracy)                                                       \n",
       "1                                    0.6444                     0.6675   \n",
       "2                                    0.6444                     0.6675   \n",
       "3                                    0.6444                     0.6676   \n",
       "4                                    0.6387                     0.6626   \n",
       "5                                    0.6441                     0.6671   \n",
       "...                                     ...                        ...   \n",
       "68                                   0.6282                     0.6529   \n",
       "69                                   0.6286                     0.6532   \n",
       "70                                   0.6290                     0.6537   \n",
       "71                                   0.6277                     0.6528   \n",
       "72                                   0.6295                     0.6541   \n",
       "\n",
       "                   param_rfc__criterion param_rfc__max_depth  \\\n",
       "Rank (By Accuracy)                                             \n",
       "1                               entropy                   27   \n",
       "2                               entropy                   30   \n",
       "3                               entropy                   27   \n",
       "4                               entropy                   27   \n",
       "5                               entropy                   30   \n",
       "...                                 ...                  ...   \n",
       "68                                 gini                   20   \n",
       "69                                 gini                   20   \n",
       "70                                 gini                   20   \n",
       "71                                 gini                   20   \n",
       "72                                 gini                   20   \n",
       "\n",
       "                   param_rfc__max_leaf_nodes param_rfc__n_estimators  \n",
       "Rank (By Accuracy)                                                    \n",
       "1                                       4500                     450  \n",
       "2                                       4500                     500  \n",
       "3                                       4500                     500  \n",
       "4                                       4000                     500  \n",
       "5                                       4500                     350  \n",
       "...                                      ...                     ...  \n",
       "68                                      4500                     450  \n",
       "69                                      5000                     500  \n",
       "70                                      4500                     350  \n",
       "71                                      4000                     350  \n",
       "72                                      5000                     350  \n",
       "\n",
       "[72 rows x 8 columns]"
      ]
     },
     "execution_count": 50,
     "metadata": {},
     "output_type": "execute_result"
    }
   ],
   "source": [
    "prettyPrintGridCVResults(rfc_gs1)"
   ]
  },
  {
   "cell_type": "markdown",
   "id": "9f5dc9b4",
   "metadata": {},
   "source": [
    "We increased our accuracy marginally to 79.77% with no real gain in the F1-score"
   ]
  },
  {
   "cell_type": "code",
   "execution_count": 60,
   "id": "91ff5eea",
   "metadata": {
    "ExecuteTime": {
     "end_time": "2022-04-22T02:20:01.546758Z",
     "start_time": "2022-04-22T02:19:07.954566Z"
    },
    "scrolled": false
   },
   "outputs": [
    {
     "data": {
      "text/html": [
       "<style  type=\"text/css\" >\n",
       "</style><table id=\"T_b6b48782_c1e2_11ec_8fac_ec2e98d37a84\" ><caption>Cross Validation Results</caption><thead>    <tr>        <th class=\"blank level0\" ></th>        <th class=\"col_heading level0 col0\" >Scores</th>    </tr>    <tr>        <th class=\"index_name level0\" ></th>        <th class=\"blank\" ></th>    </tr></thead><tbody>\n",
       "                <tr>\n",
       "                        <th id=\"T_b6b48782_c1e2_11ec_8fac_ec2e98d37a84level0_row0\" class=\"row_heading level0 row0\" >Accuracy</th>\n",
       "                        <td id=\"T_b6b48782_c1e2_11ec_8fac_ec2e98d37a84row0_col0\" class=\"data row0 col0\" >0.7977</td>\n",
       "            </tr>\n",
       "            <tr>\n",
       "                        <th id=\"T_b6b48782_c1e2_11ec_8fac_ec2e98d37a84level0_row1\" class=\"row_heading level0 row1\" >Precision</th>\n",
       "                        <td id=\"T_b6b48782_c1e2_11ec_8fac_ec2e98d37a84row1_col0\" class=\"data row1 col0\" >0.7197</td>\n",
       "            </tr>\n",
       "            <tr>\n",
       "                        <th id=\"T_b6b48782_c1e2_11ec_8fac_ec2e98d37a84level0_row2\" class=\"row_heading level0 row2\" >Recall</th>\n",
       "                        <td id=\"T_b6b48782_c1e2_11ec_8fac_ec2e98d37a84row2_col0\" class=\"data row2 col0\" >0.6444</td>\n",
       "            </tr>\n",
       "            <tr>\n",
       "                        <th id=\"T_b6b48782_c1e2_11ec_8fac_ec2e98d37a84level0_row3\" class=\"row_heading level0 row3\" >F1</th>\n",
       "                        <td id=\"T_b6b48782_c1e2_11ec_8fac_ec2e98d37a84row3_col0\" class=\"data row3 col0\" >0.6675</td>\n",
       "            </tr>\n",
       "    </tbody></table>"
      ],
      "text/plain": [
       "<pandas.io.formats.style.Styler at 0x23981634100>"
      ]
     },
     "metadata": {},
     "output_type": "display_data"
    },
    {
     "data": {
      "image/png": "[encoded data removed]",
      "text/plain": [
       "<Figure size 576x576 with 2 Axes>"
      ]
     },
     "metadata": {
      "needs_background": "light"
     },
     "output_type": "display_data"
    }
   ],
   "source": [
    "modelReport(rfc_gs1.best_estimator_,X_train,y_train)"
   ]
  },
  {
   "cell_type": "markdown",
   "id": "d55f6d3f",
   "metadata": {},
   "source": [
    "It seems that the hypertuned model is having a harder time classifying wells that need repairs. Also of concern, that even when it misclassifies, is that it is more likely to classify a well that needs repairs as functional.\n",
    "\n",
    "Barring a perfect classifying model, it'd be preferable if the model classifies it as non functional.\n",
    "\n",
    "The imbalance in the classes is affecting the model's ability to classify each class effectively. We shall employ an undersampling technique which may help alleviate some of these issues."
   ]
  },
  {
   "cell_type": "markdown",
   "id": "70152187",
   "metadata": {},
   "source": [
    "### Hypertuned and SMOTE Model"
   ]
  },
  {
   "cell_type": "markdown",
   "id": "79ca4fb8",
   "metadata": {},
   "source": [
    "We shall use the Imbalance Pipeline library and the SMOTE module. It artificially creates data points by shuffling features of similar records.\n",
    "\n",
    "Note, that we do not SMOTE the test set. This ensures it is only used in training to help be able to predict on unseen data better.\n",
    "\n",
    "As part of our grid search, I provided the same parameters as our hypertuned model above with one extra option of max depth for some wiggle room."
   ]
  },
  {
   "cell_type": "code",
   "execution_count": 22,
   "id": "3784ae32",
   "metadata": {
    "ExecuteTime": {
     "end_time": "2022-04-21T14:18:19.446104Z",
     "start_time": "2022-04-21T14:18:19.435103Z"
    }
   },
   "outputs": [],
   "source": [
    "rfc_imb_model_pipe = ImPipeline([\n",
    "    ('ct',ct),\n",
    "    ('sm',SMOTE(random_state=42)),\n",
    "   ('rfc',RandomForestClassifier(random_state=42))\n",
    "])"
   ]
  },
  {
   "cell_type": "code",
   "execution_count": 24,
   "id": "5c7170a5",
   "metadata": {
    "ExecuteTime": {
     "end_time": "2022-04-21T14:21:56.371172Z",
     "start_time": "2022-04-21T14:19:07.082408Z"
    },
    "collapsed": true
   },
   "outputs": [
    {
     "name": "stdout",
     "output_type": "stream",
     "text": [
      "Fitting 5 folds for each of 2 candidates, totalling 10 fits\n"
     ]
    },
    {
     "data": {
      "text/plain": [
       "GridSearchCV(cv=5,\n",
       "             estimator=Pipeline(steps=[('ct',\n",
       "                                        ColumnTransformer(transformers=[('ct_cyr',\n",
       "                                                                         Pipeline(steps=[('num_imp',\n",
       "                                                                                          SimpleImputer(strategy='median')),\n",
       "                                                                                         ('num_sc',\n",
       "                                                                                          MinMaxScaler())]),\n",
       "                                                                         ['construction_year']),\n",
       "                                                                        ('ct_coord',\n",
       "                                                                         Pipeline(steps=[('coord_imp',\n",
       "                                                                                          CoordinatesImputer()),\n",
       "                                                                                         ('coord_sc',\n",
       "                                                                                          MinMaxScaler())]),\n",
       "                                                                         ['latitude',\n",
       "                                                                          'longitude',\n",
       "                                                                          'region']),\n",
       "                                                                        ('ct_cat1',\n",
       "                                                                         Pipelin...\n",
       "                                                                          'waterpoint_type_group'])])),\n",
       "                                       ('sm', SMOTE(random_state=42)),\n",
       "                                       ('rfc',\n",
       "                                        RandomForestClassifier(random_state=42))]),\n",
       "             n_jobs=5,\n",
       "             param_grid={'rfc__criterion': ['entropy'],\n",
       "                         'rfc__max_depth': [25, 30],\n",
       "                         'rfc__max_leaf_nodes': [4500],\n",
       "                         'rfc__n_estimators': [450]},\n",
       "             refit='accuracy', return_train_score=True,\n",
       "             scoring=['accuracy', 'precision_macro', 'recall_macro',\n",
       "                      'f1_macro'],\n",
       "             verbose=2)"
      ]
     },
     "execution_count": 24,
     "metadata": {},
     "output_type": "execute_result"
    }
   ],
   "source": [
    "params = {}\n",
    "params['rfc__criterion'] = ['entropy']\n",
    "params['rfc__n_estimators'] = [450]\n",
    "params['rfc__max_depth'] = [25,30]\n",
    "params['rfc__max_leaf_nodes']=[4500]\n",
    "\n",
    "rfc_imb_gs1 = GridSearchCV(estimator=rfc_imb_model_pipe,\n",
    "                           param_grid=params,\n",
    "                           cv=5,\n",
    "                           n_jobs=Notebook_n_jobs,\n",
    "                           scoring=[ 'accuracy','precision_macro','recall_macro','f1_macro'],\n",
    "                           refit='accuracy',\n",
    "                           return_train_score=True,\n",
    "                          verbose=2)\n",
    "\n",
    "rfc_imb_gs1.fit(X_train,y_train)"
   ]
  },
  {
   "cell_type": "code",
   "execution_count": 25,
   "id": "a6317164",
   "metadata": {
    "ExecuteTime": {
     "end_time": "2022-04-21T14:21:57.228133Z",
     "start_time": "2022-04-21T14:21:56.881414Z"
    }
   },
   "outputs": [],
   "source": [
    "filePath = f'models/{rfc_imb_gs1=}'.split('=')[0] + '.sav'\n",
    "pickle.dump(rfc_imb_gs1, open(filePath, 'wb'))"
   ]
  },
  {
   "cell_type": "code",
   "execution_count": 26,
   "id": "4982bc63",
   "metadata": {
    "ExecuteTime": {
     "end_time": "2022-04-21T14:21:57.751804Z",
     "start_time": "2022-04-21T14:21:57.737800Z"
    }
   },
   "outputs": [
    {
     "data": {
      "text/html": [
       "<div>\n",
       "<style scoped>\n",
       "    .dataframe tbody tr th:only-of-type {\n",
       "        vertical-align: middle;\n",
       "    }\n",
       "\n",
       "    .dataframe tbody tr th {\n",
       "        vertical-align: top;\n",
       "    }\n",
       "\n",
       "    .dataframe thead th {\n",
       "        text-align: right;\n",
       "    }\n",
       "</style>\n",
       "<table border=\"1\" class=\"dataframe\">\n",
       "  <thead>\n",
       "    <tr style=\"text-align: right;\">\n",
       "      <th></th>\n",
       "      <th>Mean Test Accuracy</th>\n",
       "      <th>Mean Test Precision (macro)</th>\n",
       "      <th>Mean Test Recall (macro)</th>\n",
       "      <th>Mean Test F1-Score (macro)</th>\n",
       "      <th>param_rfc__criterion</th>\n",
       "      <th>param_rfc__max_depth</th>\n",
       "      <th>param_rfc__max_leaf_nodes</th>\n",
       "      <th>param_rfc__n_estimators</th>\n",
       "    </tr>\n",
       "    <tr>\n",
       "      <th>Rank (By Accuracy)</th>\n",
       "      <th></th>\n",
       "      <th></th>\n",
       "      <th></th>\n",
       "      <th></th>\n",
       "      <th></th>\n",
       "      <th></th>\n",
       "      <th></th>\n",
       "      <th></th>\n",
       "    </tr>\n",
       "  </thead>\n",
       "  <tbody>\n",
       "    <tr>\n",
       "      <th>1</th>\n",
       "      <td>0.7701</td>\n",
       "      <td>0.6655</td>\n",
       "      <td>0.6989</td>\n",
       "      <td>0.6761</td>\n",
       "      <td>entropy</td>\n",
       "      <td>30</td>\n",
       "      <td>4500</td>\n",
       "      <td>450</td>\n",
       "    </tr>\n",
       "    <tr>\n",
       "      <th>2</th>\n",
       "      <td>0.7681</td>\n",
       "      <td>0.6636</td>\n",
       "      <td>0.6995</td>\n",
       "      <td>0.6740</td>\n",
       "      <td>entropy</td>\n",
       "      <td>25</td>\n",
       "      <td>4500</td>\n",
       "      <td>450</td>\n",
       "    </tr>\n",
       "  </tbody>\n",
       "</table>\n",
       "</div>"
      ],
      "text/plain": [
       "                   Mean Test Accuracy Mean Test Precision (macro)  \\\n",
       "Rank (By Accuracy)                                                  \n",
       "1                              0.7701                      0.6655   \n",
       "2                              0.7681                      0.6636   \n",
       "\n",
       "                   Mean Test Recall (macro) Mean Test F1-Score (macro)  \\\n",
       "Rank (By Accuracy)                                                       \n",
       "1                                    0.6989                     0.6761   \n",
       "2                                    0.6995                     0.6740   \n",
       "\n",
       "                   param_rfc__criterion param_rfc__max_depth  \\\n",
       "Rank (By Accuracy)                                             \n",
       "1                               entropy                   30   \n",
       "2                               entropy                   25   \n",
       "\n",
       "                   param_rfc__max_leaf_nodes param_rfc__n_estimators  \n",
       "Rank (By Accuracy)                                                    \n",
       "1                                       4500                     450  \n",
       "2                                       4500                     450  "
      ]
     },
     "execution_count": 26,
     "metadata": {},
     "output_type": "execute_result"
    }
   ],
   "source": [
    "prettyPrintGridCVResults(rfc_imb_gs1)"
   ]
  },
  {
   "cell_type": "code",
   "execution_count": 27,
   "id": "dadbda48",
   "metadata": {
    "ExecuteTime": {
     "end_time": "2022-04-21T14:29:08.592296Z",
     "start_time": "2022-04-21T14:23:12.658679Z"
    },
    "scrolled": false
   },
   "outputs": [
    {
     "data": {
      "text/html": [
       "<style  type=\"text/css\" >\n",
       "</style><table id=\"T_6796bf0b_c17f_11ec_919a_ec2e98d37a84\" ><caption>Cross Validation Results</caption><thead>    <tr>        <th class=\"blank level0\" ></th>        <th class=\"col_heading level0 col0\" >Scores</th>    </tr>    <tr>        <th class=\"index_name level0\" ></th>        <th class=\"blank\" ></th>    </tr></thead><tbody>\n",
       "                <tr>\n",
       "                        <th id=\"T_6796bf0b_c17f_11ec_919a_ec2e98d37a84level0_row0\" class=\"row_heading level0 row0\" >Accuracy</th>\n",
       "                        <td id=\"T_6796bf0b_c17f_11ec_919a_ec2e98d37a84row0_col0\" class=\"data row0 col0\" >0.7701</td>\n",
       "            </tr>\n",
       "            <tr>\n",
       "                        <th id=\"T_6796bf0b_c17f_11ec_919a_ec2e98d37a84level0_row1\" class=\"row_heading level0 row1\" >Precision</th>\n",
       "                        <td id=\"T_6796bf0b_c17f_11ec_919a_ec2e98d37a84row1_col0\" class=\"data row1 col0\" >0.6655</td>\n",
       "            </tr>\n",
       "            <tr>\n",
       "                        <th id=\"T_6796bf0b_c17f_11ec_919a_ec2e98d37a84level0_row2\" class=\"row_heading level0 row2\" >Recall</th>\n",
       "                        <td id=\"T_6796bf0b_c17f_11ec_919a_ec2e98d37a84row2_col0\" class=\"data row2 col0\" >0.6989</td>\n",
       "            </tr>\n",
       "            <tr>\n",
       "                        <th id=\"T_6796bf0b_c17f_11ec_919a_ec2e98d37a84level0_row3\" class=\"row_heading level0 row3\" >F1</th>\n",
       "                        <td id=\"T_6796bf0b_c17f_11ec_919a_ec2e98d37a84row3_col0\" class=\"data row3 col0\" >0.6761</td>\n",
       "            </tr>\n",
       "    </tbody></table>"
      ],
      "text/plain": [
       "<pandas.io.formats.style.Styler at 0x2398164cac0>"
      ]
     },
     "metadata": {},
     "output_type": "display_data"
    },
    {
     "data": {
      "image/png": "[encoded data removed]",
      "text/plain": [
       "<Figure size 576x576 with 2 Axes>"
      ]
     },
     "metadata": {
      "needs_background": "light"
     },
     "output_type": "display_data"
    }
   ],
   "source": [
    "modelReport(rfc_imb_gs1.best_estimator_,X_train,y_train)"
   ]
  },
  {
   "cell_type": "markdown",
   "id": "9425b636",
   "metadata": {},
   "source": [
    "SMOTEing our dataset helped raise our F1-score by specifically improving predictions on water wells that need repair without much loss in accuracy. This is key in our ability to try and address a water well before failure."
   ]
  },
  {
   "cell_type": "markdown",
   "id": "f6bd9181",
   "metadata": {},
   "source": [
    "## kNN"
   ]
  },
  {
   "cell_type": "markdown",
   "id": "4dac6d6f",
   "metadata": {
    "ExecuteTime": {
     "end_time": "2022-04-22T04:20:42.506919Z",
     "start_time": "2022-04-22T04:20:42.491917Z"
    }
   },
   "source": [
    "Employing k Nearest Neighbors model"
   ]
  },
  {
   "cell_type": "markdown",
   "id": "84489cca",
   "metadata": {},
   "source": [
    "### Simple Model"
   ]
  },
  {
   "cell_type": "code",
   "execution_count": 42,
   "id": "91c966d0",
   "metadata": {
    "ExecuteTime": {
     "end_time": "2022-04-21T13:19:18.920165Z",
     "start_time": "2022-04-21T13:19:18.899161Z"
    }
   },
   "outputs": [],
   "source": [
    "ct = ColumnTransformer(transformers=[\n",
    "\n",
    "    ('ct_cyr', subpipe_num, ['construction_year']),\n",
    "    \n",
    "    # Note: region is passed to allow groupby. Not returned.\n",
    "    ('ct_coord', subpipe_coord, ['latitude', 'longitude', 'region']),\n",
    "    \n",
    "    ('ct_cat1', subpipe_cat1, ['public_meeting','scheme_management', 'permit', 'source_class']),\n",
    "    \n",
    "    ('ct_cat2', subpipe_cat2, ['basin', 'extraction_type_class', 'management', 'payment', 'quality_group',\n",
    "                               'quantity', 'source_type', 'waterpoint_type_group']),\n",
    "\n",
    "])"
   ]
  },
  {
   "cell_type": "code",
   "execution_count": 48,
   "id": "067f3184",
   "metadata": {
    "ExecuteTime": {
     "end_time": "2022-04-21T13:37:29.794762Z",
     "start_time": "2022-04-21T13:36:03.316404Z"
    },
    "scrolled": false
   },
   "outputs": [
    {
     "data": {
      "text/html": [
       "<style  type=\"text/css\" >\n",
       "</style><table id=\"T_3086b913_c178_11ec_88ee_ec2e98d37a84\" ><caption>Cross Validation Results</caption><thead>    <tr>        <th class=\"blank level0\" ></th>        <th class=\"col_heading level0 col0\" >Scores</th>    </tr>    <tr>        <th class=\"index_name level0\" ></th>        <th class=\"blank\" ></th>    </tr></thead><tbody>\n",
       "                <tr>\n",
       "                        <th id=\"T_3086b913_c178_11ec_88ee_ec2e98d37a84level0_row0\" class=\"row_heading level0 row0\" >Accuracy</th>\n",
       "                        <td id=\"T_3086b913_c178_11ec_88ee_ec2e98d37a84row0_col0\" class=\"data row0 col0\" >0.7731</td>\n",
       "            </tr>\n",
       "            <tr>\n",
       "                        <th id=\"T_3086b913_c178_11ec_88ee_ec2e98d37a84level0_row1\" class=\"row_heading level0 row1\" >Precision</th>\n",
       "                        <td id=\"T_3086b913_c178_11ec_88ee_ec2e98d37a84row1_col0\" class=\"data row1 col0\" >0.6834</td>\n",
       "            </tr>\n",
       "            <tr>\n",
       "                        <th id=\"T_3086b913_c178_11ec_88ee_ec2e98d37a84level0_row2\" class=\"row_heading level0 row2\" >Recall</th>\n",
       "                        <td id=\"T_3086b913_c178_11ec_88ee_ec2e98d37a84row2_col0\" class=\"data row2 col0\" >0.6309</td>\n",
       "            </tr>\n",
       "            <tr>\n",
       "                        <th id=\"T_3086b913_c178_11ec_88ee_ec2e98d37a84level0_row3\" class=\"row_heading level0 row3\" >F1</th>\n",
       "                        <td id=\"T_3086b913_c178_11ec_88ee_ec2e98d37a84row3_col0\" class=\"data row3 col0\" >0.6491</td>\n",
       "            </tr>\n",
       "    </tbody></table>"
      ],
      "text/plain": [
       "<pandas.io.formats.style.Styler at 0x1a54708a3d0>"
      ]
     },
     "metadata": {},
     "output_type": "display_data"
    },
    {
     "data": {
      "image/png": "[encoded data removed]",
      "text/plain": [
       "<Figure size 576x576 with 2 Axes>"
      ]
     },
     "metadata": {
      "needs_background": "light"
     },
     "output_type": "display_data"
    }
   ],
   "source": [
    "knn_model_pipe = Pipeline([\n",
    "    ('ct',ct),\n",
    "   ('knn',KNeighborsClassifier(n_jobs=Notebook_n_jobs))\n",
    "])\n",
    "\n",
    "knn_model_pipe.fit(X_train,y_train)\n",
    "modelReport(knn_model_pipe,X_train,y_train)\n",
    "\n",
    "filePath = f'models/{knn_model_pipe=}'.split('=')[0] + '.sav'\n",
    "pickle.dump(knn_model_pipe, open(filePath, 'wb'))"
   ]
  },
  {
   "cell_type": "markdown",
   "id": "318e24c8",
   "metadata": {},
   "source": [
    "Although a fairly similar accuracy score, the F1 score doesn't compare to the hypertuned random forest classifier. Lets try to tune this model better."
   ]
  },
  {
   "cell_type": "markdown",
   "id": "4d216968",
   "metadata": {},
   "source": [
    "### Hypertuned kNN"
   ]
  },
  {
   "cell_type": "code",
   "execution_count": 50,
   "id": "d0b31f7d",
   "metadata": {
    "ExecuteTime": {
     "end_time": "2022-04-21T13:55:01.108490Z",
     "start_time": "2022-04-21T13:38:07.853466Z"
    }
   },
   "outputs": [
    {
     "name": "stdout",
     "output_type": "stream",
     "text": [
      "Fitting 5 folds for each of 8 candidates, totalling 40 fits\n"
     ]
    }
   ],
   "source": [
    "params = {}\n",
    "params['knn__n_neighbors'] = [5,10,15,20]\n",
    "params['knn__metric']=['manhattan','euclidean']\n",
    "\n",
    "\n",
    "knn_gs1 = GridSearchCV(estimator=knn_model_pipe,\n",
    "                           param_grid=params,\n",
    "                           cv=5,\n",
    "                           n_jobs=Notebook_n_jobs,\n",
    "                           scoring=[ 'accuracy','precision_macro','recall_macro','f1_macro'],\n",
    "                           refit='accuracy',\n",
    "                           return_train_score=True,\n",
    "                      verbose=2)\n",
    "\n",
    "knn_gs1.fit(X_train,y_train)\n",
    "\n",
    "filePath = f'models/{knn_gs1=}'.split('=')[0] + '.sav'\n",
    "pickle.dump(knn_gs1, open(filePath, 'wb'))"
   ]
  },
  {
   "cell_type": "code",
   "execution_count": 51,
   "id": "b9e673d2",
   "metadata": {
    "ExecuteTime": {
     "end_time": "2022-04-21T13:56:52.498272Z",
     "start_time": "2022-04-21T13:56:52.472267Z"
    }
   },
   "outputs": [
    {
     "data": {
      "text/html": [
       "<div>\n",
       "<style scoped>\n",
       "    .dataframe tbody tr th:only-of-type {\n",
       "        vertical-align: middle;\n",
       "    }\n",
       "\n",
       "    .dataframe tbody tr th {\n",
       "        vertical-align: top;\n",
       "    }\n",
       "\n",
       "    .dataframe thead th {\n",
       "        text-align: right;\n",
       "    }\n",
       "</style>\n",
       "<table border=\"1\" class=\"dataframe\">\n",
       "  <thead>\n",
       "    <tr style=\"text-align: right;\">\n",
       "      <th></th>\n",
       "      <th>Mean Test Accuracy</th>\n",
       "      <th>Mean Test Precision (macro)</th>\n",
       "      <th>Mean Test Recall (macro)</th>\n",
       "      <th>Mean Test F1-Score (macro)</th>\n",
       "      <th>param_knn__metric</th>\n",
       "      <th>param_knn__n_neighbors</th>\n",
       "    </tr>\n",
       "    <tr>\n",
       "      <th>Rank (By Accuracy)</th>\n",
       "      <th></th>\n",
       "      <th></th>\n",
       "      <th></th>\n",
       "      <th></th>\n",
       "      <th></th>\n",
       "      <th></th>\n",
       "    </tr>\n",
       "  </thead>\n",
       "  <tbody>\n",
       "    <tr>\n",
       "      <th>1</th>\n",
       "      <td>0.7737</td>\n",
       "      <td>0.6853</td>\n",
       "      <td>0.6285</td>\n",
       "      <td>0.6476</td>\n",
       "      <td>manhattan</td>\n",
       "      <td>5</td>\n",
       "    </tr>\n",
       "    <tr>\n",
       "      <th>2</th>\n",
       "      <td>0.7731</td>\n",
       "      <td>0.6834</td>\n",
       "      <td>0.6309</td>\n",
       "      <td>0.6491</td>\n",
       "      <td>euclidean</td>\n",
       "      <td>5</td>\n",
       "    </tr>\n",
       "    <tr>\n",
       "      <th>3</th>\n",
       "      <td>0.7668</td>\n",
       "      <td>0.6967</td>\n",
       "      <td>0.6080</td>\n",
       "      <td>0.6318</td>\n",
       "      <td>manhattan</td>\n",
       "      <td>10</td>\n",
       "    </tr>\n",
       "    <tr>\n",
       "      <th>4</th>\n",
       "      <td>0.7660</td>\n",
       "      <td>0.6933</td>\n",
       "      <td>0.6085</td>\n",
       "      <td>0.6318</td>\n",
       "      <td>euclidean</td>\n",
       "      <td>10</td>\n",
       "    </tr>\n",
       "    <tr>\n",
       "      <th>5</th>\n",
       "      <td>0.7577</td>\n",
       "      <td>0.6950</td>\n",
       "      <td>0.5931</td>\n",
       "      <td>0.6168</td>\n",
       "      <td>manhattan</td>\n",
       "      <td>15</td>\n",
       "    </tr>\n",
       "    <tr>\n",
       "      <th>6</th>\n",
       "      <td>0.7575</td>\n",
       "      <td>0.6928</td>\n",
       "      <td>0.5943</td>\n",
       "      <td>0.6179</td>\n",
       "      <td>euclidean</td>\n",
       "      <td>15</td>\n",
       "    </tr>\n",
       "    <tr>\n",
       "      <th>7</th>\n",
       "      <td>0.7527</td>\n",
       "      <td>0.6956</td>\n",
       "      <td>0.5834</td>\n",
       "      <td>0.6070</td>\n",
       "      <td>manhattan</td>\n",
       "      <td>20</td>\n",
       "    </tr>\n",
       "    <tr>\n",
       "      <th>8</th>\n",
       "      <td>0.7525</td>\n",
       "      <td>0.6936</td>\n",
       "      <td>0.5833</td>\n",
       "      <td>0.6068</td>\n",
       "      <td>euclidean</td>\n",
       "      <td>20</td>\n",
       "    </tr>\n",
       "  </tbody>\n",
       "</table>\n",
       "</div>"
      ],
      "text/plain": [
       "                   Mean Test Accuracy Mean Test Precision (macro)  \\\n",
       "Rank (By Accuracy)                                                  \n",
       "1                              0.7737                      0.6853   \n",
       "2                              0.7731                      0.6834   \n",
       "3                              0.7668                      0.6967   \n",
       "4                              0.7660                      0.6933   \n",
       "5                              0.7577                      0.6950   \n",
       "6                              0.7575                      0.6928   \n",
       "7                              0.7527                      0.6956   \n",
       "8                              0.7525                      0.6936   \n",
       "\n",
       "                   Mean Test Recall (macro) Mean Test F1-Score (macro)  \\\n",
       "Rank (By Accuracy)                                                       \n",
       "1                                    0.6285                     0.6476   \n",
       "2                                    0.6309                     0.6491   \n",
       "3                                    0.6080                     0.6318   \n",
       "4                                    0.6085                     0.6318   \n",
       "5                                    0.5931                     0.6168   \n",
       "6                                    0.5943                     0.6179   \n",
       "7                                    0.5834                     0.6070   \n",
       "8                                    0.5833                     0.6068   \n",
       "\n",
       "                   param_knn__metric param_knn__n_neighbors  \n",
       "Rank (By Accuracy)                                           \n",
       "1                          manhattan                      5  \n",
       "2                          euclidean                      5  \n",
       "3                          manhattan                     10  \n",
       "4                          euclidean                     10  \n",
       "5                          manhattan                     15  \n",
       "6                          euclidean                     15  \n",
       "7                          manhattan                     20  \n",
       "8                          euclidean                     20  "
      ]
     },
     "execution_count": 51,
     "metadata": {},
     "output_type": "execute_result"
    }
   ],
   "source": [
    "prettyPrintGridCVResults(knn_gs1)"
   ]
  },
  {
   "cell_type": "markdown",
   "id": "7c45946b",
   "metadata": {},
   "source": [
    "It seems that no major gains were made in accuracy or F1-score. Even though the grid search picked a value on bottom end of our n_neighbors parameter range, values less than 3 might lead to underfitting the data. I think our time may be better spent on other modeling techniques."
   ]
  },
  {
   "cell_type": "markdown",
   "id": "caee32b7",
   "metadata": {},
   "source": [
    "## XGBoost"
   ]
  },
  {
   "cell_type": "markdown",
   "id": "50def6d1",
   "metadata": {},
   "source": [
    "### Simple Model"
   ]
  },
  {
   "cell_type": "markdown",
   "id": "cb707ffb",
   "metadata": {},
   "source": [
    "We shall employ a boosting technique next. Specifically, the xgboost module utilising the Random Forest classifier as its base."
   ]
  },
  {
   "cell_type": "code",
   "execution_count": 46,
   "id": "8e8e6911",
   "metadata": {
    "ExecuteTime": {
     "end_time": "2022-04-21T20:41:46.697913Z",
     "start_time": "2022-04-21T20:41:46.674908Z"
    }
   },
   "outputs": [],
   "source": [
    "ct = ColumnTransformer(transformers=[\n",
    "\n",
    "    ('ct_cyr', subpipe_num, ['construction_year']),\n",
    "    \n",
    "    # Note: region is passed to allow groupby. Not returned.\n",
    "    ('ct_coord', subpipe_coord, ['latitude', 'longitude', 'region']),\n",
    "    \n",
    "    ('ct_cat1', subpipe_cat1, ['public_meeting','scheme_management', 'permit', 'source_class']),\n",
    "    \n",
    "    ('ct_cat2', subpipe_cat2, ['basin', 'extraction_type_class', 'management', 'payment', 'quality_group',\n",
    "                               'quantity', 'source_type', 'waterpoint_type_group']),\n",
    "\n",
    "])"
   ]
  },
  {
   "cell_type": "code",
   "execution_count": 47,
   "id": "f60f6f02",
   "metadata": {
    "ExecuteTime": {
     "end_time": "2022-04-21T20:41:50.263938Z",
     "start_time": "2022-04-21T20:41:50.251935Z"
    }
   },
   "outputs": [],
   "source": [
    "XGBRF_model_pipe = Pipeline([\n",
    "    ('ct',ct),\n",
    "   ('xg',xgboost.XGBRFClassifier(random_state=42,n_jobs=Notebook_n_jobs))\n",
    "])"
   ]
  },
  {
   "cell_type": "code",
   "execution_count": 23,
   "id": "74ea3fae",
   "metadata": {
    "ExecuteTime": {
     "end_time": "2022-04-21T05:48:22.284498Z",
     "start_time": "2022-04-21T05:47:36.123909Z"
    },
    "scrolled": false
   },
   "outputs": [
    {
     "data": {
      "text/html": [
       "<style  type=\"text/css\" >\n",
       "</style><table id=\"T_a752da98_c136_11ec_919a_ec2e98d37a84\" ><caption>Cross Validation Results</caption><thead>    <tr>        <th class=\"blank level0\" ></th>        <th class=\"col_heading level0 col0\" >Scores</th>    </tr>    <tr>        <th class=\"index_name level0\" ></th>        <th class=\"blank\" ></th>    </tr></thead><tbody>\n",
       "                <tr>\n",
       "                        <th id=\"T_a752da98_c136_11ec_919a_ec2e98d37a84level0_row0\" class=\"row_heading level0 row0\" >Accuracy</th>\n",
       "                        <td id=\"T_a752da98_c136_11ec_919a_ec2e98d37a84row0_col0\" class=\"data row0 col0\" >0.7271</td>\n",
       "            </tr>\n",
       "            <tr>\n",
       "                        <th id=\"T_a752da98_c136_11ec_919a_ec2e98d37a84level0_row1\" class=\"row_heading level0 row1\" >Precision</th>\n",
       "                        <td id=\"T_a752da98_c136_11ec_919a_ec2e98d37a84row1_col0\" class=\"data row1 col0\" >0.7241</td>\n",
       "            </tr>\n",
       "            <tr>\n",
       "                        <th id=\"T_a752da98_c136_11ec_919a_ec2e98d37a84level0_row2\" class=\"row_heading level0 row2\" >Recall</th>\n",
       "                        <td id=\"T_a752da98_c136_11ec_919a_ec2e98d37a84row2_col0\" class=\"data row2 col0\" >0.5113</td>\n",
       "            </tr>\n",
       "            <tr>\n",
       "                        <th id=\"T_a752da98_c136_11ec_919a_ec2e98d37a84level0_row3\" class=\"row_heading level0 row3\" >F1</th>\n",
       "                        <td id=\"T_a752da98_c136_11ec_919a_ec2e98d37a84row3_col0\" class=\"data row3 col0\" >0.5151</td>\n",
       "            </tr>\n",
       "    </tbody></table>"
      ],
      "text/plain": [
       "<pandas.io.formats.style.Styler at 0x1a5472cffa0>"
      ]
     },
     "metadata": {},
     "output_type": "display_data"
    },
    {
     "data": {
      "image/png": "[encoded data removed]",
      "text/plain": [
       "<Figure size 576x576 with 2 Axes>"
      ]
     },
     "metadata": {
      "needs_background": "light"
     },
     "output_type": "display_data"
    }
   ],
   "source": [
    "XGBRF_model_pipe.fit(X_train,y_train)\n",
    "modelReport(XGBRF_model_pipe,X_train,y_train)\n",
    "\n",
    "filePath = f'models/{XGBRF_model_pipe=}'.split('=')[0] + '.sav'\n",
    "pickle.dump(XGBRF_model_pipe, open(filePath, 'wb'))"
   ]
  },
  {
   "cell_type": "markdown",
   "id": "fadcf496",
   "metadata": {},
   "source": [
    "The baseline XGBoost is woefully under performing. However, I should have anticipated this. The default for the max_depth parameter is 6. This can lead to sever underfitting.\n",
    "\n",
    "I believe we can tune this model to perform better. \n",
    "\n",
    "There are a lot more parameters that we can tweak. However, with the base model taking about 45s to compute, computational time can compound to astoronomical numbers with every extra parameter, and as a result we shall be employing hypertuning in phases."
   ]
  },
  {
   "cell_type": "markdown",
   "id": "f9777317",
   "metadata": {},
   "source": [
    "### Hypertuned "
   ]
  },
  {
   "cell_type": "markdown",
   "id": "2ab11e23",
   "metadata": {},
   "source": [
    "#### Round 1"
   ]
  },
  {
   "cell_type": "code",
   "execution_count": 24,
   "id": "50727254",
   "metadata": {
    "ExecuteTime": {
     "end_time": "2022-04-21T05:55:58.864124Z",
     "start_time": "2022-04-21T05:48:35.555643Z"
    },
    "scrolled": true
   },
   "outputs": [
    {
     "name": "stdout",
     "output_type": "stream",
     "text": [
      "[00:55:40] WARNING: C:\\Users\\Administrator\\workspace\\xgboost-win64_release_1.2.0\\src\\learner.cc:516: \n",
      "Parameters: { criterion, max_leaf_nodes } might not be used.\n",
      "\n",
      "  This may not be accurate due to some parameters are only used in language bindings but\n",
      "  passed down to XGBoost core.  Or some parameters are not used but slip through this\n",
      "  verification. Please open an issue if you find above cases.\n",
      "\n",
      "\n"
     ]
    }
   ],
   "source": [
    "params = {}\n",
    "# params['xg__learning_rate'] = [0.1,1,10]\n",
    "# params['xg__reg_lambda'] = [1e-06,1e-05,1e-04]\n",
    "params['xg__criterion'] = ['gini','entropy']\n",
    "params['xg__n_estimators'] = [350,550]\n",
    "# params['xg__max_depth'] = [20,30]\n",
    "params['xg__max_leaf_nodes']=[4000,5000]\n",
    "\n",
    "\n",
    "xgbrf_gs1 = GridSearchCV(estimator=XGBRF_model_pipe,\n",
    "                           param_grid=params,\n",
    "                           cv=5,\n",
    "                           n_jobs=Notebook_n_jobs,\n",
    "                           scoring=[ 'accuracy','precision_macro','recall_macro','f1_macro'],\n",
    "                           refit='accuracy',\n",
    "                           return_train_score=True)\n",
    "\n",
    "xgbrf_gs1.fit(X_train,y_train)\n",
    "\n",
    "filePath = f'models/{xgbrf_gs1=}'.split('=')[0] + '.sav'\n",
    "pickle.dump(xgbrf_gs1, open(filePath, 'wb'))"
   ]
  },
  {
   "cell_type": "code",
   "execution_count": 25,
   "id": "0278d5f9",
   "metadata": {
    "ExecuteTime": {
     "end_time": "2022-04-21T05:56:28.979004Z",
     "start_time": "2022-04-21T05:56:28.966002Z"
    },
    "scrolled": false
   },
   "outputs": [
    {
     "data": {
      "text/html": [
       "<div>\n",
       "<style scoped>\n",
       "    .dataframe tbody tr th:only-of-type {\n",
       "        vertical-align: middle;\n",
       "    }\n",
       "\n",
       "    .dataframe tbody tr th {\n",
       "        vertical-align: top;\n",
       "    }\n",
       "\n",
       "    .dataframe thead th {\n",
       "        text-align: right;\n",
       "    }\n",
       "</style>\n",
       "<table border=\"1\" class=\"dataframe\">\n",
       "  <thead>\n",
       "    <tr style=\"text-align: right;\">\n",
       "      <th></th>\n",
       "      <th>Mean Test Accuracy</th>\n",
       "      <th>Mean Test Precision (macro)</th>\n",
       "      <th>Mean Test Recall (macro)</th>\n",
       "      <th>Mean Test F1-Score (macro)</th>\n",
       "      <th>param_xg__criterion</th>\n",
       "      <th>param_xg__max_leaf_nodes</th>\n",
       "      <th>param_xg__n_estimators</th>\n",
       "    </tr>\n",
       "    <tr>\n",
       "      <th>Rank (By Accuracy)</th>\n",
       "      <th></th>\n",
       "      <th></th>\n",
       "      <th></th>\n",
       "      <th></th>\n",
       "      <th></th>\n",
       "      <th></th>\n",
       "      <th></th>\n",
       "    </tr>\n",
       "  </thead>\n",
       "  <tbody>\n",
       "    <tr>\n",
       "      <th>1</th>\n",
       "      <td>0.7264</td>\n",
       "      <td>0.7245</td>\n",
       "      <td>0.5104</td>\n",
       "      <td>0.5138</td>\n",
       "      <td>gini</td>\n",
       "      <td>4000</td>\n",
       "      <td>550</td>\n",
       "    </tr>\n",
       "    <tr>\n",
       "      <th>1</th>\n",
       "      <td>0.7264</td>\n",
       "      <td>0.7245</td>\n",
       "      <td>0.5104</td>\n",
       "      <td>0.5138</td>\n",
       "      <td>gini</td>\n",
       "      <td>5000</td>\n",
       "      <td>550</td>\n",
       "    </tr>\n",
       "    <tr>\n",
       "      <th>1</th>\n",
       "      <td>0.7264</td>\n",
       "      <td>0.7245</td>\n",
       "      <td>0.5104</td>\n",
       "      <td>0.5138</td>\n",
       "      <td>entropy</td>\n",
       "      <td>4000</td>\n",
       "      <td>550</td>\n",
       "    </tr>\n",
       "    <tr>\n",
       "      <th>1</th>\n",
       "      <td>0.7264</td>\n",
       "      <td>0.7245</td>\n",
       "      <td>0.5104</td>\n",
       "      <td>0.5138</td>\n",
       "      <td>entropy</td>\n",
       "      <td>5000</td>\n",
       "      <td>550</td>\n",
       "    </tr>\n",
       "    <tr>\n",
       "      <th>5</th>\n",
       "      <td>0.7262</td>\n",
       "      <td>0.7213</td>\n",
       "      <td>0.5104</td>\n",
       "      <td>0.5139</td>\n",
       "      <td>gini</td>\n",
       "      <td>4000</td>\n",
       "      <td>350</td>\n",
       "    </tr>\n",
       "    <tr>\n",
       "      <th>5</th>\n",
       "      <td>0.7262</td>\n",
       "      <td>0.7213</td>\n",
       "      <td>0.5104</td>\n",
       "      <td>0.5139</td>\n",
       "      <td>gini</td>\n",
       "      <td>5000</td>\n",
       "      <td>350</td>\n",
       "    </tr>\n",
       "    <tr>\n",
       "      <th>5</th>\n",
       "      <td>0.7262</td>\n",
       "      <td>0.7213</td>\n",
       "      <td>0.5104</td>\n",
       "      <td>0.5139</td>\n",
       "      <td>entropy</td>\n",
       "      <td>4000</td>\n",
       "      <td>350</td>\n",
       "    </tr>\n",
       "    <tr>\n",
       "      <th>5</th>\n",
       "      <td>0.7262</td>\n",
       "      <td>0.7213</td>\n",
       "      <td>0.5104</td>\n",
       "      <td>0.5139</td>\n",
       "      <td>entropy</td>\n",
       "      <td>5000</td>\n",
       "      <td>350</td>\n",
       "    </tr>\n",
       "  </tbody>\n",
       "</table>\n",
       "</div>"
      ],
      "text/plain": [
       "                   Mean Test Accuracy Mean Test Precision (macro)  \\\n",
       "Rank (By Accuracy)                                                  \n",
       "1                              0.7264                      0.7245   \n",
       "1                              0.7264                      0.7245   \n",
       "1                              0.7264                      0.7245   \n",
       "1                              0.7264                      0.7245   \n",
       "5                              0.7262                      0.7213   \n",
       "5                              0.7262                      0.7213   \n",
       "5                              0.7262                      0.7213   \n",
       "5                              0.7262                      0.7213   \n",
       "\n",
       "                   Mean Test Recall (macro) Mean Test F1-Score (macro)  \\\n",
       "Rank (By Accuracy)                                                       \n",
       "1                                    0.5104                     0.5138   \n",
       "1                                    0.5104                     0.5138   \n",
       "1                                    0.5104                     0.5138   \n",
       "1                                    0.5104                     0.5138   \n",
       "5                                    0.5104                     0.5139   \n",
       "5                                    0.5104                     0.5139   \n",
       "5                                    0.5104                     0.5139   \n",
       "5                                    0.5104                     0.5139   \n",
       "\n",
       "                   param_xg__criterion param_xg__max_leaf_nodes  \\\n",
       "Rank (By Accuracy)                                                \n",
       "1                                 gini                     4000   \n",
       "1                                 gini                     5000   \n",
       "1                              entropy                     4000   \n",
       "1                              entropy                     5000   \n",
       "5                                 gini                     4000   \n",
       "5                                 gini                     5000   \n",
       "5                              entropy                     4000   \n",
       "5                              entropy                     5000   \n",
       "\n",
       "                   param_xg__n_estimators  \n",
       "Rank (By Accuracy)                         \n",
       "1                                     550  \n",
       "1                                     550  \n",
       "1                                     550  \n",
       "1                                     550  \n",
       "5                                     350  \n",
       "5                                     350  \n",
       "5                                     350  \n",
       "5                                     350  "
      ]
     },
     "execution_count": 25,
     "metadata": {},
     "output_type": "execute_result"
    }
   ],
   "source": [
    "prettyPrintGridCVResults(xgbrf_gs1)"
   ]
  },
  {
   "cell_type": "markdown",
   "id": "9b4dd304",
   "metadata": {},
   "source": [
    "Per the output criterion, max_leaf_nodes might not be used. Dropping these or specifying just one value from here on out."
   ]
  },
  {
   "cell_type": "markdown",
   "id": "67441e20",
   "metadata": {},
   "source": [
    "#### Round 2"
   ]
  },
  {
   "cell_type": "code",
   "execution_count": 36,
   "id": "64f1f4fb",
   "metadata": {
    "ExecuteTime": {
     "end_time": "2022-04-21T07:01:14.317026Z",
     "start_time": "2022-04-21T06:56:26.956008Z"
    }
   },
   "outputs": [
    {
     "name": "stdout",
     "output_type": "stream",
     "text": [
      "Fitting 5 folds for each of 4 candidates, totalling 20 fits\n"
     ]
    }
   ],
   "source": [
    "params = {}\n",
    "params['xg__learning_rate'] = [1,10]\n",
    "# params['xg__reg_lambda'] = [1e-06,1e-05,1e-04]\n",
    "# params['xg__criterion'] = ['gini','entropy']\n",
    "# params['xg__n_estimators'] = [350]\n",
    "params['xg__max_depth'] = [25,30]\n",
    "# params['xg__max_leaf_nodes']=[4000,5000]\n",
    "\n",
    "\n",
    "xgbrf_gs2 = GridSearchCV(estimator=XGBRF_model_pipe,\n",
    "                           param_grid=params,\n",
    "                           cv=5,\n",
    "                           n_jobs=Notebook_n_jobs,\n",
    "                           scoring=[ 'accuracy','precision_macro','recall_macro','f1_macro'],\n",
    "                           refit='accuracy',\n",
    "                           return_train_score=True,\n",
    "                        verbose=2)\n",
    "\n",
    "xgbrf_gs2.fit(X_train,y_train)\n",
    "\n",
    "filePath = f'models/{xgbrf_gs2=}'.split('=')[0] + '.sav'\n",
    "pickle.dump(xgbrf_gs2, open(filePath, 'wb'))"
   ]
  },
  {
   "cell_type": "code",
   "execution_count": 37,
   "id": "a7752349",
   "metadata": {
    "ExecuteTime": {
     "end_time": "2022-04-21T07:01:28.250500Z",
     "start_time": "2022-04-21T07:01:28.231496Z"
    },
    "scrolled": true
   },
   "outputs": [
    {
     "data": {
      "text/html": [
       "<div>\n",
       "<style scoped>\n",
       "    .dataframe tbody tr th:only-of-type {\n",
       "        vertical-align: middle;\n",
       "    }\n",
       "\n",
       "    .dataframe tbody tr th {\n",
       "        vertical-align: top;\n",
       "    }\n",
       "\n",
       "    .dataframe thead th {\n",
       "        text-align: right;\n",
       "    }\n",
       "</style>\n",
       "<table border=\"1\" class=\"dataframe\">\n",
       "  <thead>\n",
       "    <tr style=\"text-align: right;\">\n",
       "      <th></th>\n",
       "      <th>Mean Test Accuracy</th>\n",
       "      <th>Mean Test Precision (macro)</th>\n",
       "      <th>Mean Test Recall (macro)</th>\n",
       "      <th>Mean Test F1-Score (macro)</th>\n",
       "      <th>param_xg__learning_rate</th>\n",
       "      <th>param_xg__max_depth</th>\n",
       "    </tr>\n",
       "    <tr>\n",
       "      <th>Rank (By Accuracy)</th>\n",
       "      <th></th>\n",
       "      <th></th>\n",
       "      <th></th>\n",
       "      <th></th>\n",
       "      <th></th>\n",
       "      <th></th>\n",
       "    </tr>\n",
       "  </thead>\n",
       "  <tbody>\n",
       "    <tr>\n",
       "      <th>1</th>\n",
       "      <td>0.7978</td>\n",
       "      <td>0.7149</td>\n",
       "      <td>0.6520</td>\n",
       "      <td>0.6729</td>\n",
       "      <td>1</td>\n",
       "      <td>25</td>\n",
       "    </tr>\n",
       "    <tr>\n",
       "      <th>1</th>\n",
       "      <td>0.7978</td>\n",
       "      <td>0.7149</td>\n",
       "      <td>0.6520</td>\n",
       "      <td>0.6729</td>\n",
       "      <td>10</td>\n",
       "      <td>25</td>\n",
       "    </tr>\n",
       "    <tr>\n",
       "      <th>3</th>\n",
       "      <td>0.7972</td>\n",
       "      <td>0.7136</td>\n",
       "      <td>0.6533</td>\n",
       "      <td>0.6736</td>\n",
       "      <td>1</td>\n",
       "      <td>30</td>\n",
       "    </tr>\n",
       "    <tr>\n",
       "      <th>3</th>\n",
       "      <td>0.7972</td>\n",
       "      <td>0.7136</td>\n",
       "      <td>0.6533</td>\n",
       "      <td>0.6736</td>\n",
       "      <td>10</td>\n",
       "      <td>30</td>\n",
       "    </tr>\n",
       "  </tbody>\n",
       "</table>\n",
       "</div>"
      ],
      "text/plain": [
       "                   Mean Test Accuracy Mean Test Precision (macro)  \\\n",
       "Rank (By Accuracy)                                                  \n",
       "1                              0.7978                      0.7149   \n",
       "1                              0.7978                      0.7149   \n",
       "3                              0.7972                      0.7136   \n",
       "3                              0.7972                      0.7136   \n",
       "\n",
       "                   Mean Test Recall (macro) Mean Test F1-Score (macro)  \\\n",
       "Rank (By Accuracy)                                                       \n",
       "1                                    0.6520                     0.6729   \n",
       "1                                    0.6520                     0.6729   \n",
       "3                                    0.6533                     0.6736   \n",
       "3                                    0.6533                     0.6736   \n",
       "\n",
       "                   param_xg__learning_rate param_xg__max_depth  \n",
       "Rank (By Accuracy)                                              \n",
       "1                                        1                  25  \n",
       "1                                       10                  25  \n",
       "3                                        1                  30  \n",
       "3                                       10                  30  "
      ]
     },
     "execution_count": 37,
     "metadata": {},
     "output_type": "execute_result"
    }
   ],
   "source": [
    "prettyPrintGridCVResults(xgbrf_gs2)"
   ]
  },
  {
   "cell_type": "markdown",
   "id": "e09dae1b",
   "metadata": {},
   "source": [
    "As expected, by increasing the max depth we were able to drastically improve the performance of our XGBoost model. Note, that in both cases, the model with the learning rate of 1 came out on top.\n",
    "\n",
    "So far, this is our best model with a overall accuracy of 79.78% and an F1-score of 65.2%"
   ]
  },
  {
   "cell_type": "markdown",
   "id": "d88a2db8",
   "metadata": {},
   "source": [
    "#### Round 3"
   ]
  },
  {
   "cell_type": "code",
   "execution_count": 38,
   "id": "65d46132",
   "metadata": {
    "ExecuteTime": {
     "end_time": "2022-04-21T07:17:57.769927Z",
     "start_time": "2022-04-21T07:03:34.443695Z"
    }
   },
   "outputs": [
    {
     "name": "stdout",
     "output_type": "stream",
     "text": [
      "Fitting 5 folds for each of 3 candidates, totalling 15 fits\n",
      "[02:16:43] WARNING: C:\\Users\\Administrator\\workspace\\xgboost-win64_release_1.2.0\\src\\learner.cc:516: \n",
      "Parameters: { criterion, max_leaf_nodes } might not be used.\n",
      "\n",
      "  This may not be accurate due to some parameters are only used in language bindings but\n",
      "  passed down to XGBoost core.  Or some parameters are not used but slip through this\n",
      "  verification. Please open an issue if you find above cases.\n",
      "\n",
      "\n"
     ]
    }
   ],
   "source": [
    "params = {}\n",
    "params['xg__learning_rate'] = [0.1,1,10]\n",
    "# params['xg__reg_lambda'] = [1e-06,1e-05,1e-04]\n",
    "params['xg__criterion'] = ['entropy']\n",
    "params['xg__n_estimators'] = [450]\n",
    "params['xg__max_depth'] = [27]\n",
    "params['xg__max_leaf_nodes']=[4500]\n",
    "\n",
    "\n",
    "xgbrf_gs3 = GridSearchCV(estimator=XGBRF_model_pipe,\n",
    "                           param_grid=params,\n",
    "                           cv=5,\n",
    "                           n_jobs=Notebook_n_jobs,\n",
    "                           scoring=[ 'accuracy','precision_macro','recall_macro','f1_macro'],\n",
    "                           refit='accuracy',\n",
    "                           return_train_score=True,\n",
    "                        verbose=2)\n",
    "\n",
    "xgbrf_gs3.fit(X_train,y_train)\n",
    "\n",
    "filePath = f'models/{xgbrf_gs3=}'.split('=')[0] + '.sav'\n",
    "pickle.dump(xgbrf_gs3, open(filePath, 'wb'))"
   ]
  },
  {
   "cell_type": "code",
   "execution_count": 39,
   "id": "606a2d6e",
   "metadata": {
    "ExecuteTime": {
     "end_time": "2022-04-21T07:18:04.034066Z",
     "start_time": "2022-04-21T07:18:04.002348Z"
    },
    "scrolled": true
   },
   "outputs": [
    {
     "data": {
      "text/html": [
       "<div>\n",
       "<style scoped>\n",
       "    .dataframe tbody tr th:only-of-type {\n",
       "        vertical-align: middle;\n",
       "    }\n",
       "\n",
       "    .dataframe tbody tr th {\n",
       "        vertical-align: top;\n",
       "    }\n",
       "\n",
       "    .dataframe thead th {\n",
       "        text-align: right;\n",
       "    }\n",
       "</style>\n",
       "<table border=\"1\" class=\"dataframe\">\n",
       "  <thead>\n",
       "    <tr style=\"text-align: right;\">\n",
       "      <th></th>\n",
       "      <th>Mean Test Accuracy</th>\n",
       "      <th>Mean Test Precision (macro)</th>\n",
       "      <th>Mean Test Recall (macro)</th>\n",
       "      <th>Mean Test F1-Score (macro)</th>\n",
       "      <th>param_xg__criterion</th>\n",
       "      <th>param_xg__learning_rate</th>\n",
       "      <th>param_xg__max_depth</th>\n",
       "      <th>param_xg__max_leaf_nodes</th>\n",
       "      <th>param_xg__n_estimators</th>\n",
       "    </tr>\n",
       "    <tr>\n",
       "      <th>Rank (By Accuracy)</th>\n",
       "      <th></th>\n",
       "      <th></th>\n",
       "      <th></th>\n",
       "      <th></th>\n",
       "      <th></th>\n",
       "      <th></th>\n",
       "      <th></th>\n",
       "      <th></th>\n",
       "      <th></th>\n",
       "    </tr>\n",
       "  </thead>\n",
       "  <tbody>\n",
       "    <tr>\n",
       "      <th>1</th>\n",
       "      <td>0.7971</td>\n",
       "      <td>0.7133</td>\n",
       "      <td>0.6516</td>\n",
       "      <td>0.6721</td>\n",
       "      <td>entropy</td>\n",
       "      <td>0.1</td>\n",
       "      <td>27</td>\n",
       "      <td>4500</td>\n",
       "      <td>450</td>\n",
       "    </tr>\n",
       "    <tr>\n",
       "      <th>1</th>\n",
       "      <td>0.7971</td>\n",
       "      <td>0.7133</td>\n",
       "      <td>0.6516</td>\n",
       "      <td>0.6721</td>\n",
       "      <td>entropy</td>\n",
       "      <td>1</td>\n",
       "      <td>27</td>\n",
       "      <td>4500</td>\n",
       "      <td>450</td>\n",
       "    </tr>\n",
       "    <tr>\n",
       "      <th>1</th>\n",
       "      <td>0.7971</td>\n",
       "      <td>0.7133</td>\n",
       "      <td>0.6516</td>\n",
       "      <td>0.6721</td>\n",
       "      <td>entropy</td>\n",
       "      <td>10</td>\n",
       "      <td>27</td>\n",
       "      <td>4500</td>\n",
       "      <td>450</td>\n",
       "    </tr>\n",
       "  </tbody>\n",
       "</table>\n",
       "</div>"
      ],
      "text/plain": [
       "                   Mean Test Accuracy Mean Test Precision (macro)  \\\n",
       "Rank (By Accuracy)                                                  \n",
       "1                              0.7971                      0.7133   \n",
       "1                              0.7971                      0.7133   \n",
       "1                              0.7971                      0.7133   \n",
       "\n",
       "                   Mean Test Recall (macro) Mean Test F1-Score (macro)  \\\n",
       "Rank (By Accuracy)                                                       \n",
       "1                                    0.6516                     0.6721   \n",
       "1                                    0.6516                     0.6721   \n",
       "1                                    0.6516                     0.6721   \n",
       "\n",
       "                   param_xg__criterion param_xg__learning_rate  \\\n",
       "Rank (By Accuracy)                                               \n",
       "1                              entropy                     0.1   \n",
       "1                              entropy                       1   \n",
       "1                              entropy                      10   \n",
       "\n",
       "                   param_xg__max_depth param_xg__max_leaf_nodes  \\\n",
       "Rank (By Accuracy)                                                \n",
       "1                                   27                     4500   \n",
       "1                                   27                     4500   \n",
       "1                                   27                     4500   \n",
       "\n",
       "                   param_xg__n_estimators  \n",
       "Rank (By Accuracy)                         \n",
       "1                                     450  \n",
       "1                                     450  \n",
       "1                                     450  "
      ]
     },
     "execution_count": 39,
     "metadata": {},
     "output_type": "execute_result"
    }
   ],
   "source": [
    "prettyPrintGridCVResults(xgbrf_gs3)"
   ]
  },
  {
   "cell_type": "markdown",
   "id": "ba81096f",
   "metadata": {},
   "source": [
    "A smaller learning rate helped improve our F1-score to 67.2% with our no major loss to our accuracy at 79.71%"
   ]
  },
  {
   "cell_type": "markdown",
   "id": "38135c13",
   "metadata": {},
   "source": [
    "#### Round 4"
   ]
  },
  {
   "cell_type": "code",
   "execution_count": 48,
   "id": "16f0cdd8",
   "metadata": {
    "ExecuteTime": {
     "end_time": "2022-04-21T21:16:51.070148Z",
     "start_time": "2022-04-21T20:42:01.653663Z"
    }
   },
   "outputs": [
    {
     "name": "stdout",
     "output_type": "stream",
     "text": [
      "Fitting 5 folds for each of 6 candidates, totalling 30 fits\n",
      "[16:14:52] WARNING: C:\\Users\\Administrator\\workspace\\xgboost-win64_release_1.2.0\\src\\learner.cc:516: \n",
      "Parameters: { criterion } might not be used.\n",
      "\n",
      "  This may not be accurate due to some parameters are only used in language bindings but\n",
      "  passed down to XGBoost core.  Or some parameters are not used but slip through this\n",
      "  verification. Please open an issue if you find above cases.\n",
      "\n",
      "\n"
     ]
    }
   ],
   "source": [
    "params = {}\n",
    "params['xg__learning_rate'] = [0.1]\n",
    "# params['xg__reg_lambda'] = [1e-06,1e-05,1e-04]\n",
    "params['xg__criterion'] = ['entropy']\n",
    "params['xg__n_estimators'] = [550,650]\n",
    "params['xg__max_depth'] = [18,20,25]\n",
    "# params['xg__max_leaf_nodes']=[4500]\n",
    "\n",
    "\n",
    "xgbrf_gs4 = GridSearchCV(estimator=XGBRF_model_pipe,\n",
    "                           param_grid=params,\n",
    "                           cv=5,\n",
    "                           n_jobs=Notebook_n_jobs,\n",
    "                           scoring=[ 'accuracy','precision_macro','recall_macro','f1_macro'],\n",
    "                           refit='accuracy',\n",
    "                           return_train_score=True,\n",
    "                        verbose=3)\n",
    "\n",
    "xgbrf_gs4.fit(X_train,y_train)\n",
    "\n",
    "filePath = f'models/{xgbrf_gs4=}'.split('=')[0] + '.sav'\n",
    "pickle.dump(xgbrf_gs4, open(filePath, 'wb'))"
   ]
  },
  {
   "cell_type": "code",
   "execution_count": 49,
   "id": "a1c3e410",
   "metadata": {
    "ExecuteTime": {
     "end_time": "2022-04-21T21:16:52.017377Z",
     "start_time": "2022-04-21T21:16:52.002384Z"
    },
    "scrolled": true
   },
   "outputs": [
    {
     "data": {
      "text/html": [
       "<div>\n",
       "<style scoped>\n",
       "    .dataframe tbody tr th:only-of-type {\n",
       "        vertical-align: middle;\n",
       "    }\n",
       "\n",
       "    .dataframe tbody tr th {\n",
       "        vertical-align: top;\n",
       "    }\n",
       "\n",
       "    .dataframe thead th {\n",
       "        text-align: right;\n",
       "    }\n",
       "</style>\n",
       "<table border=\"1\" class=\"dataframe\">\n",
       "  <thead>\n",
       "    <tr style=\"text-align: right;\">\n",
       "      <th></th>\n",
       "      <th>Mean Test Accuracy</th>\n",
       "      <th>Mean Test Precision (macro)</th>\n",
       "      <th>Mean Test Recall (macro)</th>\n",
       "      <th>Mean Test F1-Score (macro)</th>\n",
       "      <th>param_xg__criterion</th>\n",
       "      <th>param_xg__learning_rate</th>\n",
       "      <th>param_xg__max_depth</th>\n",
       "      <th>param_xg__n_estimators</th>\n",
       "    </tr>\n",
       "    <tr>\n",
       "      <th>Rank (By Accuracy)</th>\n",
       "      <th></th>\n",
       "      <th></th>\n",
       "      <th></th>\n",
       "      <th></th>\n",
       "      <th></th>\n",
       "      <th></th>\n",
       "      <th></th>\n",
       "      <th></th>\n",
       "    </tr>\n",
       "  </thead>\n",
       "  <tbody>\n",
       "    <tr>\n",
       "      <th>1</th>\n",
       "      <td>0.7992</td>\n",
       "      <td>0.7243</td>\n",
       "      <td>0.6474</td>\n",
       "      <td>0.6711</td>\n",
       "      <td>entropy</td>\n",
       "      <td>0.1</td>\n",
       "      <td>20</td>\n",
       "      <td>550</td>\n",
       "    </tr>\n",
       "    <tr>\n",
       "      <th>2</th>\n",
       "      <td>0.7991</td>\n",
       "      <td>0.7243</td>\n",
       "      <td>0.6475</td>\n",
       "      <td>0.6712</td>\n",
       "      <td>entropy</td>\n",
       "      <td>0.1</td>\n",
       "      <td>20</td>\n",
       "      <td>650</td>\n",
       "    </tr>\n",
       "    <tr>\n",
       "      <th>3</th>\n",
       "      <td>0.7986</td>\n",
       "      <td>0.7295</td>\n",
       "      <td>0.6425</td>\n",
       "      <td>0.6679</td>\n",
       "      <td>entropy</td>\n",
       "      <td>0.1</td>\n",
       "      <td>18</td>\n",
       "      <td>650</td>\n",
       "    </tr>\n",
       "    <tr>\n",
       "      <th>4</th>\n",
       "      <td>0.7985</td>\n",
       "      <td>0.7292</td>\n",
       "      <td>0.6426</td>\n",
       "      <td>0.6679</td>\n",
       "      <td>entropy</td>\n",
       "      <td>0.1</td>\n",
       "      <td>18</td>\n",
       "      <td>550</td>\n",
       "    </tr>\n",
       "    <tr>\n",
       "      <th>5</th>\n",
       "      <td>0.7979</td>\n",
       "      <td>0.7161</td>\n",
       "      <td>0.6516</td>\n",
       "      <td>0.6729</td>\n",
       "      <td>entropy</td>\n",
       "      <td>0.1</td>\n",
       "      <td>25</td>\n",
       "      <td>650</td>\n",
       "    </tr>\n",
       "    <tr>\n",
       "      <th>6</th>\n",
       "      <td>0.7978</td>\n",
       "      <td>0.7158</td>\n",
       "      <td>0.6517</td>\n",
       "      <td>0.6729</td>\n",
       "      <td>entropy</td>\n",
       "      <td>0.1</td>\n",
       "      <td>25</td>\n",
       "      <td>550</td>\n",
       "    </tr>\n",
       "  </tbody>\n",
       "</table>\n",
       "</div>"
      ],
      "text/plain": [
       "                   Mean Test Accuracy Mean Test Precision (macro)  \\\n",
       "Rank (By Accuracy)                                                  \n",
       "1                              0.7992                      0.7243   \n",
       "2                              0.7991                      0.7243   \n",
       "3                              0.7986                      0.7295   \n",
       "4                              0.7985                      0.7292   \n",
       "5                              0.7979                      0.7161   \n",
       "6                              0.7978                      0.7158   \n",
       "\n",
       "                   Mean Test Recall (macro) Mean Test F1-Score (macro)  \\\n",
       "Rank (By Accuracy)                                                       \n",
       "1                                    0.6474                     0.6711   \n",
       "2                                    0.6475                     0.6712   \n",
       "3                                    0.6425                     0.6679   \n",
       "4                                    0.6426                     0.6679   \n",
       "5                                    0.6516                     0.6729   \n",
       "6                                    0.6517                     0.6729   \n",
       "\n",
       "                   param_xg__criterion param_xg__learning_rate  \\\n",
       "Rank (By Accuracy)                                               \n",
       "1                              entropy                     0.1   \n",
       "2                              entropy                     0.1   \n",
       "3                              entropy                     0.1   \n",
       "4                              entropy                     0.1   \n",
       "5                              entropy                     0.1   \n",
       "6                              entropy                     0.1   \n",
       "\n",
       "                   param_xg__max_depth param_xg__n_estimators  \n",
       "Rank (By Accuracy)                                             \n",
       "1                                   20                    550  \n",
       "2                                   20                    650  \n",
       "3                                   18                    650  \n",
       "4                                   18                    550  \n",
       "5                                   25                    650  \n",
       "6                                   25                    550  "
      ]
     },
     "execution_count": 49,
     "metadata": {},
     "output_type": "execute_result"
    }
   ],
   "source": [
    "prettyPrintGridCVResults(xgbrf_gs4)"
   ]
  },
  {
   "cell_type": "markdown",
   "id": "0e9ba548",
   "metadata": {},
   "source": [
    "I decided to hold the learning rate static at the previously tested 0.1 and give the grid search a little more flexibility to choose its max depth.\n",
    "\n",
    "This is so far our best model with an overall accuracy of 79.92 % and an F1-score of 67.11%"
   ]
  },
  {
   "cell_type": "markdown",
   "id": "c16f4c9b",
   "metadata": {},
   "source": [
    "### Hypertuned and SMOTE model"
   ]
  },
  {
   "cell_type": "markdown",
   "id": "e09c3b8c",
   "metadata": {
    "ExecuteTime": {
     "end_time": "2022-04-21T13:57:47.117594Z",
     "start_time": "2022-04-21T13:57:47.114592Z"
    }
   },
   "source": [
    "#### Round 1"
   ]
  },
  {
   "cell_type": "markdown",
   "id": "69da101d",
   "metadata": {},
   "source": [
    "We will use the params  from our best estimator to see whether SMOTEing the data will improve the outcome"
   ]
  },
  {
   "cell_type": "code",
   "execution_count": 121,
   "id": "54323c53",
   "metadata": {
    "ExecuteTime": {
     "end_time": "2022-04-22T05:22:33.844202Z",
     "start_time": "2022-04-22T05:22:33.839202Z"
    }
   },
   "outputs": [],
   "source": [
    "XGBRF_sm_model_pipe = ImPipeline([\n",
    "    ('ct',ct),\n",
    "    ('sm',SMOTE(random_state=42)),\n",
    "   ('xg',xgboost.XGBRFClassifier(random_state=42))\n",
    "])"
   ]
  },
  {
   "cell_type": "code",
   "execution_count": 122,
   "id": "f21ad305",
   "metadata": {
    "ExecuteTime": {
     "end_time": "2022-04-22T05:43:38.528215Z",
     "start_time": "2022-04-22T05:22:57.192315Z"
    },
    "scrolled": false
   },
   "outputs": [
    {
     "name": "stdout",
     "output_type": "stream",
     "text": [
      "[00:39:43] WARNING: C:\\Users\\Administrator\\workspace\\xgboost-win64_release_1.2.0\\src\\learner.cc:516: \n",
      "Parameters: { criterion } might not be used.\n",
      "\n",
      "  This may not be accurate due to some parameters are only used in language bindings but\n",
      "  passed down to XGBoost core.  Or some parameters are not used but slip through this\n",
      "  verification. Please open an issue if you find above cases.\n",
      "\n",
      "\n"
     ]
    },
    {
     "data": {
      "text/plain": [
       "GridSearchCV(cv=5,\n",
       "             estimator=Pipeline(steps=[('ct',\n",
       "                                        ColumnTransformer(transformers=[('ct_cyr',\n",
       "                                                                         Pipeline(steps=[('num_imp',\n",
       "                                                                                          SimpleImputer(strategy='median')),\n",
       "                                                                                         ('num_sc',\n",
       "                                                                                          MinMaxScaler())]),\n",
       "                                                                         ['construction_year']),\n",
       "                                                                        ('ct_coord',\n",
       "                                                                         Pipeline(steps=[('coord_imp',\n",
       "                                                                                          CoordinatesImputer()),\n",
       "                                                                                         ('coord_sc',\n",
       "                                                                                          MinMaxScaler())]),\n",
       "                                                                         ['latitude',\n",
       "                                                                          'longitude',\n",
       "                                                                          'region']),\n",
       "                                                                        ('ct_cat1',\n",
       "                                                                         Pipelin...\n",
       "                                                        objective='binary:logistic',\n",
       "                                                        random_state=42,\n",
       "                                                        reg_alpha=None,\n",
       "                                                        scale_pos_weight=None,\n",
       "                                                        tree_method=None,\n",
       "                                                        validate_parameters=None,\n",
       "                                                        verbosity=None))]),\n",
       "             n_jobs=4,\n",
       "             param_grid={'xg__criterion': ['entropy'],\n",
       "                         'xg__learning_rate': [0.1], 'xg__max_depth': [18, 22],\n",
       "                         'xg__n_estimators': [550]},\n",
       "             refit='accuracy', return_train_score=True,\n",
       "             scoring=['accuracy', 'precision_macro', 'recall_macro',\n",
       "                      'f1_macro'])"
      ]
     },
     "execution_count": 122,
     "metadata": {},
     "output_type": "execute_result"
    }
   ],
   "source": [
    "params = {}\n",
    "params['xg__learning_rate'] = [0.1]\n",
    "# params['xg__reg_lambda'] = [1e-06,1e-05,1e-04]\n",
    "params['xg__criterion'] = ['entropy']\n",
    "params['xg__n_estimators'] = [550]\n",
    "params['xg__max_depth'] = [18,22]\n",
    "# params['xg__max_leaf_nodes']=[4500]\n",
    "\n",
    "\n",
    "xgbrf_imb_gs1 = GridSearchCV(estimator=XGBRF_sm_model_pipe,\n",
    "                           param_grid=params,\n",
    "                           cv=5,\n",
    "                           n_jobs=Notebook_n_jobs,\n",
    "                           scoring=[ 'accuracy','precision_macro','recall_macro','f1_macro'],\n",
    "                           refit='accuracy',\n",
    "                           return_train_score=True,\n",
    "                        )\n",
    "\n",
    "xgbrf_imb_gs1.fit(X_train,y_train)"
   ]
  },
  {
   "cell_type": "code",
   "execution_count": 123,
   "id": "d7fb42df",
   "metadata": {
    "ExecuteTime": {
     "end_time": "2022-04-22T05:43:41.522914Z",
     "start_time": "2022-04-22T05:43:39.970011Z"
    }
   },
   "outputs": [],
   "source": [
    "filePath = f'models/{xgbrf_imb_gs1=}'.split('=')[0] + '.sav'\n",
    "pickle.dump(xgbrf_imb_gs1, open(filePath, 'wb'))"
   ]
  },
  {
   "cell_type": "code",
   "execution_count": 39,
   "id": "62035cd6",
   "metadata": {
    "ExecuteTime": {
     "end_time": "2022-04-21T14:56:45.719453Z",
     "start_time": "2022-04-21T14:56:45.693449Z"
    },
    "scrolled": false
   },
   "outputs": [
    {
     "data": {
      "text/html": [
       "<div>\n",
       "<style scoped>\n",
       "    .dataframe tbody tr th:only-of-type {\n",
       "        vertical-align: middle;\n",
       "    }\n",
       "\n",
       "    .dataframe tbody tr th {\n",
       "        vertical-align: top;\n",
       "    }\n",
       "\n",
       "    .dataframe thead th {\n",
       "        text-align: right;\n",
       "    }\n",
       "</style>\n",
       "<table border=\"1\" class=\"dataframe\">\n",
       "  <thead>\n",
       "    <tr style=\"text-align: right;\">\n",
       "      <th></th>\n",
       "      <th>Mean Test Accuracy</th>\n",
       "      <th>Mean Test Precision (macro)</th>\n",
       "      <th>Mean Test Recall (macro)</th>\n",
       "      <th>Mean Test F1-Score (macro)</th>\n",
       "      <th>param_xg__criterion</th>\n",
       "      <th>param_xg__learning_rate</th>\n",
       "      <th>param_xg__max_depth</th>\n",
       "      <th>param_xg__n_estimators</th>\n",
       "    </tr>\n",
       "    <tr>\n",
       "      <th>Rank (By Accuracy)</th>\n",
       "      <th></th>\n",
       "      <th></th>\n",
       "      <th></th>\n",
       "      <th></th>\n",
       "      <th></th>\n",
       "      <th></th>\n",
       "      <th></th>\n",
       "      <th></th>\n",
       "    </tr>\n",
       "  </thead>\n",
       "  <tbody>\n",
       "    <tr>\n",
       "      <th>1</th>\n",
       "      <td>0.7711</td>\n",
       "      <td>0.6654</td>\n",
       "      <td>0.6987</td>\n",
       "      <td>0.6763</td>\n",
       "      <td>entropy</td>\n",
       "      <td>0.1</td>\n",
       "      <td>22</td>\n",
       "      <td>550</td>\n",
       "    </tr>\n",
       "    <tr>\n",
       "      <th>2</th>\n",
       "      <td>0.7629</td>\n",
       "      <td>0.6596</td>\n",
       "      <td>0.7019</td>\n",
       "      <td>0.6704</td>\n",
       "      <td>entropy</td>\n",
       "      <td>0.1</td>\n",
       "      <td>18</td>\n",
       "      <td>550</td>\n",
       "    </tr>\n",
       "  </tbody>\n",
       "</table>\n",
       "</div>"
      ],
      "text/plain": [
       "                   Mean Test Accuracy Mean Test Precision (macro)  \\\n",
       "Rank (By Accuracy)                                                  \n",
       "1                              0.7711                      0.6654   \n",
       "2                              0.7629                      0.6596   \n",
       "\n",
       "                   Mean Test Recall (macro) Mean Test F1-Score (macro)  \\\n",
       "Rank (By Accuracy)                                                       \n",
       "1                                    0.6987                     0.6763   \n",
       "2                                    0.7019                     0.6704   \n",
       "\n",
       "                   param_xg__criterion param_xg__learning_rate  \\\n",
       "Rank (By Accuracy)                                               \n",
       "1                              entropy                     0.1   \n",
       "2                              entropy                     0.1   \n",
       "\n",
       "                   param_xg__max_depth param_xg__n_estimators  \n",
       "Rank (By Accuracy)                                             \n",
       "1                                   22                    550  \n",
       "2                                   18                    550  "
      ]
     },
     "execution_count": 39,
     "metadata": {},
     "output_type": "execute_result"
    }
   ],
   "source": [
    "prettyPrintGridCVResults(xgbrf_imb_gs1)"
   ]
  },
  {
   "cell_type": "markdown",
   "id": "d7766410",
   "metadata": {},
   "source": [
    "SMOTE seems to have adversely affected our overall accuracy for a minor gain in F1-score. More research is needed. We shall give the grid search a few more parameters to play with."
   ]
  },
  {
   "cell_type": "markdown",
   "id": "a0b2e4d6",
   "metadata": {
    "ExecuteTime": {
     "end_time": "2022-04-21T22:06:07.858074Z",
     "start_time": "2022-04-21T22:06:07.841069Z"
    }
   },
   "source": [
    "#### Round 2"
   ]
  },
  {
   "cell_type": "code",
   "execution_count": 56,
   "id": "d0a3ae2a",
   "metadata": {
    "ExecuteTime": {
     "end_time": "2022-04-22T02:09:17.118073Z",
     "start_time": "2022-04-21T23:38:42.247794Z"
    },
    "collapsed": true
   },
   "outputs": [
    {
     "name": "stdout",
     "output_type": "stream",
     "text": [
      "Fitting 5 folds for each of 9 candidates, totalling 45 fits\n",
      "[21:03:36] WARNING: C:\\Users\\Administrator\\workspace\\xgboost-win64_release_1.2.0\\src\\learner.cc:516: \n",
      "Parameters: { criterion } might not be used.\n",
      "\n",
      "  This may not be accurate due to some parameters are only used in language bindings but\n",
      "  passed down to XGBoost core.  Or some parameters are not used but slip through this\n",
      "  verification. Please open an issue if you find above cases.\n",
      "\n",
      "\n"
     ]
    },
    {
     "data": {
      "text/plain": [
       "GridSearchCV(cv=5,\n",
       "             estimator=Pipeline(steps=[('ct',\n",
       "                                        ColumnTransformer(transformers=[('ct_cyr',\n",
       "                                                                         Pipeline(steps=[('num_imp',\n",
       "                                                                                          SimpleImputer(strategy='median')),\n",
       "                                                                                         ('num_sc',\n",
       "                                                                                          MinMaxScaler())]),\n",
       "                                                                         ['construction_year']),\n",
       "                                                                        ('ct_coord',\n",
       "                                                                         Pipeline(steps=[('coord_imp',\n",
       "                                                                                          CoordinatesImputer()),\n",
       "                                                                                         ('coord_sc',\n",
       "                                                                                          MinMaxScaler())]),\n",
       "                                                                         ['latitude',\n",
       "                                                                          'longitude',\n",
       "                                                                          'region']),\n",
       "                                                                        ('ct_cat1',\n",
       "                                                                         Pipelin...\n",
       "                                                        reg_alpha=None,\n",
       "                                                        scale_pos_weight=None,\n",
       "                                                        tree_method=None,\n",
       "                                                        validate_parameters=None,\n",
       "                                                        verbosity=None))]),\n",
       "             n_jobs=6,\n",
       "             param_grid={'xg__criterion': ['entropy'],\n",
       "                         'xg__learning_rate': [0.1],\n",
       "                         'xg__max_depth': [30, 35, 40],\n",
       "                         'xg__n_estimators': [700, 800, 900]},\n",
       "             refit='accuracy', return_train_score=True,\n",
       "             scoring=['accuracy', 'precision_macro', 'recall_macro',\n",
       "                      'f1_macro'],\n",
       "             verbose=3)"
      ]
     },
     "execution_count": 56,
     "metadata": {},
     "output_type": "execute_result"
    }
   ],
   "source": [
    "params = {}\n",
    "params['xg__learning_rate'] = [0.1]\n",
    "# params['xg__reg_lambda'] = [1e-06,1e-05,1e-04]\n",
    "params['xg__criterion'] = ['entropy']\n",
    "params['xg__n_estimators'] = [700,800,900]\n",
    "params['xg__max_depth'] = [30,35,40]\n",
    "# params['xg__max_leaf_nodes']=[4500]\n",
    "\n",
    "\n",
    "xgbrf_imb_gs2 = GridSearchCV(estimator=XGBRF_sm_model_pipe,\n",
    "                           param_grid=params,\n",
    "                           cv=5,\n",
    "                           n_jobs=Notebook_n_jobs,\n",
    "                           scoring=[ 'accuracy','precision_macro','recall_macro','f1_macro'],\n",
    "                           refit='accuracy',\n",
    "                           return_train_score=True,\n",
    "                        verbose=3)\n",
    "\n",
    "xgbrf_imb_gs2.fit(X_train,y_train)"
   ]
  },
  {
   "cell_type": "code",
   "execution_count": 57,
   "id": "10c055cb",
   "metadata": {
    "ExecuteTime": {
     "end_time": "2022-04-22T02:09:20.724287Z",
     "start_time": "2022-04-22T02:09:18.235638Z"
    }
   },
   "outputs": [],
   "source": [
    "filePath = f'models/{xgbrf_imb_gs2=}'.split('=')[0] + '.sav'\n",
    "pickle.dump(xgbrf_imb_gs2, open(filePath, 'wb'))"
   ]
  },
  {
   "cell_type": "code",
   "execution_count": 58,
   "id": "01d47dc6",
   "metadata": {
    "ExecuteTime": {
     "end_time": "2022-04-22T02:09:21.816387Z",
     "start_time": "2022-04-22T02:09:21.786304Z"
    },
    "scrolled": false
   },
   "outputs": [
    {
     "data": {
      "text/html": [
       "<div>\n",
       "<style scoped>\n",
       "    .dataframe tbody tr th:only-of-type {\n",
       "        vertical-align: middle;\n",
       "    }\n",
       "\n",
       "    .dataframe tbody tr th {\n",
       "        vertical-align: top;\n",
       "    }\n",
       "\n",
       "    .dataframe thead th {\n",
       "        text-align: right;\n",
       "    }\n",
       "</style>\n",
       "<table border=\"1\" class=\"dataframe\">\n",
       "  <thead>\n",
       "    <tr style=\"text-align: right;\">\n",
       "      <th></th>\n",
       "      <th>Mean Test Accuracy</th>\n",
       "      <th>Mean Test Precision (macro)</th>\n",
       "      <th>Mean Test Recall (macro)</th>\n",
       "      <th>Mean Test F1-Score (macro)</th>\n",
       "      <th>param_xg__criterion</th>\n",
       "      <th>param_xg__learning_rate</th>\n",
       "      <th>param_xg__max_depth</th>\n",
       "      <th>param_xg__n_estimators</th>\n",
       "    </tr>\n",
       "    <tr>\n",
       "      <th>Rank (By Accuracy)</th>\n",
       "      <th></th>\n",
       "      <th></th>\n",
       "      <th></th>\n",
       "      <th></th>\n",
       "      <th></th>\n",
       "      <th></th>\n",
       "      <th></th>\n",
       "      <th></th>\n",
       "    </tr>\n",
       "  </thead>\n",
       "  <tbody>\n",
       "    <tr>\n",
       "      <th>1</th>\n",
       "      <td>0.7746</td>\n",
       "      <td>0.6674</td>\n",
       "      <td>0.6927</td>\n",
       "      <td>0.6767</td>\n",
       "      <td>entropy</td>\n",
       "      <td>0.1</td>\n",
       "      <td>30</td>\n",
       "      <td>700</td>\n",
       "    </tr>\n",
       "    <tr>\n",
       "      <th>2</th>\n",
       "      <td>0.7745</td>\n",
       "      <td>0.6669</td>\n",
       "      <td>0.6916</td>\n",
       "      <td>0.6761</td>\n",
       "      <td>entropy</td>\n",
       "      <td>0.1</td>\n",
       "      <td>35</td>\n",
       "      <td>700</td>\n",
       "    </tr>\n",
       "    <tr>\n",
       "      <th>3</th>\n",
       "      <td>0.7745</td>\n",
       "      <td>0.6669</td>\n",
       "      <td>0.6913</td>\n",
       "      <td>0.6759</td>\n",
       "      <td>entropy</td>\n",
       "      <td>0.1</td>\n",
       "      <td>40</td>\n",
       "      <td>700</td>\n",
       "    </tr>\n",
       "    <tr>\n",
       "      <th>4</th>\n",
       "      <td>0.7744</td>\n",
       "      <td>0.6669</td>\n",
       "      <td>0.6913</td>\n",
       "      <td>0.6759</td>\n",
       "      <td>entropy</td>\n",
       "      <td>0.1</td>\n",
       "      <td>35</td>\n",
       "      <td>900</td>\n",
       "    </tr>\n",
       "    <tr>\n",
       "      <th>5</th>\n",
       "      <td>0.7744</td>\n",
       "      <td>0.6669</td>\n",
       "      <td>0.6915</td>\n",
       "      <td>0.6760</td>\n",
       "      <td>entropy</td>\n",
       "      <td>0.1</td>\n",
       "      <td>40</td>\n",
       "      <td>800</td>\n",
       "    </tr>\n",
       "    <tr>\n",
       "      <th>6</th>\n",
       "      <td>0.7744</td>\n",
       "      <td>0.6672</td>\n",
       "      <td>0.6924</td>\n",
       "      <td>0.6764</td>\n",
       "      <td>entropy</td>\n",
       "      <td>0.1</td>\n",
       "      <td>30</td>\n",
       "      <td>900</td>\n",
       "    </tr>\n",
       "    <tr>\n",
       "      <th>7</th>\n",
       "      <td>0.7743</td>\n",
       "      <td>0.6671</td>\n",
       "      <td>0.6925</td>\n",
       "      <td>0.6764</td>\n",
       "      <td>entropy</td>\n",
       "      <td>0.1</td>\n",
       "      <td>30</td>\n",
       "      <td>800</td>\n",
       "    </tr>\n",
       "    <tr>\n",
       "      <th>7</th>\n",
       "      <td>0.7743</td>\n",
       "      <td>0.6669</td>\n",
       "      <td>0.6912</td>\n",
       "      <td>0.6759</td>\n",
       "      <td>entropy</td>\n",
       "      <td>0.1</td>\n",
       "      <td>40</td>\n",
       "      <td>900</td>\n",
       "    </tr>\n",
       "    <tr>\n",
       "      <th>9</th>\n",
       "      <td>0.7743</td>\n",
       "      <td>0.6669</td>\n",
       "      <td>0.6916</td>\n",
       "      <td>0.6760</td>\n",
       "      <td>entropy</td>\n",
       "      <td>0.1</td>\n",
       "      <td>35</td>\n",
       "      <td>800</td>\n",
       "    </tr>\n",
       "  </tbody>\n",
       "</table>\n",
       "</div>"
      ],
      "text/plain": [
       "                   Mean Test Accuracy Mean Test Precision (macro)  \\\n",
       "Rank (By Accuracy)                                                  \n",
       "1                              0.7746                      0.6674   \n",
       "2                              0.7745                      0.6669   \n",
       "3                              0.7745                      0.6669   \n",
       "4                              0.7744                      0.6669   \n",
       "5                              0.7744                      0.6669   \n",
       "6                              0.7744                      0.6672   \n",
       "7                              0.7743                      0.6671   \n",
       "7                              0.7743                      0.6669   \n",
       "9                              0.7743                      0.6669   \n",
       "\n",
       "                   Mean Test Recall (macro) Mean Test F1-Score (macro)  \\\n",
       "Rank (By Accuracy)                                                       \n",
       "1                                    0.6927                     0.6767   \n",
       "2                                    0.6916                     0.6761   \n",
       "3                                    0.6913                     0.6759   \n",
       "4                                    0.6913                     0.6759   \n",
       "5                                    0.6915                     0.6760   \n",
       "6                                    0.6924                     0.6764   \n",
       "7                                    0.6925                     0.6764   \n",
       "7                                    0.6912                     0.6759   \n",
       "9                                    0.6916                     0.6760   \n",
       "\n",
       "                   param_xg__criterion param_xg__learning_rate  \\\n",
       "Rank (By Accuracy)                                               \n",
       "1                              entropy                     0.1   \n",
       "2                              entropy                     0.1   \n",
       "3                              entropy                     0.1   \n",
       "4                              entropy                     0.1   \n",
       "5                              entropy                     0.1   \n",
       "6                              entropy                     0.1   \n",
       "7                              entropy                     0.1   \n",
       "7                              entropy                     0.1   \n",
       "9                              entropy                     0.1   \n",
       "\n",
       "                   param_xg__max_depth param_xg__n_estimators  \n",
       "Rank (By Accuracy)                                             \n",
       "1                                   30                    700  \n",
       "2                                   35                    700  \n",
       "3                                   40                    700  \n",
       "4                                   35                    900  \n",
       "5                                   40                    800  \n",
       "6                                   30                    900  \n",
       "7                                   30                    800  \n",
       "7                                   40                    900  \n",
       "9                                   35                    800  "
      ]
     },
     "execution_count": 58,
     "metadata": {},
     "output_type": "execute_result"
    }
   ],
   "source": [
    "prettyPrintGridCVResults(xgbrf_imb_gs2)"
   ]
  },
  {
   "cell_type": "markdown",
   "id": "7d77fbd8",
   "metadata": {},
   "source": [
    "Our accuracy and F1-scores are still not enough to warrant using this model. Reducing our max depth for one last variation just to sate my curiosity."
   ]
  },
  {
   "cell_type": "markdown",
   "id": "318f72c1",
   "metadata": {},
   "source": [
    "### Final Model"
   ]
  },
  {
   "cell_type": "markdown",
   "id": "c5abd9fb",
   "metadata": {},
   "source": [
    "We shall use the model that we got from our Round 4 of the hypertuning of the XGBoost model. We shall see how it performs against our test/holdout set"
   ]
  },
  {
   "cell_type": "code",
   "execution_count": 98,
   "id": "6897c42d",
   "metadata": {
    "ExecuteTime": {
     "end_time": "2022-04-22T04:57:30.057508Z",
     "start_time": "2022-04-22T04:57:28.809744Z"
    }
   },
   "outputs": [],
   "source": [
    "final_model =  pickle.load(open(f'models/xgbrf_gs4.sav', 'rb')).best_estimator_"
   ]
  },
  {
   "cell_type": "code",
   "execution_count": 110,
   "id": "04ba8982",
   "metadata": {
    "ExecuteTime": {
     "end_time": "2022-04-22T05:02:12.474122Z",
     "start_time": "2022-04-22T05:02:07.993117Z"
    },
    "scrolled": false
   },
   "outputs": [
    {
     "data": {
      "image/png": "[encoded data removed]",
      "text/plain": [
       "<Figure size 576x576 with 2 Axes>"
      ]
     },
     "metadata": {
      "needs_background": "light"
     },
     "output_type": "display_data"
    }
   ],
   "source": [
    "fig, ax = plt.subplots(figsize=(8, 8))\n",
    "\n",
    "disp = ConfusionMatrixDisplay.from_estimator(\n",
    "        final_model,\n",
    "        X_test,\n",
    "        y_test,\n",
    "        display_labels=final_model.classes_,\n",
    "        cmap='OrRd',\n",
    "        normalize='true',\n",
    "        ax=ax\n",
    "    )"
   ]
  },
  {
   "cell_type": "markdown",
   "id": "ad1b0b25",
   "metadata": {},
   "source": [
    "We can tell that overall our model is able to predict a functional and a non functional well site fairly well. It still has difficulties classifying a site that needs repairs"
   ]
  },
  {
   "cell_type": "code",
   "execution_count": 115,
   "id": "a1c14163",
   "metadata": {
    "ExecuteTime": {
     "end_time": "2022-04-22T05:16:54.012618Z",
     "start_time": "2022-04-22T05:16:49.505036Z"
    }
   },
   "outputs": [
    {
     "data": {
      "text/plain": [
       "0.7995286195286195"
      ]
     },
     "execution_count": 115,
     "metadata": {},
     "output_type": "execute_result"
    }
   ],
   "source": [
    "final_model.score(X_test, y_test)"
   ]
  },
  {
   "cell_type": "code",
   "execution_count": 45,
   "id": "04239525",
   "metadata": {
    "ExecuteTime": {
     "end_time": "2022-04-21T16:28:17.157560Z",
     "start_time": "2022-04-21T16:28:16.907354Z"
    },
    "scrolled": true
   },
   "outputs": [
    {
     "name": "stdout",
     "output_type": "stream",
     "text": [
      "                         precision    recall  f1-score   support\n",
      "\n",
      "             functional       0.79      0.90      0.84      8098\n",
      "functional needs repair       0.53      0.31      0.39      1074\n",
      "         non functional       0.84      0.75      0.80      5678\n",
      "\n",
      "               accuracy                           0.80     14850\n",
      "              macro avg       0.72      0.65      0.68     14850\n",
      "           weighted avg       0.79      0.80      0.79     14850\n",
      "\n"
     ]
    }
   ],
   "source": [
    "print(classification_report(y_test,preds))"
   ]
  },
  {
   "cell_type": "markdown",
   "id": "3bb37ae9",
   "metadata": {
    "ExecuteTime": {
     "end_time": "2022-04-22T05:16:32.391901Z",
     "start_time": "2022-04-22T05:16:32.383899Z"
    }
   },
   "source": [
    "In terms of metrics the model has an overall accuracy of 80%.\n",
    "F1 scores for functional sites are 84%\n",
    "F1 scores for non functional sites are 80%\n",
    "F1 scores for functional sites that need repair is 39%"
   ]
  },
  {
   "cell_type": "markdown",
   "id": "8617a00b",
   "metadata": {},
   "source": [
    "We will need to address the class imbalance within the dataset to improve our over all performance. If more data was available for such sites the model performance would improve.\n",
    "We can also try to fine tune our SMOTE models, or employ more elaborate stacking and boosting algorithms."
   ]
  }
 ],
 "metadata": {
  "kernelspec": {
   "display_name": "Python (learn-env)",
   "language": "python",
   "name": "learn-env"
  },
  "language_info": {
   "codemirror_mode": {
    "name": "ipython",
    "version": 3
   },
   "file_extension": ".py",
   "mimetype": "text/x-python",
   "name": "python",
   "nbconvert_exporter": "python",
   "pygments_lexer": "ipython3",
   "version": "3.8.5"
  },
  "notify_time": "10",
  "toc": {
   "base_numbering": 1,
   "nav_menu": {},
   "number_sections": true,
   "sideBar": true,
   "skip_h1_title": false,
   "title_cell": "Table of Contents",
   "title_sidebar": "Contents",
   "toc_cell": false,
   "toc_position": {
    "height": "calc(100% - 180px)",
    "left": "10px",
    "top": "150px",
    "width": "349.062px"
   },
   "toc_section_display": true,
   "toc_window_display": true
  },
  "varInspector": {
   "cols": {
    "lenName": 16,
    "lenType": 16,
    "lenVar": 40
   },
   "kernels_config": {
    "python": {
     "delete_cmd_postfix": "",
     "delete_cmd_prefix": "del ",
     "library": "var_list.py",
     "varRefreshCmd": "print(var_dic_list())"
    },
    "r": {
     "delete_cmd_postfix": ") ",
     "delete_cmd_prefix": "rm(",
     "library": "var_list.r",
     "varRefreshCmd": "cat(var_dic_list()) "
    }
   },
   "position": {
    "height": "851.858px",
    "left": "1763.33px",
    "right": "20px",
    "top": "120px",
    "width": "350px"
   },
   "types_to_exclude": [
    "module",
    "function",
    "builtin_function_or_method",
    "instance",
    "_Feature"
   ],
   "window_display": false
  }
 },
 "nbformat": 4,
 "nbformat_minor": 5
}
