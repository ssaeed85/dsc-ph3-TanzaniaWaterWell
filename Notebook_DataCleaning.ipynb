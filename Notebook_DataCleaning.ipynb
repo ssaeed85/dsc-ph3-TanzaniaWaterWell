{
 "cells": [
  {
   "cell_type": "markdown",
   "id": "128ebac9",
   "metadata": {
    "ExecuteTime": {
     "end_time": "2022-04-19T15:03:56.825390Z",
     "start_time": "2022-04-19T15:03:56.823390Z"
    }
   },
   "source": [
    "References:\\\n",
    "    https://machinelearningmastery.com/save-load-machine-learning-models-python-scikit-learn/ (pickle)\\\n",
    "    https://towardsdatascience.com/coding-a-custom-imputer-in-scikit-learn-31bd68e541de(custom Imputer)"
   ]
  },
  {
   "cell_type": "code",
   "execution_count": 128,
   "id": "70f5767c",
   "metadata": {
    "ExecuteTime": {
     "end_time": "2022-04-20T22:20:53.054303Z",
     "start_time": "2022-04-20T22:20:53.049302Z"
    }
   },
   "outputs": [],
   "source": [
    "import pandas as pd\n",
    "pd.set_option('display.max_columns', None)\n",
    "\n",
    "import numpy as np\n",
    "import matplotlib.pyplot as plt\n",
    "import pickle\n",
    "\n",
    "from sklearn.dummy import DummyClassifier\n",
    "from sklearn.neighbors import KNeighborsClassifier\n",
    "from sklearn.model_selection import train_test_split, GridSearchCV, cross_val_score,cross_val_predict, cross_validate\n",
    "from sklearn.pipeline import Pipeline\n",
    "from sklearn.preprocessing import StandardScaler, MinMaxScaler, OneHotEncoder, FunctionTransformer\n",
    "from sklearn.impute import SimpleImputer,KNNImputer\n",
    "from sklearn.compose import ColumnTransformer\n",
    "from sklearn.linear_model import LogisticRegression\n",
    "from sklearn.ensemble import RandomForestClassifier, GradientBoostingClassifier\n",
    "from sklearn.metrics import plot_confusion_matrix, recall_score,\\\n",
    "    accuracy_score, precision_score, f1_score, classification_report, ConfusionMatrixDisplay, confusion_matrix\n",
    "import xgboost\n",
    "\n",
    "import random\n",
    "random.seed(42)\n",
    "\n",
    "from imblearn.over_sampling import SMOTE\n",
    "from imblearn.pipeline import Pipeline as ImPipeline"
   ]
  },
  {
   "cell_type": "code",
   "execution_count": 4,
   "id": "5047ad33",
   "metadata": {
    "ExecuteTime": {
     "end_time": "2022-04-20T20:28:33.830727Z",
     "start_time": "2022-04-20T20:28:33.815724Z"
    }
   },
   "outputs": [],
   "source": [
    "from src.pandas_helper import *"
   ]
  },
  {
   "cell_type": "markdown",
   "id": "078012f0",
   "metadata": {},
   "source": [
    "**Note:** To speed up running of model fit cells, the n_jobs parameter is set to a global variable. This is defaulted to -1 to allow access to the entirety of your machine's CPU resources. This ***will*** make your machine essentially unusable until the operations have finished performing. Set this to None for regular operations"
   ]
  },
  {
   "cell_type": "code",
   "execution_count": 5,
   "id": "e6600b26",
   "metadata": {
    "ExecuteTime": {
     "end_time": "2022-04-20T20:28:39.790137Z",
     "start_time": "2022-04-20T20:28:39.775134Z"
    }
   },
   "outputs": [],
   "source": [
    "Notebook_n_jobs = -2"
   ]
  },
  {
   "cell_type": "markdown",
   "id": "8b800a9f",
   "metadata": {},
   "source": [
    "# Load Data"
   ]
  },
  {
   "cell_type": "code",
   "execution_count": 6,
   "id": "2fee2d33",
   "metadata": {
    "ExecuteTime": {
     "end_time": "2022-04-20T20:28:41.923956Z",
     "start_time": "2022-04-20T20:28:41.694191Z"
    }
   },
   "outputs": [],
   "source": [
    "X = pd.read_csv('data/Training_set.csv')\n",
    "y = pd.read_csv('data/Training_labels.csv').status_group"
   ]
  },
  {
   "cell_type": "code",
   "execution_count": 7,
   "id": "c7acb287",
   "metadata": {
    "ExecuteTime": {
     "end_time": "2022-04-20T20:28:42.701408Z",
     "start_time": "2022-04-20T20:28:42.671402Z"
    },
    "scrolled": true
   },
   "outputs": [
    {
     "data": {
      "text/html": [
       "<div>\n",
       "<style scoped>\n",
       "    .dataframe tbody tr th:only-of-type {\n",
       "        vertical-align: middle;\n",
       "    }\n",
       "\n",
       "    .dataframe tbody tr th {\n",
       "        vertical-align: top;\n",
       "    }\n",
       "\n",
       "    .dataframe thead th {\n",
       "        text-align: right;\n",
       "    }\n",
       "</style>\n",
       "<table border=\"1\" class=\"dataframe\">\n",
       "  <thead>\n",
       "    <tr style=\"text-align: right;\">\n",
       "      <th></th>\n",
       "      <th>id</th>\n",
       "      <th>amount_tsh</th>\n",
       "      <th>date_recorded</th>\n",
       "      <th>funder</th>\n",
       "      <th>gps_height</th>\n",
       "      <th>installer</th>\n",
       "      <th>longitude</th>\n",
       "      <th>latitude</th>\n",
       "      <th>wpt_name</th>\n",
       "      <th>num_private</th>\n",
       "      <th>basin</th>\n",
       "      <th>subvillage</th>\n",
       "      <th>region</th>\n",
       "      <th>region_code</th>\n",
       "      <th>district_code</th>\n",
       "      <th>lga</th>\n",
       "      <th>ward</th>\n",
       "      <th>population</th>\n",
       "      <th>public_meeting</th>\n",
       "      <th>recorded_by</th>\n",
       "      <th>scheme_management</th>\n",
       "      <th>scheme_name</th>\n",
       "      <th>permit</th>\n",
       "      <th>construction_year</th>\n",
       "      <th>extraction_type</th>\n",
       "      <th>extraction_type_group</th>\n",
       "      <th>extraction_type_class</th>\n",
       "      <th>management</th>\n",
       "      <th>management_group</th>\n",
       "      <th>payment</th>\n",
       "      <th>payment_type</th>\n",
       "      <th>water_quality</th>\n",
       "      <th>quality_group</th>\n",
       "      <th>quantity</th>\n",
       "      <th>quantity_group</th>\n",
       "      <th>source</th>\n",
       "      <th>source_type</th>\n",
       "      <th>source_class</th>\n",
       "      <th>waterpoint_type</th>\n",
       "      <th>waterpoint_type_group</th>\n",
       "    </tr>\n",
       "  </thead>\n",
       "  <tbody>\n",
       "    <tr>\n",
       "      <th>0</th>\n",
       "      <td>69572</td>\n",
       "      <td>6000.0</td>\n",
       "      <td>2011-03-14</td>\n",
       "      <td>Roman</td>\n",
       "      <td>1390</td>\n",
       "      <td>Roman</td>\n",
       "      <td>34.938093</td>\n",
       "      <td>-9.856322</td>\n",
       "      <td>none</td>\n",
       "      <td>0</td>\n",
       "      <td>Lake Nyasa</td>\n",
       "      <td>Mnyusi B</td>\n",
       "      <td>Iringa</td>\n",
       "      <td>11</td>\n",
       "      <td>5</td>\n",
       "      <td>Ludewa</td>\n",
       "      <td>Mundindi</td>\n",
       "      <td>109</td>\n",
       "      <td>True</td>\n",
       "      <td>GeoData Consultants Ltd</td>\n",
       "      <td>VWC</td>\n",
       "      <td>Roman</td>\n",
       "      <td>False</td>\n",
       "      <td>1999</td>\n",
       "      <td>gravity</td>\n",
       "      <td>gravity</td>\n",
       "      <td>gravity</td>\n",
       "      <td>vwc</td>\n",
       "      <td>user-group</td>\n",
       "      <td>pay annually</td>\n",
       "      <td>annually</td>\n",
       "      <td>soft</td>\n",
       "      <td>good</td>\n",
       "      <td>enough</td>\n",
       "      <td>enough</td>\n",
       "      <td>spring</td>\n",
       "      <td>spring</td>\n",
       "      <td>groundwater</td>\n",
       "      <td>communal standpipe</td>\n",
       "      <td>communal standpipe</td>\n",
       "    </tr>\n",
       "    <tr>\n",
       "      <th>1</th>\n",
       "      <td>8776</td>\n",
       "      <td>0.0</td>\n",
       "      <td>2013-03-06</td>\n",
       "      <td>Grumeti</td>\n",
       "      <td>1399</td>\n",
       "      <td>GRUMETI</td>\n",
       "      <td>34.698766</td>\n",
       "      <td>-2.147466</td>\n",
       "      <td>Zahanati</td>\n",
       "      <td>0</td>\n",
       "      <td>Lake Victoria</td>\n",
       "      <td>Nyamara</td>\n",
       "      <td>Mara</td>\n",
       "      <td>20</td>\n",
       "      <td>2</td>\n",
       "      <td>Serengeti</td>\n",
       "      <td>Natta</td>\n",
       "      <td>280</td>\n",
       "      <td>NaN</td>\n",
       "      <td>GeoData Consultants Ltd</td>\n",
       "      <td>Other</td>\n",
       "      <td>NaN</td>\n",
       "      <td>True</td>\n",
       "      <td>2010</td>\n",
       "      <td>gravity</td>\n",
       "      <td>gravity</td>\n",
       "      <td>gravity</td>\n",
       "      <td>wug</td>\n",
       "      <td>user-group</td>\n",
       "      <td>never pay</td>\n",
       "      <td>never pay</td>\n",
       "      <td>soft</td>\n",
       "      <td>good</td>\n",
       "      <td>insufficient</td>\n",
       "      <td>insufficient</td>\n",
       "      <td>rainwater harvesting</td>\n",
       "      <td>rainwater harvesting</td>\n",
       "      <td>surface</td>\n",
       "      <td>communal standpipe</td>\n",
       "      <td>communal standpipe</td>\n",
       "    </tr>\n",
       "    <tr>\n",
       "      <th>2</th>\n",
       "      <td>34310</td>\n",
       "      <td>25.0</td>\n",
       "      <td>2013-02-25</td>\n",
       "      <td>Lottery Club</td>\n",
       "      <td>686</td>\n",
       "      <td>World vision</td>\n",
       "      <td>37.460664</td>\n",
       "      <td>-3.821329</td>\n",
       "      <td>Kwa Mahundi</td>\n",
       "      <td>0</td>\n",
       "      <td>Pangani</td>\n",
       "      <td>Majengo</td>\n",
       "      <td>Manyara</td>\n",
       "      <td>21</td>\n",
       "      <td>4</td>\n",
       "      <td>Simanjiro</td>\n",
       "      <td>Ngorika</td>\n",
       "      <td>250</td>\n",
       "      <td>True</td>\n",
       "      <td>GeoData Consultants Ltd</td>\n",
       "      <td>VWC</td>\n",
       "      <td>Nyumba ya mungu pipe scheme</td>\n",
       "      <td>True</td>\n",
       "      <td>2009</td>\n",
       "      <td>gravity</td>\n",
       "      <td>gravity</td>\n",
       "      <td>gravity</td>\n",
       "      <td>vwc</td>\n",
       "      <td>user-group</td>\n",
       "      <td>pay per bucket</td>\n",
       "      <td>per bucket</td>\n",
       "      <td>soft</td>\n",
       "      <td>good</td>\n",
       "      <td>enough</td>\n",
       "      <td>enough</td>\n",
       "      <td>dam</td>\n",
       "      <td>dam</td>\n",
       "      <td>surface</td>\n",
       "      <td>communal standpipe multiple</td>\n",
       "      <td>communal standpipe</td>\n",
       "    </tr>\n",
       "    <tr>\n",
       "      <th>3</th>\n",
       "      <td>67743</td>\n",
       "      <td>0.0</td>\n",
       "      <td>2013-01-28</td>\n",
       "      <td>Unicef</td>\n",
       "      <td>263</td>\n",
       "      <td>UNICEF</td>\n",
       "      <td>38.486161</td>\n",
       "      <td>-11.155298</td>\n",
       "      <td>Zahanati Ya Nanyumbu</td>\n",
       "      <td>0</td>\n",
       "      <td>Ruvuma / Southern Coast</td>\n",
       "      <td>Mahakamani</td>\n",
       "      <td>Mtwara</td>\n",
       "      <td>90</td>\n",
       "      <td>63</td>\n",
       "      <td>Nanyumbu</td>\n",
       "      <td>Nanyumbu</td>\n",
       "      <td>58</td>\n",
       "      <td>True</td>\n",
       "      <td>GeoData Consultants Ltd</td>\n",
       "      <td>VWC</td>\n",
       "      <td>NaN</td>\n",
       "      <td>True</td>\n",
       "      <td>1986</td>\n",
       "      <td>submersible</td>\n",
       "      <td>submersible</td>\n",
       "      <td>submersible</td>\n",
       "      <td>vwc</td>\n",
       "      <td>user-group</td>\n",
       "      <td>never pay</td>\n",
       "      <td>never pay</td>\n",
       "      <td>soft</td>\n",
       "      <td>good</td>\n",
       "      <td>dry</td>\n",
       "      <td>dry</td>\n",
       "      <td>machine dbh</td>\n",
       "      <td>borehole</td>\n",
       "      <td>groundwater</td>\n",
       "      <td>communal standpipe multiple</td>\n",
       "      <td>communal standpipe</td>\n",
       "    </tr>\n",
       "    <tr>\n",
       "      <th>4</th>\n",
       "      <td>19728</td>\n",
       "      <td>0.0</td>\n",
       "      <td>2011-07-13</td>\n",
       "      <td>Action In A</td>\n",
       "      <td>0</td>\n",
       "      <td>Artisan</td>\n",
       "      <td>31.130847</td>\n",
       "      <td>-1.825359</td>\n",
       "      <td>Shuleni</td>\n",
       "      <td>0</td>\n",
       "      <td>Lake Victoria</td>\n",
       "      <td>Kyanyamisa</td>\n",
       "      <td>Kagera</td>\n",
       "      <td>18</td>\n",
       "      <td>1</td>\n",
       "      <td>Karagwe</td>\n",
       "      <td>Nyakasimbi</td>\n",
       "      <td>0</td>\n",
       "      <td>True</td>\n",
       "      <td>GeoData Consultants Ltd</td>\n",
       "      <td>NaN</td>\n",
       "      <td>NaN</td>\n",
       "      <td>True</td>\n",
       "      <td>0</td>\n",
       "      <td>gravity</td>\n",
       "      <td>gravity</td>\n",
       "      <td>gravity</td>\n",
       "      <td>other</td>\n",
       "      <td>other</td>\n",
       "      <td>never pay</td>\n",
       "      <td>never pay</td>\n",
       "      <td>soft</td>\n",
       "      <td>good</td>\n",
       "      <td>seasonal</td>\n",
       "      <td>seasonal</td>\n",
       "      <td>rainwater harvesting</td>\n",
       "      <td>rainwater harvesting</td>\n",
       "      <td>surface</td>\n",
       "      <td>communal standpipe</td>\n",
       "      <td>communal standpipe</td>\n",
       "    </tr>\n",
       "  </tbody>\n",
       "</table>\n",
       "</div>"
      ],
      "text/plain": [
       "      id  amount_tsh date_recorded        funder  gps_height     installer  \\\n",
       "0  69572      6000.0    2011-03-14         Roman        1390         Roman   \n",
       "1   8776         0.0    2013-03-06       Grumeti        1399       GRUMETI   \n",
       "2  34310        25.0    2013-02-25  Lottery Club         686  World vision   \n",
       "3  67743         0.0    2013-01-28        Unicef         263        UNICEF   \n",
       "4  19728         0.0    2011-07-13   Action In A           0       Artisan   \n",
       "\n",
       "   longitude   latitude              wpt_name  num_private  \\\n",
       "0  34.938093  -9.856322                  none            0   \n",
       "1  34.698766  -2.147466              Zahanati            0   \n",
       "2  37.460664  -3.821329           Kwa Mahundi            0   \n",
       "3  38.486161 -11.155298  Zahanati Ya Nanyumbu            0   \n",
       "4  31.130847  -1.825359               Shuleni            0   \n",
       "\n",
       "                     basin  subvillage   region  region_code  district_code  \\\n",
       "0               Lake Nyasa    Mnyusi B   Iringa           11              5   \n",
       "1            Lake Victoria     Nyamara     Mara           20              2   \n",
       "2                  Pangani     Majengo  Manyara           21              4   \n",
       "3  Ruvuma / Southern Coast  Mahakamani   Mtwara           90             63   \n",
       "4            Lake Victoria  Kyanyamisa   Kagera           18              1   \n",
       "\n",
       "         lga        ward  population public_meeting              recorded_by  \\\n",
       "0     Ludewa    Mundindi         109           True  GeoData Consultants Ltd   \n",
       "1  Serengeti       Natta         280            NaN  GeoData Consultants Ltd   \n",
       "2  Simanjiro     Ngorika         250           True  GeoData Consultants Ltd   \n",
       "3   Nanyumbu    Nanyumbu          58           True  GeoData Consultants Ltd   \n",
       "4    Karagwe  Nyakasimbi           0           True  GeoData Consultants Ltd   \n",
       "\n",
       "  scheme_management                  scheme_name permit  construction_year  \\\n",
       "0               VWC                        Roman  False               1999   \n",
       "1             Other                          NaN   True               2010   \n",
       "2               VWC  Nyumba ya mungu pipe scheme   True               2009   \n",
       "3               VWC                          NaN   True               1986   \n",
       "4               NaN                          NaN   True                  0   \n",
       "\n",
       "  extraction_type extraction_type_group extraction_type_class management  \\\n",
       "0         gravity               gravity               gravity        vwc   \n",
       "1         gravity               gravity               gravity        wug   \n",
       "2         gravity               gravity               gravity        vwc   \n",
       "3     submersible           submersible           submersible        vwc   \n",
       "4         gravity               gravity               gravity      other   \n",
       "\n",
       "  management_group         payment payment_type water_quality quality_group  \\\n",
       "0       user-group    pay annually     annually          soft          good   \n",
       "1       user-group       never pay    never pay          soft          good   \n",
       "2       user-group  pay per bucket   per bucket          soft          good   \n",
       "3       user-group       never pay    never pay          soft          good   \n",
       "4            other       never pay    never pay          soft          good   \n",
       "\n",
       "       quantity quantity_group                source           source_type  \\\n",
       "0        enough         enough                spring                spring   \n",
       "1  insufficient   insufficient  rainwater harvesting  rainwater harvesting   \n",
       "2        enough         enough                   dam                   dam   \n",
       "3           dry            dry           machine dbh              borehole   \n",
       "4      seasonal       seasonal  rainwater harvesting  rainwater harvesting   \n",
       "\n",
       "  source_class              waterpoint_type waterpoint_type_group  \n",
       "0  groundwater           communal standpipe    communal standpipe  \n",
       "1      surface           communal standpipe    communal standpipe  \n",
       "2      surface  communal standpipe multiple    communal standpipe  \n",
       "3  groundwater  communal standpipe multiple    communal standpipe  \n",
       "4      surface           communal standpipe    communal standpipe  "
      ]
     },
     "execution_count": 7,
     "metadata": {},
     "output_type": "execute_result"
    }
   ],
   "source": [
    "X.head()"
   ]
  },
  {
   "cell_type": "code",
   "execution_count": 8,
   "id": "08848305",
   "metadata": {
    "ExecuteTime": {
     "end_time": "2022-04-20T20:28:44.963937Z",
     "start_time": "2022-04-20T20:28:44.183187Z"
    },
    "scrolled": false
   },
   "outputs": [
    {
     "data": {
      "text/html": [
       "<style  type=\"text/css\" >\n",
       "</style><table id=\"T_79afee57_c0e8_11ec_a8ec_ec2e98d37a84\" ><caption>Table Info</caption><thead>    <tr>        <th class=\"blank level0\" ></th>        <th class=\"col_heading level0 col0\" >Number</th>        <th class=\"col_heading level0 col1\" >Percentage</th>    </tr>    <tr>        <th class=\"index_name level0\" ></th>        <th class=\"blank\" ></th>        <th class=\"blank\" ></th>    </tr></thead><tbody>\n",
       "                <tr>\n",
       "                        <th id=\"T_79afee57_c0e8_11ec_a8ec_ec2e98d37a84level0_row0\" class=\"row_heading level0 row0\" >Zeroes</th>\n",
       "                        <td id=\"T_79afee57_c0e8_11ec_a8ec_ec2e98d37a84row0_col0\" class=\"data row0 col0\" >0</td>\n",
       "                        <td id=\"T_79afee57_c0e8_11ec_a8ec_ec2e98d37a84row0_col1\" class=\"data row0 col1\" >0.00 %</td>\n",
       "            </tr>\n",
       "            <tr>\n",
       "                        <th id=\"T_79afee57_c0e8_11ec_a8ec_ec2e98d37a84level0_row1\" class=\"row_heading level0 row1\" >Missing</th>\n",
       "                        <td id=\"T_79afee57_c0e8_11ec_a8ec_ec2e98d37a84row1_col0\" class=\"data row1 col0\" >0</td>\n",
       "                        <td id=\"T_79afee57_c0e8_11ec_a8ec_ec2e98d37a84row1_col1\" class=\"data row1 col1\" >0.00 %</td>\n",
       "            </tr>\n",
       "            <tr>\n",
       "                        <th id=\"T_79afee57_c0e8_11ec_a8ec_ec2e98d37a84level0_row2\" class=\"row_heading level0 row2\" >Unknown</th>\n",
       "                        <td id=\"T_79afee57_c0e8_11ec_a8ec_ec2e98d37a84row2_col0\" class=\"data row2 col0\" >0</td>\n",
       "                        <td id=\"T_79afee57_c0e8_11ec_a8ec_ec2e98d37a84row2_col1\" class=\"data row2 col1\" >0.00 %</td>\n",
       "            </tr>\n",
       "            <tr>\n",
       "                        <th id=\"T_79afee57_c0e8_11ec_a8ec_ec2e98d37a84level0_row3\" class=\"row_heading level0 row3\" >Uniques</th>\n",
       "                        <td id=\"T_79afee57_c0e8_11ec_a8ec_ec2e98d37a84row3_col0\" class=\"data row3 col0\" >3</td>\n",
       "                        <td id=\"T_79afee57_c0e8_11ec_a8ec_ec2e98d37a84row3_col1\" class=\"data row3 col1\" >0.01 %</td>\n",
       "            </tr>\n",
       "            <tr>\n",
       "                        <th id=\"T_79afee57_c0e8_11ec_a8ec_ec2e98d37a84level0_row4\" class=\"row_heading level0 row4\" >Mean</th>\n",
       "                        <td id=\"T_79afee57_c0e8_11ec_a8ec_ec2e98d37a84row4_col0\" class=\"data row4 col0\" >0.00</td>\n",
       "                        <td id=\"T_79afee57_c0e8_11ec_a8ec_ec2e98d37a84row4_col1\" class=\"data row4 col1\" >-</td>\n",
       "            </tr>\n",
       "            <tr>\n",
       "                        <th id=\"T_79afee57_c0e8_11ec_a8ec_ec2e98d37a84level0_row5\" class=\"row_heading level0 row5\" >Median</th>\n",
       "                        <td id=\"T_79afee57_c0e8_11ec_a8ec_ec2e98d37a84row5_col0\" class=\"data row5 col0\" >0.00</td>\n",
       "                        <td id=\"T_79afee57_c0e8_11ec_a8ec_ec2e98d37a84row5_col1\" class=\"data row5 col1\" >-</td>\n",
       "            </tr>\n",
       "    </tbody></table>"
      ],
      "text/plain": [
       "<pandas.io.formats.style.Styler at 0x1db7e86bc10>"
      ]
     },
     "metadata": {},
     "output_type": "display_data"
    },
    {
     "data": {
      "text/html": [
       "<style  type=\"text/css\" >\n",
       "</style><table id=\"T_79b01569_c0e8_11ec_8720_ec2e98d37a84\" ><caption>Top 10 Value Count Info</caption><thead>    <tr>        <th class=\"blank level0\" ></th>        <th class=\"col_heading level0 col0\" >Value Count</th>        <th class=\"col_heading level0 col1\" >% Value Count</th>    </tr></thead><tbody>\n",
       "                <tr>\n",
       "                        <th id=\"T_79b01569_c0e8_11ec_8720_ec2e98d37a84level0_row0\" class=\"row_heading level0 row0\" >functional</th>\n",
       "                        <td id=\"T_79b01569_c0e8_11ec_8720_ec2e98d37a84row0_col0\" class=\"data row0 col0\" >32259</td>\n",
       "                        <td id=\"T_79b01569_c0e8_11ec_8720_ec2e98d37a84row0_col1\" class=\"data row0 col1\" >54.308081</td>\n",
       "            </tr>\n",
       "            <tr>\n",
       "                        <th id=\"T_79b01569_c0e8_11ec_8720_ec2e98d37a84level0_row1\" class=\"row_heading level0 row1\" >non functional</th>\n",
       "                        <td id=\"T_79b01569_c0e8_11ec_8720_ec2e98d37a84row1_col0\" class=\"data row1 col0\" >22824</td>\n",
       "                        <td id=\"T_79b01569_c0e8_11ec_8720_ec2e98d37a84row1_col1\" class=\"data row1 col1\" >38.424242</td>\n",
       "            </tr>\n",
       "            <tr>\n",
       "                        <th id=\"T_79b01569_c0e8_11ec_8720_ec2e98d37a84level0_row2\" class=\"row_heading level0 row2\" >functional needs repair</th>\n",
       "                        <td id=\"T_79b01569_c0e8_11ec_8720_ec2e98d37a84row2_col0\" class=\"data row2 col0\" >4317</td>\n",
       "                        <td id=\"T_79b01569_c0e8_11ec_8720_ec2e98d37a84row2_col1\" class=\"data row2 col1\" >7.267677</td>\n",
       "            </tr>\n",
       "    </tbody></table>"
      ],
      "text/plain": [
       "<pandas.io.formats.style.Styler at 0x1db7e8b8940>"
      ]
     },
     "metadata": {},
     "output_type": "display_data"
    },
    {
     "data": {
      "image/png": "[encoded data removed]",
      "text/plain": [
       "<Figure size 1080x576 with 1 Axes>"
      ]
     },
     "metadata": {
      "needs_background": "light"
     },
     "output_type": "display_data"
    }
   ],
   "source": [
    "colInfo(y)"
   ]
  },
  {
   "cell_type": "markdown",
   "id": "4bd0bcc9",
   "metadata": {},
   "source": [
    "# Train Test Split"
   ]
  },
  {
   "cell_type": "code",
   "execution_count": 9,
   "id": "c5eb1d4a",
   "metadata": {
    "ExecuteTime": {
     "end_time": "2022-04-20T20:28:47.275748Z",
     "start_time": "2022-04-20T20:28:47.222734Z"
    }
   },
   "outputs": [],
   "source": [
    "X_train,X_test, y_train, y_test = train_test_split(X,y,random_state=42)"
   ]
  },
  {
   "cell_type": "code",
   "execution_count": 10,
   "id": "0602a0a2",
   "metadata": {
    "ExecuteTime": {
     "end_time": "2022-04-20T20:28:47.962504Z",
     "start_time": "2022-04-20T20:28:47.943500Z"
    }
   },
   "outputs": [
    {
     "data": {
      "text/plain": [
       "functional                 24161\n",
       "non functional             17146\n",
       "functional needs repair     3243\n",
       "Name: status_group, dtype: int64"
      ]
     },
     "execution_count": 10,
     "metadata": {},
     "output_type": "execute_result"
    }
   ],
   "source": [
    "y_train.value_counts()"
   ]
  },
  {
   "cell_type": "code",
   "execution_count": 11,
   "id": "0162cf5a",
   "metadata": {
    "ExecuteTime": {
     "end_time": "2022-04-20T20:28:48.137543Z",
     "start_time": "2022-04-20T20:28:48.126542Z"
    },
    "scrolled": false
   },
   "outputs": [
    {
     "data": {
      "text/plain": [
       "functional                 8098\n",
       "non functional             5678\n",
       "functional needs repair    1074\n",
       "Name: status_group, dtype: int64"
      ]
     },
     "execution_count": 11,
     "metadata": {},
     "output_type": "execute_result"
    }
   ],
   "source": [
    "y_test.value_counts()"
   ]
  },
  {
   "cell_type": "markdown",
   "id": "dc59d838",
   "metadata": {},
   "source": [
    "# Pipelines"
   ]
  },
  {
   "cell_type": "markdown",
   "id": "9f1d9928",
   "metadata": {},
   "source": [
    "### GPS coordinates"
   ]
  },
  {
   "cell_type": "code",
   "execution_count": 12,
   "id": "42c1639d",
   "metadata": {
    "ExecuteTime": {
     "end_time": "2022-04-20T20:28:50.282465Z",
     "start_time": "2022-04-20T20:28:50.254467Z"
    },
    "scrolled": false
   },
   "outputs": [
    {
     "data": {
      "text/plain": [
       "latitude       longitude\n",
       "-2.000000e-08  0.000000     1339\n",
       "-6.980216e+00  39.096499       2\n",
       "-7.056372e+00  37.375717       2\n",
       "dtype: int64"
      ]
     },
     "execution_count": 12,
     "metadata": {},
     "output_type": "execute_result"
    }
   ],
   "source": [
    "X_train[['latitude','longitude']].value_counts()[:3]"
   ]
  },
  {
   "cell_type": "code",
   "execution_count": 13,
   "id": "7273198d",
   "metadata": {
    "ExecuteTime": {
     "end_time": "2022-04-20T20:28:50.566231Z",
     "start_time": "2022-04-20T20:28:50.550227Z"
    },
    "scrolled": true
   },
   "outputs": [
    {
     "data": {
      "text/plain": [
       "latitude       longitude\n",
       "-2.000000e-08  0.000000     473\n",
       "-2.490324e+00  32.987670      2\n",
       "-6.963557e+00  37.543351      2\n",
       "dtype: int64"
      ]
     },
     "execution_count": 13,
     "metadata": {},
     "output_type": "execute_result"
    }
   ],
   "source": [
    "X_test[['latitude','longitude']].value_counts()[:3]"
   ]
  },
  {
   "cell_type": "markdown",
   "id": "d0ac4130",
   "metadata": {
    "ExecuteTime": {
     "end_time": "2022-04-20T13:24:02.402456Z",
     "start_time": "2022-04-20T13:24:02.397455Z"
    }
   },
   "source": [
    "The data set has 1812 (inluding the test set) records where the latitude and longitude were not correctly recorded. They've been recorded as $(-2\\times10^{-8},0)$ or effectively $(0,0)$ which is off the west coast of Africa in the Atlantic Ocean. All of these coordinates belong to 2 regions. We will use a custom imputer to impute these values during our pipeline operations."
   ]
  },
  {
   "cell_type": "code",
   "execution_count": 14,
   "id": "8e3ceea9",
   "metadata": {
    "ExecuteTime": {
     "end_time": "2022-04-20T20:28:53.941446Z",
     "start_time": "2022-04-20T20:28:53.930443Z"
    }
   },
   "outputs": [],
   "source": [
    "from src.sklearn_helper import CoordinatesImputer"
   ]
  },
  {
   "cell_type": "markdown",
   "id": "02526d34",
   "metadata": {},
   "source": [
    "### construction_year"
   ]
  },
  {
   "cell_type": "code",
   "execution_count": 15,
   "id": "c4c1e166",
   "metadata": {
    "ExecuteTime": {
     "end_time": "2022-04-20T20:28:57.158593Z",
     "start_time": "2022-04-20T20:28:56.879531Z"
    },
    "scrolled": false
   },
   "outputs": [
    {
     "data": {
      "text/html": [
       "<style  type=\"text/css\" >\n",
       "</style><table id=\"T_80e1ba36_c0e8_11ec_8199_ec2e98d37a84\" ><caption>Table Info</caption><thead>    <tr>        <th class=\"blank level0\" ></th>        <th class=\"col_heading level0 col0\" >Number</th>        <th class=\"col_heading level0 col1\" >Percentage</th>    </tr>    <tr>        <th class=\"index_name level0\" ></th>        <th class=\"blank\" ></th>        <th class=\"blank\" ></th>    </tr></thead><tbody>\n",
       "                <tr>\n",
       "                        <th id=\"T_80e1ba36_c0e8_11ec_8199_ec2e98d37a84level0_row0\" class=\"row_heading level0 row0\" >Zeroes</th>\n",
       "                        <td id=\"T_80e1ba36_c0e8_11ec_8199_ec2e98d37a84row0_col0\" class=\"data row0 col0\" >15,463</td>\n",
       "                        <td id=\"T_80e1ba36_c0e8_11ec_8199_ec2e98d37a84row0_col1\" class=\"data row0 col1\" >34.71 %</td>\n",
       "            </tr>\n",
       "            <tr>\n",
       "                        <th id=\"T_80e1ba36_c0e8_11ec_8199_ec2e98d37a84level0_row1\" class=\"row_heading level0 row1\" >Missing</th>\n",
       "                        <td id=\"T_80e1ba36_c0e8_11ec_8199_ec2e98d37a84row1_col0\" class=\"data row1 col0\" >0</td>\n",
       "                        <td id=\"T_80e1ba36_c0e8_11ec_8199_ec2e98d37a84row1_col1\" class=\"data row1 col1\" >0.00 %</td>\n",
       "            </tr>\n",
       "            <tr>\n",
       "                        <th id=\"T_80e1ba36_c0e8_11ec_8199_ec2e98d37a84level0_row2\" class=\"row_heading level0 row2\" >Unknown</th>\n",
       "                        <td id=\"T_80e1ba36_c0e8_11ec_8199_ec2e98d37a84row2_col0\" class=\"data row2 col0\" >0</td>\n",
       "                        <td id=\"T_80e1ba36_c0e8_11ec_8199_ec2e98d37a84row2_col1\" class=\"data row2 col1\" >0.00 %</td>\n",
       "            </tr>\n",
       "            <tr>\n",
       "                        <th id=\"T_80e1ba36_c0e8_11ec_8199_ec2e98d37a84level0_row3\" class=\"row_heading level0 row3\" >Uniques</th>\n",
       "                        <td id=\"T_80e1ba36_c0e8_11ec_8199_ec2e98d37a84row3_col0\" class=\"data row3 col0\" >55</td>\n",
       "                        <td id=\"T_80e1ba36_c0e8_11ec_8199_ec2e98d37a84row3_col1\" class=\"data row3 col1\" >0.12 %</td>\n",
       "            </tr>\n",
       "            <tr>\n",
       "                        <th id=\"T_80e1ba36_c0e8_11ec_8199_ec2e98d37a84level0_row4\" class=\"row_heading level0 row4\" >Mean</th>\n",
       "                        <td id=\"T_80e1ba36_c0e8_11ec_8199_ec2e98d37a84row4_col0\" class=\"data row4 col0\" >1303.75</td>\n",
       "                        <td id=\"T_80e1ba36_c0e8_11ec_8199_ec2e98d37a84row4_col1\" class=\"data row4 col1\" >-</td>\n",
       "            </tr>\n",
       "            <tr>\n",
       "                        <th id=\"T_80e1ba36_c0e8_11ec_8199_ec2e98d37a84level0_row5\" class=\"row_heading level0 row5\" >Median</th>\n",
       "                        <td id=\"T_80e1ba36_c0e8_11ec_8199_ec2e98d37a84row5_col0\" class=\"data row5 col0\" >1986.00</td>\n",
       "                        <td id=\"T_80e1ba36_c0e8_11ec_8199_ec2e98d37a84row5_col1\" class=\"data row5 col1\" >-</td>\n",
       "            </tr>\n",
       "    </tbody></table>"
      ],
      "text/plain": [
       "<pandas.io.formats.style.Styler at 0x1db2a691f70>"
      ]
     },
     "metadata": {},
     "output_type": "display_data"
    },
    {
     "data": {
      "text/html": [
       "<style  type=\"text/css\" >\n",
       "</style><table id=\"T_80e1e141_c0e8_11ec_af75_ec2e98d37a84\" ><caption>Top 10 Value Count Info</caption><thead>    <tr>        <th class=\"blank level0\" ></th>        <th class=\"col_heading level0 col0\" >Value Count</th>        <th class=\"col_heading level0 col1\" >% Value Count</th>    </tr></thead><tbody>\n",
       "                <tr>\n",
       "                        <th id=\"T_80e1e141_c0e8_11ec_af75_ec2e98d37a84level0_row0\" class=\"row_heading level0 row0\" >0</th>\n",
       "                        <td id=\"T_80e1e141_c0e8_11ec_af75_ec2e98d37a84row0_col0\" class=\"data row0 col0\" >15463</td>\n",
       "                        <td id=\"T_80e1e141_c0e8_11ec_af75_ec2e98d37a84row0_col1\" class=\"data row0 col1\" >34.709315</td>\n",
       "            </tr>\n",
       "            <tr>\n",
       "                        <th id=\"T_80e1e141_c0e8_11ec_af75_ec2e98d37a84level0_row1\" class=\"row_heading level0 row1\" >2010</th>\n",
       "                        <td id=\"T_80e1e141_c0e8_11ec_af75_ec2e98d37a84row1_col0\" class=\"data row1 col0\" >2001</td>\n",
       "                        <td id=\"T_80e1e141_c0e8_11ec_af75_ec2e98d37a84row1_col1\" class=\"data row1 col1\" >4.491582</td>\n",
       "            </tr>\n",
       "            <tr>\n",
       "                        <th id=\"T_80e1e141_c0e8_11ec_af75_ec2e98d37a84level0_row2\" class=\"row_heading level0 row2\" >2008</th>\n",
       "                        <td id=\"T_80e1e141_c0e8_11ec_af75_ec2e98d37a84row2_col0\" class=\"data row2 col0\" >1959</td>\n",
       "                        <td id=\"T_80e1e141_c0e8_11ec_af75_ec2e98d37a84row2_col1\" class=\"data row2 col1\" >4.397306</td>\n",
       "            </tr>\n",
       "            <tr>\n",
       "                        <th id=\"T_80e1e141_c0e8_11ec_af75_ec2e98d37a84level0_row3\" class=\"row_heading level0 row3\" >2009</th>\n",
       "                        <td id=\"T_80e1e141_c0e8_11ec_af75_ec2e98d37a84row3_col0\" class=\"data row3 col0\" >1892</td>\n",
       "                        <td id=\"T_80e1e141_c0e8_11ec_af75_ec2e98d37a84row3_col1\" class=\"data row3 col1\" >4.246914</td>\n",
       "            </tr>\n",
       "            <tr>\n",
       "                        <th id=\"T_80e1e141_c0e8_11ec_af75_ec2e98d37a84level0_row4\" class=\"row_heading level0 row4\" >2000</th>\n",
       "                        <td id=\"T_80e1e141_c0e8_11ec_af75_ec2e98d37a84row4_col0\" class=\"data row4 col0\" >1595</td>\n",
       "                        <td id=\"T_80e1e141_c0e8_11ec_af75_ec2e98d37a84row4_col1\" class=\"data row4 col1\" >3.580247</td>\n",
       "            </tr>\n",
       "            <tr>\n",
       "                        <th id=\"T_80e1e141_c0e8_11ec_af75_ec2e98d37a84level0_row5\" class=\"row_heading level0 row5\" >2007</th>\n",
       "                        <td id=\"T_80e1e141_c0e8_11ec_af75_ec2e98d37a84row5_col0\" class=\"data row5 col0\" >1195</td>\n",
       "                        <td id=\"T_80e1e141_c0e8_11ec_af75_ec2e98d37a84row5_col1\" class=\"data row5 col1\" >2.682379</td>\n",
       "            </tr>\n",
       "            <tr>\n",
       "                        <th id=\"T_80e1e141_c0e8_11ec_af75_ec2e98d37a84level0_row6\" class=\"row_heading level0 row6\" >2006</th>\n",
       "                        <td id=\"T_80e1e141_c0e8_11ec_af75_ec2e98d37a84row6_col0\" class=\"data row6 col0\" >1103</td>\n",
       "                        <td id=\"T_80e1e141_c0e8_11ec_af75_ec2e98d37a84row6_col1\" class=\"data row6 col1\" >2.475870</td>\n",
       "            </tr>\n",
       "            <tr>\n",
       "                        <th id=\"T_80e1e141_c0e8_11ec_af75_ec2e98d37a84level0_row7\" class=\"row_heading level0 row7\" >2003</th>\n",
       "                        <td id=\"T_80e1e141_c0e8_11ec_af75_ec2e98d37a84row7_col0\" class=\"data row7 col0\" >989</td>\n",
       "                        <td id=\"T_80e1e141_c0e8_11ec_af75_ec2e98d37a84row7_col1\" class=\"data row7 col1\" >2.219978</td>\n",
       "            </tr>\n",
       "            <tr>\n",
       "                        <th id=\"T_80e1e141_c0e8_11ec_af75_ec2e98d37a84level0_row8\" class=\"row_heading level0 row8\" >2011</th>\n",
       "                        <td id=\"T_80e1e141_c0e8_11ec_af75_ec2e98d37a84row8_col0\" class=\"data row8 col0\" >943</td>\n",
       "                        <td id=\"T_80e1e141_c0e8_11ec_af75_ec2e98d37a84row8_col1\" class=\"data row8 col1\" >2.116723</td>\n",
       "            </tr>\n",
       "            <tr>\n",
       "                        <th id=\"T_80e1e141_c0e8_11ec_af75_ec2e98d37a84level0_row9\" class=\"row_heading level0 row9\" >2012</th>\n",
       "                        <td id=\"T_80e1e141_c0e8_11ec_af75_ec2e98d37a84row9_col0\" class=\"data row9 col0\" >839</td>\n",
       "                        <td id=\"T_80e1e141_c0e8_11ec_af75_ec2e98d37a84row9_col1\" class=\"data row9 col1\" >1.883277</td>\n",
       "            </tr>\n",
       "    </tbody></table>"
      ],
      "text/plain": [
       "<pandas.io.formats.style.Styler at 0x1db2a8feb20>"
      ]
     },
     "metadata": {},
     "output_type": "display_data"
    },
    {
     "data": {
      "image/png": "[encoded data removed]",
      "text/plain": [
       "<Figure size 1080x576 with 1 Axes>"
      ]
     },
     "metadata": {
      "needs_background": "light"
     },
     "output_type": "display_data"
    }
   ],
   "source": [
    "colInfo(X_train.construction_year)"
   ]
  },
  {
   "cell_type": "markdown",
   "id": "2647b79a",
   "metadata": {},
   "source": [
    "Every well water pump has a construction year. However, as you can see in the training set there is a high number (34%) of zeroes. Assuming that this is an error and well water pumps were not being installed in 0AD, we shall impute these values using kNN imputer. Lets look at what the rest of the data looks like."
   ]
  },
  {
   "cell_type": "code",
   "execution_count": 29,
   "id": "27ee8392",
   "metadata": {
    "ExecuteTime": {
     "end_time": "2022-04-20T19:20:28.911983Z",
     "start_time": "2022-04-20T19:20:28.896979Z"
    }
   },
   "outputs": [],
   "source": [
    "# enc_columnNames =  \n",
    "# col_ImputeToMedian + \\\n",
    "# list(ct.transformers_[1][1]['cat1_ohe'].get_feature_names_out())  +\\\n",
    "# list(ct.transformers_[2][1]['cat2_ohe'].get_feature_names_out())\n",
    "\n",
    "# X_train_proc = pd.DataFrame(ct.fit_transform(X_train,y_train),columns = enc_columnNames)\n",
    "# X_test_proc = pd.DataFrame(ct.transform(X_test),columns = enc_columnNames)\n",
    "\n",
    "# print(X_train_proc)\n",
    "# print(X_test_proc)"
   ]
  },
  {
   "cell_type": "markdown",
   "id": "287f4eb2",
   "metadata": {},
   "source": [
    "### Transformations"
   ]
  },
  {
   "cell_type": "code",
   "execution_count": 127,
   "id": "f6c39229",
   "metadata": {
    "ExecuteTime": {
     "end_time": "2022-04-20T22:20:06.271110Z",
     "start_time": "2022-04-20T22:20:06.264109Z"
    }
   },
   "outputs": [],
   "source": [
    "#Impute nans as well as unknowns\n",
    "subpipe_cat1 = Pipeline(steps=[\n",
    "    ('cat1_imp1', SimpleImputer(missing_values=np.nan,strategy='most_frequent')),\n",
    "    ('cat1_imp2', SimpleImputer(missing_values='unknown',strategy='most_frequent')),\n",
    "    ('cat1_ohe', OneHotEncoder(sparse=False, handle_unknown='ignore'))\n",
    "])\n",
    "\n",
    "#Only OneHotEncode\n",
    "subpipe_cat2 = Pipeline(steps=[\n",
    "    ('cat2_ohe', OneHotEncoder(sparse=False, handle_unknown='ignore'))\n",
    "])\n",
    "\n",
    "#Impute median and scale (0,1)\n",
    "subpipe_num = Pipeline(steps=[\n",
    "    ('num_imp', SimpleImputer(missing_values=np.nan,strategy='median')),\n",
    "    ('num_sc', MinMaxScaler()),    \n",
    "])\n",
    "\n",
    "#kNN impute then scale (0,1)\n",
    "subpipe_cYr = Pipeline(steps=[\n",
    "    ('cYr_imp', KNNImputer(missing_values=0,n_neighbors=3)),\n",
    "    ('cYr_sc', MinMaxScaler()),    \n",
    "])\n",
    "\n",
    "\n",
    "\n",
    "\n",
    "\n",
    "\n",
    "#Specifically designed for imputing erroneous coordinates\n",
    "#As part of your column transformations,an additional column (default='region') will be needed to be passed\n",
    "#Returning dataframe excludes this additional column\n",
    "#Impute (0,0) coordinates from the corresponding regions mean/median  and scale (0,1)\n",
    "subpipe_coord = Pipeline(steps=[\n",
    "    ('coord_imp', CoordinatesImputer(groupByTarget='region',metric='median')), \n",
    "    ('coord_sc', MinMaxScaler()),    \n",
    "])"
   ]
  },
  {
   "cell_type": "code",
   "execution_count": 123,
   "id": "8310c841",
   "metadata": {
    "ExecuteTime": {
     "end_time": "2022-04-20T22:12:10.877045Z",
     "start_time": "2022-04-20T22:12:10.865043Z"
    }
   },
   "outputs": [],
   "source": [
    "def modelReport(model, X, y):\n",
    "    preds = cross_val_predict(estimator=model,X=X,y=y)\n",
    "    cm = confusion_matrix(y, preds, labels=model.classes_)\n",
    "    \n",
    "    \n",
    "    disp = ConfusionMatrixDisplay(cm, display_labels=model.classes_)\n",
    "    fig, ax = plt.subplots(figsize=(10,10))\n",
    "    disp.plot(cmap='OrRd',ax=ax)\n",
    "    \n",
    "    \n",
    "    cv = cross_validate(model,X,y,scoring=['accuracy','precision_macro'])\n",
    "    print('-'*32)\n",
    "    pritn('Cross Validation accuracy:', cv['test_accuracy'].mean())\n",
    "#     print(cross_val_score)"
   ]
  },
  {
   "cell_type": "markdown",
   "id": "5498d3df",
   "metadata": {},
   "source": [
    "# Models - Baselines"
   ]
  },
  {
   "cell_type": "markdown",
   "id": "7b52d7d8",
   "metadata": {},
   "source": [
    "## Model 00 - Dummy Classifier"
   ]
  },
  {
   "cell_type": "markdown",
   "id": "f4889030",
   "metadata": {},
   "source": [
    "Using a dummy classifier to establish our baseline.\\\n",
    "Since, this classifier doesn ignores input variables, and in the interest of time, we will not employ our column transformation pipeline."
   ]
  },
  {
   "cell_type": "code",
   "execution_count": 124,
   "id": "a897a505",
   "metadata": {
    "ExecuteTime": {
     "end_time": "2022-04-20T22:12:14.943549Z",
     "start_time": "2022-04-20T22:12:14.729501Z"
    },
    "scrolled": true
   },
   "outputs": [
    {
     "data": {
      "text/plain": [
       "array([0.54231201, 0.54242424, 0.54231201, 0.54231201, 0.54231201])"
      ]
     },
     "execution_count": 124,
     "metadata": {},
     "output_type": "execute_result"
    }
   ],
   "source": [
    "baseline_00 = DummyClassifier()\n",
    "baseline_00.fit(X_train,y_train)\n",
    "\n",
    "cross_val_score(baseline_00,X_train,y_train)"
   ]
  },
  {
   "cell_type": "code",
   "execution_count": 140,
   "id": "4c2fbc5a",
   "metadata": {
    "ExecuteTime": {
     "end_time": "2022-04-20T22:26:49.665517Z",
     "start_time": "2022-04-20T22:26:49.351447Z"
    }
   },
   "outputs": [
    {
     "name": "stderr",
     "output_type": "stream",
     "text": [
      "C:\\Users\\saads\\anaconda3\\envs\\learn-env\\lib\\site-packages\\sklearn\\metrics\\_classification.py:1318: UndefinedMetricWarning: Precision is ill-defined and being set to 0.0 in labels with no predicted samples. Use `zero_division` parameter to control this behavior.\n",
      "  _warn_prf(average, modifier, msg_start, len(result))\n",
      "C:\\Users\\saads\\anaconda3\\envs\\learn-env\\lib\\site-packages\\sklearn\\metrics\\_classification.py:1318: UndefinedMetricWarning: Precision is ill-defined and being set to 0.0 in labels with no predicted samples. Use `zero_division` parameter to control this behavior.\n",
      "  _warn_prf(average, modifier, msg_start, len(result))\n",
      "C:\\Users\\saads\\anaconda3\\envs\\learn-env\\lib\\site-packages\\sklearn\\metrics\\_classification.py:1318: UndefinedMetricWarning: Precision is ill-defined and being set to 0.0 in labels with no predicted samples. Use `zero_division` parameter to control this behavior.\n",
      "  _warn_prf(average, modifier, msg_start, len(result))\n",
      "C:\\Users\\saads\\anaconda3\\envs\\learn-env\\lib\\site-packages\\sklearn\\metrics\\_classification.py:1318: UndefinedMetricWarning: Precision is ill-defined and being set to 0.0 in labels with no predicted samples. Use `zero_division` parameter to control this behavior.\n",
      "  _warn_prf(average, modifier, msg_start, len(result))\n",
      "C:\\Users\\saads\\anaconda3\\envs\\learn-env\\lib\\site-packages\\sklearn\\metrics\\_classification.py:1318: UndefinedMetricWarning: Precision is ill-defined and being set to 0.0 in labels with no predicted samples. Use `zero_division` parameter to control this behavior.\n",
      "  _warn_prf(average, modifier, msg_start, len(result))\n"
     ]
    }
   ],
   "source": [
    "cv=cross_validate(baseline_00,X_train,y_train,scoring=['accuracy','precision_macro'])"
   ]
  },
  {
   "cell_type": "code",
   "execution_count": 142,
   "id": "af5e9acf",
   "metadata": {
    "ExecuteTime": {
     "end_time": "2022-04-20T22:27:06.617369Z",
     "start_time": "2022-04-20T22:27:06.608366Z"
    }
   },
   "outputs": [
    {
     "data": {
      "text/plain": [
       "0.5423344556677889"
      ]
     },
     "execution_count": 142,
     "metadata": {},
     "output_type": "execute_result"
    }
   ],
   "source": [
    "cv['test_accuracy'].mean()"
   ]
  },
  {
   "cell_type": "code",
   "execution_count": 126,
   "id": "23b7c03a",
   "metadata": {
    "ExecuteTime": {
     "end_time": "2022-04-20T22:12:15.979393Z",
     "start_time": "2022-04-20T22:12:15.600307Z"
    }
   },
   "outputs": [
    {
     "data": {
      "image/png": "[encoded data removed]",
      "text/plain": [
       "<Figure size 720x720 with 2 Axes>"
      ]
     },
     "metadata": {
      "needs_background": "light"
     },
     "output_type": "display_data"
    }
   ],
   "source": [
    "modelReport(baseline_00,X_train,y_train)"
   ]
  },
  {
   "cell_type": "markdown",
   "id": "936aa50c",
   "metadata": {},
   "source": [
    "54% accuracy and 54% precision. Thats our dummy classifier baseline"
   ]
  },
  {
   "cell_type": "code",
   "execution_count": 89,
   "id": "51093f86",
   "metadata": {
    "ExecuteTime": {
     "end_time": "2022-04-20T21:00:11.217710Z",
     "start_time": "2022-04-20T21:00:11.212710Z"
    }
   },
   "outputs": [],
   "source": [
    "filePath = f'models/{baseline_00=}'.split('=')[0] + '.sav'\n",
    "pickle.dump(baseline_00, open(filePath, 'wb'))"
   ]
  },
  {
   "cell_type": "markdown",
   "id": "c3a1daf5",
   "metadata": {},
   "source": [
    "##  Model 01 - Logistic Regression"
   ]
  },
  {
   "cell_type": "markdown",
   "id": "9fa58081",
   "metadata": {},
   "source": [
    "### Simple Model"
   ]
  },
  {
   "cell_type": "code",
   "execution_count": 90,
   "id": "f356bfda",
   "metadata": {
    "ExecuteTime": {
     "end_time": "2022-04-20T21:00:20.566595Z",
     "start_time": "2022-04-20T21:00:20.557593Z"
    }
   },
   "outputs": [],
   "source": [
    "ct = ColumnTransformer(transformers=[\n",
    "    \n",
    "    ('ct_cyr',subpipe_num,['construction_year']),\n",
    "    ('ct_coord',subpipe_coord, ['latitude','longitude','region']), #Note: region is passed to allow groupby. Not returned.\n",
    "    ('ct_cat1',subpipe_cat1,col_ImputeAndOHE),\n",
    "    ('ct_cat2',subpipe_cat2,col_OneHotEncode),\n",
    "\n",
    "])"
   ]
  },
  {
   "cell_type": "code",
   "execution_count": 112,
   "id": "b773f923",
   "metadata": {
    "ExecuteTime": {
     "end_time": "2022-04-20T21:33:23.747562Z",
     "start_time": "2022-04-20T21:33:17.931061Z"
    }
   },
   "outputs": [],
   "source": [
    "log_reg_pipe = Pipeline([\n",
    "    ('ct',ct),\n",
    "   ('log_reg',LogisticRegression(random_state=42,n_jobs=Notebook_n_jobs))\n",
    "])\n",
    "log_reg_pipe.fit(X_train,y_train);"
   ]
  },
  {
   "cell_type": "code",
   "execution_count": 114,
   "id": "43b44d7a",
   "metadata": {
    "ExecuteTime": {
     "end_time": "2022-04-20T21:34:29.349342Z",
     "start_time": "2022-04-20T21:34:04.682686Z"
    }
   },
   "outputs": [
    {
     "name": "stderr",
     "output_type": "stream",
     "text": [
      "C:\\Users\\saads\\anaconda3\\envs\\learn-env\\lib\\site-packages\\sklearn\\metrics\\_classification.py:1370: UserWarning: Note that pos_label (set to 3) is ignored when average != 'binary' (got 'macro'). You may use labels=[pos_label] to specify a single positive class.\n",
      "  warnings.warn(\n",
      "C:\\Users\\saads\\anaconda3\\envs\\learn-env\\lib\\site-packages\\sklearn\\metrics\\_classification.py:1370: UserWarning: Note that pos_label (set to 3) is ignored when average != 'binary' (got 'macro'). You may use labels=[pos_label] to specify a single positive class.\n",
      "  warnings.warn(\n",
      "C:\\Users\\saads\\anaconda3\\envs\\learn-env\\lib\\site-packages\\sklearn\\metrics\\_classification.py:1370: UserWarning: Note that pos_label (set to 3) is ignored when average != 'binary' (got 'macro'). You may use labels=[pos_label] to specify a single positive class.\n",
      "  warnings.warn(\n",
      "C:\\Users\\saads\\anaconda3\\envs\\learn-env\\lib\\site-packages\\sklearn\\metrics\\_classification.py:1370: UserWarning: Note that pos_label (set to 3) is ignored when average != 'binary' (got 'macro'). You may use labels=[pos_label] to specify a single positive class.\n",
      "  warnings.warn(\n",
      "C:\\Users\\saads\\anaconda3\\envs\\learn-env\\lib\\site-packages\\sklearn\\metrics\\_classification.py:1370: UserWarning: Note that pos_label (set to 3) is ignored when average != 'binary' (got 'macro'). You may use labels=[pos_label] to specify a single positive class.\n",
      "  warnings.warn(\n",
      "C:\\Users\\saads\\anaconda3\\envs\\learn-env\\lib\\site-packages\\sklearn\\metrics\\_classification.py:1370: UserWarning: Note that pos_label (set to 3) is ignored when average != 'binary' (got 'macro'). You may use labels=[pos_label] to specify a single positive class.\n",
      "  warnings.warn(\n",
      "C:\\Users\\saads\\anaconda3\\envs\\learn-env\\lib\\site-packages\\sklearn\\metrics\\_classification.py:1370: UserWarning: Note that pos_label (set to 3) is ignored when average != 'binary' (got 'macro'). You may use labels=[pos_label] to specify a single positive class.\n",
      "  warnings.warn(\n",
      "C:\\Users\\saads\\anaconda3\\envs\\learn-env\\lib\\site-packages\\sklearn\\metrics\\_classification.py:1370: UserWarning: Note that pos_label (set to 3) is ignored when average != 'binary' (got 'macro'). You may use labels=[pos_label] to specify a single positive class.\n",
      "  warnings.warn(\n",
      "C:\\Users\\saads\\anaconda3\\envs\\learn-env\\lib\\site-packages\\sklearn\\metrics\\_classification.py:1370: UserWarning: Note that pos_label (set to 3) is ignored when average != 'binary' (got 'macro'). You may use labels=[pos_label] to specify a single positive class.\n",
      "  warnings.warn(\n",
      "C:\\Users\\saads\\anaconda3\\envs\\learn-env\\lib\\site-packages\\sklearn\\metrics\\_classification.py:1370: UserWarning: Note that pos_label (set to 3) is ignored when average != 'binary' (got 'macro'). You may use labels=[pos_label] to specify a single positive class.\n",
      "  warnings.warn(\n"
     ]
    },
    {
     "data": {
      "text/plain": [
       "array([1.87720443, 1.84140158, 1.89277757, 1.80645447, 1.85247049])"
      ]
     },
     "execution_count": 114,
     "metadata": {},
     "output_type": "execute_result"
    }
   ],
   "source": [
    "filePath = f'models/{log_reg_pipe=}'.split('=')[0] + '.sav'\n",
    "pickle.dump(log_reg_pipe, open(filePath, 'wb'))\n",
    "\n",
    "cross_val_score(X=X_train,\n",
    "                y=y_train,\n",
    "                estimator=log_reg_pipe,\n",
    "                scoring=my_scorer)"
   ]
  },
  {
   "cell_type": "markdown",
   "id": "ab88a33d",
   "metadata": {},
   "source": [
    "72.97%. In conjunction with our column transformer a simple logistic regression model shows massive improvements over the baseline.\n",
    "\n",
    "Lets try and tune it better."
   ]
  },
  {
   "cell_type": "code",
   "execution_count": 39,
   "id": "09178c24",
   "metadata": {
    "ExecuteTime": {
     "end_time": "2022-04-20T19:26:22.087239Z",
     "start_time": "2022-04-20T19:25:57.439649Z"
    },
    "scrolled": false
   },
   "outputs": [
    {
     "name": "stderr",
     "output_type": "stream",
     "text": [
      "C:\\Users\\saads\\anaconda3\\envs\\learn-env\\lib\\site-packages\\sklearn\\utils\\deprecation.py:87: FutureWarning: Function plot_confusion_matrix is deprecated; Function `plot_confusion_matrix` is deprecated in 1.0 and will be removed in 1.2. Use one of the class methods: ConfusionMatrixDisplay.from_predictions or ConfusionMatrixDisplay.from_estimator.\n",
      "  warnings.warn(msg, category=FutureWarning)\n"
     ]
    },
    {
     "data": {
      "text/plain": [
       "<sklearn.metrics._plot.confusion_matrix.ConfusionMatrixDisplay at 0x25f009a4a60>"
      ]
     },
     "execution_count": 39,
     "metadata": {},
     "output_type": "execute_result"
    },
    {
     "data": {
      "image/png": "[encoded data removed]",
      "text/plain": [
       "<Figure size 432x288 with 2 Axes>"
      ]
     },
     "metadata": {
      "needs_background": "light"
     },
     "output_type": "display_data"
    }
   ],
   "source": [
    "plot_confusion_matrix(log_reg_pipe,X_train,y_train)"
   ]
  },
  {
   "cell_type": "code",
   "execution_count": 42,
   "id": "4edcd009",
   "metadata": {
    "ExecuteTime": {
     "end_time": "2022-04-20T19:42:25.358639Z",
     "start_time": "2022-04-20T19:42:00.449004Z"
    }
   },
   "outputs": [
    {
     "name": "stdout",
     "output_type": "stream",
     "text": [
      "                         precision    recall  f1-score   support\n",
      "\n",
      "             functional       0.70      0.91      0.79     24161\n",
      "functional needs repair       0.16      0.01      0.01      3243\n",
      "         non functional       0.80      0.62      0.70     17146\n",
      "\n",
      "               accuracy                           0.73     44550\n",
      "              macro avg       0.56      0.51      0.50     44550\n",
      "           weighted avg       0.70      0.73      0.70     44550\n",
      "\n"
     ]
    }
   ],
   "source": [
    "print(classification_report(y_train,log_reg_pipe.predict(X_train)))"
   ]
  },
  {
   "cell_type": "markdown",
   "id": "9ed58a6f",
   "metadata": {
    "ExecuteTime": {
     "end_time": "2022-04-20T16:56:46.063835Z",
     "start_time": "2022-04-20T16:56:46.023737Z"
    }
   },
   "source": [
    "### Hypertuned Logistic Regression model"
   ]
  },
  {
   "cell_type": "code",
   "execution_count": null,
   "id": "f5a399ed",
   "metadata": {
    "ExecuteTime": {
     "start_time": "2022-04-20T19:45:48.943Z"
    }
   },
   "outputs": [],
   "source": [
    "params = {}\n",
    "params['log_reg__C'] = [0.1, 1, 10]\n",
    "params['log_reg__max_iter'] = [100, 150]\n",
    "params['log_reg__solver'] = ['lbfgs', 'sag']\n",
    "\n",
    "log_reg_gs1 = GridSearchCV(estimator=log_reg_pipe,\n",
    "                           param_grid=params,\n",
    "                           cv=5,\n",
    "                           n_jobs=Notebook_n_jobs,\n",
    "                           scoring=['precision', 'accuracy'],\n",
    "                           refit=False,\n",
    "                           return_train_score=True)\n",
    "log_reg_gs1.fit(X_train, y_train)"
   ]
  },
  {
   "cell_type": "code",
   "execution_count": null,
   "id": "7c4659bc",
   "metadata": {
    "ExecuteTime": {
     "start_time": "2022-04-20T17:20:01.951Z"
    }
   },
   "outputs": [],
   "source": [
    "filePath = f'models/{log_reg_gs1=}'.split('=')[0] + '.sav'\n",
    "pickle.dump(log_reg_gs1, open(filePath, 'wb'))\n",
    "\n",
    "log_reg_gs1."
   ]
  },
  {
   "cell_type": "markdown",
   "id": "f5c3ab3e",
   "metadata": {},
   "source": [
    "# Iterative Models"
   ]
  },
  {
   "cell_type": "markdown",
   "id": "1a7e19a2",
   "metadata": {},
   "source": [
    "## Random Forest"
   ]
  },
  {
   "cell_type": "markdown",
   "id": "70e75d37",
   "metadata": {},
   "source": [
    "### Simple Model"
   ]
  },
  {
   "cell_type": "code",
   "execution_count": 91,
   "id": "31acda3f",
   "metadata": {
    "ExecuteTime": {
     "end_time": "2022-04-20T21:02:43.386108Z",
     "start_time": "2022-04-20T21:02:43.373105Z"
    }
   },
   "outputs": [],
   "source": [
    "ct = ColumnTransformer(transformers=[\n",
    "\n",
    "    ('ct_cyr', subpipe_num, ['construction_year']),\n",
    "    \n",
    "    # Note: region is passed to allow groupby. Not returned.\n",
    "    ('ct_coord', subpipe_coord, ['latitude', 'longitude', 'region']),\n",
    "    \n",
    "    ('ct_cat1', subpipe_cat1, ['public_meeting','scheme_management', 'permit', 'source_class']),\n",
    "    \n",
    "    ('ct_cat2', subpipe_cat2, ['basin', 'extraction_type_class', 'management', 'payment', 'quality_group',\n",
    "                               'quantity', 'source_type', 'waterpoint_type_group']),\n",
    "\n",
    "])"
   ]
  },
  {
   "cell_type": "code",
   "execution_count": 92,
   "id": "97e5cc91",
   "metadata": {
    "ExecuteTime": {
     "end_time": "2022-04-20T21:05:23.350024Z",
     "start_time": "2022-04-20T21:05:10.157641Z"
    }
   },
   "outputs": [
    {
     "data": {
      "text/plain": [
       "0.7869135802469136"
      ]
     },
     "execution_count": 92,
     "metadata": {},
     "output_type": "execute_result"
    }
   ],
   "source": [
    "rfc_model_pipe = Pipeline([\n",
    "    ('ct',ct),\n",
    "   ('rfc',RandomForestClassifier(random_state=42,n_jobs=Notebook_n_jobs))\n",
    "])\n",
    "\n",
    "rfc_model_pipe.fit(X_train,y_train)\n",
    "\n",
    "cross_val_score(rfc_model_pipe,X_train,y_train,cv=5,scoring='').mean()"
   ]
  },
  {
   "cell_type": "code",
   "execution_count": 97,
   "id": "baa8ed30",
   "metadata": {
    "ExecuteTime": {
     "end_time": "2022-04-20T21:10:00.774014Z",
     "start_time": "2022-04-20T21:09:58.748396Z"
    },
    "scrolled": true
   },
   "outputs": [
    {
     "name": "stdout",
     "output_type": "stream",
     "text": [
      "                         precision    recall  f1-score   support\n",
      "\n",
      "             functional       0.99      1.00      1.00     24161\n",
      "functional needs repair       0.98      0.96      0.97      3243\n",
      "         non functional       1.00      1.00      1.00     17146\n",
      "\n",
      "               accuracy                           0.99     44550\n",
      "              macro avg       0.99      0.99      0.99     44550\n",
      "           weighted avg       0.99      0.99      0.99     44550\n",
      "\n"
     ]
    }
   ],
   "source": [
    "print(classification_report(y_train,rfc_model_pipe.predict(X_train)))"
   ]
  },
  {
   "cell_type": "code",
   "execution_count": 100,
   "id": "c729d306",
   "metadata": {
    "ExecuteTime": {
     "end_time": "2022-04-20T21:21:21.248983Z",
     "start_time": "2022-04-20T21:21:17.780347Z"
    }
   },
   "outputs": [
    {
     "name": "stdout",
     "output_type": "stream",
     "text": [
      "                         precision    recall  f1-score   support\n",
      "\n",
      "             functional       0.99      1.00      1.00     24161\n",
      "functional needs repair       0.98      0.96      0.97      3243\n",
      "         non functional       1.00      1.00      1.00     17146\n",
      "\n",
      "               accuracy                           0.99     44550\n",
      "              macro avg       0.99      0.99      0.99     44550\n",
      "           weighted avg       0.99      0.99      0.99     44550\n",
      "\n"
     ]
    },
    {
     "data": {
      "image/png": "[encoded data removed]",
      "text/plain": [
       "<Figure size 720x720 with 2 Axes>"
      ]
     },
     "metadata": {
      "needs_background": "light"
     },
     "output_type": "display_data"
    }
   ],
   "source": [
    "modelReport(rfc_model_pipe,X_train,y_train)"
   ]
  },
  {
   "cell_type": "code",
   "execution_count": 99,
   "id": "3ba7ec47",
   "metadata": {
    "ExecuteTime": {
     "end_time": "2022-04-20T21:19:37.217813Z",
     "start_time": "2022-04-20T21:19:37.083760Z"
    }
   },
   "outputs": [],
   "source": [
    "filePath = f'models/{rfc_model_pipe=}'.split('=')[0] + '.sav'\n",
    "pickle.dump(rfc_model_pipe, open(filePath, 'wb'))"
   ]
  },
  {
   "cell_type": "markdown",
   "id": "b952b108",
   "metadata": {},
   "source": [
    "### Hypertuned Random Forest"
   ]
  },
  {
   "cell_type": "markdown",
   "id": "6472d952",
   "metadata": {},
   "source": [
    "#### Round 1"
   ]
  },
  {
   "cell_type": "code",
   "execution_count": null,
   "id": "1c8b8e33",
   "metadata": {
    "ExecuteTime": {
     "end_time": "2022-04-19T15:42:06.333898Z",
     "start_time": "2022-04-19T15:37:16.047474Z"
    }
   },
   "outputs": [],
   "source": [
    "params = {}\n",
    "params['rfc__criterion'] = ['gini','entropy']\n",
    "params['rfc__n_estimators'] = [150,200,250]\n",
    "params['rfc__max_depth'] = [5,7,9]\n",
    "rfc_gs1 = GridSearchCV(estimator=rfc_model_pipe,param_grid=params,cv=5)\n",
    "rfc_gs1.fit(X_train,y_train)"
   ]
  },
  {
   "cell_type": "code",
   "execution_count": null,
   "id": "763ea44c",
   "metadata": {
    "ExecuteTime": {
     "end_time": "2022-04-19T15:42:06.745579Z",
     "start_time": "2022-04-19T15:42:06.634986Z"
    }
   },
   "outputs": [],
   "source": [
    "filePath = f'models/{rfc_gs1=}'.split('=')[0] + '.sav'\n",
    "pickle.dump(rfc_gs1, open(filePath, 'wb'))"
   ]
  },
  {
   "cell_type": "code",
   "execution_count": null,
   "id": "14295f2e",
   "metadata": {
    "ExecuteTime": {
     "end_time": "2022-04-19T15:42:07.047417Z",
     "start_time": "2022-04-19T15:42:07.032370Z"
    }
   },
   "outputs": [],
   "source": [
    "rfc_gs1.best_estimator_"
   ]
  },
  {
   "cell_type": "code",
   "execution_count": null,
   "id": "afbc05ee",
   "metadata": {
    "ExecuteTime": {
     "end_time": "2022-04-19T15:42:07.347819Z",
     "start_time": "2022-04-19T15:42:07.333449Z"
    }
   },
   "outputs": [],
   "source": [
    "rfc_gs1.best_score_"
   ]
  },
  {
   "cell_type": "markdown",
   "id": "6111a22a",
   "metadata": {},
   "source": [
    "Seems like the model prefers the 'gini' impurity. Removing criterion for successive runs.\n",
    "\n",
    "n_estimators and max_depth chose the highest value in range. Increasing range."
   ]
  },
  {
   "cell_type": "markdown",
   "id": "c6f85cae",
   "metadata": {
    "ExecuteTime": {
     "end_time": "2022-04-19T15:42:07.648897Z",
     "start_time": "2022-04-19T15:42:07.633894Z"
    }
   },
   "source": [
    "#### Round 2"
   ]
  },
  {
   "cell_type": "code",
   "execution_count": null,
   "id": "25cafc12",
   "metadata": {
    "ExecuteTime": {
     "end_time": "2022-04-19T15:46:08.354141Z",
     "start_time": "2022-04-19T15:43:02.889555Z"
    }
   },
   "outputs": [],
   "source": [
    "params = {}\n",
    "params['rfc__n_estimators'] = [350,450,500]\n",
    "params['rfc__max_depth'] = [15,20,30]\n",
    "\n",
    "rfc_gs2 = GridSearchCV(estimator=rfc_model_pipe,param_grid=params,cv=5,n_jobs = 6)\n",
    "rfc_gs2.fit(X_train,y_train)"
   ]
  },
  {
   "cell_type": "code",
   "execution_count": null,
   "id": "c0d15529",
   "metadata": {
    "ExecuteTime": {
     "end_time": "2022-04-19T15:46:08.942076Z",
     "start_time": "2022-04-19T15:46:08.639206Z"
    }
   },
   "outputs": [],
   "source": [
    "filePath = f'models/{rfc_gs2=}'.split('=')[0] + '.sav'\n",
    "pickle.dump(rfc_gs2, open(filePath, 'wb'))"
   ]
  },
  {
   "cell_type": "code",
   "execution_count": null,
   "id": "2c8f9a25",
   "metadata": {
    "ExecuteTime": {
     "end_time": "2022-04-19T15:46:09.259171Z",
     "start_time": "2022-04-19T15:46:09.244162Z"
    }
   },
   "outputs": [],
   "source": [
    "rfc_gs2.best_estimator_"
   ]
  },
  {
   "cell_type": "code",
   "execution_count": null,
   "id": "0d4c43e0",
   "metadata": {
    "ExecuteTime": {
     "end_time": "2022-04-19T15:46:09.560248Z",
     "start_time": "2022-04-19T15:46:09.545237Z"
    }
   },
   "outputs": [],
   "source": [
    "rfc_gs2.best_score_"
   ]
  },
  {
   "cell_type": "markdown",
   "id": "b0df4bf7",
   "metadata": {},
   "source": [
    "n_estimators and max_depth chose the highest value in range again. Increasing range."
   ]
  },
  {
   "cell_type": "markdown",
   "id": "07d885eb",
   "metadata": {},
   "source": [
    "#### Round 3"
   ]
  },
  {
   "cell_type": "code",
   "execution_count": null,
   "id": "30ab64c5",
   "metadata": {
    "ExecuteTime": {
     "end_time": "2022-04-19T16:34:23.504451Z",
     "start_time": "2022-04-19T16:24:50.459074Z"
    },
    "scrolled": true
   },
   "outputs": [],
   "source": [
    "params = {}\n",
    "# params['rfc__criterion'] = ['gini','entropy']\n",
    "params['rfc__n_estimators'] = [350,400,450]\n",
    "params['rfc__max_depth'] = [22,25,30]\n",
    "params['rfc__max_leaf_nodes']=[4000,4500,5000]\n",
    "\n",
    "rfc_gs3 = GridSearchCV(estimator=rfc_model_pipe,param_grid=params,cv=5,n_jobs = -1)\n",
    "rfc_gs3.fit(X_train,y_train)"
   ]
  },
  {
   "cell_type": "code",
   "execution_count": null,
   "id": "8d4395a8",
   "metadata": {
    "ExecuteTime": {
     "end_time": "2022-04-19T16:34:24.250284Z",
     "start_time": "2022-04-19T16:34:23.841552Z"
    }
   },
   "outputs": [],
   "source": [
    "filePath = f'models/{rfc_gs3=}'.split('=')[0] + '.sav'\n",
    "pickle.dump(rfc_gs3, open(filePath, 'wb'))"
   ]
  },
  {
   "cell_type": "code",
   "execution_count": null,
   "id": "89bd13b0",
   "metadata": {
    "ExecuteTime": {
     "end_time": "2022-04-19T16:34:24.595773Z",
     "start_time": "2022-04-19T16:34:24.581767Z"
    }
   },
   "outputs": [],
   "source": [
    "rfc_gs3.best_estimator_"
   ]
  },
  {
   "cell_type": "code",
   "execution_count": null,
   "id": "d2a282a4",
   "metadata": {
    "ExecuteTime": {
     "end_time": "2022-04-19T16:34:24.945628Z",
     "start_time": "2022-04-19T16:34:24.930620Z"
    },
    "scrolled": true
   },
   "outputs": [],
   "source": [
    "rfc_gs3.best_score_"
   ]
  },
  {
   "cell_type": "markdown",
   "id": "4b403067",
   "metadata": {},
   "source": [
    "### Hypertuned and SMOTE Random Forest"
   ]
  },
  {
   "cell_type": "code",
   "execution_count": null,
   "id": "4cb67bd2",
   "metadata": {
    "ExecuteTime": {
     "end_time": "2022-04-19T17:35:29.922870Z",
     "start_time": "2022-04-19T17:34:19.342456Z"
    }
   },
   "outputs": [],
   "source": [
    "rfc_imb_model_pipe = ImPipeline([\n",
    "    ('sm',SMOTE(random_state=42)),\n",
    "   ('rfc',RandomForestClassifier(random_state=42))\n",
    "])\n",
    "\n",
    "rfc_imb_model_pipe.fit(X_train,y_train)\n",
    "filePath = f'models/{rfc_imb_model_pipe=}'.split('=')[0] + '.sav'\n",
    "pickle.dump(rfc_imb_model_pipe, open(filePath, 'wb'))\n",
    "\n",
    "cross_val_score(rfc_imb_model_pipe,X_train,y_train,cv=5).mean()"
   ]
  },
  {
   "cell_type": "markdown",
   "id": "b7ef6a37",
   "metadata": {},
   "source": [
    "#### Round 1"
   ]
  },
  {
   "cell_type": "code",
   "execution_count": null,
   "id": "f6078565",
   "metadata": {
    "ExecuteTime": {
     "end_time": "2022-04-19T18:01:35.289470Z",
     "start_time": "2022-04-19T17:38:23.678987Z"
    },
    "scrolled": false
   },
   "outputs": [],
   "source": [
    "params = {}\n",
    "# params['rfc__criterion'] = ['gini','entropy']\n",
    "params['rfc__n_estimators'] = [350,400,450]\n",
    "params['rfc__max_depth'] = [22,25,30]\n",
    "params['rfc__max_leaf_nodes']=[4000,4500,5000]\n",
    "\n",
    "rfc_imb_gs1 = GridSearchCV(estimator=rfc_imb_model_pipe,param_grid=params,cv=5,n_jobs = -1)\n",
    "rfc_imb_gs1.fit(X_train,y_train)"
   ]
  },
  {
   "cell_type": "code",
   "execution_count": null,
   "id": "949e79ba",
   "metadata": {
    "ExecuteTime": {
     "end_time": "2022-04-19T18:01:36.696511Z",
     "start_time": "2022-04-19T18:01:35.809267Z"
    }
   },
   "outputs": [],
   "source": [
    "filePath = f'models/{rfc_imb_gs1=}'.split('=')[0] + '.sav'\n",
    "pickle.dump(rfc_imb_gs1, open(filePath, 'wb'))"
   ]
  },
  {
   "cell_type": "code",
   "execution_count": null,
   "id": "3fe38eeb",
   "metadata": {
    "ExecuteTime": {
     "end_time": "2022-04-19T18:01:37.137457Z",
     "start_time": "2022-04-19T18:01:37.123088Z"
    }
   },
   "outputs": [],
   "source": [
    "rfc_imb_gs1.best_estimator_"
   ]
  },
  {
   "cell_type": "code",
   "execution_count": null,
   "id": "0831444b",
   "metadata": {
    "ExecuteTime": {
     "end_time": "2022-04-19T18:01:37.578812Z",
     "start_time": "2022-04-19T18:01:37.563818Z"
    }
   },
   "outputs": [],
   "source": [
    "rfc_imb_gs1.best_score_"
   ]
  },
  {
   "cell_type": "markdown",
   "id": "6b21fec8",
   "metadata": {},
   "source": [
    "## kNN"
   ]
  },
  {
   "cell_type": "markdown",
   "id": "6fdb97b8",
   "metadata": {},
   "source": [
    "### Simple Model"
   ]
  },
  {
   "cell_type": "code",
   "execution_count": 102,
   "id": "33745fd2",
   "metadata": {
    "ExecuteTime": {
     "end_time": "2022-04-20T21:22:42.157026Z",
     "start_time": "2022-04-20T21:22:42.140022Z"
    }
   },
   "outputs": [],
   "source": [
    "ct = ColumnTransformer(transformers=[\n",
    "\n",
    "    ('ct_cyr', subpipe_num, ['construction_year']),\n",
    "    \n",
    "    # Note: region is passed to allow groupby. Not returned.\n",
    "    ('ct_coord', subpipe_coord, ['latitude', 'longitude', 'region']),\n",
    "    \n",
    "    ('ct_cat1', subpipe_cat1, ['public_meeting','scheme_management', 'permit', 'source_class']),\n",
    "    \n",
    "    ('ct_cat2', subpipe_cat2, ['basin', 'extraction_type_class', 'management', 'payment', 'quality_group',\n",
    "                               'quantity', 'source_type', 'waterpoint_type_group']),\n",
    "\n",
    "])"
   ]
  },
  {
   "cell_type": "code",
   "execution_count": 103,
   "id": "63c2e255",
   "metadata": {
    "ExecuteTime": {
     "end_time": "2022-04-20T21:23:23.115844Z",
     "start_time": "2022-04-20T21:22:46.762157Z"
    },
    "scrolled": true
   },
   "outputs": [
    {
     "data": {
      "text/plain": [
       "0.7730864197530865"
      ]
     },
     "execution_count": 103,
     "metadata": {},
     "output_type": "execute_result"
    }
   ],
   "source": [
    "knn_model_pipe = Pipeline([\n",
    "    ('ct',ct),\n",
    "   ('knn',KNeighborsClassifier())\n",
    "])\n",
    "\n",
    "knn_model_pipe.fit(X_train,y_train)\n",
    "\n",
    "cross_val_score(knn_model_pipe,X_train,y_train,cv=5).mean()"
   ]
  },
  {
   "cell_type": "code",
   "execution_count": 104,
   "id": "cd7606e2",
   "metadata": {
    "ExecuteTime": {
     "end_time": "2022-04-20T21:24:37.020952Z",
     "start_time": "2022-04-20T21:23:23.241873Z"
    }
   },
   "outputs": [
    {
     "name": "stdout",
     "output_type": "stream",
     "text": [
      "                         precision    recall  f1-score   support\n",
      "\n",
      "             functional       0.83      0.92      0.87     24161\n",
      "functional needs repair       0.67      0.42      0.52      3243\n",
      "         non functional       0.88      0.80      0.84     17146\n",
      "\n",
      "               accuracy                           0.84     44550\n",
      "              macro avg       0.79      0.71      0.74     44550\n",
      "           weighted avg       0.84      0.84      0.83     44550\n",
      "\n"
     ]
    },
    {
     "data": {
      "image/png": "[encoded data removed]",
      "text/plain": [
       "<Figure size 720x720 with 2 Axes>"
      ]
     },
     "metadata": {
      "needs_background": "light"
     },
     "output_type": "display_data"
    }
   ],
   "source": [
    "modelReport(knn_model_pipe,X_train,y_train)"
   ]
  },
  {
   "cell_type": "code",
   "execution_count": null,
   "id": "ed161943",
   "metadata": {},
   "outputs": [],
   "source": [
    "filePath = f'models/{knn_model_pipe=}'.split('=')[0] + '.sav'\n",
    "pickle.dump(knn_model_pipe, open(filePath, 'wb'))"
   ]
  },
  {
   "cell_type": "markdown",
   "id": "fe43be2d",
   "metadata": {},
   "source": [
    "### Hypertuned kNN"
   ]
  },
  {
   "cell_type": "markdown",
   "id": "d14a7ef0",
   "metadata": {},
   "source": [
    "#### Round 1"
   ]
  },
  {
   "cell_type": "code",
   "execution_count": null,
   "id": "5ab93997",
   "metadata": {
    "ExecuteTime": {
     "end_time": "2022-04-19T17:09:58.316778Z",
     "start_time": "2022-04-19T17:01:18.877953Z"
    }
   },
   "outputs": [],
   "source": [
    "params = {}\n",
    "params['knn__n_neighbors'] = [5,10,15,20]\n",
    "params['knn__metric']=['manhattan','euclidean','chebyshev']\n",
    "\n",
    "knn_gs1 = GridSearchCV(estimator=knn_model_pipe,param_grid=params,cv=5,n_jobs = -1)\n",
    "knn_gs1.fit(X_train,y_train)"
   ]
  },
  {
   "cell_type": "code",
   "execution_count": null,
   "id": "a4d7e2a5",
   "metadata": {
    "ExecuteTime": {
     "end_time": "2022-04-19T17:09:58.883470Z",
     "start_time": "2022-04-19T17:09:58.821409Z"
    }
   },
   "outputs": [],
   "source": [
    "filePath = f'models/{knn_gs1=}'.split('=')[0] + '.sav'\n",
    "pickle.dump(knn_gs1, open(filePath, 'wb'))"
   ]
  },
  {
   "cell_type": "code",
   "execution_count": null,
   "id": "5508d1f7",
   "metadata": {
    "ExecuteTime": {
     "end_time": "2022-04-19T17:09:59.324835Z",
     "start_time": "2022-04-19T17:09:59.310837Z"
    }
   },
   "outputs": [],
   "source": [
    "knn_gs1.best_estimator_"
   ]
  },
  {
   "cell_type": "code",
   "execution_count": null,
   "id": "42e4ec45",
   "metadata": {
    "ExecuteTime": {
     "end_time": "2022-04-19T17:09:59.735123Z",
     "start_time": "2022-04-19T17:09:59.720117Z"
    },
    "scrolled": true
   },
   "outputs": [],
   "source": [
    "knn_gs1.best_score_"
   ]
  },
  {
   "cell_type": "markdown",
   "id": "1e8f694e",
   "metadata": {},
   "source": [
    "#### Round 2"
   ]
  },
  {
   "cell_type": "code",
   "execution_count": null,
   "id": "4fe09b9b",
   "metadata": {
    "ExecuteTime": {
     "end_time": "2022-04-19T17:21:50.904129Z",
     "start_time": "2022-04-19T17:12:27.997434Z"
    }
   },
   "outputs": [],
   "source": [
    "params = {}\n",
    "params['knn__n_neighbors'] = [3,4,5,6,7]\n",
    "params['knn__metric']=['manhattan','euclidean','chebyshev']\n",
    "\n",
    "knn_gs2 = GridSearchCV(estimator=knn_model_pipe,param_grid=params,cv=5,n_jobs = -1)\n",
    "knn_gs2.fit(X_train,y_train)"
   ]
  },
  {
   "cell_type": "code",
   "execution_count": null,
   "id": "2a3da5e7",
   "metadata": {
    "ExecuteTime": {
     "end_time": "2022-04-19T17:21:51.464331Z",
     "start_time": "2022-04-19T17:21:51.402397Z"
    }
   },
   "outputs": [],
   "source": [
    "filePath = f'models/{knn_gs2=}'.split('=')[0] + '.sav'\n",
    "pickle.dump(knn_gs2, open(filePath, 'wb'))"
   ]
  },
  {
   "cell_type": "code",
   "execution_count": null,
   "id": "2b8e0745",
   "metadata": {
    "ExecuteTime": {
     "end_time": "2022-04-19T17:21:51.879250Z",
     "start_time": "2022-04-19T17:21:51.865246Z"
    }
   },
   "outputs": [],
   "source": [
    "knn_gs2.best_estimator_"
   ]
  },
  {
   "cell_type": "code",
   "execution_count": null,
   "id": "e791de35",
   "metadata": {
    "ExecuteTime": {
     "end_time": "2022-04-19T17:21:52.314434Z",
     "start_time": "2022-04-19T17:21:52.300431Z"
    },
    "scrolled": false
   },
   "outputs": [],
   "source": [
    "knn_gs2.best_score_"
   ]
  },
  {
   "cell_type": "markdown",
   "id": "4df69613",
   "metadata": {},
   "source": [
    "### Hypertuned SMOTE KNN\n"
   ]
  },
  {
   "cell_type": "code",
   "execution_count": null,
   "id": "9c09492a",
   "metadata": {
    "ExecuteTime": {
     "end_time": "2022-04-19T17:33:03.294340Z",
     "start_time": "2022-04-19T17:31:49.759850Z"
    }
   },
   "outputs": [],
   "source": [
    "knn_imb_model_pipe = ImPipeline([\n",
    "    ('sm',SMOTE(random_state=42)),\n",
    "   ('knn',KNeighborsClassifier())\n",
    "])\n",
    "\n",
    "knn_imb_model_pipe.fit(X_train,y_train)\n",
    "filePath = f'models/{knn_imb_model_pipe=}'.split('=')[0] + '.sav'\n",
    "pickle.dump(knn_imb_model_pipe, open(filePath, 'wb'))\n",
    "\n",
    "cross_val_score(knn_imb_model_pipe,X_train,y_train,cv=5).mean()"
   ]
  },
  {
   "cell_type": "code",
   "execution_count": null,
   "id": "d7c884f6",
   "metadata": {},
   "outputs": [],
   "source": []
  },
  {
   "cell_type": "code",
   "execution_count": null,
   "id": "f6cdea2e",
   "metadata": {},
   "outputs": [],
   "source": []
  },
  {
   "cell_type": "markdown",
   "id": "65753f4f",
   "metadata": {},
   "source": [
    "## XGBoost"
   ]
  },
  {
   "cell_type": "code",
   "execution_count": null,
   "id": "c7361920",
   "metadata": {
    "ExecuteTime": {
     "end_time": "2022-04-19T16:40:53.072426Z",
     "start_time": "2022-04-19T16:40:34.884863Z"
    },
    "scrolled": true
   },
   "outputs": [],
   "source": [
    "XGBRF_model_pipe = Pipeline([\n",
    "   ('xg',xgboost.XGBRFClassifier(random_state=42))\n",
    "])\n",
    "\n",
    "XGBRF_model_pipe.fit(X_train,y_train)\n",
    "filePath = f'models/{XGBRF_model_pipe=}'.split('=')[0] + '.sav'\n",
    "pickle.dump(XGBRF_model_pipe, open(filePath, 'wb'))\n",
    "\n",
    "cross_val_score(XGBRF_model_pipe,X_train,y_train,cv=5).mean()"
   ]
  },
  {
   "cell_type": "markdown",
   "id": "c32bd93e",
   "metadata": {},
   "source": [
    "### Hypertuned XGBoost"
   ]
  },
  {
   "cell_type": "markdown",
   "id": "eafb4681",
   "metadata": {},
   "source": [
    "#### Round 1"
   ]
  },
  {
   "cell_type": "code",
   "execution_count": null,
   "id": "9bed3822",
   "metadata": {
    "ExecuteTime": {
     "end_time": "2022-04-19T16:50:45.654265Z",
     "start_time": "2022-04-19T16:46:28.756110Z"
    }
   },
   "outputs": [],
   "source": [
    "params = {}\n",
    "params['xg__learning_rate'] = [0.001,0.1,1,10,100]\n",
    "params['xg__reg_lambda'] = [1e-06,1e-05,1e-04,1e-03,1e-02]\n",
    "\n",
    "xgbrf_gs1 = GridSearchCV(estimator=XGBRF_model_pipe,param_grid=params,cv=5,n_jobs = -1)\n",
    "xgbrf_gs1.fit(X_train,y_train)"
   ]
  },
  {
   "cell_type": "code",
   "execution_count": null,
   "id": "9adacc1a",
   "metadata": {
    "ExecuteTime": {
     "end_time": "2022-04-19T16:50:46.096375Z",
     "start_time": "2022-04-19T16:50:46.065360Z"
    }
   },
   "outputs": [],
   "source": [
    "filePath = f'models/{xgbrf_gs1=}'.split('=')[0] + '.sav'\n",
    "pickle.dump(xgbrf_gs1, open(filePath, 'wb'))"
   ]
  },
  {
   "cell_type": "code",
   "execution_count": null,
   "id": "5f25b007",
   "metadata": {
    "ExecuteTime": {
     "end_time": "2022-04-19T16:50:46.508498Z",
     "start_time": "2022-04-19T16:50:46.493499Z"
    }
   },
   "outputs": [],
   "source": [
    "xgbrf_gs1.best_estimator_"
   ]
  },
  {
   "cell_type": "code",
   "execution_count": null,
   "id": "09595887",
   "metadata": {
    "ExecuteTime": {
     "end_time": "2022-04-19T16:50:46.904588Z",
     "start_time": "2022-04-19T16:50:46.890590Z"
    }
   },
   "outputs": [],
   "source": [
    "xgbrf_gs1.best_score_"
   ]
  },
  {
   "cell_type": "code",
   "execution_count": null,
   "id": "cec68fed",
   "metadata": {},
   "outputs": [],
   "source": []
  }
 ],
 "metadata": {
  "kernelspec": {
   "display_name": "Python (learn-env)",
   "language": "python",
   "name": "learn-env"
  },
  "language_info": {
   "codemirror_mode": {
    "name": "ipython",
    "version": 3
   },
   "file_extension": ".py",
   "mimetype": "text/x-python",
   "name": "python",
   "nbconvert_exporter": "python",
   "pygments_lexer": "ipython3",
   "version": "3.8.5"
  },
  "notify_time": "10",
  "toc": {
   "base_numbering": 1,
   "nav_menu": {},
   "number_sections": true,
   "sideBar": true,
   "skip_h1_title": false,
   "title_cell": "Table of Contents",
   "title_sidebar": "Contents",
   "toc_cell": false,
   "toc_position": {
    "height": "calc(100% - 180px)",
    "left": "10px",
    "top": "150px",
    "width": "349.08px"
   },
   "toc_section_display": true,
   "toc_window_display": true
  },
  "varInspector": {
   "cols": {
    "lenName": 16,
    "lenType": 16,
    "lenVar": 40
   },
   "kernels_config": {
    "python": {
     "delete_cmd_postfix": "",
     "delete_cmd_prefix": "del ",
     "library": "var_list.py",
     "varRefreshCmd": "print(var_dic_list())"
    },
    "r": {
     "delete_cmd_postfix": ") ",
     "delete_cmd_prefix": "rm(",
     "library": "var_list.r",
     "varRefreshCmd": "cat(var_dic_list()) "
    }
   },
   "position": {
    "height": "851.858px",
    "left": "1763.33px",
    "right": "20px",
    "top": "120px",
    "width": "350px"
   },
   "types_to_exclude": [
    "module",
    "function",
    "builtin_function_or_method",
    "instance",
    "_Feature"
   ],
   "window_display": false
  }
 },
 "nbformat": 4,
 "nbformat_minor": 5
}
