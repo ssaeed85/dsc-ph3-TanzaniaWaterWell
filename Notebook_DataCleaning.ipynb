{
 "cells": [
  {
   "cell_type": "markdown",
   "id": "b00f8376",
   "metadata": {
    "ExecuteTime": {
     "end_time": "2022-04-19T15:03:56.825390Z",
     "start_time": "2022-04-19T15:03:56.823390Z"
    }
   },
   "source": [
    "References:\\\n",
    "    https://machinelearningmastery.com/save-load-machine-learning-models-python-scikit-learn/ (pickle)\\\n",
    "    https://towardsdatascience.com/coding-a-custom-imputer-in-scikit-learn-31bd68e541de(custom Imputer)"
   ]
  },
  {
   "cell_type": "code",
   "execution_count": 40,
   "id": "2c6c83b3",
   "metadata": {
    "ExecuteTime": {
     "end_time": "2022-04-20T19:37:51.282847Z",
     "start_time": "2022-04-20T19:37:51.271845Z"
    }
   },
   "outputs": [],
   "source": [
    "import pandas as pd\n",
    "pd.set_option('display.max_columns', None)\n",
    "\n",
    "import json\n",
    "import numpy as np\n",
    "import matplotlib.pyplot as plt\n",
    "import pickle\n",
    "\n",
    "# from pandas_profiling import ProfileReport\n",
    "\n",
    "from sklearn.dummy import DummyClassifier\n",
    "from sklearn.neighbors import KNeighborsClassifier\n",
    "from sklearn.model_selection import train_test_split, GridSearchCV, cross_val_score\n",
    "from sklearn.pipeline import Pipeline\n",
    "from sklearn.preprocessing import StandardScaler, MinMaxScaler, OneHotEncoder, FunctionTransformer, OrdinalEncoder\n",
    "from sklearn.impute import SimpleImputer,KNNImputer\n",
    "from sklearn.compose import ColumnTransformer\n",
    "from sklearn.linear_model import LogisticRegression\n",
    "from sklearn.ensemble import RandomForestClassifier, GradientBoostingClassifier, StackingClassifier\n",
    "from sklearn.metrics import plot_confusion_matrix, recall_score,\\\n",
    "    accuracy_score, precision_score, f1_score, classification_report\n",
    "import xgboost\n",
    "\n",
    "import random\n",
    "random.seed(42)\n",
    "\n",
    "from imblearn.over_sampling import SMOTE\n",
    "from imblearn.pipeline import Pipeline as ImPipeline"
   ]
  },
  {
   "cell_type": "code",
   "execution_count": 17,
   "id": "6c1f5e5c",
   "metadata": {
    "ExecuteTime": {
     "end_time": "2022-04-20T19:20:26.909466Z",
     "start_time": "2022-04-20T19:20:26.895464Z"
    }
   },
   "outputs": [],
   "source": [
    "from src.pandas_helper import *"
   ]
  },
  {
   "cell_type": "markdown",
   "id": "dfbe9851",
   "metadata": {},
   "source": [
    "**Note:** To speed up running of model fit cells, the n_jobs parameter is set to a global variable. This is defaulted to -1 to allow access to the entirety of your machine's CPU resources. This ***will*** make your machine essentially unusable until the operations have finished performing. Set this to None for regular operations"
   ]
  },
  {
   "cell_type": "code",
   "execution_count": 43,
   "id": "08a51a8a",
   "metadata": {
    "ExecuteTime": {
     "end_time": "2022-04-20T19:43:20.759379Z",
     "start_time": "2022-04-20T19:43:20.753377Z"
    }
   },
   "outputs": [],
   "source": [
    "Notebook_n_jobs = -1"
   ]
  },
  {
   "cell_type": "markdown",
   "id": "8727efb9",
   "metadata": {},
   "source": [
    "# Load Data"
   ]
  },
  {
   "cell_type": "code",
   "execution_count": 19,
   "id": "dc20cb6b",
   "metadata": {
    "ExecuteTime": {
     "end_time": "2022-04-20T19:20:27.163554Z",
     "start_time": "2022-04-20T19:20:26.927471Z"
    }
   },
   "outputs": [],
   "source": [
    "X = pd.read_csv('data/Training_set.csv')\n",
    "y = pd.read_csv('data/Training_labels.csv').status_group"
   ]
  },
  {
   "cell_type": "code",
   "execution_count": 20,
   "id": "496b968b",
   "metadata": {
    "ExecuteTime": {
     "end_time": "2022-04-20T19:20:27.195562Z",
     "start_time": "2022-04-20T19:20:27.164556Z"
    },
    "scrolled": true
   },
   "outputs": [
    {
     "data": {
      "text/html": [
       "<div>\n",
       "<style scoped>\n",
       "    .dataframe tbody tr th:only-of-type {\n",
       "        vertical-align: middle;\n",
       "    }\n",
       "\n",
       "    .dataframe tbody tr th {\n",
       "        vertical-align: top;\n",
       "    }\n",
       "\n",
       "    .dataframe thead th {\n",
       "        text-align: right;\n",
       "    }\n",
       "</style>\n",
       "<table border=\"1\" class=\"dataframe\">\n",
       "  <thead>\n",
       "    <tr style=\"text-align: right;\">\n",
       "      <th></th>\n",
       "      <th>id</th>\n",
       "      <th>amount_tsh</th>\n",
       "      <th>date_recorded</th>\n",
       "      <th>funder</th>\n",
       "      <th>gps_height</th>\n",
       "      <th>installer</th>\n",
       "      <th>longitude</th>\n",
       "      <th>latitude</th>\n",
       "      <th>wpt_name</th>\n",
       "      <th>num_private</th>\n",
       "      <th>basin</th>\n",
       "      <th>subvillage</th>\n",
       "      <th>region</th>\n",
       "      <th>region_code</th>\n",
       "      <th>district_code</th>\n",
       "      <th>lga</th>\n",
       "      <th>ward</th>\n",
       "      <th>population</th>\n",
       "      <th>public_meeting</th>\n",
       "      <th>recorded_by</th>\n",
       "      <th>scheme_management</th>\n",
       "      <th>scheme_name</th>\n",
       "      <th>permit</th>\n",
       "      <th>construction_year</th>\n",
       "      <th>extraction_type</th>\n",
       "      <th>extraction_type_group</th>\n",
       "      <th>extraction_type_class</th>\n",
       "      <th>management</th>\n",
       "      <th>management_group</th>\n",
       "      <th>payment</th>\n",
       "      <th>payment_type</th>\n",
       "      <th>water_quality</th>\n",
       "      <th>quality_group</th>\n",
       "      <th>quantity</th>\n",
       "      <th>quantity_group</th>\n",
       "      <th>source</th>\n",
       "      <th>source_type</th>\n",
       "      <th>source_class</th>\n",
       "      <th>waterpoint_type</th>\n",
       "      <th>waterpoint_type_group</th>\n",
       "    </tr>\n",
       "  </thead>\n",
       "  <tbody>\n",
       "    <tr>\n",
       "      <th>0</th>\n",
       "      <td>69572</td>\n",
       "      <td>6000.0</td>\n",
       "      <td>2011-03-14</td>\n",
       "      <td>Roman</td>\n",
       "      <td>1390</td>\n",
       "      <td>Roman</td>\n",
       "      <td>34.938093</td>\n",
       "      <td>-9.856322</td>\n",
       "      <td>none</td>\n",
       "      <td>0</td>\n",
       "      <td>Lake Nyasa</td>\n",
       "      <td>Mnyusi B</td>\n",
       "      <td>Iringa</td>\n",
       "      <td>11</td>\n",
       "      <td>5</td>\n",
       "      <td>Ludewa</td>\n",
       "      <td>Mundindi</td>\n",
       "      <td>109</td>\n",
       "      <td>True</td>\n",
       "      <td>GeoData Consultants Ltd</td>\n",
       "      <td>VWC</td>\n",
       "      <td>Roman</td>\n",
       "      <td>False</td>\n",
       "      <td>1999</td>\n",
       "      <td>gravity</td>\n",
       "      <td>gravity</td>\n",
       "      <td>gravity</td>\n",
       "      <td>vwc</td>\n",
       "      <td>user-group</td>\n",
       "      <td>pay annually</td>\n",
       "      <td>annually</td>\n",
       "      <td>soft</td>\n",
       "      <td>good</td>\n",
       "      <td>enough</td>\n",
       "      <td>enough</td>\n",
       "      <td>spring</td>\n",
       "      <td>spring</td>\n",
       "      <td>groundwater</td>\n",
       "      <td>communal standpipe</td>\n",
       "      <td>communal standpipe</td>\n",
       "    </tr>\n",
       "    <tr>\n",
       "      <th>1</th>\n",
       "      <td>8776</td>\n",
       "      <td>0.0</td>\n",
       "      <td>2013-03-06</td>\n",
       "      <td>Grumeti</td>\n",
       "      <td>1399</td>\n",
       "      <td>GRUMETI</td>\n",
       "      <td>34.698766</td>\n",
       "      <td>-2.147466</td>\n",
       "      <td>Zahanati</td>\n",
       "      <td>0</td>\n",
       "      <td>Lake Victoria</td>\n",
       "      <td>Nyamara</td>\n",
       "      <td>Mara</td>\n",
       "      <td>20</td>\n",
       "      <td>2</td>\n",
       "      <td>Serengeti</td>\n",
       "      <td>Natta</td>\n",
       "      <td>280</td>\n",
       "      <td>NaN</td>\n",
       "      <td>GeoData Consultants Ltd</td>\n",
       "      <td>Other</td>\n",
       "      <td>NaN</td>\n",
       "      <td>True</td>\n",
       "      <td>2010</td>\n",
       "      <td>gravity</td>\n",
       "      <td>gravity</td>\n",
       "      <td>gravity</td>\n",
       "      <td>wug</td>\n",
       "      <td>user-group</td>\n",
       "      <td>never pay</td>\n",
       "      <td>never pay</td>\n",
       "      <td>soft</td>\n",
       "      <td>good</td>\n",
       "      <td>insufficient</td>\n",
       "      <td>insufficient</td>\n",
       "      <td>rainwater harvesting</td>\n",
       "      <td>rainwater harvesting</td>\n",
       "      <td>surface</td>\n",
       "      <td>communal standpipe</td>\n",
       "      <td>communal standpipe</td>\n",
       "    </tr>\n",
       "    <tr>\n",
       "      <th>2</th>\n",
       "      <td>34310</td>\n",
       "      <td>25.0</td>\n",
       "      <td>2013-02-25</td>\n",
       "      <td>Lottery Club</td>\n",
       "      <td>686</td>\n",
       "      <td>World vision</td>\n",
       "      <td>37.460664</td>\n",
       "      <td>-3.821329</td>\n",
       "      <td>Kwa Mahundi</td>\n",
       "      <td>0</td>\n",
       "      <td>Pangani</td>\n",
       "      <td>Majengo</td>\n",
       "      <td>Manyara</td>\n",
       "      <td>21</td>\n",
       "      <td>4</td>\n",
       "      <td>Simanjiro</td>\n",
       "      <td>Ngorika</td>\n",
       "      <td>250</td>\n",
       "      <td>True</td>\n",
       "      <td>GeoData Consultants Ltd</td>\n",
       "      <td>VWC</td>\n",
       "      <td>Nyumba ya mungu pipe scheme</td>\n",
       "      <td>True</td>\n",
       "      <td>2009</td>\n",
       "      <td>gravity</td>\n",
       "      <td>gravity</td>\n",
       "      <td>gravity</td>\n",
       "      <td>vwc</td>\n",
       "      <td>user-group</td>\n",
       "      <td>pay per bucket</td>\n",
       "      <td>per bucket</td>\n",
       "      <td>soft</td>\n",
       "      <td>good</td>\n",
       "      <td>enough</td>\n",
       "      <td>enough</td>\n",
       "      <td>dam</td>\n",
       "      <td>dam</td>\n",
       "      <td>surface</td>\n",
       "      <td>communal standpipe multiple</td>\n",
       "      <td>communal standpipe</td>\n",
       "    </tr>\n",
       "    <tr>\n",
       "      <th>3</th>\n",
       "      <td>67743</td>\n",
       "      <td>0.0</td>\n",
       "      <td>2013-01-28</td>\n",
       "      <td>Unicef</td>\n",
       "      <td>263</td>\n",
       "      <td>UNICEF</td>\n",
       "      <td>38.486161</td>\n",
       "      <td>-11.155298</td>\n",
       "      <td>Zahanati Ya Nanyumbu</td>\n",
       "      <td>0</td>\n",
       "      <td>Ruvuma / Southern Coast</td>\n",
       "      <td>Mahakamani</td>\n",
       "      <td>Mtwara</td>\n",
       "      <td>90</td>\n",
       "      <td>63</td>\n",
       "      <td>Nanyumbu</td>\n",
       "      <td>Nanyumbu</td>\n",
       "      <td>58</td>\n",
       "      <td>True</td>\n",
       "      <td>GeoData Consultants Ltd</td>\n",
       "      <td>VWC</td>\n",
       "      <td>NaN</td>\n",
       "      <td>True</td>\n",
       "      <td>1986</td>\n",
       "      <td>submersible</td>\n",
       "      <td>submersible</td>\n",
       "      <td>submersible</td>\n",
       "      <td>vwc</td>\n",
       "      <td>user-group</td>\n",
       "      <td>never pay</td>\n",
       "      <td>never pay</td>\n",
       "      <td>soft</td>\n",
       "      <td>good</td>\n",
       "      <td>dry</td>\n",
       "      <td>dry</td>\n",
       "      <td>machine dbh</td>\n",
       "      <td>borehole</td>\n",
       "      <td>groundwater</td>\n",
       "      <td>communal standpipe multiple</td>\n",
       "      <td>communal standpipe</td>\n",
       "    </tr>\n",
       "    <tr>\n",
       "      <th>4</th>\n",
       "      <td>19728</td>\n",
       "      <td>0.0</td>\n",
       "      <td>2011-07-13</td>\n",
       "      <td>Action In A</td>\n",
       "      <td>0</td>\n",
       "      <td>Artisan</td>\n",
       "      <td>31.130847</td>\n",
       "      <td>-1.825359</td>\n",
       "      <td>Shuleni</td>\n",
       "      <td>0</td>\n",
       "      <td>Lake Victoria</td>\n",
       "      <td>Kyanyamisa</td>\n",
       "      <td>Kagera</td>\n",
       "      <td>18</td>\n",
       "      <td>1</td>\n",
       "      <td>Karagwe</td>\n",
       "      <td>Nyakasimbi</td>\n",
       "      <td>0</td>\n",
       "      <td>True</td>\n",
       "      <td>GeoData Consultants Ltd</td>\n",
       "      <td>NaN</td>\n",
       "      <td>NaN</td>\n",
       "      <td>True</td>\n",
       "      <td>0</td>\n",
       "      <td>gravity</td>\n",
       "      <td>gravity</td>\n",
       "      <td>gravity</td>\n",
       "      <td>other</td>\n",
       "      <td>other</td>\n",
       "      <td>never pay</td>\n",
       "      <td>never pay</td>\n",
       "      <td>soft</td>\n",
       "      <td>good</td>\n",
       "      <td>seasonal</td>\n",
       "      <td>seasonal</td>\n",
       "      <td>rainwater harvesting</td>\n",
       "      <td>rainwater harvesting</td>\n",
       "      <td>surface</td>\n",
       "      <td>communal standpipe</td>\n",
       "      <td>communal standpipe</td>\n",
       "    </tr>\n",
       "  </tbody>\n",
       "</table>\n",
       "</div>"
      ],
      "text/plain": [
       "      id  amount_tsh date_recorded        funder  gps_height     installer  \\\n",
       "0  69572      6000.0    2011-03-14         Roman        1390         Roman   \n",
       "1   8776         0.0    2013-03-06       Grumeti        1399       GRUMETI   \n",
       "2  34310        25.0    2013-02-25  Lottery Club         686  World vision   \n",
       "3  67743         0.0    2013-01-28        Unicef         263        UNICEF   \n",
       "4  19728         0.0    2011-07-13   Action In A           0       Artisan   \n",
       "\n",
       "   longitude   latitude              wpt_name  num_private  \\\n",
       "0  34.938093  -9.856322                  none            0   \n",
       "1  34.698766  -2.147466              Zahanati            0   \n",
       "2  37.460664  -3.821329           Kwa Mahundi            0   \n",
       "3  38.486161 -11.155298  Zahanati Ya Nanyumbu            0   \n",
       "4  31.130847  -1.825359               Shuleni            0   \n",
       "\n",
       "                     basin  subvillage   region  region_code  district_code  \\\n",
       "0               Lake Nyasa    Mnyusi B   Iringa           11              5   \n",
       "1            Lake Victoria     Nyamara     Mara           20              2   \n",
       "2                  Pangani     Majengo  Manyara           21              4   \n",
       "3  Ruvuma / Southern Coast  Mahakamani   Mtwara           90             63   \n",
       "4            Lake Victoria  Kyanyamisa   Kagera           18              1   \n",
       "\n",
       "         lga        ward  population public_meeting              recorded_by  \\\n",
       "0     Ludewa    Mundindi         109           True  GeoData Consultants Ltd   \n",
       "1  Serengeti       Natta         280            NaN  GeoData Consultants Ltd   \n",
       "2  Simanjiro     Ngorika         250           True  GeoData Consultants Ltd   \n",
       "3   Nanyumbu    Nanyumbu          58           True  GeoData Consultants Ltd   \n",
       "4    Karagwe  Nyakasimbi           0           True  GeoData Consultants Ltd   \n",
       "\n",
       "  scheme_management                  scheme_name permit  construction_year  \\\n",
       "0               VWC                        Roman  False               1999   \n",
       "1             Other                          NaN   True               2010   \n",
       "2               VWC  Nyumba ya mungu pipe scheme   True               2009   \n",
       "3               VWC                          NaN   True               1986   \n",
       "4               NaN                          NaN   True                  0   \n",
       "\n",
       "  extraction_type extraction_type_group extraction_type_class management  \\\n",
       "0         gravity               gravity               gravity        vwc   \n",
       "1         gravity               gravity               gravity        wug   \n",
       "2         gravity               gravity               gravity        vwc   \n",
       "3     submersible           submersible           submersible        vwc   \n",
       "4         gravity               gravity               gravity      other   \n",
       "\n",
       "  management_group         payment payment_type water_quality quality_group  \\\n",
       "0       user-group    pay annually     annually          soft          good   \n",
       "1       user-group       never pay    never pay          soft          good   \n",
       "2       user-group  pay per bucket   per bucket          soft          good   \n",
       "3       user-group       never pay    never pay          soft          good   \n",
       "4            other       never pay    never pay          soft          good   \n",
       "\n",
       "       quantity quantity_group                source           source_type  \\\n",
       "0        enough         enough                spring                spring   \n",
       "1  insufficient   insufficient  rainwater harvesting  rainwater harvesting   \n",
       "2        enough         enough                   dam                   dam   \n",
       "3           dry            dry           machine dbh              borehole   \n",
       "4      seasonal       seasonal  rainwater harvesting  rainwater harvesting   \n",
       "\n",
       "  source_class              waterpoint_type waterpoint_type_group  \n",
       "0  groundwater           communal standpipe    communal standpipe  \n",
       "1      surface           communal standpipe    communal standpipe  \n",
       "2      surface  communal standpipe multiple    communal standpipe  \n",
       "3  groundwater  communal standpipe multiple    communal standpipe  \n",
       "4      surface           communal standpipe    communal standpipe  "
      ]
     },
     "execution_count": 20,
     "metadata": {},
     "output_type": "execute_result"
    }
   ],
   "source": [
    "X.head()"
   ]
  },
  {
   "cell_type": "code",
   "execution_count": 21,
   "id": "14291b18",
   "metadata": {
    "ExecuteTime": {
     "end_time": "2022-04-20T19:20:28.449858Z",
     "start_time": "2022-04-20T19:20:27.196562Z"
    },
    "scrolled": false
   },
   "outputs": [
    {
     "data": {
      "text/html": [
       "<style  type=\"text/css\" >\n",
       "</style><table id=\"T_effd44d2_c0de_11ec_a8ec_ec2e98d37a84\" ><caption>Table Info</caption><thead>    <tr>        <th class=\"blank level0\" ></th>        <th class=\"col_heading level0 col0\" >Number</th>        <th class=\"col_heading level0 col1\" >Percentage</th>    </tr>    <tr>        <th class=\"index_name level0\" ></th>        <th class=\"blank\" ></th>        <th class=\"blank\" ></th>    </tr></thead><tbody>\n",
       "                <tr>\n",
       "                        <th id=\"T_effd44d2_c0de_11ec_a8ec_ec2e98d37a84level0_row0\" class=\"row_heading level0 row0\" >Zeroes</th>\n",
       "                        <td id=\"T_effd44d2_c0de_11ec_a8ec_ec2e98d37a84row0_col0\" class=\"data row0 col0\" >0</td>\n",
       "                        <td id=\"T_effd44d2_c0de_11ec_a8ec_ec2e98d37a84row0_col1\" class=\"data row0 col1\" >0.00 %</td>\n",
       "            </tr>\n",
       "            <tr>\n",
       "                        <th id=\"T_effd44d2_c0de_11ec_a8ec_ec2e98d37a84level0_row1\" class=\"row_heading level0 row1\" >Missing</th>\n",
       "                        <td id=\"T_effd44d2_c0de_11ec_a8ec_ec2e98d37a84row1_col0\" class=\"data row1 col0\" >0</td>\n",
       "                        <td id=\"T_effd44d2_c0de_11ec_a8ec_ec2e98d37a84row1_col1\" class=\"data row1 col1\" >0.00 %</td>\n",
       "            </tr>\n",
       "            <tr>\n",
       "                        <th id=\"T_effd44d2_c0de_11ec_a8ec_ec2e98d37a84level0_row2\" class=\"row_heading level0 row2\" >Unknown</th>\n",
       "                        <td id=\"T_effd44d2_c0de_11ec_a8ec_ec2e98d37a84row2_col0\" class=\"data row2 col0\" >0</td>\n",
       "                        <td id=\"T_effd44d2_c0de_11ec_a8ec_ec2e98d37a84row2_col1\" class=\"data row2 col1\" >0.00 %</td>\n",
       "            </tr>\n",
       "            <tr>\n",
       "                        <th id=\"T_effd44d2_c0de_11ec_a8ec_ec2e98d37a84level0_row3\" class=\"row_heading level0 row3\" >Uniques</th>\n",
       "                        <td id=\"T_effd44d2_c0de_11ec_a8ec_ec2e98d37a84row3_col0\" class=\"data row3 col0\" >3</td>\n",
       "                        <td id=\"T_effd44d2_c0de_11ec_a8ec_ec2e98d37a84row3_col1\" class=\"data row3 col1\" >0.01 %</td>\n",
       "            </tr>\n",
       "            <tr>\n",
       "                        <th id=\"T_effd44d2_c0de_11ec_a8ec_ec2e98d37a84level0_row4\" class=\"row_heading level0 row4\" >Mean</th>\n",
       "                        <td id=\"T_effd44d2_c0de_11ec_a8ec_ec2e98d37a84row4_col0\" class=\"data row4 col0\" >0.00</td>\n",
       "                        <td id=\"T_effd44d2_c0de_11ec_a8ec_ec2e98d37a84row4_col1\" class=\"data row4 col1\" >-</td>\n",
       "            </tr>\n",
       "            <tr>\n",
       "                        <th id=\"T_effd44d2_c0de_11ec_a8ec_ec2e98d37a84level0_row5\" class=\"row_heading level0 row5\" >Median</th>\n",
       "                        <td id=\"T_effd44d2_c0de_11ec_a8ec_ec2e98d37a84row5_col0\" class=\"data row5 col0\" >0.00</td>\n",
       "                        <td id=\"T_effd44d2_c0de_11ec_a8ec_ec2e98d37a84row5_col1\" class=\"data row5 col1\" >-</td>\n",
       "            </tr>\n",
       "    </tbody></table>"
      ],
      "text/plain": [
       "<pandas.io.formats.style.Styler at 0x25f3c5a2580>"
      ]
     },
     "metadata": {},
     "output_type": "display_data"
    },
    {
     "data": {
      "text/html": [
       "<style  type=\"text/css\" >\n",
       "</style><table id=\"T_effd92fa_c0de_11ec_8720_ec2e98d37a84\" ><caption>Top 10 Value Count Info</caption><thead>    <tr>        <th class=\"blank level0\" ></th>        <th class=\"col_heading level0 col0\" >Value Count</th>        <th class=\"col_heading level0 col1\" >% Value Count</th>    </tr></thead><tbody>\n",
       "                <tr>\n",
       "                        <th id=\"T_effd92fa_c0de_11ec_8720_ec2e98d37a84level0_row0\" class=\"row_heading level0 row0\" >functional</th>\n",
       "                        <td id=\"T_effd92fa_c0de_11ec_8720_ec2e98d37a84row0_col0\" class=\"data row0 col0\" >32259</td>\n",
       "                        <td id=\"T_effd92fa_c0de_11ec_8720_ec2e98d37a84row0_col1\" class=\"data row0 col1\" >54.308081</td>\n",
       "            </tr>\n",
       "            <tr>\n",
       "                        <th id=\"T_effd92fa_c0de_11ec_8720_ec2e98d37a84level0_row1\" class=\"row_heading level0 row1\" >non functional</th>\n",
       "                        <td id=\"T_effd92fa_c0de_11ec_8720_ec2e98d37a84row1_col0\" class=\"data row1 col0\" >22824</td>\n",
       "                        <td id=\"T_effd92fa_c0de_11ec_8720_ec2e98d37a84row1_col1\" class=\"data row1 col1\" >38.424242</td>\n",
       "            </tr>\n",
       "            <tr>\n",
       "                        <th id=\"T_effd92fa_c0de_11ec_8720_ec2e98d37a84level0_row2\" class=\"row_heading level0 row2\" >functional needs repair</th>\n",
       "                        <td id=\"T_effd92fa_c0de_11ec_8720_ec2e98d37a84row2_col0\" class=\"data row2 col0\" >4317</td>\n",
       "                        <td id=\"T_effd92fa_c0de_11ec_8720_ec2e98d37a84row2_col1\" class=\"data row2 col1\" >7.267677</td>\n",
       "            </tr>\n",
       "    </tbody></table>"
      ],
      "text/plain": [
       "<pandas.io.formats.style.Styler at 0x25f01a643a0>"
      ]
     },
     "metadata": {},
     "output_type": "display_data"
    },
    {
     "data": {
      "image/png": "[encoded data removed]",
      "text/plain": [
       "<Figure size 1080x576 with 1 Axes>"
      ]
     },
     "metadata": {
      "needs_background": "light"
     },
     "output_type": "display_data"
    }
   ],
   "source": [
    "colInfo(y)"
   ]
  },
  {
   "cell_type": "markdown",
   "id": "17ceb912",
   "metadata": {},
   "source": [
    "# Train Test Split"
   ]
  },
  {
   "cell_type": "code",
   "execution_count": 22,
   "id": "7ef9d1db",
   "metadata": {
    "ExecuteTime": {
     "end_time": "2022-04-20T19:20:28.513883Z",
     "start_time": "2022-04-20T19:20:28.450859Z"
    }
   },
   "outputs": [],
   "source": [
    "X_train,X_test, y_train, y_test = train_test_split(X,y,random_state=42)"
   ]
  },
  {
   "cell_type": "code",
   "execution_count": 23,
   "id": "b366e658",
   "metadata": {
    "ExecuteTime": {
     "end_time": "2022-04-20T19:20:28.529891Z",
     "start_time": "2022-04-20T19:20:28.514884Z"
    }
   },
   "outputs": [
    {
     "data": {
      "text/plain": [
       "functional                 24161\n",
       "non functional             17146\n",
       "functional needs repair     3243\n",
       "Name: status_group, dtype: int64"
      ]
     },
     "execution_count": 23,
     "metadata": {},
     "output_type": "execute_result"
    }
   ],
   "source": [
    "y_train.value_counts()"
   ]
  },
  {
   "cell_type": "code",
   "execution_count": 24,
   "id": "54261fb1",
   "metadata": {
    "ExecuteTime": {
     "end_time": "2022-04-20T19:20:28.545895Z",
     "start_time": "2022-04-20T19:20:28.530891Z"
    },
    "scrolled": false
   },
   "outputs": [
    {
     "data": {
      "text/plain": [
       "functional                 8098\n",
       "non functional             5678\n",
       "functional needs repair    1074\n",
       "Name: status_group, dtype: int64"
      ]
     },
     "execution_count": 24,
     "metadata": {},
     "output_type": "execute_result"
    }
   ],
   "source": [
    "y_test.value_counts()"
   ]
  },
  {
   "cell_type": "markdown",
   "id": "14c7d9bb",
   "metadata": {},
   "source": [
    "# Pipelines"
   ]
  },
  {
   "cell_type": "markdown",
   "id": "49e53cc7",
   "metadata": {},
   "source": [
    "### GPS coordinates"
   ]
  },
  {
   "cell_type": "code",
   "execution_count": 25,
   "id": "6d9bbabd",
   "metadata": {
    "ExecuteTime": {
     "end_time": "2022-04-20T19:20:28.577902Z",
     "start_time": "2022-04-20T19:20:28.546895Z"
    },
    "scrolled": false
   },
   "outputs": [
    {
     "data": {
      "text/plain": [
       "latitude       longitude\n",
       "-2.000000e-08  0.000000     1339\n",
       "-6.980216e+00  39.096499       2\n",
       "-7.056372e+00  37.375717       2\n",
       "dtype: int64"
      ]
     },
     "execution_count": 25,
     "metadata": {},
     "output_type": "execute_result"
    }
   ],
   "source": [
    "X_train[['latitude','longitude']].value_counts()[:3]"
   ]
  },
  {
   "cell_type": "code",
   "execution_count": 26,
   "id": "b9c231f7",
   "metadata": {
    "ExecuteTime": {
     "end_time": "2022-04-20T19:20:28.593906Z",
     "start_time": "2022-04-20T19:20:28.578903Z"
    },
    "scrolled": true
   },
   "outputs": [
    {
     "data": {
      "text/plain": [
       "latitude       longitude\n",
       "-2.000000e-08  0.000000     473\n",
       "-2.490324e+00  32.987670      2\n",
       "-6.963557e+00  37.543351      2\n",
       "dtype: int64"
      ]
     },
     "execution_count": 26,
     "metadata": {},
     "output_type": "execute_result"
    }
   ],
   "source": [
    "X_test[['latitude','longitude']].value_counts()[:3]"
   ]
  },
  {
   "cell_type": "markdown",
   "id": "58f68aea",
   "metadata": {
    "ExecuteTime": {
     "end_time": "2022-04-20T13:24:02.402456Z",
     "start_time": "2022-04-20T13:24:02.397455Z"
    }
   },
   "source": [
    "The data set has 1812 (inluding the test set) records where the latitude and longitude were not correctly recorded. They've been recorded as $(-2\\times10^{-8},0)$ or effectively $(0,0)$ which is off the west coast of Africa in the Atlantic Ocean. All of these coordinates belong to 2 regions. We will use a custom imputer to impute these values during our pipeline operations."
   ]
  },
  {
   "cell_type": "code",
   "execution_count": 27,
   "id": "c610fd4c",
   "metadata": {
    "ExecuteTime": {
     "end_time": "2022-04-20T19:20:28.609910Z",
     "start_time": "2022-04-20T19:20:28.594907Z"
    }
   },
   "outputs": [],
   "source": [
    "from src.sklearn_helper import CoordinatesImputer"
   ]
  },
  {
   "cell_type": "markdown",
   "id": "57470230",
   "metadata": {},
   "source": [
    "### construction_year"
   ]
  },
  {
   "cell_type": "code",
   "execution_count": 28,
   "id": "69655eb2",
   "metadata": {
    "ExecuteTime": {
     "end_time": "2022-04-20T19:20:28.895980Z",
     "start_time": "2022-04-20T19:20:28.611912Z"
    },
    "scrolled": false
   },
   "outputs": [
    {
     "data": {
      "text/html": [
       "<style  type=\"text/css\" >\n",
       "</style><table id=\"T_f029d654_c0de_11ec_8199_ec2e98d37a84\" ><caption>Table Info</caption><thead>    <tr>        <th class=\"blank level0\" ></th>        <th class=\"col_heading level0 col0\" >Number</th>        <th class=\"col_heading level0 col1\" >Percentage</th>    </tr>    <tr>        <th class=\"index_name level0\" ></th>        <th class=\"blank\" ></th>        <th class=\"blank\" ></th>    </tr></thead><tbody>\n",
       "                <tr>\n",
       "                        <th id=\"T_f029d654_c0de_11ec_8199_ec2e98d37a84level0_row0\" class=\"row_heading level0 row0\" >Zeroes</th>\n",
       "                        <td id=\"T_f029d654_c0de_11ec_8199_ec2e98d37a84row0_col0\" class=\"data row0 col0\" >15,463</td>\n",
       "                        <td id=\"T_f029d654_c0de_11ec_8199_ec2e98d37a84row0_col1\" class=\"data row0 col1\" >34.71 %</td>\n",
       "            </tr>\n",
       "            <tr>\n",
       "                        <th id=\"T_f029d654_c0de_11ec_8199_ec2e98d37a84level0_row1\" class=\"row_heading level0 row1\" >Missing</th>\n",
       "                        <td id=\"T_f029d654_c0de_11ec_8199_ec2e98d37a84row1_col0\" class=\"data row1 col0\" >0</td>\n",
       "                        <td id=\"T_f029d654_c0de_11ec_8199_ec2e98d37a84row1_col1\" class=\"data row1 col1\" >0.00 %</td>\n",
       "            </tr>\n",
       "            <tr>\n",
       "                        <th id=\"T_f029d654_c0de_11ec_8199_ec2e98d37a84level0_row2\" class=\"row_heading level0 row2\" >Unknown</th>\n",
       "                        <td id=\"T_f029d654_c0de_11ec_8199_ec2e98d37a84row2_col0\" class=\"data row2 col0\" >0</td>\n",
       "                        <td id=\"T_f029d654_c0de_11ec_8199_ec2e98d37a84row2_col1\" class=\"data row2 col1\" >0.00 %</td>\n",
       "            </tr>\n",
       "            <tr>\n",
       "                        <th id=\"T_f029d654_c0de_11ec_8199_ec2e98d37a84level0_row3\" class=\"row_heading level0 row3\" >Uniques</th>\n",
       "                        <td id=\"T_f029d654_c0de_11ec_8199_ec2e98d37a84row3_col0\" class=\"data row3 col0\" >55</td>\n",
       "                        <td id=\"T_f029d654_c0de_11ec_8199_ec2e98d37a84row3_col1\" class=\"data row3 col1\" >0.12 %</td>\n",
       "            </tr>\n",
       "            <tr>\n",
       "                        <th id=\"T_f029d654_c0de_11ec_8199_ec2e98d37a84level0_row4\" class=\"row_heading level0 row4\" >Mean</th>\n",
       "                        <td id=\"T_f029d654_c0de_11ec_8199_ec2e98d37a84row4_col0\" class=\"data row4 col0\" >1303.75</td>\n",
       "                        <td id=\"T_f029d654_c0de_11ec_8199_ec2e98d37a84row4_col1\" class=\"data row4 col1\" >-</td>\n",
       "            </tr>\n",
       "            <tr>\n",
       "                        <th id=\"T_f029d654_c0de_11ec_8199_ec2e98d37a84level0_row5\" class=\"row_heading level0 row5\" >Median</th>\n",
       "                        <td id=\"T_f029d654_c0de_11ec_8199_ec2e98d37a84row5_col0\" class=\"data row5 col0\" >1986.00</td>\n",
       "                        <td id=\"T_f029d654_c0de_11ec_8199_ec2e98d37a84row5_col1\" class=\"data row5 col1\" >-</td>\n",
       "            </tr>\n",
       "    </tbody></table>"
      ],
      "text/plain": [
       "<pandas.io.formats.style.Styler at 0x25f04f820d0>"
      ]
     },
     "metadata": {},
     "output_type": "display_data"
    },
    {
     "data": {
      "text/html": [
       "<style  type=\"text/css\" >\n",
       "</style><table id=\"T_f029fd63_c0de_11ec_af75_ec2e98d37a84\" ><caption>Top 10 Value Count Info</caption><thead>    <tr>        <th class=\"blank level0\" ></th>        <th class=\"col_heading level0 col0\" >Value Count</th>        <th class=\"col_heading level0 col1\" >% Value Count</th>    </tr></thead><tbody>\n",
       "                <tr>\n",
       "                        <th id=\"T_f029fd63_c0de_11ec_af75_ec2e98d37a84level0_row0\" class=\"row_heading level0 row0\" >0</th>\n",
       "                        <td id=\"T_f029fd63_c0de_11ec_af75_ec2e98d37a84row0_col0\" class=\"data row0 col0\" >15463</td>\n",
       "                        <td id=\"T_f029fd63_c0de_11ec_af75_ec2e98d37a84row0_col1\" class=\"data row0 col1\" >34.709315</td>\n",
       "            </tr>\n",
       "            <tr>\n",
       "                        <th id=\"T_f029fd63_c0de_11ec_af75_ec2e98d37a84level0_row1\" class=\"row_heading level0 row1\" >2010</th>\n",
       "                        <td id=\"T_f029fd63_c0de_11ec_af75_ec2e98d37a84row1_col0\" class=\"data row1 col0\" >2001</td>\n",
       "                        <td id=\"T_f029fd63_c0de_11ec_af75_ec2e98d37a84row1_col1\" class=\"data row1 col1\" >4.491582</td>\n",
       "            </tr>\n",
       "            <tr>\n",
       "                        <th id=\"T_f029fd63_c0de_11ec_af75_ec2e98d37a84level0_row2\" class=\"row_heading level0 row2\" >2008</th>\n",
       "                        <td id=\"T_f029fd63_c0de_11ec_af75_ec2e98d37a84row2_col0\" class=\"data row2 col0\" >1959</td>\n",
       "                        <td id=\"T_f029fd63_c0de_11ec_af75_ec2e98d37a84row2_col1\" class=\"data row2 col1\" >4.397306</td>\n",
       "            </tr>\n",
       "            <tr>\n",
       "                        <th id=\"T_f029fd63_c0de_11ec_af75_ec2e98d37a84level0_row3\" class=\"row_heading level0 row3\" >2009</th>\n",
       "                        <td id=\"T_f029fd63_c0de_11ec_af75_ec2e98d37a84row3_col0\" class=\"data row3 col0\" >1892</td>\n",
       "                        <td id=\"T_f029fd63_c0de_11ec_af75_ec2e98d37a84row3_col1\" class=\"data row3 col1\" >4.246914</td>\n",
       "            </tr>\n",
       "            <tr>\n",
       "                        <th id=\"T_f029fd63_c0de_11ec_af75_ec2e98d37a84level0_row4\" class=\"row_heading level0 row4\" >2000</th>\n",
       "                        <td id=\"T_f029fd63_c0de_11ec_af75_ec2e98d37a84row4_col0\" class=\"data row4 col0\" >1595</td>\n",
       "                        <td id=\"T_f029fd63_c0de_11ec_af75_ec2e98d37a84row4_col1\" class=\"data row4 col1\" >3.580247</td>\n",
       "            </tr>\n",
       "            <tr>\n",
       "                        <th id=\"T_f029fd63_c0de_11ec_af75_ec2e98d37a84level0_row5\" class=\"row_heading level0 row5\" >2007</th>\n",
       "                        <td id=\"T_f029fd63_c0de_11ec_af75_ec2e98d37a84row5_col0\" class=\"data row5 col0\" >1195</td>\n",
       "                        <td id=\"T_f029fd63_c0de_11ec_af75_ec2e98d37a84row5_col1\" class=\"data row5 col1\" >2.682379</td>\n",
       "            </tr>\n",
       "            <tr>\n",
       "                        <th id=\"T_f029fd63_c0de_11ec_af75_ec2e98d37a84level0_row6\" class=\"row_heading level0 row6\" >2006</th>\n",
       "                        <td id=\"T_f029fd63_c0de_11ec_af75_ec2e98d37a84row6_col0\" class=\"data row6 col0\" >1103</td>\n",
       "                        <td id=\"T_f029fd63_c0de_11ec_af75_ec2e98d37a84row6_col1\" class=\"data row6 col1\" >2.475870</td>\n",
       "            </tr>\n",
       "            <tr>\n",
       "                        <th id=\"T_f029fd63_c0de_11ec_af75_ec2e98d37a84level0_row7\" class=\"row_heading level0 row7\" >2003</th>\n",
       "                        <td id=\"T_f029fd63_c0de_11ec_af75_ec2e98d37a84row7_col0\" class=\"data row7 col0\" >989</td>\n",
       "                        <td id=\"T_f029fd63_c0de_11ec_af75_ec2e98d37a84row7_col1\" class=\"data row7 col1\" >2.219978</td>\n",
       "            </tr>\n",
       "            <tr>\n",
       "                        <th id=\"T_f029fd63_c0de_11ec_af75_ec2e98d37a84level0_row8\" class=\"row_heading level0 row8\" >2011</th>\n",
       "                        <td id=\"T_f029fd63_c0de_11ec_af75_ec2e98d37a84row8_col0\" class=\"data row8 col0\" >943</td>\n",
       "                        <td id=\"T_f029fd63_c0de_11ec_af75_ec2e98d37a84row8_col1\" class=\"data row8 col1\" >2.116723</td>\n",
       "            </tr>\n",
       "            <tr>\n",
       "                        <th id=\"T_f029fd63_c0de_11ec_af75_ec2e98d37a84level0_row9\" class=\"row_heading level0 row9\" >2012</th>\n",
       "                        <td id=\"T_f029fd63_c0de_11ec_af75_ec2e98d37a84row9_col0\" class=\"data row9 col0\" >839</td>\n",
       "                        <td id=\"T_f029fd63_c0de_11ec_af75_ec2e98d37a84row9_col1\" class=\"data row9 col1\" >1.883277</td>\n",
       "            </tr>\n",
       "    </tbody></table>"
      ],
      "text/plain": [
       "<pandas.io.formats.style.Styler at 0x25f01a72a60>"
      ]
     },
     "metadata": {},
     "output_type": "display_data"
    },
    {
     "data": {
      "image/png": "[encoded data removed]",
      "text/plain": [
       "<Figure size 1080x576 with 1 Axes>"
      ]
     },
     "metadata": {
      "needs_background": "light"
     },
     "output_type": "display_data"
    }
   ],
   "source": [
    "colInfo(X_train.construction_year)"
   ]
  },
  {
   "cell_type": "markdown",
   "id": "41d51696",
   "metadata": {},
   "source": [
    "Every well water pump has a construction year. However, as you can see in the training set there is a high number (34%) of zeroes. Assuming that this is an error and well water pumps were not being installed in 0AD, we shall impute these values using kNN imputer. Lets look at what the rest of the data looks like."
   ]
  },
  {
   "cell_type": "code",
   "execution_count": 29,
   "id": "d62bec31",
   "metadata": {
    "ExecuteTime": {
     "end_time": "2022-04-20T19:20:28.911983Z",
     "start_time": "2022-04-20T19:20:28.896979Z"
    }
   },
   "outputs": [],
   "source": [
    "# enc_columnNames =  \n",
    "# col_ImputeToMedian + \\\n",
    "# list(ct.transformers_[1][1]['cat1_ohe'].get_feature_names_out())  +\\\n",
    "# list(ct.transformers_[2][1]['cat2_ohe'].get_feature_names_out())\n",
    "\n",
    "# X_train_proc = pd.DataFrame(ct.fit_transform(X_train,y_train),columns = enc_columnNames)\n",
    "# X_test_proc = pd.DataFrame(ct.transform(X_test),columns = enc_columnNames)\n",
    "\n",
    "# print(X_train_proc)\n",
    "# print(X_test_proc)"
   ]
  },
  {
   "cell_type": "markdown",
   "id": "60c553eb",
   "metadata": {},
   "source": [
    "### Transformations"
   ]
  },
  {
   "cell_type": "code",
   "execution_count": 30,
   "id": "cfa65f45",
   "metadata": {
    "ExecuteTime": {
     "end_time": "2022-04-20T19:20:35.910264Z",
     "start_time": "2022-04-20T19:20:35.898262Z"
    }
   },
   "outputs": [],
   "source": [
    "#Impute nans as well as unknowns\n",
    "subpipe_cat1 = Pipeline(steps=[\n",
    "    ('cat1_imp1', SimpleImputer(missing_values=np.nan,strategy='most_frequent')),\n",
    "    ('cat1_imp2', SimpleImputer(missing_values='unknown',strategy='most_frequent')),\n",
    "    ('cat1_ohe', OneHotEncoder(sparse=False, handle_unknown='ignore'))\n",
    "])\n",
    "\n",
    "#Only OneHotEncode\n",
    "subpipe_cat2 = Pipeline(steps=[\n",
    "    ('cat2_ohe', OneHotEncoder(sparse=False, handle_unknown='ignore'))\n",
    "])\n",
    "\n",
    "#Impute mean and scale (0,1)\n",
    "subpipe_num = Pipeline(steps=[\n",
    "    ('num_imp', SimpleImputer(missing_values=np.nan,strategy='mean')),\n",
    "    ('num_sc', MinMaxScaler()),    \n",
    "])\n",
    "\n",
    "#Impute (0,0) coordinates from the corresponding regions mean/median  and scale (0,1)\n",
    "subpipe_coord = Pipeline(steps=[\n",
    "    ('coord_imp', CoordinatesImputer(groupByTarget='region',metric='median')), \n",
    "    ('coord_sc', MinMaxScaler()),    \n",
    "])\n",
    "\n",
    "#kNN impute construction years = 0. scale (0,1)\n",
    "subpipe_cYr = Pipeline(steps=[\n",
    "    ('cYr_imp', KNNImputer(missing_values=0,n_neighbors=3)),\n",
    "    ('cYr_sc', MinMaxScaler()),    \n",
    "])"
   ]
  },
  {
   "cell_type": "code",
   "execution_count": 31,
   "id": "55f75bf9",
   "metadata": {
    "ExecuteTime": {
     "end_time": "2022-04-20T19:20:39.840893Z",
     "start_time": "2022-04-20T19:20:39.831892Z"
    }
   },
   "outputs": [],
   "source": [
    "# These are columns that will be only One Hot Encoded\n",
    "col_OneHotEncode = ['basin','extraction_type_class','management','payment','quality_group',\n",
    "                    'quantity','source_type','waterpoint_type_group']"
   ]
  },
  {
   "cell_type": "code",
   "execution_count": 32,
   "id": "2080cf02",
   "metadata": {
    "ExecuteTime": {
     "end_time": "2022-04-20T19:20:40.264579Z",
     "start_time": "2022-04-20T19:20:40.262578Z"
    }
   },
   "outputs": [],
   "source": [
    "#These columns will be Imputed to fill in nan as well as 'unknown' to their mode\n",
    "#Then they will be One Hot Encoded\n",
    "col_ImputeAndOHE = ['public_meeting','scheme_management','permit','source_class']"
   ]
  },
  {
   "cell_type": "markdown",
   "id": "496b097a",
   "metadata": {},
   "source": [
    "# Models - Baselines"
   ]
  },
  {
   "cell_type": "markdown",
   "id": "690e9971",
   "metadata": {},
   "source": [
    "## Model 00 - Dummy Classifier"
   ]
  },
  {
   "cell_type": "markdown",
   "id": "882ef032",
   "metadata": {},
   "source": [
    "Using a dummy classifier to establish our baseline.\\\n",
    "Since, this classifier doesn ignores input variables, and in the interest of time, we will not employ our column transformation pipeline."
   ]
  },
  {
   "cell_type": "code",
   "execution_count": null,
   "id": "08c5139a",
   "metadata": {
    "ExecuteTime": {
     "end_time": "2022-04-20T16:42:54.231964Z",
     "start_time": "2022-04-20T16:42:54.014839Z"
    },
    "scrolled": true
   },
   "outputs": [],
   "source": [
    "baseline_00 = DummyClassifier()\n",
    "baseline_00.fit(X_train,y_train)\n",
    "\n",
    "cross_val_score(baseline_00,X_train,y_train).mean()"
   ]
  },
  {
   "cell_type": "markdown",
   "id": "bbaec7f2",
   "metadata": {},
   "source": [
    "54%. Thats our dummy classifier baseline"
   ]
  },
  {
   "cell_type": "code",
   "execution_count": null,
   "id": "f7ef2474",
   "metadata": {
    "ExecuteTime": {
     "end_time": "2022-04-20T16:44:29.085470Z",
     "start_time": "2022-04-20T16:44:29.079468Z"
    }
   },
   "outputs": [],
   "source": [
    "filePath = f'models/{baseline_00=}'.split('=')[0] + '.sav'\n",
    "pickle.dump(baseline_00, open(filePath, 'wb'))"
   ]
  },
  {
   "cell_type": "markdown",
   "id": "48f9943f",
   "metadata": {},
   "source": [
    "##  Model 01 - First Simple Model"
   ]
  },
  {
   "cell_type": "code",
   "execution_count": 34,
   "id": "51be6a17",
   "metadata": {
    "ExecuteTime": {
     "end_time": "2022-04-20T19:21:25.776994Z",
     "start_time": "2022-04-20T19:21:25.759992Z"
    }
   },
   "outputs": [],
   "source": [
    "ct = ColumnTransformer(transformers=[\n",
    "    \n",
    "    ('ct_cyr',subpipe_cYr,['construction_year']),\n",
    "    ('ct_coord',subpipe_coord, ['latitude','longitude','region']), #Note: region is passed to allow groupby. Not returned.\n",
    "    ('ct_cat1',subpipe_cat1,col_ImputeAndOHE),\n",
    "    ('ct_cat2',subpipe_cat2,col_OneHotEncode),\n",
    "\n",
    "])"
   ]
  },
  {
   "cell_type": "code",
   "execution_count": 38,
   "id": "1c2c17f4",
   "metadata": {
    "ExecuteTime": {
     "end_time": "2022-04-20T19:25:40.359183Z",
     "start_time": "2022-04-20T19:25:10.496809Z"
    }
   },
   "outputs": [],
   "source": [
    "log_reg_pipe = Pipeline([\n",
    "    ('ct',ct),\n",
    "   ('log_reg',LogisticRegression(random_state=42,n_jobs=Notebook_n_jobs))\n",
    "])\n",
    "log_reg_pipe.fit(X_train,y_train);"
   ]
  },
  {
   "cell_type": "code",
   "execution_count": 37,
   "id": "f5a97633",
   "metadata": {
    "ExecuteTime": {
     "end_time": "2022-04-20T19:24:28.288360Z",
     "start_time": "2022-04-20T19:22:30.854237Z"
    }
   },
   "outputs": [
    {
     "data": {
      "text/plain": [
       "0.7297643097643097"
      ]
     },
     "execution_count": 37,
     "metadata": {},
     "output_type": "execute_result"
    }
   ],
   "source": [
    "filePath = f'models/{log_reg_pipe=}'.split('=')[0] + '.sav'\n",
    "pickle.dump(log_reg_pipe, open(filePath, 'wb'))\n",
    "\n",
    "cross_val_score(log_reg_pipe,X_train,y_train).mean()"
   ]
  },
  {
   "cell_type": "markdown",
   "id": "3f4fc7e9",
   "metadata": {},
   "source": [
    "72.97%. In conjunction with our column transformer a simple logistic regression model shows massive improvements over the baseline.\n",
    "\n",
    "Lets try and tune it better."
   ]
  },
  {
   "cell_type": "code",
   "execution_count": 39,
   "id": "feb9fc4e",
   "metadata": {
    "ExecuteTime": {
     "end_time": "2022-04-20T19:26:22.087239Z",
     "start_time": "2022-04-20T19:25:57.439649Z"
    },
    "scrolled": false
   },
   "outputs": [
    {
     "name": "stderr",
     "output_type": "stream",
     "text": [
      "C:\\Users\\saads\\anaconda3\\envs\\learn-env\\lib\\site-packages\\sklearn\\utils\\deprecation.py:87: FutureWarning: Function plot_confusion_matrix is deprecated; Function `plot_confusion_matrix` is deprecated in 1.0 and will be removed in 1.2. Use one of the class methods: ConfusionMatrixDisplay.from_predictions or ConfusionMatrixDisplay.from_estimator.\n",
      "  warnings.warn(msg, category=FutureWarning)\n"
     ]
    },
    {
     "data": {
      "text/plain": [
       "<sklearn.metrics._plot.confusion_matrix.ConfusionMatrixDisplay at 0x25f009a4a60>"
      ]
     },
     "execution_count": 39,
     "metadata": {},
     "output_type": "execute_result"
    },
    {
     "data": {
      "image/png": "[encoded data removed]",
      "text/plain": [
       "<Figure size 432x288 with 2 Axes>"
      ]
     },
     "metadata": {
      "needs_background": "light"
     },
     "output_type": "display_data"
    }
   ],
   "source": [
    "plot_confusion_matrix(log_reg_pipe,X_train,y_train)"
   ]
  },
  {
   "cell_type": "code",
   "execution_count": 42,
   "id": "92b21f91",
   "metadata": {
    "ExecuteTime": {
     "end_time": "2022-04-20T19:42:25.358639Z",
     "start_time": "2022-04-20T19:42:00.449004Z"
    }
   },
   "outputs": [
    {
     "name": "stdout",
     "output_type": "stream",
     "text": [
      "                         precision    recall  f1-score   support\n",
      "\n",
      "             functional       0.70      0.91      0.79     24161\n",
      "functional needs repair       0.16      0.01      0.01      3243\n",
      "         non functional       0.80      0.62      0.70     17146\n",
      "\n",
      "               accuracy                           0.73     44550\n",
      "              macro avg       0.56      0.51      0.50     44550\n",
      "           weighted avg       0.70      0.73      0.70     44550\n",
      "\n"
     ]
    }
   ],
   "source": [
    "print(classification_report(y_train,log_reg_pipe.predict(X_train)))"
   ]
  },
  {
   "cell_type": "markdown",
   "id": "15d3d6e4",
   "metadata": {
    "ExecuteTime": {
     "end_time": "2022-04-20T16:56:46.063835Z",
     "start_time": "2022-04-20T16:56:46.023737Z"
    }
   },
   "source": [
    "### Hypertuned Logistic Regression model"
   ]
  },
  {
   "cell_type": "code",
   "execution_count": null,
   "id": "76d99ac6",
   "metadata": {
    "ExecuteTime": {
     "start_time": "2022-04-20T19:45:48.943Z"
    }
   },
   "outputs": [],
   "source": [
    "params = {}\n",
    "params['log_reg__C'] = [0.1, 1, 10]\n",
    "params['log_reg__max_iter'] = [100, 150]\n",
    "params['log_reg__solver'] = ['lbfgs', 'sag']\n",
    "\n",
    "log_reg_gs1 = GridSearchCV(estimator=log_reg_pipe,\n",
    "                           param_grid=params,\n",
    "                           cv=5,\n",
    "                           n_jobs=Notebook_n_jobs,\n",
    "                           scoring=['precision', 'accuracy'],\n",
    "                           refit=False,\n",
    "                           return_train_score=True)\n",
    "log_reg_gs1.fit(X_train, y_train)"
   ]
  },
  {
   "cell_type": "code",
   "execution_count": null,
   "id": "af7ee42a",
   "metadata": {
    "ExecuteTime": {
     "start_time": "2022-04-20T17:20:01.951Z"
    }
   },
   "outputs": [],
   "source": [
    "filePath = f'models/{log_reg_gs1=}'.split('=')[0] + '.sav'\n",
    "pickle.dump(log_reg_gs1, open(filePath, 'wb'))\n",
    "\n",
    "log_reg_gs1."
   ]
  },
  {
   "cell_type": "markdown",
   "id": "08f51658",
   "metadata": {},
   "source": [
    "# Iterative Models"
   ]
  },
  {
   "cell_type": "code",
   "execution_count": null,
   "id": "aa137d7f",
   "metadata": {
    "ExecuteTime": {
     "end_time": "2022-04-20T17:07:09.706009Z",
     "start_time": "2022-04-20T17:07:09.689005Z"
    }
   },
   "outputs": [],
   "source": [
    "ct = ColumnTransformer(transformers=[\n",
    "    \n",
    "    ('ct_cyr',subpipe_cYr,['construction_year']),\n",
    "    ('ct_coord',subpipe_coord, ['latitude','longitude','region']), #Note: region is passed to allow groupby. Not returned.\n",
    "    ('ct_cat1',subpipe_cat1,col_ImputeAndOHE),\n",
    "    ('ct_cat2',subpipe_cat2,col_OneHotEncode),\n",
    "    \n",
    "])"
   ]
  },
  {
   "cell_type": "markdown",
   "id": "d0a17c88",
   "metadata": {},
   "source": [
    "## Random Forest"
   ]
  },
  {
   "cell_type": "code",
   "execution_count": null,
   "id": "7f70a905",
   "metadata": {
    "ExecuteTime": {
     "end_time": "2022-04-19T15:36:18.226682Z",
     "start_time": "2022-04-19T15:35:57.639928Z"
    }
   },
   "outputs": [],
   "source": [
    "rfc_model_pipe = Pipeline([\n",
    "   ('rfc',RandomForestClassifier(random_state=42))\n",
    "])\n",
    "\n",
    "rfc_model_pipe.fit(X_train,y_train)\n",
    "\n",
    "cross_val_score(rfc_model_pipe,X_train,y_train,cv=5).mean()"
   ]
  },
  {
   "cell_type": "code",
   "execution_count": null,
   "id": "bfa19a98",
   "metadata": {
    "ExecuteTime": {
     "end_time": "2022-04-19T15:36:18.623781Z",
     "start_time": "2022-04-19T15:36:18.513756Z"
    }
   },
   "outputs": [],
   "source": [
    "filePath = f'models/{rfc_model_pipe=}'.split('=')[0] + '.sav'\n",
    "pickle.dump(rfc_model_pipe, open(filePath, 'wb'))"
   ]
  },
  {
   "cell_type": "markdown",
   "id": "b271ce69",
   "metadata": {},
   "source": [
    "### Hypertuned Random Forest"
   ]
  },
  {
   "cell_type": "markdown",
   "id": "ea50d50b",
   "metadata": {},
   "source": [
    "#### Round 1"
   ]
  },
  {
   "cell_type": "code",
   "execution_count": null,
   "id": "d90a34d1",
   "metadata": {
    "ExecuteTime": {
     "end_time": "2022-04-19T15:42:06.333898Z",
     "start_time": "2022-04-19T15:37:16.047474Z"
    }
   },
   "outputs": [],
   "source": [
    "params = {}\n",
    "params['rfc__criterion'] = ['gini','entropy']\n",
    "params['rfc__n_estimators'] = [150,200,250]\n",
    "params['rfc__max_depth'] = [5,7,9]\n",
    "rfc_gs1 = GridSearchCV(estimator=rfc_model_pipe,param_grid=params,cv=5)\n",
    "rfc_gs1.fit(X_train,y_train)"
   ]
  },
  {
   "cell_type": "code",
   "execution_count": null,
   "id": "33d5c7b9",
   "metadata": {
    "ExecuteTime": {
     "end_time": "2022-04-19T15:42:06.745579Z",
     "start_time": "2022-04-19T15:42:06.634986Z"
    }
   },
   "outputs": [],
   "source": [
    "filePath = f'models/{rfc_gs1=}'.split('=')[0] + '.sav'\n",
    "pickle.dump(rfc_gs1, open(filePath, 'wb'))"
   ]
  },
  {
   "cell_type": "code",
   "execution_count": null,
   "id": "20a2edb6",
   "metadata": {
    "ExecuteTime": {
     "end_time": "2022-04-19T15:42:07.047417Z",
     "start_time": "2022-04-19T15:42:07.032370Z"
    }
   },
   "outputs": [],
   "source": [
    "rfc_gs1.best_estimator_"
   ]
  },
  {
   "cell_type": "code",
   "execution_count": null,
   "id": "2e04f648",
   "metadata": {
    "ExecuteTime": {
     "end_time": "2022-04-19T15:42:07.347819Z",
     "start_time": "2022-04-19T15:42:07.333449Z"
    }
   },
   "outputs": [],
   "source": [
    "rfc_gs1.best_score_"
   ]
  },
  {
   "cell_type": "markdown",
   "id": "21f68824",
   "metadata": {},
   "source": [
    "Seems like the model prefers the 'gini' impurity. Removing criterion for successive runs.\n",
    "\n",
    "n_estimators and max_depth chose the highest value in range. Increasing range."
   ]
  },
  {
   "cell_type": "markdown",
   "id": "4a536e1d",
   "metadata": {
    "ExecuteTime": {
     "end_time": "2022-04-19T15:42:07.648897Z",
     "start_time": "2022-04-19T15:42:07.633894Z"
    }
   },
   "source": [
    "#### Round 2"
   ]
  },
  {
   "cell_type": "code",
   "execution_count": null,
   "id": "dc4c25a3",
   "metadata": {
    "ExecuteTime": {
     "end_time": "2022-04-19T15:46:08.354141Z",
     "start_time": "2022-04-19T15:43:02.889555Z"
    }
   },
   "outputs": [],
   "source": [
    "params = {}\n",
    "params['rfc__n_estimators'] = [350,450,500]\n",
    "params['rfc__max_depth'] = [15,20,30]\n",
    "\n",
    "rfc_gs2 = GridSearchCV(estimator=rfc_model_pipe,param_grid=params,cv=5,n_jobs = 6)\n",
    "rfc_gs2.fit(X_train,y_train)"
   ]
  },
  {
   "cell_type": "code",
   "execution_count": null,
   "id": "025fca12",
   "metadata": {
    "ExecuteTime": {
     "end_time": "2022-04-19T15:46:08.942076Z",
     "start_time": "2022-04-19T15:46:08.639206Z"
    }
   },
   "outputs": [],
   "source": [
    "filePath = f'models/{rfc_gs2=}'.split('=')[0] + '.sav'\n",
    "pickle.dump(rfc_gs2, open(filePath, 'wb'))"
   ]
  },
  {
   "cell_type": "code",
   "execution_count": null,
   "id": "72ec1972",
   "metadata": {
    "ExecuteTime": {
     "end_time": "2022-04-19T15:46:09.259171Z",
     "start_time": "2022-04-19T15:46:09.244162Z"
    }
   },
   "outputs": [],
   "source": [
    "rfc_gs2.best_estimator_"
   ]
  },
  {
   "cell_type": "code",
   "execution_count": null,
   "id": "d5abea6c",
   "metadata": {
    "ExecuteTime": {
     "end_time": "2022-04-19T15:46:09.560248Z",
     "start_time": "2022-04-19T15:46:09.545237Z"
    }
   },
   "outputs": [],
   "source": [
    "rfc_gs2.best_score_"
   ]
  },
  {
   "cell_type": "markdown",
   "id": "2ccd3cef",
   "metadata": {},
   "source": [
    "n_estimators and max_depth chose the highest value in range again. Increasing range."
   ]
  },
  {
   "cell_type": "markdown",
   "id": "1afc89c5",
   "metadata": {},
   "source": [
    "#### Round 3"
   ]
  },
  {
   "cell_type": "code",
   "execution_count": null,
   "id": "56c28ff7",
   "metadata": {
    "ExecuteTime": {
     "end_time": "2022-04-19T16:34:23.504451Z",
     "start_time": "2022-04-19T16:24:50.459074Z"
    },
    "scrolled": true
   },
   "outputs": [],
   "source": [
    "params = {}\n",
    "# params['rfc__criterion'] = ['gini','entropy']\n",
    "params['rfc__n_estimators'] = [350,400,450]\n",
    "params['rfc__max_depth'] = [22,25,30]\n",
    "params['rfc__max_leaf_nodes']=[4000,4500,5000]\n",
    "\n",
    "rfc_gs3 = GridSearchCV(estimator=rfc_model_pipe,param_grid=params,cv=5,n_jobs = -1)\n",
    "rfc_gs3.fit(X_train,y_train)"
   ]
  },
  {
   "cell_type": "code",
   "execution_count": null,
   "id": "b5e39bb9",
   "metadata": {
    "ExecuteTime": {
     "end_time": "2022-04-19T16:34:24.250284Z",
     "start_time": "2022-04-19T16:34:23.841552Z"
    }
   },
   "outputs": [],
   "source": [
    "filePath = f'models/{rfc_gs3=}'.split('=')[0] + '.sav'\n",
    "pickle.dump(rfc_gs3, open(filePath, 'wb'))"
   ]
  },
  {
   "cell_type": "code",
   "execution_count": null,
   "id": "74170423",
   "metadata": {
    "ExecuteTime": {
     "end_time": "2022-04-19T16:34:24.595773Z",
     "start_time": "2022-04-19T16:34:24.581767Z"
    }
   },
   "outputs": [],
   "source": [
    "rfc_gs3.best_estimator_"
   ]
  },
  {
   "cell_type": "code",
   "execution_count": null,
   "id": "71302dbe",
   "metadata": {
    "ExecuteTime": {
     "end_time": "2022-04-19T16:34:24.945628Z",
     "start_time": "2022-04-19T16:34:24.930620Z"
    },
    "scrolled": true
   },
   "outputs": [],
   "source": [
    "rfc_gs3.best_score_"
   ]
  },
  {
   "cell_type": "markdown",
   "id": "efbc7dbb",
   "metadata": {},
   "source": [
    "### Hypertuned and SMOTE Random Forest"
   ]
  },
  {
   "cell_type": "code",
   "execution_count": null,
   "id": "68160f99",
   "metadata": {
    "ExecuteTime": {
     "end_time": "2022-04-19T17:35:29.922870Z",
     "start_time": "2022-04-19T17:34:19.342456Z"
    }
   },
   "outputs": [],
   "source": [
    "rfc_imb_model_pipe = ImPipeline([\n",
    "    ('sm',SMOTE(random_state=42)),\n",
    "   ('rfc',RandomForestClassifier(random_state=42))\n",
    "])\n",
    "\n",
    "rfc_imb_model_pipe.fit(X_train,y_train)\n",
    "filePath = f'models/{rfc_imb_model_pipe=}'.split('=')[0] + '.sav'\n",
    "pickle.dump(rfc_imb_model_pipe, open(filePath, 'wb'))\n",
    "\n",
    "cross_val_score(rfc_imb_model_pipe,X_train,y_train,cv=5).mean()"
   ]
  },
  {
   "cell_type": "markdown",
   "id": "875163a0",
   "metadata": {},
   "source": [
    "#### Round 1"
   ]
  },
  {
   "cell_type": "code",
   "execution_count": null,
   "id": "a1d25263",
   "metadata": {
    "ExecuteTime": {
     "end_time": "2022-04-19T18:01:35.289470Z",
     "start_time": "2022-04-19T17:38:23.678987Z"
    },
    "scrolled": false
   },
   "outputs": [],
   "source": [
    "params = {}\n",
    "# params['rfc__criterion'] = ['gini','entropy']\n",
    "params['rfc__n_estimators'] = [350,400,450]\n",
    "params['rfc__max_depth'] = [22,25,30]\n",
    "params['rfc__max_leaf_nodes']=[4000,4500,5000]\n",
    "\n",
    "rfc_imb_gs1 = GridSearchCV(estimator=rfc_imb_model_pipe,param_grid=params,cv=5,n_jobs = -1)\n",
    "rfc_imb_gs1.fit(X_train,y_train)"
   ]
  },
  {
   "cell_type": "code",
   "execution_count": null,
   "id": "09adecf7",
   "metadata": {
    "ExecuteTime": {
     "end_time": "2022-04-19T18:01:36.696511Z",
     "start_time": "2022-04-19T18:01:35.809267Z"
    }
   },
   "outputs": [],
   "source": [
    "filePath = f'models/{rfc_imb_gs1=}'.split('=')[0] + '.sav'\n",
    "pickle.dump(rfc_imb_gs1, open(filePath, 'wb'))"
   ]
  },
  {
   "cell_type": "code",
   "execution_count": null,
   "id": "fca396e6",
   "metadata": {
    "ExecuteTime": {
     "end_time": "2022-04-19T18:01:37.137457Z",
     "start_time": "2022-04-19T18:01:37.123088Z"
    }
   },
   "outputs": [],
   "source": [
    "rfc_imb_gs1.best_estimator_"
   ]
  },
  {
   "cell_type": "code",
   "execution_count": null,
   "id": "0dc56912",
   "metadata": {
    "ExecuteTime": {
     "end_time": "2022-04-19T18:01:37.578812Z",
     "start_time": "2022-04-19T18:01:37.563818Z"
    }
   },
   "outputs": [],
   "source": [
    "rfc_imb_gs1.best_score_"
   ]
  },
  {
   "cell_type": "markdown",
   "id": "e3c86090",
   "metadata": {},
   "source": [
    "## kNN"
   ]
  },
  {
   "cell_type": "code",
   "execution_count": null,
   "id": "54c10cc3",
   "metadata": {
    "ExecuteTime": {
     "end_time": "2022-04-19T16:54:06.036957Z",
     "start_time": "2022-04-19T16:53:34.900356Z"
    },
    "scrolled": true
   },
   "outputs": [],
   "source": [
    "knn_model_pipe = Pipeline([\n",
    "   ('knn',KNeighborsClassifier())\n",
    "])\n",
    "\n",
    "knn_model_pipe.fit(X_train,y_train)\n",
    "filePath = f'models/{knn_model_pipe=}'.split('=')[0] + '.sav'\n",
    "pickle.dump(knn_model_pipe, open(filePath, 'wb'))\n",
    "\n",
    "cross_val_score(knn_model_pipe,X_train,y_train,cv=5).mean()"
   ]
  },
  {
   "cell_type": "markdown",
   "id": "1bbd0bc2",
   "metadata": {},
   "source": [
    "### Hypertuned kNN"
   ]
  },
  {
   "cell_type": "markdown",
   "id": "ee8b543d",
   "metadata": {},
   "source": [
    "#### Round 1"
   ]
  },
  {
   "cell_type": "code",
   "execution_count": null,
   "id": "8632f88a",
   "metadata": {
    "ExecuteTime": {
     "end_time": "2022-04-19T17:09:58.316778Z",
     "start_time": "2022-04-19T17:01:18.877953Z"
    }
   },
   "outputs": [],
   "source": [
    "params = {}\n",
    "params['knn__n_neighbors'] = [5,10,15,20]\n",
    "params['knn__metric']=['manhattan','euclidean','chebyshev']\n",
    "\n",
    "knn_gs1 = GridSearchCV(estimator=knn_model_pipe,param_grid=params,cv=5,n_jobs = -1)\n",
    "knn_gs1.fit(X_train,y_train)"
   ]
  },
  {
   "cell_type": "code",
   "execution_count": null,
   "id": "005e9c9b",
   "metadata": {
    "ExecuteTime": {
     "end_time": "2022-04-19T17:09:58.883470Z",
     "start_time": "2022-04-19T17:09:58.821409Z"
    }
   },
   "outputs": [],
   "source": [
    "filePath = f'models/{knn_gs1=}'.split('=')[0] + '.sav'\n",
    "pickle.dump(knn_gs1, open(filePath, 'wb'))"
   ]
  },
  {
   "cell_type": "code",
   "execution_count": null,
   "id": "f23c6900",
   "metadata": {
    "ExecuteTime": {
     "end_time": "2022-04-19T17:09:59.324835Z",
     "start_time": "2022-04-19T17:09:59.310837Z"
    }
   },
   "outputs": [],
   "source": [
    "knn_gs1.best_estimator_"
   ]
  },
  {
   "cell_type": "code",
   "execution_count": null,
   "id": "ad2c1538",
   "metadata": {
    "ExecuteTime": {
     "end_time": "2022-04-19T17:09:59.735123Z",
     "start_time": "2022-04-19T17:09:59.720117Z"
    },
    "scrolled": true
   },
   "outputs": [],
   "source": [
    "knn_gs1.best_score_"
   ]
  },
  {
   "cell_type": "markdown",
   "id": "d803116b",
   "metadata": {},
   "source": [
    "#### Round 2"
   ]
  },
  {
   "cell_type": "code",
   "execution_count": null,
   "id": "761ee17e",
   "metadata": {
    "ExecuteTime": {
     "end_time": "2022-04-19T17:21:50.904129Z",
     "start_time": "2022-04-19T17:12:27.997434Z"
    }
   },
   "outputs": [],
   "source": [
    "params = {}\n",
    "params['knn__n_neighbors'] = [3,4,5,6,7]\n",
    "params['knn__metric']=['manhattan','euclidean','chebyshev']\n",
    "\n",
    "knn_gs2 = GridSearchCV(estimator=knn_model_pipe,param_grid=params,cv=5,n_jobs = -1)\n",
    "knn_gs2.fit(X_train,y_train)"
   ]
  },
  {
   "cell_type": "code",
   "execution_count": null,
   "id": "c1f1a514",
   "metadata": {
    "ExecuteTime": {
     "end_time": "2022-04-19T17:21:51.464331Z",
     "start_time": "2022-04-19T17:21:51.402397Z"
    }
   },
   "outputs": [],
   "source": [
    "filePath = f'models/{knn_gs2=}'.split('=')[0] + '.sav'\n",
    "pickle.dump(knn_gs2, open(filePath, 'wb'))"
   ]
  },
  {
   "cell_type": "code",
   "execution_count": null,
   "id": "d3447af2",
   "metadata": {
    "ExecuteTime": {
     "end_time": "2022-04-19T17:21:51.879250Z",
     "start_time": "2022-04-19T17:21:51.865246Z"
    }
   },
   "outputs": [],
   "source": [
    "knn_gs2.best_estimator_"
   ]
  },
  {
   "cell_type": "code",
   "execution_count": null,
   "id": "cac9c5f2",
   "metadata": {
    "ExecuteTime": {
     "end_time": "2022-04-19T17:21:52.314434Z",
     "start_time": "2022-04-19T17:21:52.300431Z"
    },
    "scrolled": false
   },
   "outputs": [],
   "source": [
    "knn_gs2.best_score_"
   ]
  },
  {
   "cell_type": "markdown",
   "id": "82e433e4",
   "metadata": {},
   "source": [
    "### Hypertuned SMOTE KNN\n"
   ]
  },
  {
   "cell_type": "code",
   "execution_count": null,
   "id": "81da7c5a",
   "metadata": {
    "ExecuteTime": {
     "end_time": "2022-04-19T17:33:03.294340Z",
     "start_time": "2022-04-19T17:31:49.759850Z"
    }
   },
   "outputs": [],
   "source": [
    "knn_imb_model_pipe = ImPipeline([\n",
    "    ('sm',SMOTE(random_state=42)),\n",
    "   ('knn',KNeighborsClassifier())\n",
    "])\n",
    "\n",
    "knn_imb_model_pipe.fit(X_train,y_train)\n",
    "filePath = f'models/{knn_imb_model_pipe=}'.split('=')[0] + '.sav'\n",
    "pickle.dump(knn_imb_model_pipe, open(filePath, 'wb'))\n",
    "\n",
    "cross_val_score(knn_imb_model_pipe,X_train,y_train,cv=5).mean()"
   ]
  },
  {
   "cell_type": "code",
   "execution_count": null,
   "id": "dab169aa",
   "metadata": {},
   "outputs": [],
   "source": []
  },
  {
   "cell_type": "code",
   "execution_count": null,
   "id": "92a8f082",
   "metadata": {},
   "outputs": [],
   "source": []
  },
  {
   "cell_type": "markdown",
   "id": "4d92aba6",
   "metadata": {},
   "source": [
    "## XGBoost"
   ]
  },
  {
   "cell_type": "code",
   "execution_count": null,
   "id": "f243b5a2",
   "metadata": {
    "ExecuteTime": {
     "end_time": "2022-04-19T16:40:53.072426Z",
     "start_time": "2022-04-19T16:40:34.884863Z"
    },
    "scrolled": true
   },
   "outputs": [],
   "source": [
    "XGBRF_model_pipe = Pipeline([\n",
    "   ('xg',xgboost.XGBRFClassifier(random_state=42))\n",
    "])\n",
    "\n",
    "XGBRF_model_pipe.fit(X_train,y_train)\n",
    "filePath = f'models/{XGBRF_model_pipe=}'.split('=')[0] + '.sav'\n",
    "pickle.dump(XGBRF_model_pipe, open(filePath, 'wb'))\n",
    "\n",
    "cross_val_score(XGBRF_model_pipe,X_train,y_train,cv=5).mean()"
   ]
  },
  {
   "cell_type": "markdown",
   "id": "5bd4a96d",
   "metadata": {},
   "source": [
    "### Hypertuned XGBoost"
   ]
  },
  {
   "cell_type": "markdown",
   "id": "1b9db795",
   "metadata": {},
   "source": [
    "#### Round 1"
   ]
  },
  {
   "cell_type": "code",
   "execution_count": null,
   "id": "7f3cd33c",
   "metadata": {
    "ExecuteTime": {
     "end_time": "2022-04-19T16:50:45.654265Z",
     "start_time": "2022-04-19T16:46:28.756110Z"
    }
   },
   "outputs": [],
   "source": [
    "params = {}\n",
    "params['xg__learning_rate'] = [0.001,0.1,1,10,100]\n",
    "params['xg__reg_lambda'] = [1e-06,1e-05,1e-04,1e-03,1e-02]\n",
    "\n",
    "xgbrf_gs1 = GridSearchCV(estimator=XGBRF_model_pipe,param_grid=params,cv=5,n_jobs = -1)\n",
    "xgbrf_gs1.fit(X_train,y_train)"
   ]
  },
  {
   "cell_type": "code",
   "execution_count": null,
   "id": "41034243",
   "metadata": {
    "ExecuteTime": {
     "end_time": "2022-04-19T16:50:46.096375Z",
     "start_time": "2022-04-19T16:50:46.065360Z"
    }
   },
   "outputs": [],
   "source": [
    "filePath = f'models/{xgbrf_gs1=}'.split('=')[0] + '.sav'\n",
    "pickle.dump(xgbrf_gs1, open(filePath, 'wb'))"
   ]
  },
  {
   "cell_type": "code",
   "execution_count": null,
   "id": "ce0ce606",
   "metadata": {
    "ExecuteTime": {
     "end_time": "2022-04-19T16:50:46.508498Z",
     "start_time": "2022-04-19T16:50:46.493499Z"
    }
   },
   "outputs": [],
   "source": [
    "xgbrf_gs1.best_estimator_"
   ]
  },
  {
   "cell_type": "code",
   "execution_count": null,
   "id": "1178c02d",
   "metadata": {
    "ExecuteTime": {
     "end_time": "2022-04-19T16:50:46.904588Z",
     "start_time": "2022-04-19T16:50:46.890590Z"
    }
   },
   "outputs": [],
   "source": [
    "xgbrf_gs1.best_score_"
   ]
  },
  {
   "cell_type": "code",
   "execution_count": null,
   "id": "35e529de",
   "metadata": {},
   "outputs": [],
   "source": []
  }
 ],
 "metadata": {
  "kernelspec": {
   "display_name": "Python (learn-env)",
   "language": "python",
   "name": "learn-env"
  },
  "notify_time": "10",
  "toc": {
   "base_numbering": 1,
   "nav_menu": {},
   "number_sections": true,
   "sideBar": true,
   "skip_h1_title": false,
   "title_cell": "Table of Contents",
   "title_sidebar": "Contents",
   "toc_cell": false,
   "toc_position": {
    "height": "calc(100% - 180px)",
    "left": "10px",
    "top": "150px",
    "width": "349.08px"
   },
   "toc_section_display": true,
   "toc_window_display": true
  },
  "varInspector": {
   "cols": {
    "lenName": 16,
    "lenType": 16,
    "lenVar": 40
   },
   "kernels_config": {
    "python": {
     "delete_cmd_postfix": "",
     "delete_cmd_prefix": "del ",
     "library": "var_list.py",
     "varRefreshCmd": "print(var_dic_list())"
    },
    "r": {
     "delete_cmd_postfix": ") ",
     "delete_cmd_prefix": "rm(",
     "library": "var_list.r",
     "varRefreshCmd": "cat(var_dic_list()) "
    }
   },
   "position": {
    "height": "851.858px",
    "left": "1763.33px",
    "right": "20px",
    "top": "120px",
    "width": "350px"
   },
   "types_to_exclude": [
    "module",
    "function",
    "builtin_function_or_method",
    "instance",
    "_Feature"
   ],
   "window_display": false
  }
 },
 "nbformat": 4,
 "nbformat_minor": 5
}
