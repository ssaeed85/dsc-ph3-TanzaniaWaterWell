{
 "cells": [
  {
   "cell_type": "markdown",
   "id": "7aece014",
   "metadata": {
    "ExecuteTime": {
     "end_time": "2022-04-19T15:03:56.825390Z",
     "start_time": "2022-04-19T15:03:56.823390Z"
    }
   },
   "source": [
    "References:\\\n",
    "    https://machinelearningmastery.com/save-load-machine-learning-models-python-scikit-learn/ (pickle)\\\n",
    "    https://towardsdatascience.com/coding-a-custom-imputer-in-scikit-learn-31bd68e541de(custom Imputer)"
   ]
  },
  {
   "cell_type": "code",
   "execution_count": 4,
   "id": "7b722e99",
   "metadata": {
    "ExecuteTime": {
     "end_time": "2022-04-21T05:46:51.714548Z",
     "start_time": "2022-04-21T05:46:51.702545Z"
    }
   },
   "outputs": [],
   "source": [
    "import pandas as pd\n",
    "pd.set_option('display.max_columns', None)\n",
    "\n",
    "import numpy as np\n",
    "import matplotlib.pyplot as plt\n",
    "import pickle\n",
    "\n",
    "from sklearn.dummy import DummyClassifier\n",
    "from sklearn.neighbors import KNeighborsClassifier\n",
    "from sklearn.model_selection import train_test_split, GridSearchCV, cross_val_score,cross_val_predict, cross_validate\n",
    "from sklearn.pipeline import Pipeline\n",
    "from sklearn.preprocessing import StandardScaler, MinMaxScaler, OneHotEncoder, FunctionTransformer\n",
    "from sklearn.impute import SimpleImputer,KNNImputer\n",
    "from sklearn.compose import ColumnTransformer\n",
    "from sklearn.linear_model import LogisticRegression\n",
    "from sklearn.ensemble import RandomForestClassifier, GradientBoostingClassifier\n",
    "from sklearn.metrics import plot_confusion_matrix, recall_score,\\\n",
    "    accuracy_score, precision_score, f1_score, classification_report, ConfusionMatrixDisplay, confusion_matrix\n",
    "import xgboost\n",
    "\n",
    "import random\n",
    "random.seed(42)\n",
    "\n",
    "from imblearn.over_sampling import SMOTE\n",
    "from imblearn.pipeline import Pipeline as ImPipeline"
   ]
  },
  {
   "cell_type": "code",
   "execution_count": 5,
   "id": "cb7208b0",
   "metadata": {
    "ExecuteTime": {
     "end_time": "2022-04-21T05:46:51.730552Z",
     "start_time": "2022-04-21T05:46:51.715549Z"
    }
   },
   "outputs": [],
   "source": [
    "from src.pandas_helper import *"
   ]
  },
  {
   "cell_type": "markdown",
   "id": "ce4f178f",
   "metadata": {},
   "source": [
    "**Note:** To speed up running of model fit cells, the n_jobs parameter is set to a global variable. This is defaulted to -1 to allow access to the entirety of your machine's CPU resources. This ***will*** make your machine essentially unusable until the operations have finished performing. Set this to None for regular operations"
   ]
  },
  {
   "cell_type": "code",
   "execution_count": 49,
   "id": "1c63418e",
   "metadata": {
    "ExecuteTime": {
     "end_time": "2022-04-21T13:37:30.331891Z",
     "start_time": "2022-04-21T13:37:30.316879Z"
    }
   },
   "outputs": [],
   "source": [
    "Notebook_n_jobs = 5"
   ]
  },
  {
   "cell_type": "markdown",
   "id": "1a123623",
   "metadata": {},
   "source": [
    "# Load Data"
   ]
  },
  {
   "cell_type": "code",
   "execution_count": 7,
   "id": "5c072ba9",
   "metadata": {
    "ExecuteTime": {
     "end_time": "2022-04-21T05:46:51.984774Z",
     "start_time": "2022-04-21T05:46:51.747556Z"
    }
   },
   "outputs": [],
   "source": [
    "X = pd.read_csv('data/Training_set.csv')\n",
    "y = pd.read_csv('data/Training_labels.csv').status_group"
   ]
  },
  {
   "cell_type": "code",
   "execution_count": 8,
   "id": "abba8e7c",
   "metadata": {
    "ExecuteTime": {
     "end_time": "2022-04-21T05:46:52.016772Z",
     "start_time": "2022-04-21T05:46:51.985765Z"
    },
    "scrolled": true
   },
   "outputs": [
    {
     "data": {
      "text/html": [
       "<div>\n",
       "<style scoped>\n",
       "    .dataframe tbody tr th:only-of-type {\n",
       "        vertical-align: middle;\n",
       "    }\n",
       "\n",
       "    .dataframe tbody tr th {\n",
       "        vertical-align: top;\n",
       "    }\n",
       "\n",
       "    .dataframe thead th {\n",
       "        text-align: right;\n",
       "    }\n",
       "</style>\n",
       "<table border=\"1\" class=\"dataframe\">\n",
       "  <thead>\n",
       "    <tr style=\"text-align: right;\">\n",
       "      <th></th>\n",
       "      <th>id</th>\n",
       "      <th>amount_tsh</th>\n",
       "      <th>date_recorded</th>\n",
       "      <th>funder</th>\n",
       "      <th>gps_height</th>\n",
       "      <th>installer</th>\n",
       "      <th>longitude</th>\n",
       "      <th>latitude</th>\n",
       "      <th>wpt_name</th>\n",
       "      <th>num_private</th>\n",
       "      <th>basin</th>\n",
       "      <th>subvillage</th>\n",
       "      <th>region</th>\n",
       "      <th>region_code</th>\n",
       "      <th>district_code</th>\n",
       "      <th>lga</th>\n",
       "      <th>ward</th>\n",
       "      <th>population</th>\n",
       "      <th>public_meeting</th>\n",
       "      <th>recorded_by</th>\n",
       "      <th>scheme_management</th>\n",
       "      <th>scheme_name</th>\n",
       "      <th>permit</th>\n",
       "      <th>construction_year</th>\n",
       "      <th>extraction_type</th>\n",
       "      <th>extraction_type_group</th>\n",
       "      <th>extraction_type_class</th>\n",
       "      <th>management</th>\n",
       "      <th>management_group</th>\n",
       "      <th>payment</th>\n",
       "      <th>payment_type</th>\n",
       "      <th>water_quality</th>\n",
       "      <th>quality_group</th>\n",
       "      <th>quantity</th>\n",
       "      <th>quantity_group</th>\n",
       "      <th>source</th>\n",
       "      <th>source_type</th>\n",
       "      <th>source_class</th>\n",
       "      <th>waterpoint_type</th>\n",
       "      <th>waterpoint_type_group</th>\n",
       "    </tr>\n",
       "  </thead>\n",
       "  <tbody>\n",
       "    <tr>\n",
       "      <th>0</th>\n",
       "      <td>69572</td>\n",
       "      <td>6000.0</td>\n",
       "      <td>2011-03-14</td>\n",
       "      <td>Roman</td>\n",
       "      <td>1390</td>\n",
       "      <td>Roman</td>\n",
       "      <td>34.938093</td>\n",
       "      <td>-9.856322</td>\n",
       "      <td>none</td>\n",
       "      <td>0</td>\n",
       "      <td>Lake Nyasa</td>\n",
       "      <td>Mnyusi B</td>\n",
       "      <td>Iringa</td>\n",
       "      <td>11</td>\n",
       "      <td>5</td>\n",
       "      <td>Ludewa</td>\n",
       "      <td>Mundindi</td>\n",
       "      <td>109</td>\n",
       "      <td>True</td>\n",
       "      <td>GeoData Consultants Ltd</td>\n",
       "      <td>VWC</td>\n",
       "      <td>Roman</td>\n",
       "      <td>False</td>\n",
       "      <td>1999</td>\n",
       "      <td>gravity</td>\n",
       "      <td>gravity</td>\n",
       "      <td>gravity</td>\n",
       "      <td>vwc</td>\n",
       "      <td>user-group</td>\n",
       "      <td>pay annually</td>\n",
       "      <td>annually</td>\n",
       "      <td>soft</td>\n",
       "      <td>good</td>\n",
       "      <td>enough</td>\n",
       "      <td>enough</td>\n",
       "      <td>spring</td>\n",
       "      <td>spring</td>\n",
       "      <td>groundwater</td>\n",
       "      <td>communal standpipe</td>\n",
       "      <td>communal standpipe</td>\n",
       "    </tr>\n",
       "    <tr>\n",
       "      <th>1</th>\n",
       "      <td>8776</td>\n",
       "      <td>0.0</td>\n",
       "      <td>2013-03-06</td>\n",
       "      <td>Grumeti</td>\n",
       "      <td>1399</td>\n",
       "      <td>GRUMETI</td>\n",
       "      <td>34.698766</td>\n",
       "      <td>-2.147466</td>\n",
       "      <td>Zahanati</td>\n",
       "      <td>0</td>\n",
       "      <td>Lake Victoria</td>\n",
       "      <td>Nyamara</td>\n",
       "      <td>Mara</td>\n",
       "      <td>20</td>\n",
       "      <td>2</td>\n",
       "      <td>Serengeti</td>\n",
       "      <td>Natta</td>\n",
       "      <td>280</td>\n",
       "      <td>NaN</td>\n",
       "      <td>GeoData Consultants Ltd</td>\n",
       "      <td>Other</td>\n",
       "      <td>NaN</td>\n",
       "      <td>True</td>\n",
       "      <td>2010</td>\n",
       "      <td>gravity</td>\n",
       "      <td>gravity</td>\n",
       "      <td>gravity</td>\n",
       "      <td>wug</td>\n",
       "      <td>user-group</td>\n",
       "      <td>never pay</td>\n",
       "      <td>never pay</td>\n",
       "      <td>soft</td>\n",
       "      <td>good</td>\n",
       "      <td>insufficient</td>\n",
       "      <td>insufficient</td>\n",
       "      <td>rainwater harvesting</td>\n",
       "      <td>rainwater harvesting</td>\n",
       "      <td>surface</td>\n",
       "      <td>communal standpipe</td>\n",
       "      <td>communal standpipe</td>\n",
       "    </tr>\n",
       "    <tr>\n",
       "      <th>2</th>\n",
       "      <td>34310</td>\n",
       "      <td>25.0</td>\n",
       "      <td>2013-02-25</td>\n",
       "      <td>Lottery Club</td>\n",
       "      <td>686</td>\n",
       "      <td>World vision</td>\n",
       "      <td>37.460664</td>\n",
       "      <td>-3.821329</td>\n",
       "      <td>Kwa Mahundi</td>\n",
       "      <td>0</td>\n",
       "      <td>Pangani</td>\n",
       "      <td>Majengo</td>\n",
       "      <td>Manyara</td>\n",
       "      <td>21</td>\n",
       "      <td>4</td>\n",
       "      <td>Simanjiro</td>\n",
       "      <td>Ngorika</td>\n",
       "      <td>250</td>\n",
       "      <td>True</td>\n",
       "      <td>GeoData Consultants Ltd</td>\n",
       "      <td>VWC</td>\n",
       "      <td>Nyumba ya mungu pipe scheme</td>\n",
       "      <td>True</td>\n",
       "      <td>2009</td>\n",
       "      <td>gravity</td>\n",
       "      <td>gravity</td>\n",
       "      <td>gravity</td>\n",
       "      <td>vwc</td>\n",
       "      <td>user-group</td>\n",
       "      <td>pay per bucket</td>\n",
       "      <td>per bucket</td>\n",
       "      <td>soft</td>\n",
       "      <td>good</td>\n",
       "      <td>enough</td>\n",
       "      <td>enough</td>\n",
       "      <td>dam</td>\n",
       "      <td>dam</td>\n",
       "      <td>surface</td>\n",
       "      <td>communal standpipe multiple</td>\n",
       "      <td>communal standpipe</td>\n",
       "    </tr>\n",
       "    <tr>\n",
       "      <th>3</th>\n",
       "      <td>67743</td>\n",
       "      <td>0.0</td>\n",
       "      <td>2013-01-28</td>\n",
       "      <td>Unicef</td>\n",
       "      <td>263</td>\n",
       "      <td>UNICEF</td>\n",
       "      <td>38.486161</td>\n",
       "      <td>-11.155298</td>\n",
       "      <td>Zahanati Ya Nanyumbu</td>\n",
       "      <td>0</td>\n",
       "      <td>Ruvuma / Southern Coast</td>\n",
       "      <td>Mahakamani</td>\n",
       "      <td>Mtwara</td>\n",
       "      <td>90</td>\n",
       "      <td>63</td>\n",
       "      <td>Nanyumbu</td>\n",
       "      <td>Nanyumbu</td>\n",
       "      <td>58</td>\n",
       "      <td>True</td>\n",
       "      <td>GeoData Consultants Ltd</td>\n",
       "      <td>VWC</td>\n",
       "      <td>NaN</td>\n",
       "      <td>True</td>\n",
       "      <td>1986</td>\n",
       "      <td>submersible</td>\n",
       "      <td>submersible</td>\n",
       "      <td>submersible</td>\n",
       "      <td>vwc</td>\n",
       "      <td>user-group</td>\n",
       "      <td>never pay</td>\n",
       "      <td>never pay</td>\n",
       "      <td>soft</td>\n",
       "      <td>good</td>\n",
       "      <td>dry</td>\n",
       "      <td>dry</td>\n",
       "      <td>machine dbh</td>\n",
       "      <td>borehole</td>\n",
       "      <td>groundwater</td>\n",
       "      <td>communal standpipe multiple</td>\n",
       "      <td>communal standpipe</td>\n",
       "    </tr>\n",
       "    <tr>\n",
       "      <th>4</th>\n",
       "      <td>19728</td>\n",
       "      <td>0.0</td>\n",
       "      <td>2011-07-13</td>\n",
       "      <td>Action In A</td>\n",
       "      <td>0</td>\n",
       "      <td>Artisan</td>\n",
       "      <td>31.130847</td>\n",
       "      <td>-1.825359</td>\n",
       "      <td>Shuleni</td>\n",
       "      <td>0</td>\n",
       "      <td>Lake Victoria</td>\n",
       "      <td>Kyanyamisa</td>\n",
       "      <td>Kagera</td>\n",
       "      <td>18</td>\n",
       "      <td>1</td>\n",
       "      <td>Karagwe</td>\n",
       "      <td>Nyakasimbi</td>\n",
       "      <td>0</td>\n",
       "      <td>True</td>\n",
       "      <td>GeoData Consultants Ltd</td>\n",
       "      <td>NaN</td>\n",
       "      <td>NaN</td>\n",
       "      <td>True</td>\n",
       "      <td>0</td>\n",
       "      <td>gravity</td>\n",
       "      <td>gravity</td>\n",
       "      <td>gravity</td>\n",
       "      <td>other</td>\n",
       "      <td>other</td>\n",
       "      <td>never pay</td>\n",
       "      <td>never pay</td>\n",
       "      <td>soft</td>\n",
       "      <td>good</td>\n",
       "      <td>seasonal</td>\n",
       "      <td>seasonal</td>\n",
       "      <td>rainwater harvesting</td>\n",
       "      <td>rainwater harvesting</td>\n",
       "      <td>surface</td>\n",
       "      <td>communal standpipe</td>\n",
       "      <td>communal standpipe</td>\n",
       "    </tr>\n",
       "  </tbody>\n",
       "</table>\n",
       "</div>"
      ],
      "text/plain": [
       "      id  amount_tsh date_recorded        funder  gps_height     installer  \\\n",
       "0  69572      6000.0    2011-03-14         Roman        1390         Roman   \n",
       "1   8776         0.0    2013-03-06       Grumeti        1399       GRUMETI   \n",
       "2  34310        25.0    2013-02-25  Lottery Club         686  World vision   \n",
       "3  67743         0.0    2013-01-28        Unicef         263        UNICEF   \n",
       "4  19728         0.0    2011-07-13   Action In A           0       Artisan   \n",
       "\n",
       "   longitude   latitude              wpt_name  num_private  \\\n",
       "0  34.938093  -9.856322                  none            0   \n",
       "1  34.698766  -2.147466              Zahanati            0   \n",
       "2  37.460664  -3.821329           Kwa Mahundi            0   \n",
       "3  38.486161 -11.155298  Zahanati Ya Nanyumbu            0   \n",
       "4  31.130847  -1.825359               Shuleni            0   \n",
       "\n",
       "                     basin  subvillage   region  region_code  district_code  \\\n",
       "0               Lake Nyasa    Mnyusi B   Iringa           11              5   \n",
       "1            Lake Victoria     Nyamara     Mara           20              2   \n",
       "2                  Pangani     Majengo  Manyara           21              4   \n",
       "3  Ruvuma / Southern Coast  Mahakamani   Mtwara           90             63   \n",
       "4            Lake Victoria  Kyanyamisa   Kagera           18              1   \n",
       "\n",
       "         lga        ward  population public_meeting              recorded_by  \\\n",
       "0     Ludewa    Mundindi         109           True  GeoData Consultants Ltd   \n",
       "1  Serengeti       Natta         280            NaN  GeoData Consultants Ltd   \n",
       "2  Simanjiro     Ngorika         250           True  GeoData Consultants Ltd   \n",
       "3   Nanyumbu    Nanyumbu          58           True  GeoData Consultants Ltd   \n",
       "4    Karagwe  Nyakasimbi           0           True  GeoData Consultants Ltd   \n",
       "\n",
       "  scheme_management                  scheme_name permit  construction_year  \\\n",
       "0               VWC                        Roman  False               1999   \n",
       "1             Other                          NaN   True               2010   \n",
       "2               VWC  Nyumba ya mungu pipe scheme   True               2009   \n",
       "3               VWC                          NaN   True               1986   \n",
       "4               NaN                          NaN   True                  0   \n",
       "\n",
       "  extraction_type extraction_type_group extraction_type_class management  \\\n",
       "0         gravity               gravity               gravity        vwc   \n",
       "1         gravity               gravity               gravity        wug   \n",
       "2         gravity               gravity               gravity        vwc   \n",
       "3     submersible           submersible           submersible        vwc   \n",
       "4         gravity               gravity               gravity      other   \n",
       "\n",
       "  management_group         payment payment_type water_quality quality_group  \\\n",
       "0       user-group    pay annually     annually          soft          good   \n",
       "1       user-group       never pay    never pay          soft          good   \n",
       "2       user-group  pay per bucket   per bucket          soft          good   \n",
       "3       user-group       never pay    never pay          soft          good   \n",
       "4            other       never pay    never pay          soft          good   \n",
       "\n",
       "       quantity quantity_group                source           source_type  \\\n",
       "0        enough         enough                spring                spring   \n",
       "1  insufficient   insufficient  rainwater harvesting  rainwater harvesting   \n",
       "2        enough         enough                   dam                   dam   \n",
       "3           dry            dry           machine dbh              borehole   \n",
       "4      seasonal       seasonal  rainwater harvesting  rainwater harvesting   \n",
       "\n",
       "  source_class              waterpoint_type waterpoint_type_group  \n",
       "0  groundwater           communal standpipe    communal standpipe  \n",
       "1      surface           communal standpipe    communal standpipe  \n",
       "2      surface  communal standpipe multiple    communal standpipe  \n",
       "3  groundwater  communal standpipe multiple    communal standpipe  \n",
       "4      surface           communal standpipe    communal standpipe  "
      ]
     },
     "execution_count": 8,
     "metadata": {},
     "output_type": "execute_result"
    }
   ],
   "source": [
    "X.head()"
   ]
  },
  {
   "cell_type": "code",
   "execution_count": 9,
   "id": "f84b5080",
   "metadata": {
    "ExecuteTime": {
     "end_time": "2022-04-21T05:46:52.746136Z",
     "start_time": "2022-04-21T05:46:52.017772Z"
    },
    "scrolled": false
   },
   "outputs": [
    {
     "data": {
      "text/html": [
       "<style  type=\"text/css\" >\n",
       "</style><table id=\"T_71f4d68b_c136_11ec_a8ec_ec2e98d37a84\" ><caption>Table Info</caption><thead>    <tr>        <th class=\"blank level0\" ></th>        <th class=\"col_heading level0 col0\" >Number</th>        <th class=\"col_heading level0 col1\" >Percentage</th>    </tr>    <tr>        <th class=\"index_name level0\" ></th>        <th class=\"blank\" ></th>        <th class=\"blank\" ></th>    </tr></thead><tbody>\n",
       "                <tr>\n",
       "                        <th id=\"T_71f4d68b_c136_11ec_a8ec_ec2e98d37a84level0_row0\" class=\"row_heading level0 row0\" >Zeroes</th>\n",
       "                        <td id=\"T_71f4d68b_c136_11ec_a8ec_ec2e98d37a84row0_col0\" class=\"data row0 col0\" >0</td>\n",
       "                        <td id=\"T_71f4d68b_c136_11ec_a8ec_ec2e98d37a84row0_col1\" class=\"data row0 col1\" >0.00 %</td>\n",
       "            </tr>\n",
       "            <tr>\n",
       "                        <th id=\"T_71f4d68b_c136_11ec_a8ec_ec2e98d37a84level0_row1\" class=\"row_heading level0 row1\" >Missing</th>\n",
       "                        <td id=\"T_71f4d68b_c136_11ec_a8ec_ec2e98d37a84row1_col0\" class=\"data row1 col0\" >0</td>\n",
       "                        <td id=\"T_71f4d68b_c136_11ec_a8ec_ec2e98d37a84row1_col1\" class=\"data row1 col1\" >0.00 %</td>\n",
       "            </tr>\n",
       "            <tr>\n",
       "                        <th id=\"T_71f4d68b_c136_11ec_a8ec_ec2e98d37a84level0_row2\" class=\"row_heading level0 row2\" >Unknown</th>\n",
       "                        <td id=\"T_71f4d68b_c136_11ec_a8ec_ec2e98d37a84row2_col0\" class=\"data row2 col0\" >0</td>\n",
       "                        <td id=\"T_71f4d68b_c136_11ec_a8ec_ec2e98d37a84row2_col1\" class=\"data row2 col1\" >0.00 %</td>\n",
       "            </tr>\n",
       "            <tr>\n",
       "                        <th id=\"T_71f4d68b_c136_11ec_a8ec_ec2e98d37a84level0_row3\" class=\"row_heading level0 row3\" >Uniques</th>\n",
       "                        <td id=\"T_71f4d68b_c136_11ec_a8ec_ec2e98d37a84row3_col0\" class=\"data row3 col0\" >3</td>\n",
       "                        <td id=\"T_71f4d68b_c136_11ec_a8ec_ec2e98d37a84row3_col1\" class=\"data row3 col1\" >0.01 %</td>\n",
       "            </tr>\n",
       "            <tr>\n",
       "                        <th id=\"T_71f4d68b_c136_11ec_a8ec_ec2e98d37a84level0_row4\" class=\"row_heading level0 row4\" >Mean</th>\n",
       "                        <td id=\"T_71f4d68b_c136_11ec_a8ec_ec2e98d37a84row4_col0\" class=\"data row4 col0\" >0.00</td>\n",
       "                        <td id=\"T_71f4d68b_c136_11ec_a8ec_ec2e98d37a84row4_col1\" class=\"data row4 col1\" >-</td>\n",
       "            </tr>\n",
       "            <tr>\n",
       "                        <th id=\"T_71f4d68b_c136_11ec_a8ec_ec2e98d37a84level0_row5\" class=\"row_heading level0 row5\" >Median</th>\n",
       "                        <td id=\"T_71f4d68b_c136_11ec_a8ec_ec2e98d37a84row5_col0\" class=\"data row5 col0\" >0.00</td>\n",
       "                        <td id=\"T_71f4d68b_c136_11ec_a8ec_ec2e98d37a84row5_col1\" class=\"data row5 col1\" >-</td>\n",
       "            </tr>\n",
       "    </tbody></table>"
      ],
      "text/plain": [
       "<pandas.io.formats.style.Styler at 0x1a504d90340>"
      ]
     },
     "metadata": {},
     "output_type": "display_data"
    },
    {
     "data": {
      "text/html": [
       "<style  type=\"text/css\" >\n",
       "</style><table id=\"T_71f4fda0_c136_11ec_8720_ec2e98d37a84\" ><caption>Top 10 Value Count Info</caption><thead>    <tr>        <th class=\"blank level0\" ></th>        <th class=\"col_heading level0 col0\" >Value Count</th>        <th class=\"col_heading level0 col1\" >% Value Count</th>    </tr></thead><tbody>\n",
       "                <tr>\n",
       "                        <th id=\"T_71f4fda0_c136_11ec_8720_ec2e98d37a84level0_row0\" class=\"row_heading level0 row0\" >functional</th>\n",
       "                        <td id=\"T_71f4fda0_c136_11ec_8720_ec2e98d37a84row0_col0\" class=\"data row0 col0\" >32259</td>\n",
       "                        <td id=\"T_71f4fda0_c136_11ec_8720_ec2e98d37a84row0_col1\" class=\"data row0 col1\" >54.308081</td>\n",
       "            </tr>\n",
       "            <tr>\n",
       "                        <th id=\"T_71f4fda0_c136_11ec_8720_ec2e98d37a84level0_row1\" class=\"row_heading level0 row1\" >non functional</th>\n",
       "                        <td id=\"T_71f4fda0_c136_11ec_8720_ec2e98d37a84row1_col0\" class=\"data row1 col0\" >22824</td>\n",
       "                        <td id=\"T_71f4fda0_c136_11ec_8720_ec2e98d37a84row1_col1\" class=\"data row1 col1\" >38.424242</td>\n",
       "            </tr>\n",
       "            <tr>\n",
       "                        <th id=\"T_71f4fda0_c136_11ec_8720_ec2e98d37a84level0_row2\" class=\"row_heading level0 row2\" >functional needs repair</th>\n",
       "                        <td id=\"T_71f4fda0_c136_11ec_8720_ec2e98d37a84row2_col0\" class=\"data row2 col0\" >4317</td>\n",
       "                        <td id=\"T_71f4fda0_c136_11ec_8720_ec2e98d37a84row2_col1\" class=\"data row2 col1\" >7.267677</td>\n",
       "            </tr>\n",
       "    </tbody></table>"
      ],
      "text/plain": [
       "<pandas.io.formats.style.Styler at 0x1a523177b20>"
      ]
     },
     "metadata": {},
     "output_type": "display_data"
    },
    {
     "data": {
      "image/png": "[encoded data removed]",
      "text/plain": [
       "<Figure size 1080x576 with 1 Axes>"
      ]
     },
     "metadata": {
      "needs_background": "light"
     },
     "output_type": "display_data"
    }
   ],
   "source": [
    "colInfo(y)"
   ]
  },
  {
   "cell_type": "markdown",
   "id": "44d357b5",
   "metadata": {},
   "source": [
    "# Train Test Split"
   ]
  },
  {
   "cell_type": "code",
   "execution_count": 10,
   "id": "5e1ff198",
   "metadata": {
    "ExecuteTime": {
     "end_time": "2022-04-21T05:46:52.794147Z",
     "start_time": "2022-04-21T05:46:52.747137Z"
    }
   },
   "outputs": [],
   "source": [
    "X_train,X_test, y_train, y_test = train_test_split(X,y,random_state=42)"
   ]
  },
  {
   "cell_type": "code",
   "execution_count": 11,
   "id": "ca52d171",
   "metadata": {
    "ExecuteTime": {
     "end_time": "2022-04-21T05:46:52.810156Z",
     "start_time": "2022-04-21T05:46:52.795148Z"
    }
   },
   "outputs": [
    {
     "data": {
      "text/plain": [
       "functional                 24161\n",
       "non functional             17146\n",
       "functional needs repair     3243\n",
       "Name: status_group, dtype: int64"
      ]
     },
     "execution_count": 11,
     "metadata": {},
     "output_type": "execute_result"
    }
   ],
   "source": [
    "y_train.value_counts()"
   ]
  },
  {
   "cell_type": "code",
   "execution_count": 12,
   "id": "7375070a",
   "metadata": {
    "ExecuteTime": {
     "end_time": "2022-04-21T05:46:52.826159Z",
     "start_time": "2022-04-21T05:46:52.812156Z"
    },
    "scrolled": false
   },
   "outputs": [
    {
     "data": {
      "text/plain": [
       "functional                 8098\n",
       "non functional             5678\n",
       "functional needs repair    1074\n",
       "Name: status_group, dtype: int64"
      ]
     },
     "execution_count": 12,
     "metadata": {},
     "output_type": "execute_result"
    }
   ],
   "source": [
    "y_test.value_counts()"
   ]
  },
  {
   "cell_type": "markdown",
   "id": "882bfb0d",
   "metadata": {},
   "source": [
    "# Pipelines"
   ]
  },
  {
   "cell_type": "markdown",
   "id": "6d8af9dc",
   "metadata": {},
   "source": [
    "### GPS coordinates"
   ]
  },
  {
   "cell_type": "code",
   "execution_count": 13,
   "id": "9546f526",
   "metadata": {
    "ExecuteTime": {
     "end_time": "2022-04-21T05:46:52.857166Z",
     "start_time": "2022-04-21T05:46:52.827159Z"
    },
    "scrolled": false
   },
   "outputs": [
    {
     "data": {
      "text/plain": [
       "latitude       longitude\n",
       "-2.000000e-08  0.000000     1339\n",
       "-6.980216e+00  39.096499       2\n",
       "-7.056372e+00  37.375717       2\n",
       "dtype: int64"
      ]
     },
     "execution_count": 13,
     "metadata": {},
     "output_type": "execute_result"
    }
   ],
   "source": [
    "X_train[['latitude','longitude']].value_counts()[:3]"
   ]
  },
  {
   "cell_type": "code",
   "execution_count": 14,
   "id": "4741a25a",
   "metadata": {
    "ExecuteTime": {
     "end_time": "2022-04-21T05:46:52.873170Z",
     "start_time": "2022-04-21T05:46:52.858166Z"
    },
    "scrolled": true
   },
   "outputs": [
    {
     "data": {
      "text/plain": [
       "latitude       longitude\n",
       "-2.000000e-08  0.000000     473\n",
       "-2.490324e+00  32.987670      2\n",
       "-6.963557e+00  37.543351      2\n",
       "dtype: int64"
      ]
     },
     "execution_count": 14,
     "metadata": {},
     "output_type": "execute_result"
    }
   ],
   "source": [
    "X_test[['latitude','longitude']].value_counts()[:3]"
   ]
  },
  {
   "cell_type": "markdown",
   "id": "6f57616e",
   "metadata": {
    "ExecuteTime": {
     "end_time": "2022-04-20T13:24:02.402456Z",
     "start_time": "2022-04-20T13:24:02.397455Z"
    }
   },
   "source": [
    "The data set has 1812 (inluding the test set) records where the latitude and longitude were not correctly recorded. They've been recorded as $(-2\\times10^{-8},0)$ or effectively $(0,0)$ which is off the west coast of Africa in the Atlantic Ocean. All of these coordinates belong to 2 regions. We will use a custom imputer to impute these values during our pipeline operations."
   ]
  },
  {
   "cell_type": "code",
   "execution_count": 15,
   "id": "6b2685fd",
   "metadata": {
    "ExecuteTime": {
     "end_time": "2022-04-21T05:46:52.889242Z",
     "start_time": "2022-04-21T05:46:52.874170Z"
    }
   },
   "outputs": [],
   "source": [
    "from src.sklearn_helper import CoordinatesImputer"
   ]
  },
  {
   "cell_type": "markdown",
   "id": "d62484f7",
   "metadata": {},
   "source": [
    "### construction_year"
   ]
  },
  {
   "cell_type": "code",
   "execution_count": 16,
   "id": "7c9f814c",
   "metadata": {
    "ExecuteTime": {
     "end_time": "2022-04-21T05:46:53.159314Z",
     "start_time": "2022-04-21T05:46:52.893243Z"
    },
    "scrolled": false
   },
   "outputs": [
    {
     "data": {
      "text/html": [
       "<style  type=\"text/css\" >\n",
       "</style><table id=\"T_72240bd2_c136_11ec_8199_ec2e98d37a84\" ><caption>Table Info</caption><thead>    <tr>        <th class=\"blank level0\" ></th>        <th class=\"col_heading level0 col0\" >Number</th>        <th class=\"col_heading level0 col1\" >Percentage</th>    </tr>    <tr>        <th class=\"index_name level0\" ></th>        <th class=\"blank\" ></th>        <th class=\"blank\" ></th>    </tr></thead><tbody>\n",
       "                <tr>\n",
       "                        <th id=\"T_72240bd2_c136_11ec_8199_ec2e98d37a84level0_row0\" class=\"row_heading level0 row0\" >Zeroes</th>\n",
       "                        <td id=\"T_72240bd2_c136_11ec_8199_ec2e98d37a84row0_col0\" class=\"data row0 col0\" >15,463</td>\n",
       "                        <td id=\"T_72240bd2_c136_11ec_8199_ec2e98d37a84row0_col1\" class=\"data row0 col1\" >34.71 %</td>\n",
       "            </tr>\n",
       "            <tr>\n",
       "                        <th id=\"T_72240bd2_c136_11ec_8199_ec2e98d37a84level0_row1\" class=\"row_heading level0 row1\" >Missing</th>\n",
       "                        <td id=\"T_72240bd2_c136_11ec_8199_ec2e98d37a84row1_col0\" class=\"data row1 col0\" >0</td>\n",
       "                        <td id=\"T_72240bd2_c136_11ec_8199_ec2e98d37a84row1_col1\" class=\"data row1 col1\" >0.00 %</td>\n",
       "            </tr>\n",
       "            <tr>\n",
       "                        <th id=\"T_72240bd2_c136_11ec_8199_ec2e98d37a84level0_row2\" class=\"row_heading level0 row2\" >Unknown</th>\n",
       "                        <td id=\"T_72240bd2_c136_11ec_8199_ec2e98d37a84row2_col0\" class=\"data row2 col0\" >0</td>\n",
       "                        <td id=\"T_72240bd2_c136_11ec_8199_ec2e98d37a84row2_col1\" class=\"data row2 col1\" >0.00 %</td>\n",
       "            </tr>\n",
       "            <tr>\n",
       "                        <th id=\"T_72240bd2_c136_11ec_8199_ec2e98d37a84level0_row3\" class=\"row_heading level0 row3\" >Uniques</th>\n",
       "                        <td id=\"T_72240bd2_c136_11ec_8199_ec2e98d37a84row3_col0\" class=\"data row3 col0\" >55</td>\n",
       "                        <td id=\"T_72240bd2_c136_11ec_8199_ec2e98d37a84row3_col1\" class=\"data row3 col1\" >0.12 %</td>\n",
       "            </tr>\n",
       "            <tr>\n",
       "                        <th id=\"T_72240bd2_c136_11ec_8199_ec2e98d37a84level0_row4\" class=\"row_heading level0 row4\" >Mean</th>\n",
       "                        <td id=\"T_72240bd2_c136_11ec_8199_ec2e98d37a84row4_col0\" class=\"data row4 col0\" >1303.75</td>\n",
       "                        <td id=\"T_72240bd2_c136_11ec_8199_ec2e98d37a84row4_col1\" class=\"data row4 col1\" >-</td>\n",
       "            </tr>\n",
       "            <tr>\n",
       "                        <th id=\"T_72240bd2_c136_11ec_8199_ec2e98d37a84level0_row5\" class=\"row_heading level0 row5\" >Median</th>\n",
       "                        <td id=\"T_72240bd2_c136_11ec_8199_ec2e98d37a84row5_col0\" class=\"data row5 col0\" >1986.00</td>\n",
       "                        <td id=\"T_72240bd2_c136_11ec_8199_ec2e98d37a84row5_col1\" class=\"data row5 col1\" >-</td>\n",
       "            </tr>\n",
       "    </tbody></table>"
      ],
      "text/plain": [
       "<pandas.io.formats.style.Styler at 0x1a547204fd0>"
      ]
     },
     "metadata": {},
     "output_type": "display_data"
    },
    {
     "data": {
      "text/html": [
       "<style  type=\"text/css\" >\n",
       "</style><table id=\"T_722459f5_c136_11ec_af75_ec2e98d37a84\" ><caption>Top 10 Value Count Info</caption><thead>    <tr>        <th class=\"blank level0\" ></th>        <th class=\"col_heading level0 col0\" >Value Count</th>        <th class=\"col_heading level0 col1\" >% Value Count</th>    </tr></thead><tbody>\n",
       "                <tr>\n",
       "                        <th id=\"T_722459f5_c136_11ec_af75_ec2e98d37a84level0_row0\" class=\"row_heading level0 row0\" >0</th>\n",
       "                        <td id=\"T_722459f5_c136_11ec_af75_ec2e98d37a84row0_col0\" class=\"data row0 col0\" >15463</td>\n",
       "                        <td id=\"T_722459f5_c136_11ec_af75_ec2e98d37a84row0_col1\" class=\"data row0 col1\" >34.709315</td>\n",
       "            </tr>\n",
       "            <tr>\n",
       "                        <th id=\"T_722459f5_c136_11ec_af75_ec2e98d37a84level0_row1\" class=\"row_heading level0 row1\" >2010</th>\n",
       "                        <td id=\"T_722459f5_c136_11ec_af75_ec2e98d37a84row1_col0\" class=\"data row1 col0\" >2001</td>\n",
       "                        <td id=\"T_722459f5_c136_11ec_af75_ec2e98d37a84row1_col1\" class=\"data row1 col1\" >4.491582</td>\n",
       "            </tr>\n",
       "            <tr>\n",
       "                        <th id=\"T_722459f5_c136_11ec_af75_ec2e98d37a84level0_row2\" class=\"row_heading level0 row2\" >2008</th>\n",
       "                        <td id=\"T_722459f5_c136_11ec_af75_ec2e98d37a84row2_col0\" class=\"data row2 col0\" >1959</td>\n",
       "                        <td id=\"T_722459f5_c136_11ec_af75_ec2e98d37a84row2_col1\" class=\"data row2 col1\" >4.397306</td>\n",
       "            </tr>\n",
       "            <tr>\n",
       "                        <th id=\"T_722459f5_c136_11ec_af75_ec2e98d37a84level0_row3\" class=\"row_heading level0 row3\" >2009</th>\n",
       "                        <td id=\"T_722459f5_c136_11ec_af75_ec2e98d37a84row3_col0\" class=\"data row3 col0\" >1892</td>\n",
       "                        <td id=\"T_722459f5_c136_11ec_af75_ec2e98d37a84row3_col1\" class=\"data row3 col1\" >4.246914</td>\n",
       "            </tr>\n",
       "            <tr>\n",
       "                        <th id=\"T_722459f5_c136_11ec_af75_ec2e98d37a84level0_row4\" class=\"row_heading level0 row4\" >2000</th>\n",
       "                        <td id=\"T_722459f5_c136_11ec_af75_ec2e98d37a84row4_col0\" class=\"data row4 col0\" >1595</td>\n",
       "                        <td id=\"T_722459f5_c136_11ec_af75_ec2e98d37a84row4_col1\" class=\"data row4 col1\" >3.580247</td>\n",
       "            </tr>\n",
       "            <tr>\n",
       "                        <th id=\"T_722459f5_c136_11ec_af75_ec2e98d37a84level0_row5\" class=\"row_heading level0 row5\" >2007</th>\n",
       "                        <td id=\"T_722459f5_c136_11ec_af75_ec2e98d37a84row5_col0\" class=\"data row5 col0\" >1195</td>\n",
       "                        <td id=\"T_722459f5_c136_11ec_af75_ec2e98d37a84row5_col1\" class=\"data row5 col1\" >2.682379</td>\n",
       "            </tr>\n",
       "            <tr>\n",
       "                        <th id=\"T_722459f5_c136_11ec_af75_ec2e98d37a84level0_row6\" class=\"row_heading level0 row6\" >2006</th>\n",
       "                        <td id=\"T_722459f5_c136_11ec_af75_ec2e98d37a84row6_col0\" class=\"data row6 col0\" >1103</td>\n",
       "                        <td id=\"T_722459f5_c136_11ec_af75_ec2e98d37a84row6_col1\" class=\"data row6 col1\" >2.475870</td>\n",
       "            </tr>\n",
       "            <tr>\n",
       "                        <th id=\"T_722459f5_c136_11ec_af75_ec2e98d37a84level0_row7\" class=\"row_heading level0 row7\" >2003</th>\n",
       "                        <td id=\"T_722459f5_c136_11ec_af75_ec2e98d37a84row7_col0\" class=\"data row7 col0\" >989</td>\n",
       "                        <td id=\"T_722459f5_c136_11ec_af75_ec2e98d37a84row7_col1\" class=\"data row7 col1\" >2.219978</td>\n",
       "            </tr>\n",
       "            <tr>\n",
       "                        <th id=\"T_722459f5_c136_11ec_af75_ec2e98d37a84level0_row8\" class=\"row_heading level0 row8\" >2011</th>\n",
       "                        <td id=\"T_722459f5_c136_11ec_af75_ec2e98d37a84row8_col0\" class=\"data row8 col0\" >943</td>\n",
       "                        <td id=\"T_722459f5_c136_11ec_af75_ec2e98d37a84row8_col1\" class=\"data row8 col1\" >2.116723</td>\n",
       "            </tr>\n",
       "            <tr>\n",
       "                        <th id=\"T_722459f5_c136_11ec_af75_ec2e98d37a84level0_row9\" class=\"row_heading level0 row9\" >2012</th>\n",
       "                        <td id=\"T_722459f5_c136_11ec_af75_ec2e98d37a84row9_col0\" class=\"data row9 col0\" >839</td>\n",
       "                        <td id=\"T_722459f5_c136_11ec_af75_ec2e98d37a84row9_col1\" class=\"data row9 col1\" >1.883277</td>\n",
       "            </tr>\n",
       "    </tbody></table>"
      ],
      "text/plain": [
       "<pandas.io.formats.style.Styler at 0x1a54721f670>"
      ]
     },
     "metadata": {},
     "output_type": "display_data"
    },
    {
     "data": {
      "image/png": "[encoded data removed]",
      "text/plain": [
       "<Figure size 1080x576 with 1 Axes>"
      ]
     },
     "metadata": {
      "needs_background": "light"
     },
     "output_type": "display_data"
    }
   ],
   "source": [
    "colInfo(X_train.construction_year)"
   ]
  },
  {
   "cell_type": "markdown",
   "id": "8badf49c",
   "metadata": {},
   "source": [
    "Every well water pump has a construction year. However, as you can see in the training set there is a high number (34%) of zeroes. Assuming that this is an error and well water pumps were not being installed in 0AD, we shall impute these values using kNN imputer. Lets look at what the rest of the data looks like."
   ]
  },
  {
   "cell_type": "code",
   "execution_count": 17,
   "id": "36c9905c",
   "metadata": {
    "ExecuteTime": {
     "end_time": "2022-04-21T05:46:53.175319Z",
     "start_time": "2022-04-21T05:46:53.160315Z"
    }
   },
   "outputs": [],
   "source": [
    "# enc_columnNames =  \n",
    "# col_ImputeToMedian + \\\n",
    "# list(ct.transformers_[1][1]['cat1_ohe'].get_feature_names_out())  +\\\n",
    "# list(ct.transformers_[2][1]['cat2_ohe'].get_feature_names_out())\n",
    "\n",
    "# X_train_proc = pd.DataFrame(ct.fit_transform(X_train,y_train),columns = enc_columnNames)\n",
    "# X_test_proc = pd.DataFrame(ct.transform(X_test),columns = enc_columnNames)\n",
    "\n",
    "# print(X_train_proc)\n",
    "# print(X_test_proc)"
   ]
  },
  {
   "cell_type": "markdown",
   "id": "7c33fc9e",
   "metadata": {},
   "source": [
    "### Transformations"
   ]
  },
  {
   "cell_type": "code",
   "execution_count": 18,
   "id": "d25c76ba",
   "metadata": {
    "ExecuteTime": {
     "end_time": "2022-04-21T05:46:53.191328Z",
     "start_time": "2022-04-21T05:46:53.176320Z"
    }
   },
   "outputs": [],
   "source": [
    "#Impute nans as well as unknowns\n",
    "subpipe_cat1 = Pipeline(steps=[\n",
    "    ('cat1_imp1', SimpleImputer(missing_values=np.nan,strategy='most_frequent')),\n",
    "    ('cat1_imp2', SimpleImputer(missing_values='unknown',strategy='most_frequent')),\n",
    "    ('cat1_ohe', OneHotEncoder(sparse=False, handle_unknown='ignore'))\n",
    "])\n",
    "\n",
    "#Only OneHotEncode\n",
    "subpipe_cat2 = Pipeline(steps=[\n",
    "    ('cat2_ohe', OneHotEncoder(sparse=False, handle_unknown='ignore'))\n",
    "])\n",
    "\n",
    "#Impute median and scale (0,1)\n",
    "subpipe_num = Pipeline(steps=[\n",
    "    ('num_imp', SimpleImputer(missing_values=np.nan,strategy='median')),\n",
    "    ('num_sc', MinMaxScaler()),    \n",
    "])\n",
    "\n",
    "#kNN impute then scale (0,1)\n",
    "subpipe_cYr = Pipeline(steps=[\n",
    "    ('cYr_imp', KNNImputer(missing_values=0,n_neighbors=3)),\n",
    "    ('cYr_sc', MinMaxScaler()),    \n",
    "])\n",
    "\n",
    "\n",
    "\n",
    "\n",
    "\n",
    "\n",
    "#Specifically designed for imputing erroneous coordinates\n",
    "#As part of your column transformations,an additional column (default='region') will be needed to be passed\n",
    "#Returning dataframe excludes this additional column\n",
    "#Impute (0,0) coordinates from the corresponding regions mean/median  and scale (0,1)\n",
    "subpipe_coord = Pipeline(steps=[\n",
    "    ('coord_imp', CoordinatesImputer(groupByTarget='region',metric='median')), \n",
    "    ('coord_sc', MinMaxScaler()),    \n",
    "])"
   ]
  },
  {
   "cell_type": "code",
   "execution_count": 19,
   "id": "cd5d2c8d",
   "metadata": {
    "ExecuteTime": {
     "end_time": "2022-04-21T05:46:53.207335Z",
     "start_time": "2022-04-21T05:46:53.192328Z"
    }
   },
   "outputs": [],
   "source": [
    "def modelReport(model, X, y):\n",
    "\n",
    "    # Using cross_val_predict to create a confusion matrix\n",
    "    preds = cross_val_predict(estimator=model, X=X, y=y)\n",
    "    cm = confusion_matrix(y, preds, labels=model.classes_)\n",
    "    disp = ConfusionMatrixDisplay(cm, display_labels=model.classes_)\n",
    "    fig, ax = plt.subplots(figsize=(8, 8))\n",
    "    disp.plot(cmap='OrRd', ax=ax)\n",
    "\n",
    "    # Getting cross val scores\n",
    "    getAllCrossValScores(model, X, y)\n",
    "\n",
    "\n",
    "def getAllCrossValScores(model, X, y):\n",
    "    # Using cross_validate to generate accuracy, recall, precision and f1-scores\n",
    "    cv = cross_validate(model, X, y, scoring=[\n",
    "                        'accuracy', 'precision_macro', 'recall_macro', 'f1_macro'])\n",
    "    acc = cv['test_accuracy'].mean()\n",
    "    pr = cv['test_precision_macro'].mean()\n",
    "    re = cv['test_recall_macro'].mean()\n",
    "    f1 = cv['test_f1_macro'].mean()\n",
    "\n",
    "    data = [\n",
    "        ['Accuracy',  f'{acc:.4f}'],\n",
    "        ['Precision', f'{pr:.4f}'],\n",
    "        ['Recall', f'{re:.4f}'],\n",
    "        ['F1', f'{f1:.4f}'],\n",
    "    ]\n",
    "\n",
    "    info_table = pd.DataFrame(data, columns=['', 'Scores']).set_index(\n",
    "        '').style.set_caption(\"Cross Validation Results\")\n",
    "    display(info_table)\n",
    "\n",
    "\n",
    "def prettyPrintGridCVResults(GSCVModel):\n",
    "    list_cols = ['rank_test_accuracy']\n",
    "    list_metrics = ['mean_test_accuracy', 'mean_test_precision_macro',\n",
    "                      'mean_test_recall_macro', 'mean_test_f1_macro']\n",
    "    list_cols.extend(list_metrics)\n",
    "\n",
    "    for col in GSCVModel.cv_results_.keys():\n",
    "        if col.startswith('param_'):\n",
    "            list_cols.append(col)\n",
    "    \n",
    "    \n",
    "\n",
    "\n",
    "    table = pd.DataFrame(GSCVModel.cv_results_)\n",
    "    for m in list_metrics:\n",
    "        table[m] = table[m].map('{:,.4f}'.format)\n",
    "    table = table[list_cols].sort_values(by='rank_test_accuracy')\n",
    "    \n",
    "\n",
    "        \n",
    "    table.rename(columns={'rank_test_accuracy': 'Rank (By Accuracy)',\n",
    "                          'mean_test_accuracy': 'Mean Test Accuracy',\n",
    "                          'mean_test_precision_macro': 'Mean Test Precision (macro)',\n",
    "                          'mean_test_recall_macro': 'Mean Test Recall (macro)',\n",
    "                          'mean_test_f1_macro': 'Mean Test F1-Score (macro)'\n",
    "                          }, inplace=True)\n",
    "    \n",
    "\n",
    "    return table.set_index('Rank (By Accuracy)')"
   ]
  },
  {
   "cell_type": "markdown",
   "id": "cf6a9fab",
   "metadata": {},
   "source": [
    "# Models - Baselines"
   ]
  },
  {
   "cell_type": "markdown",
   "id": "2916a301",
   "metadata": {},
   "source": [
    "## Model 00 - Dummy Classifier"
   ]
  },
  {
   "cell_type": "markdown",
   "id": "734c7cdf",
   "metadata": {},
   "source": [
    "Using a dummy classifier to establish our baseline.\\\n",
    "Since, this classifier doesn ignores input variables, and in the interest of time, we will not employ our column transformation pipeline."
   ]
  },
  {
   "cell_type": "code",
   "execution_count": 18,
   "id": "b3a830aa",
   "metadata": {
    "ExecuteTime": {
     "end_time": "2022-04-21T01:23:22.723977Z",
     "start_time": "2022-04-21T01:23:22.501936Z"
    },
    "scrolled": true
   },
   "outputs": [
    {
     "data": {
      "text/plain": [
       "array([0.54231201, 0.54242424, 0.54231201, 0.54231201, 0.54231201])"
      ]
     },
     "execution_count": 18,
     "metadata": {},
     "output_type": "execute_result"
    }
   ],
   "source": [
    "baseline_00 = DummyClassifier()\n",
    "baseline_00.fit(X_train,y_train)"
   ]
  },
  {
   "cell_type": "code",
   "execution_count": 20,
   "id": "b55390a5",
   "metadata": {
    "ExecuteTime": {
     "end_time": "2022-04-21T01:23:24.083493Z",
     "start_time": "2022-04-21T01:23:23.158286Z"
    }
   },
   "outputs": [
    {
     "name": "stderr",
     "output_type": "stream",
     "text": [
      "C:\\Users\\saads\\anaconda3\\envs\\learn-env\\lib\\site-packages\\sklearn\\metrics\\_classification.py:1318: UndefinedMetricWarning: Precision is ill-defined and being set to 0.0 in labels with no predicted samples. Use `zero_division` parameter to control this behavior.\n",
      "  _warn_prf(average, modifier, msg_start, len(result))\n",
      "C:\\Users\\saads\\anaconda3\\envs\\learn-env\\lib\\site-packages\\sklearn\\metrics\\_classification.py:1318: UndefinedMetricWarning: Precision is ill-defined and being set to 0.0 in labels with no predicted samples. Use `zero_division` parameter to control this behavior.\n",
      "  _warn_prf(average, modifier, msg_start, len(result))\n",
      "C:\\Users\\saads\\anaconda3\\envs\\learn-env\\lib\\site-packages\\sklearn\\metrics\\_classification.py:1318: UndefinedMetricWarning: Precision is ill-defined and being set to 0.0 in labels with no predicted samples. Use `zero_division` parameter to control this behavior.\n",
      "  _warn_prf(average, modifier, msg_start, len(result))\n",
      "C:\\Users\\saads\\anaconda3\\envs\\learn-env\\lib\\site-packages\\sklearn\\metrics\\_classification.py:1318: UndefinedMetricWarning: Precision is ill-defined and being set to 0.0 in labels with no predicted samples. Use `zero_division` parameter to control this behavior.\n",
      "  _warn_prf(average, modifier, msg_start, len(result))\n",
      "C:\\Users\\saads\\anaconda3\\envs\\learn-env\\lib\\site-packages\\sklearn\\metrics\\_classification.py:1318: UndefinedMetricWarning: Precision is ill-defined and being set to 0.0 in labels with no predicted samples. Use `zero_division` parameter to control this behavior.\n",
      "  _warn_prf(average, modifier, msg_start, len(result))\n"
     ]
    },
    {
     "data": {
      "text/html": [
       "<style  type=\"text/css\" >\n",
       "</style><table id=\"T_a346a96c_c111_11ec_919a_ec2e98d37a84\" ><caption>Cross Validation Results</caption><thead>    <tr>        <th class=\"blank level0\" ></th>        <th class=\"col_heading level0 col0\" >Scores</th>    </tr>    <tr>        <th class=\"index_name level0\" ></th>        <th class=\"blank\" ></th>    </tr></thead><tbody>\n",
       "                <tr>\n",
       "                        <th id=\"T_a346a96c_c111_11ec_919a_ec2e98d37a84level0_row0\" class=\"row_heading level0 row0\" >Accuracy</th>\n",
       "                        <td id=\"T_a346a96c_c111_11ec_919a_ec2e98d37a84row0_col0\" class=\"data row0 col0\" >0.5423</td>\n",
       "            </tr>\n",
       "            <tr>\n",
       "                        <th id=\"T_a346a96c_c111_11ec_919a_ec2e98d37a84level0_row1\" class=\"row_heading level0 row1\" >Precision</th>\n",
       "                        <td id=\"T_a346a96c_c111_11ec_919a_ec2e98d37a84row1_col0\" class=\"data row1 col0\" >0.1808</td>\n",
       "            </tr>\n",
       "            <tr>\n",
       "                        <th id=\"T_a346a96c_c111_11ec_919a_ec2e98d37a84level0_row2\" class=\"row_heading level0 row2\" >Recall</th>\n",
       "                        <td id=\"T_a346a96c_c111_11ec_919a_ec2e98d37a84row2_col0\" class=\"data row2 col0\" >0.3333</td>\n",
       "            </tr>\n",
       "            <tr>\n",
       "                        <th id=\"T_a346a96c_c111_11ec_919a_ec2e98d37a84level0_row3\" class=\"row_heading level0 row3\" >F1</th>\n",
       "                        <td id=\"T_a346a96c_c111_11ec_919a_ec2e98d37a84row3_col0\" class=\"data row3 col0\" >0.2344</td>\n",
       "            </tr>\n",
       "    </tbody></table>"
      ],
      "text/plain": [
       "<pandas.io.formats.style.Styler at 0x26b58a45070>"
      ]
     },
     "metadata": {},
     "output_type": "display_data"
    },
    {
     "data": {
      "image/png": "[encoded data removed]",
      "text/plain": [
       "<Figure size 576x576 with 2 Axes>"
      ]
     },
     "metadata": {
      "needs_background": "light"
     },
     "output_type": "display_data"
    }
   ],
   "source": [
    "modelReport(baseline_00,X_train,y_train)"
   ]
  },
  {
   "cell_type": "markdown",
   "id": "0c1acbf4",
   "metadata": {},
   "source": [
    "54% accuracy and 18% precision. Thats our dummy classifier baseline"
   ]
  },
  {
   "cell_type": "code",
   "execution_count": 21,
   "id": "6aee1bfb",
   "metadata": {
    "ExecuteTime": {
     "end_time": "2022-04-21T01:23:27.179656Z",
     "start_time": "2022-04-21T01:23:27.173664Z"
    }
   },
   "outputs": [],
   "source": [
    "filePath = f'models/{baseline_00=}'.split('=')[0] + '.sav'\n",
    "pickle.dump(baseline_00, open(filePath, 'wb'))"
   ]
  },
  {
   "cell_type": "markdown",
   "id": "40517994",
   "metadata": {},
   "source": [
    "##  Model 01 - Logistic Regression"
   ]
  },
  {
   "cell_type": "markdown",
   "id": "b8e6c558",
   "metadata": {},
   "source": [
    "### Simple Model"
   ]
  },
  {
   "cell_type": "code",
   "execution_count": 23,
   "id": "732dc451",
   "metadata": {
    "ExecuteTime": {
     "end_time": "2022-04-21T01:23:51.140454Z",
     "start_time": "2022-04-21T01:23:51.126451Z"
    }
   },
   "outputs": [],
   "source": [
    "ct = ColumnTransformer(transformers=[\n",
    "\n",
    "    ('ct_cyr', subpipe_num, ['construction_year']),\n",
    "    \n",
    "    # Note: region is passed to allow groupby. Not returned.\n",
    "    ('ct_coord', subpipe_coord, ['latitude', 'longitude', 'region']),\n",
    "    \n",
    "    ('ct_cat1', subpipe_cat1, ['public_meeting','scheme_management', 'permit', 'source_class']),\n",
    "    \n",
    "    ('ct_cat2', subpipe_cat2, ['basin', 'extraction_type_class', 'management', 'payment', 'quality_group',\n",
    "                               'quantity', 'source_type', 'waterpoint_type_group']),\n",
    "\n",
    "])"
   ]
  },
  {
   "cell_type": "code",
   "execution_count": 24,
   "id": "8647316e",
   "metadata": {
    "ExecuteTime": {
     "end_time": "2022-04-21T01:24:47.881148Z",
     "start_time": "2022-04-21T01:23:52.350692Z"
    },
    "scrolled": false
   },
   "outputs": [
    {
     "data": {
      "text/html": [
       "<style  type=\"text/css\" >\n",
       "</style><table id=\"T_d537f2bb_c111_11ec_8fac_ec2e98d37a84\" ><caption>Cross Validation Results</caption><thead>    <tr>        <th class=\"blank level0\" ></th>        <th class=\"col_heading level0 col0\" >Scores</th>    </tr>    <tr>        <th class=\"index_name level0\" ></th>        <th class=\"blank\" ></th>    </tr></thead><tbody>\n",
       "                <tr>\n",
       "                        <th id=\"T_d537f2bb_c111_11ec_8fac_ec2e98d37a84level0_row0\" class=\"row_heading level0 row0\" >Accuracy</th>\n",
       "                        <td id=\"T_d537f2bb_c111_11ec_8fac_ec2e98d37a84row0_col0\" class=\"data row0 col0\" >0.7279</td>\n",
       "            </tr>\n",
       "            <tr>\n",
       "                        <th id=\"T_d537f2bb_c111_11ec_8fac_ec2e98d37a84level0_row1\" class=\"row_heading level0 row1\" >Precision</th>\n",
       "                        <td id=\"T_d537f2bb_c111_11ec_8fac_ec2e98d37a84row1_col0\" class=\"data row1 col0\" >0.6146</td>\n",
       "            </tr>\n",
       "            <tr>\n",
       "                        <th id=\"T_d537f2bb_c111_11ec_8fac_ec2e98d37a84level0_row2\" class=\"row_heading level0 row2\" >Recall</th>\n",
       "                        <td id=\"T_d537f2bb_c111_11ec_8fac_ec2e98d37a84row2_col0\" class=\"data row2 col0\" >0.5115</td>\n",
       "            </tr>\n",
       "            <tr>\n",
       "                        <th id=\"T_d537f2bb_c111_11ec_8fac_ec2e98d37a84level0_row3\" class=\"row_heading level0 row3\" >F1</th>\n",
       "                        <td id=\"T_d537f2bb_c111_11ec_8fac_ec2e98d37a84row3_col0\" class=\"data row3 col0\" >0.5056</td>\n",
       "            </tr>\n",
       "    </tbody></table>"
      ],
      "text/plain": [
       "<pandas.io.formats.style.Styler at 0x26b5791e460>"
      ]
     },
     "metadata": {},
     "output_type": "display_data"
    },
    {
     "data": {
      "image/png": "[encoded data removed]",
      "text/plain": [
       "<Figure size 576x576 with 2 Axes>"
      ]
     },
     "metadata": {
      "needs_background": "light"
     },
     "output_type": "display_data"
    }
   ],
   "source": [
    "log_reg_pipe = Pipeline([\n",
    "    ('ct', ct),\n",
    "    ('log_reg', LogisticRegression(random_state=42, n_jobs=Notebook_n_jobs))\n",
    "])\n",
    "log_reg_pipe.fit(X_train, y_train)\n",
    "modelReport(log_reg_pipe,X_train,y_train)"
   ]
  },
  {
   "cell_type": "code",
   "execution_count": 25,
   "id": "53b9a1dc",
   "metadata": {
    "ExecuteTime": {
     "end_time": "2022-04-21T01:24:48.134080Z",
     "start_time": "2022-04-21T01:24:48.086984Z"
    }
   },
   "outputs": [],
   "source": [
    "filePath = f'models/{log_reg_pipe=}'.split('=')[0] + '.sav'\n",
    "pickle.dump(log_reg_pipe, open(filePath, 'wb'))"
   ]
  },
  {
   "cell_type": "markdown",
   "id": "76e216d8",
   "metadata": {},
   "source": [
    "72.79% accuracy and 61.46% precision. \\\n",
    "In conjunction with our column transformer a simple logistic regression model shows massive improvements over the baseline.\n",
    "\n",
    "Lets try and tune it better."
   ]
  },
  {
   "cell_type": "markdown",
   "id": "411cecba",
   "metadata": {
    "ExecuteTime": {
     "end_time": "2022-04-20T16:56:46.063835Z",
     "start_time": "2022-04-20T16:56:46.023737Z"
    }
   },
   "source": [
    "### Hypertuned Logistic Regression model"
   ]
  },
  {
   "cell_type": "code",
   "execution_count": 36,
   "id": "ff3ab1e6",
   "metadata": {
    "ExecuteTime": {
     "end_time": "2022-04-21T01:40:34.056552Z",
     "start_time": "2022-04-21T01:38:21.941389Z"
    },
    "scrolled": false
   },
   "outputs": [],
   "source": [
    "params = {}\n",
    "params['log_reg__C'] = [0.1, 1, 10,100]\n",
    "params['log_reg__max_iter'] = [50,100, 150,200]\n",
    "params['log_reg__solver'] = ['lbfgs', 'sag']\n",
    "\n",
    "log_reg_gs1 = GridSearchCV(estimator=log_reg_pipe,\n",
    "                           param_grid=params,\n",
    "                           cv=5,\n",
    "                           n_jobs=Notebook_n_jobs,\n",
    "                           scoring=[ 'accuracy','precision_macro','recall_macro','f1_macro'],\n",
    "                           refit='accuracy',\n",
    "                           return_train_score=True)\n",
    "log_reg_gs1.fit(X_train, y_train)\n",
    "\n",
    "filePath = f'models/{log_reg_gs1=}'.split('=')[0] + '.sav'\n",
    "pickle.dump(log_reg_gs1, open(filePath, 'wb'))"
   ]
  },
  {
   "cell_type": "code",
   "execution_count": 37,
   "id": "5a475d80",
   "metadata": {
    "ExecuteTime": {
     "end_time": "2022-04-21T01:40:34.484650Z",
     "start_time": "2022-04-21T01:40:34.453644Z"
    },
    "scrolled": false
   },
   "outputs": [
    {
     "data": {
      "text/html": [
       "<div>\n",
       "<style scoped>\n",
       "    .dataframe tbody tr th:only-of-type {\n",
       "        vertical-align: middle;\n",
       "    }\n",
       "\n",
       "    .dataframe tbody tr th {\n",
       "        vertical-align: top;\n",
       "    }\n",
       "\n",
       "    .dataframe thead th {\n",
       "        text-align: right;\n",
       "    }\n",
       "</style>\n",
       "<table border=\"1\" class=\"dataframe\">\n",
       "  <thead>\n",
       "    <tr style=\"text-align: right;\">\n",
       "      <th></th>\n",
       "      <th>Mean Test Accuracy</th>\n",
       "      <th>Mean Test Precision (macro)</th>\n",
       "      <th>Mean Test Recall (macro)</th>\n",
       "      <th>Mean Test F1-Score (macro)</th>\n",
       "      <th>param_log_reg__C</th>\n",
       "      <th>param_log_reg__max_iter</th>\n",
       "      <th>param_log_reg__solver</th>\n",
       "    </tr>\n",
       "    <tr>\n",
       "      <th>Rank (By Accuracy)</th>\n",
       "      <th></th>\n",
       "      <th></th>\n",
       "      <th></th>\n",
       "      <th></th>\n",
       "      <th></th>\n",
       "      <th></th>\n",
       "      <th></th>\n",
       "    </tr>\n",
       "  </thead>\n",
       "  <tbody>\n",
       "    <tr>\n",
       "      <th>1</th>\n",
       "      <td>0.7281</td>\n",
       "      <td>0.6077</td>\n",
       "      <td>0.5116</td>\n",
       "      <td>0.5056</td>\n",
       "      <td>10</td>\n",
       "      <td>100</td>\n",
       "      <td>lbfgs</td>\n",
       "    </tr>\n",
       "    <tr>\n",
       "      <th>2</th>\n",
       "      <td>0.7280</td>\n",
       "      <td>0.5880</td>\n",
       "      <td>0.5106</td>\n",
       "      <td>0.5034</td>\n",
       "      <td>100</td>\n",
       "      <td>100</td>\n",
       "      <td>lbfgs</td>\n",
       "    </tr>\n",
       "    <tr>\n",
       "      <th>3</th>\n",
       "      <td>0.7280</td>\n",
       "      <td>0.6137</td>\n",
       "      <td>0.5115</td>\n",
       "      <td>0.5054</td>\n",
       "      <td>1</td>\n",
       "      <td>150</td>\n",
       "      <td>lbfgs</td>\n",
       "    </tr>\n",
       "    <tr>\n",
       "      <th>4</th>\n",
       "      <td>0.7279</td>\n",
       "      <td>0.6137</td>\n",
       "      <td>0.5115</td>\n",
       "      <td>0.5054</td>\n",
       "      <td>1</td>\n",
       "      <td>200</td>\n",
       "      <td>lbfgs</td>\n",
       "    </tr>\n",
       "    <tr>\n",
       "      <th>5</th>\n",
       "      <td>0.7279</td>\n",
       "      <td>0.6137</td>\n",
       "      <td>0.5115</td>\n",
       "      <td>0.5054</td>\n",
       "      <td>1</td>\n",
       "      <td>200</td>\n",
       "      <td>sag</td>\n",
       "    </tr>\n",
       "    <tr>\n",
       "      <th>5</th>\n",
       "      <td>0.7279</td>\n",
       "      <td>0.6132</td>\n",
       "      <td>0.5116</td>\n",
       "      <td>0.5056</td>\n",
       "      <td>100</td>\n",
       "      <td>150</td>\n",
       "      <td>lbfgs</td>\n",
       "    </tr>\n",
       "    <tr>\n",
       "      <th>5</th>\n",
       "      <td>0.7279</td>\n",
       "      <td>0.6137</td>\n",
       "      <td>0.5115</td>\n",
       "      <td>0.5054</td>\n",
       "      <td>1</td>\n",
       "      <td>150</td>\n",
       "      <td>sag</td>\n",
       "    </tr>\n",
       "    <tr>\n",
       "      <th>5</th>\n",
       "      <td>0.7279</td>\n",
       "      <td>0.6146</td>\n",
       "      <td>0.5115</td>\n",
       "      <td>0.5056</td>\n",
       "      <td>1</td>\n",
       "      <td>100</td>\n",
       "      <td>lbfgs</td>\n",
       "    </tr>\n",
       "    <tr>\n",
       "      <th>9</th>\n",
       "      <td>0.7279</td>\n",
       "      <td>0.6132</td>\n",
       "      <td>0.5115</td>\n",
       "      <td>0.5054</td>\n",
       "      <td>10</td>\n",
       "      <td>200</td>\n",
       "      <td>lbfgs</td>\n",
       "    </tr>\n",
       "    <tr>\n",
       "      <th>9</th>\n",
       "      <td>0.7279</td>\n",
       "      <td>0.6123</td>\n",
       "      <td>0.5115</td>\n",
       "      <td>0.5054</td>\n",
       "      <td>100</td>\n",
       "      <td>200</td>\n",
       "      <td>lbfgs</td>\n",
       "    </tr>\n",
       "    <tr>\n",
       "      <th>11</th>\n",
       "      <td>0.7279</td>\n",
       "      <td>0.6124</td>\n",
       "      <td>0.5116</td>\n",
       "      <td>0.5056</td>\n",
       "      <td>10</td>\n",
       "      <td>150</td>\n",
       "      <td>lbfgs</td>\n",
       "    </tr>\n",
       "    <tr>\n",
       "      <th>12</th>\n",
       "      <td>0.7278</td>\n",
       "      <td>0.6116</td>\n",
       "      <td>0.5112</td>\n",
       "      <td>0.5049</td>\n",
       "      <td>1</td>\n",
       "      <td>100</td>\n",
       "      <td>sag</td>\n",
       "    </tr>\n",
       "    <tr>\n",
       "      <th>13</th>\n",
       "      <td>0.7277</td>\n",
       "      <td>0.5960</td>\n",
       "      <td>0.5090</td>\n",
       "      <td>0.5006</td>\n",
       "      <td>0.1</td>\n",
       "      <td>50</td>\n",
       "      <td>lbfgs</td>\n",
       "    </tr>\n",
       "    <tr>\n",
       "      <th>14</th>\n",
       "      <td>0.7276</td>\n",
       "      <td>0.5942</td>\n",
       "      <td>0.5110</td>\n",
       "      <td>0.5045</td>\n",
       "      <td>1</td>\n",
       "      <td>50</td>\n",
       "      <td>lbfgs</td>\n",
       "    </tr>\n",
       "    <tr>\n",
       "      <th>15</th>\n",
       "      <td>0.7275</td>\n",
       "      <td>0.6007</td>\n",
       "      <td>0.5098</td>\n",
       "      <td>0.5025</td>\n",
       "      <td>0.1</td>\n",
       "      <td>200</td>\n",
       "      <td>lbfgs</td>\n",
       "    </tr>\n",
       "    <tr>\n",
       "      <th>15</th>\n",
       "      <td>0.7275</td>\n",
       "      <td>0.5998</td>\n",
       "      <td>0.5098</td>\n",
       "      <td>0.5025</td>\n",
       "      <td>0.1</td>\n",
       "      <td>100</td>\n",
       "      <td>lbfgs</td>\n",
       "    </tr>\n",
       "    <tr>\n",
       "      <th>17</th>\n",
       "      <td>0.7275</td>\n",
       "      <td>0.6003</td>\n",
       "      <td>0.5098</td>\n",
       "      <td>0.5025</td>\n",
       "      <td>0.1</td>\n",
       "      <td>50</td>\n",
       "      <td>sag</td>\n",
       "    </tr>\n",
       "    <tr>\n",
       "      <th>17</th>\n",
       "      <td>0.7275</td>\n",
       "      <td>0.6003</td>\n",
       "      <td>0.5098</td>\n",
       "      <td>0.5025</td>\n",
       "      <td>0.1</td>\n",
       "      <td>150</td>\n",
       "      <td>sag</td>\n",
       "    </tr>\n",
       "    <tr>\n",
       "      <th>17</th>\n",
       "      <td>0.7275</td>\n",
       "      <td>0.6003</td>\n",
       "      <td>0.5098</td>\n",
       "      <td>0.5025</td>\n",
       "      <td>0.1</td>\n",
       "      <td>100</td>\n",
       "      <td>sag</td>\n",
       "    </tr>\n",
       "    <tr>\n",
       "      <th>17</th>\n",
       "      <td>0.7275</td>\n",
       "      <td>0.6003</td>\n",
       "      <td>0.5098</td>\n",
       "      <td>0.5025</td>\n",
       "      <td>0.1</td>\n",
       "      <td>200</td>\n",
       "      <td>sag</td>\n",
       "    </tr>\n",
       "    <tr>\n",
       "      <th>21</th>\n",
       "      <td>0.7274</td>\n",
       "      <td>0.5910</td>\n",
       "      <td>0.5090</td>\n",
       "      <td>0.5010</td>\n",
       "      <td>0.1</td>\n",
       "      <td>150</td>\n",
       "      <td>lbfgs</td>\n",
       "    </tr>\n",
       "    <tr>\n",
       "      <th>22</th>\n",
       "      <td>0.7274</td>\n",
       "      <td>0.5939</td>\n",
       "      <td>0.5108</td>\n",
       "      <td>0.5044</td>\n",
       "      <td>10</td>\n",
       "      <td>50</td>\n",
       "      <td>lbfgs</td>\n",
       "    </tr>\n",
       "    <tr>\n",
       "      <th>23</th>\n",
       "      <td>0.7273</td>\n",
       "      <td>0.5864</td>\n",
       "      <td>0.5097</td>\n",
       "      <td>0.5022</td>\n",
       "      <td>100</td>\n",
       "      <td>50</td>\n",
       "      <td>lbfgs</td>\n",
       "    </tr>\n",
       "    <tr>\n",
       "      <th>24</th>\n",
       "      <td>0.7269</td>\n",
       "      <td>0.5861</td>\n",
       "      <td>0.5088</td>\n",
       "      <td>0.5011</td>\n",
       "      <td>1</td>\n",
       "      <td>50</td>\n",
       "      <td>sag</td>\n",
       "    </tr>\n",
       "    <tr>\n",
       "      <th>25</th>\n",
       "      <td>0.7243</td>\n",
       "      <td>0.6042</td>\n",
       "      <td>0.5114</td>\n",
       "      <td>0.5066</td>\n",
       "      <td>10</td>\n",
       "      <td>200</td>\n",
       "      <td>sag</td>\n",
       "    </tr>\n",
       "    <tr>\n",
       "      <th>26</th>\n",
       "      <td>0.7189</td>\n",
       "      <td>0.5637</td>\n",
       "      <td>0.5058</td>\n",
       "      <td>0.4985</td>\n",
       "      <td>100</td>\n",
       "      <td>100</td>\n",
       "      <td>sag</td>\n",
       "    </tr>\n",
       "    <tr>\n",
       "      <th>27</th>\n",
       "      <td>0.7183</td>\n",
       "      <td>0.5664</td>\n",
       "      <td>0.5033</td>\n",
       "      <td>0.4950</td>\n",
       "      <td>10</td>\n",
       "      <td>100</td>\n",
       "      <td>sag</td>\n",
       "    </tr>\n",
       "    <tr>\n",
       "      <th>28</th>\n",
       "      <td>0.7181</td>\n",
       "      <td>0.5867</td>\n",
       "      <td>0.4988</td>\n",
       "      <td>0.4901</td>\n",
       "      <td>100</td>\n",
       "      <td>200</td>\n",
       "      <td>sag</td>\n",
       "    </tr>\n",
       "    <tr>\n",
       "      <th>29</th>\n",
       "      <td>0.7102</td>\n",
       "      <td>0.5764</td>\n",
       "      <td>0.5124</td>\n",
       "      <td>0.5081</td>\n",
       "      <td>100</td>\n",
       "      <td>150</td>\n",
       "      <td>sag</td>\n",
       "    </tr>\n",
       "    <tr>\n",
       "      <th>30</th>\n",
       "      <td>0.7036</td>\n",
       "      <td>0.5613</td>\n",
       "      <td>0.5020</td>\n",
       "      <td>0.4955</td>\n",
       "      <td>10</td>\n",
       "      <td>150</td>\n",
       "      <td>sag</td>\n",
       "    </tr>\n",
       "    <tr>\n",
       "      <th>31</th>\n",
       "      <td>0.7023</td>\n",
       "      <td>0.5855</td>\n",
       "      <td>0.5093</td>\n",
       "      <td>0.5055</td>\n",
       "      <td>10</td>\n",
       "      <td>50</td>\n",
       "      <td>sag</td>\n",
       "    </tr>\n",
       "    <tr>\n",
       "      <th>32</th>\n",
       "      <td>0.7001</td>\n",
       "      <td>0.5799</td>\n",
       "      <td>0.5078</td>\n",
       "      <td>0.5005</td>\n",
       "      <td>100</td>\n",
       "      <td>50</td>\n",
       "      <td>sag</td>\n",
       "    </tr>\n",
       "  </tbody>\n",
       "</table>\n",
       "</div>"
      ],
      "text/plain": [
       "                   Mean Test Accuracy Mean Test Precision (macro)  \\\n",
       "Rank (By Accuracy)                                                  \n",
       "1                              0.7281                      0.6077   \n",
       "2                              0.7280                      0.5880   \n",
       "3                              0.7280                      0.6137   \n",
       "4                              0.7279                      0.6137   \n",
       "5                              0.7279                      0.6137   \n",
       "5                              0.7279                      0.6132   \n",
       "5                              0.7279                      0.6137   \n",
       "5                              0.7279                      0.6146   \n",
       "9                              0.7279                      0.6132   \n",
       "9                              0.7279                      0.6123   \n",
       "11                             0.7279                      0.6124   \n",
       "12                             0.7278                      0.6116   \n",
       "13                             0.7277                      0.5960   \n",
       "14                             0.7276                      0.5942   \n",
       "15                             0.7275                      0.6007   \n",
       "15                             0.7275                      0.5998   \n",
       "17                             0.7275                      0.6003   \n",
       "17                             0.7275                      0.6003   \n",
       "17                             0.7275                      0.6003   \n",
       "17                             0.7275                      0.6003   \n",
       "21                             0.7274                      0.5910   \n",
       "22                             0.7274                      0.5939   \n",
       "23                             0.7273                      0.5864   \n",
       "24                             0.7269                      0.5861   \n",
       "25                             0.7243                      0.6042   \n",
       "26                             0.7189                      0.5637   \n",
       "27                             0.7183                      0.5664   \n",
       "28                             0.7181                      0.5867   \n",
       "29                             0.7102                      0.5764   \n",
       "30                             0.7036                      0.5613   \n",
       "31                             0.7023                      0.5855   \n",
       "32                             0.7001                      0.5799   \n",
       "\n",
       "                   Mean Test Recall (macro) Mean Test F1-Score (macro)  \\\n",
       "Rank (By Accuracy)                                                       \n",
       "1                                    0.5116                     0.5056   \n",
       "2                                    0.5106                     0.5034   \n",
       "3                                    0.5115                     0.5054   \n",
       "4                                    0.5115                     0.5054   \n",
       "5                                    0.5115                     0.5054   \n",
       "5                                    0.5116                     0.5056   \n",
       "5                                    0.5115                     0.5054   \n",
       "5                                    0.5115                     0.5056   \n",
       "9                                    0.5115                     0.5054   \n",
       "9                                    0.5115                     0.5054   \n",
       "11                                   0.5116                     0.5056   \n",
       "12                                   0.5112                     0.5049   \n",
       "13                                   0.5090                     0.5006   \n",
       "14                                   0.5110                     0.5045   \n",
       "15                                   0.5098                     0.5025   \n",
       "15                                   0.5098                     0.5025   \n",
       "17                                   0.5098                     0.5025   \n",
       "17                                   0.5098                     0.5025   \n",
       "17                                   0.5098                     0.5025   \n",
       "17                                   0.5098                     0.5025   \n",
       "21                                   0.5090                     0.5010   \n",
       "22                                   0.5108                     0.5044   \n",
       "23                                   0.5097                     0.5022   \n",
       "24                                   0.5088                     0.5011   \n",
       "25                                   0.5114                     0.5066   \n",
       "26                                   0.5058                     0.4985   \n",
       "27                                   0.5033                     0.4950   \n",
       "28                                   0.4988                     0.4901   \n",
       "29                                   0.5124                     0.5081   \n",
       "30                                   0.5020                     0.4955   \n",
       "31                                   0.5093                     0.5055   \n",
       "32                                   0.5078                     0.5005   \n",
       "\n",
       "                   param_log_reg__C param_log_reg__max_iter  \\\n",
       "Rank (By Accuracy)                                            \n",
       "1                                10                     100   \n",
       "2                               100                     100   \n",
       "3                                 1                     150   \n",
       "4                                 1                     200   \n",
       "5                                 1                     200   \n",
       "5                               100                     150   \n",
       "5                                 1                     150   \n",
       "5                                 1                     100   \n",
       "9                                10                     200   \n",
       "9                               100                     200   \n",
       "11                               10                     150   \n",
       "12                                1                     100   \n",
       "13                              0.1                      50   \n",
       "14                                1                      50   \n",
       "15                              0.1                     200   \n",
       "15                              0.1                     100   \n",
       "17                              0.1                      50   \n",
       "17                              0.1                     150   \n",
       "17                              0.1                     100   \n",
       "17                              0.1                     200   \n",
       "21                              0.1                     150   \n",
       "22                               10                      50   \n",
       "23                              100                      50   \n",
       "24                                1                      50   \n",
       "25                               10                     200   \n",
       "26                              100                     100   \n",
       "27                               10                     100   \n",
       "28                              100                     200   \n",
       "29                              100                     150   \n",
       "30                               10                     150   \n",
       "31                               10                      50   \n",
       "32                              100                      50   \n",
       "\n",
       "                   param_log_reg__solver  \n",
       "Rank (By Accuracy)                        \n",
       "1                                  lbfgs  \n",
       "2                                  lbfgs  \n",
       "3                                  lbfgs  \n",
       "4                                  lbfgs  \n",
       "5                                    sag  \n",
       "5                                  lbfgs  \n",
       "5                                    sag  \n",
       "5                                  lbfgs  \n",
       "9                                  lbfgs  \n",
       "9                                  lbfgs  \n",
       "11                                 lbfgs  \n",
       "12                                   sag  \n",
       "13                                 lbfgs  \n",
       "14                                 lbfgs  \n",
       "15                                 lbfgs  \n",
       "15                                 lbfgs  \n",
       "17                                   sag  \n",
       "17                                   sag  \n",
       "17                                   sag  \n",
       "17                                   sag  \n",
       "21                                 lbfgs  \n",
       "22                                 lbfgs  \n",
       "23                                 lbfgs  \n",
       "24                                   sag  \n",
       "25                                   sag  \n",
       "26                                   sag  \n",
       "27                                   sag  \n",
       "28                                   sag  \n",
       "29                                   sag  \n",
       "30                                   sag  \n",
       "31                                   sag  \n",
       "32                                   sag  "
      ]
     },
     "execution_count": 37,
     "metadata": {},
     "output_type": "execute_result"
    }
   ],
   "source": [
    "prettyPrintGridCVResults(log_reg_gs1)"
   ]
  },
  {
   "cell_type": "markdown",
   "id": "94c4ac96",
   "metadata": {},
   "source": [
    "We were able to bump up the accuracy by minor amount with an almost equal amount loss in precision"
   ]
  },
  {
   "cell_type": "markdown",
   "id": "47a39d56",
   "metadata": {},
   "source": [
    "# Iterative Models"
   ]
  },
  {
   "cell_type": "markdown",
   "id": "047933d6",
   "metadata": {},
   "source": [
    "## Random Forest"
   ]
  },
  {
   "cell_type": "markdown",
   "id": "90a880f6",
   "metadata": {},
   "source": [
    "### Simple Model"
   ]
  },
  {
   "cell_type": "code",
   "execution_count": 42,
   "id": "becdbd32",
   "metadata": {
    "ExecuteTime": {
     "end_time": "2022-04-21T01:43:50.015507Z",
     "start_time": "2022-04-21T01:43:50.012514Z"
    }
   },
   "outputs": [],
   "source": [
    "ct = ColumnTransformer(transformers=[\n",
    "\n",
    "    ('ct_cyr', subpipe_num, ['construction_year']),\n",
    "    \n",
    "    # Note: region is passed to allow groupby. Not returned.\n",
    "    ('ct_coord', subpipe_coord, ['latitude', 'longitude', 'region']),\n",
    "    \n",
    "    ('ct_cat1', subpipe_cat1, ['public_meeting','scheme_management', 'permit', 'source_class']),\n",
    "    \n",
    "    ('ct_cat2', subpipe_cat2, ['basin', 'extraction_type_class', 'management', 'payment', 'quality_group',\n",
    "                               'quantity', 'source_type', 'waterpoint_type_group']),\n",
    "\n",
    "])"
   ]
  },
  {
   "cell_type": "code",
   "execution_count": 43,
   "id": "f59c138f",
   "metadata": {
    "ExecuteTime": {
     "end_time": "2022-04-21T01:44:29.220752Z",
     "start_time": "2022-04-21T01:44:05.829776Z"
    },
    "scrolled": false
   },
   "outputs": [
    {
     "data": {
      "text/html": [
       "<style  type=\"text/css\" >\n",
       "</style><table id=\"T_95452842_c114_11ec_88ee_ec2e98d37a84\" ><caption>Cross Validation Results</caption><thead>    <tr>        <th class=\"blank level0\" ></th>        <th class=\"col_heading level0 col0\" >Scores</th>    </tr>    <tr>        <th class=\"index_name level0\" ></th>        <th class=\"blank\" ></th>    </tr></thead><tbody>\n",
       "                <tr>\n",
       "                        <th id=\"T_95452842_c114_11ec_88ee_ec2e98d37a84level0_row0\" class=\"row_heading level0 row0\" >Accuracy</th>\n",
       "                        <td id=\"T_95452842_c114_11ec_88ee_ec2e98d37a84row0_col0\" class=\"data row0 col0\" >0.7869</td>\n",
       "            </tr>\n",
       "            <tr>\n",
       "                        <th id=\"T_95452842_c114_11ec_88ee_ec2e98d37a84level0_row1\" class=\"row_heading level0 row1\" >Precision</th>\n",
       "                        <td id=\"T_95452842_c114_11ec_88ee_ec2e98d37a84row1_col0\" class=\"data row1 col0\" >0.6885</td>\n",
       "            </tr>\n",
       "            <tr>\n",
       "                        <th id=\"T_95452842_c114_11ec_88ee_ec2e98d37a84level0_row2\" class=\"row_heading level0 row2\" >Recall</th>\n",
       "                        <td id=\"T_95452842_c114_11ec_88ee_ec2e98d37a84row2_col0\" class=\"data row2 col0\" >0.6540</td>\n",
       "            </tr>\n",
       "            <tr>\n",
       "                        <th id=\"T_95452842_c114_11ec_88ee_ec2e98d37a84level0_row3\" class=\"row_heading level0 row3\" >F1</th>\n",
       "                        <td id=\"T_95452842_c114_11ec_88ee_ec2e98d37a84row3_col0\" class=\"data row3 col0\" >0.6676</td>\n",
       "            </tr>\n",
       "    </tbody></table>"
      ],
      "text/plain": [
       "<pandas.io.formats.style.Styler at 0x26b02521d90>"
      ]
     },
     "metadata": {},
     "output_type": "display_data"
    },
    {
     "data": {
      "image/png": "[encoded data removed]",
      "text/plain": [
       "<Figure size 576x576 with 2 Axes>"
      ]
     },
     "metadata": {
      "needs_background": "light"
     },
     "output_type": "display_data"
    }
   ],
   "source": [
    "rfc_model_pipe = Pipeline([\n",
    "    ('ct',ct),\n",
    "   ('rfc',RandomForestClassifier(random_state=42,n_jobs=Notebook_n_jobs))\n",
    "])\n",
    "\n",
    "rfc_model_pipe.fit(X_train,y_train)\n",
    "modelReport(rfc_model_pipe,X_train,y_train)\n",
    "\n",
    "filePath = f'models/{rfc_model_pipe=}'.split('=')[0] + '.sav'\n",
    "pickle.dump(rfc_model_pipe, open(filePath, 'wb'))"
   ]
  },
  {
   "cell_type": "markdown",
   "id": "cad72b31",
   "metadata": {},
   "source": [
    "Our base Random Forest Classifier is best performer so far with an accuracy of 78.7% and an F1-score of 66.76%"
   ]
  },
  {
   "cell_type": "markdown",
   "id": "6f6db402",
   "metadata": {},
   "source": [
    "### Hypertuned Random Forest"
   ]
  },
  {
   "cell_type": "code",
   "execution_count": 49,
   "id": "215886f1",
   "metadata": {
    "ExecuteTime": {
     "end_time": "2022-04-21T02:22:17.001195Z",
     "start_time": "2022-04-21T01:55:27.836389Z"
    }
   },
   "outputs": [],
   "source": [
    "params = {}\n",
    "params['rfc__criterion'] = ['gini','entropy']\n",
    "params['rfc__n_estimators'] = [350,450,500]\n",
    "params['rfc__max_depth'] = [20,23,27,30]\n",
    "params['rfc__max_leaf_nodes']=[4000,4500,5000]\n",
    "\n",
    "\n",
    "rfc_gs1 = GridSearchCV(estimator=rfc_model_pipe,\n",
    "                           param_grid=params,\n",
    "                           cv=5,\n",
    "                           n_jobs=Notebook_n_jobs,\n",
    "                           scoring=[ 'accuracy','precision_macro','recall_macro','f1_macro'],\n",
    "                           refit='accuracy',\n",
    "                           return_train_score=True)\n",
    "\n",
    "rfc_gs1.fit(X_train,y_train)\n",
    "\n",
    "filePath = f'models/{rfc_gs1=}'.split('=')[0] + '.sav'\n",
    "pickle.dump(rfc_gs1, open(filePath, 'wb'))"
   ]
  },
  {
   "cell_type": "code",
   "execution_count": 50,
   "id": "740f1bc0",
   "metadata": {
    "ExecuteTime": {
     "end_time": "2022-04-21T02:22:17.544607Z",
     "start_time": "2022-04-21T02:22:17.514607Z"
    },
    "scrolled": false
   },
   "outputs": [
    {
     "data": {
      "text/html": [
       "<div>\n",
       "<style scoped>\n",
       "    .dataframe tbody tr th:only-of-type {\n",
       "        vertical-align: middle;\n",
       "    }\n",
       "\n",
       "    .dataframe tbody tr th {\n",
       "        vertical-align: top;\n",
       "    }\n",
       "\n",
       "    .dataframe thead th {\n",
       "        text-align: right;\n",
       "    }\n",
       "</style>\n",
       "<table border=\"1\" class=\"dataframe\">\n",
       "  <thead>\n",
       "    <tr style=\"text-align: right;\">\n",
       "      <th></th>\n",
       "      <th>Mean Test Accuracy</th>\n",
       "      <th>Mean Test Precision (macro)</th>\n",
       "      <th>Mean Test Recall (macro)</th>\n",
       "      <th>Mean Test F1-Score (macro)</th>\n",
       "      <th>param_rfc__criterion</th>\n",
       "      <th>param_rfc__max_depth</th>\n",
       "      <th>param_rfc__max_leaf_nodes</th>\n",
       "      <th>param_rfc__n_estimators</th>\n",
       "    </tr>\n",
       "    <tr>\n",
       "      <th>Rank (By Accuracy)</th>\n",
       "      <th></th>\n",
       "      <th></th>\n",
       "      <th></th>\n",
       "      <th></th>\n",
       "      <th></th>\n",
       "      <th></th>\n",
       "      <th></th>\n",
       "      <th></th>\n",
       "    </tr>\n",
       "  </thead>\n",
       "  <tbody>\n",
       "    <tr>\n",
       "      <th>1</th>\n",
       "      <td>0.7977</td>\n",
       "      <td>0.7197</td>\n",
       "      <td>0.6444</td>\n",
       "      <td>0.6675</td>\n",
       "      <td>entropy</td>\n",
       "      <td>27</td>\n",
       "      <td>4500</td>\n",
       "      <td>450</td>\n",
       "    </tr>\n",
       "    <tr>\n",
       "      <th>2</th>\n",
       "      <td>0.7976</td>\n",
       "      <td>0.7195</td>\n",
       "      <td>0.6444</td>\n",
       "      <td>0.6675</td>\n",
       "      <td>entropy</td>\n",
       "      <td>30</td>\n",
       "      <td>4500</td>\n",
       "      <td>500</td>\n",
       "    </tr>\n",
       "    <tr>\n",
       "      <th>3</th>\n",
       "      <td>0.7976</td>\n",
       "      <td>0.7197</td>\n",
       "      <td>0.6444</td>\n",
       "      <td>0.6676</td>\n",
       "      <td>entropy</td>\n",
       "      <td>27</td>\n",
       "      <td>4500</td>\n",
       "      <td>500</td>\n",
       "    </tr>\n",
       "    <tr>\n",
       "      <th>4</th>\n",
       "      <td>0.7975</td>\n",
       "      <td>0.7217</td>\n",
       "      <td>0.6387</td>\n",
       "      <td>0.6626</td>\n",
       "      <td>entropy</td>\n",
       "      <td>27</td>\n",
       "      <td>4000</td>\n",
       "      <td>500</td>\n",
       "    </tr>\n",
       "    <tr>\n",
       "      <th>5</th>\n",
       "      <td>0.7974</td>\n",
       "      <td>0.7191</td>\n",
       "      <td>0.6441</td>\n",
       "      <td>0.6671</td>\n",
       "      <td>entropy</td>\n",
       "      <td>30</td>\n",
       "      <td>4500</td>\n",
       "      <td>350</td>\n",
       "    </tr>\n",
       "    <tr>\n",
       "      <th>...</th>\n",
       "      <td>...</td>\n",
       "      <td>...</td>\n",
       "      <td>...</td>\n",
       "      <td>...</td>\n",
       "      <td>...</td>\n",
       "      <td>...</td>\n",
       "      <td>...</td>\n",
       "      <td>...</td>\n",
       "    </tr>\n",
       "    <tr>\n",
       "      <th>68</th>\n",
       "      <td>0.7947</td>\n",
       "      <td>0.7249</td>\n",
       "      <td>0.6282</td>\n",
       "      <td>0.6529</td>\n",
       "      <td>gini</td>\n",
       "      <td>20</td>\n",
       "      <td>4500</td>\n",
       "      <td>450</td>\n",
       "    </tr>\n",
       "    <tr>\n",
       "      <th>69</th>\n",
       "      <td>0.7946</td>\n",
       "      <td>0.7247</td>\n",
       "      <td>0.6286</td>\n",
       "      <td>0.6532</td>\n",
       "      <td>gini</td>\n",
       "      <td>20</td>\n",
       "      <td>5000</td>\n",
       "      <td>500</td>\n",
       "    </tr>\n",
       "    <tr>\n",
       "      <th>70</th>\n",
       "      <td>0.7945</td>\n",
       "      <td>0.7245</td>\n",
       "      <td>0.6290</td>\n",
       "      <td>0.6537</td>\n",
       "      <td>gini</td>\n",
       "      <td>20</td>\n",
       "      <td>4500</td>\n",
       "      <td>350</td>\n",
       "    </tr>\n",
       "    <tr>\n",
       "      <th>71</th>\n",
       "      <td>0.7945</td>\n",
       "      <td>0.7272</td>\n",
       "      <td>0.6277</td>\n",
       "      <td>0.6528</td>\n",
       "      <td>gini</td>\n",
       "      <td>20</td>\n",
       "      <td>4000</td>\n",
       "      <td>350</td>\n",
       "    </tr>\n",
       "    <tr>\n",
       "      <th>72</th>\n",
       "      <td>0.7945</td>\n",
       "      <td>0.7241</td>\n",
       "      <td>0.6295</td>\n",
       "      <td>0.6541</td>\n",
       "      <td>gini</td>\n",
       "      <td>20</td>\n",
       "      <td>5000</td>\n",
       "      <td>350</td>\n",
       "    </tr>\n",
       "  </tbody>\n",
       "</table>\n",
       "<p>72 rows × 8 columns</p>\n",
       "</div>"
      ],
      "text/plain": [
       "                   Mean Test Accuracy Mean Test Precision (macro)  \\\n",
       "Rank (By Accuracy)                                                  \n",
       "1                              0.7977                      0.7197   \n",
       "2                              0.7976                      0.7195   \n",
       "3                              0.7976                      0.7197   \n",
       "4                              0.7975                      0.7217   \n",
       "5                              0.7974                      0.7191   \n",
       "...                               ...                         ...   \n",
       "68                             0.7947                      0.7249   \n",
       "69                             0.7946                      0.7247   \n",
       "70                             0.7945                      0.7245   \n",
       "71                             0.7945                      0.7272   \n",
       "72                             0.7945                      0.7241   \n",
       "\n",
       "                   Mean Test Recall (macro) Mean Test F1-Score (macro)  \\\n",
       "Rank (By Accuracy)                                                       \n",
       "1                                    0.6444                     0.6675   \n",
       "2                                    0.6444                     0.6675   \n",
       "3                                    0.6444                     0.6676   \n",
       "4                                    0.6387                     0.6626   \n",
       "5                                    0.6441                     0.6671   \n",
       "...                                     ...                        ...   \n",
       "68                                   0.6282                     0.6529   \n",
       "69                                   0.6286                     0.6532   \n",
       "70                                   0.6290                     0.6537   \n",
       "71                                   0.6277                     0.6528   \n",
       "72                                   0.6295                     0.6541   \n",
       "\n",
       "                   param_rfc__criterion param_rfc__max_depth  \\\n",
       "Rank (By Accuracy)                                             \n",
       "1                               entropy                   27   \n",
       "2                               entropy                   30   \n",
       "3                               entropy                   27   \n",
       "4                               entropy                   27   \n",
       "5                               entropy                   30   \n",
       "...                                 ...                  ...   \n",
       "68                                 gini                   20   \n",
       "69                                 gini                   20   \n",
       "70                                 gini                   20   \n",
       "71                                 gini                   20   \n",
       "72                                 gini                   20   \n",
       "\n",
       "                   param_rfc__max_leaf_nodes param_rfc__n_estimators  \n",
       "Rank (By Accuracy)                                                    \n",
       "1                                       4500                     450  \n",
       "2                                       4500                     500  \n",
       "3                                       4500                     500  \n",
       "4                                       4000                     500  \n",
       "5                                       4500                     350  \n",
       "...                                      ...                     ...  \n",
       "68                                      4500                     450  \n",
       "69                                      5000                     500  \n",
       "70                                      4500                     350  \n",
       "71                                      4000                     350  \n",
       "72                                      5000                     350  \n",
       "\n",
       "[72 rows x 8 columns]"
      ]
     },
     "execution_count": 50,
     "metadata": {},
     "output_type": "execute_result"
    }
   ],
   "source": [
    "prettyPrintGridCVResults(rfc_gs1)"
   ]
  },
  {
   "cell_type": "markdown",
   "id": "3472c8eb",
   "metadata": {},
   "source": [
    "We increased our accuracy marginally to 79.77% but significantly increased our F1-score to 66.75"
   ]
  },
  {
   "cell_type": "markdown",
   "id": "6292941f",
   "metadata": {},
   "source": [
    "### Hypertuned and SMOTE Random Forest"
   ]
  },
  {
   "cell_type": "code",
   "execution_count": null,
   "id": "c36c65b0",
   "metadata": {
    "ExecuteTime": {
     "end_time": "2022-04-19T17:35:29.922870Z",
     "start_time": "2022-04-19T17:34:19.342456Z"
    }
   },
   "outputs": [],
   "source": [
    "rfc_imb_model_pipe = ImPipeline([\n",
    "    ('ct',ct),\n",
    "    ('sm',SMOTE(random_state=42)),\n",
    "   ('rfc',RandomForestClassifier(random_state=42))\n",
    "])\n",
    "\n",
    "rfc_imb_model_pipe.fit(X_train,y_train)"
   ]
  },
  {
   "cell_type": "code",
   "execution_count": null,
   "id": "1be0bd49",
   "metadata": {
    "ExecuteTime": {
     "end_time": "2022-04-19T18:01:35.289470Z",
     "start_time": "2022-04-19T17:38:23.678987Z"
    },
    "scrolled": false
   },
   "outputs": [],
   "source": [
    "params = {}\n",
    "params['rfc__criterion'] = ['entropy']\n",
    "params['rfc__n_estimators'] = [450]\n",
    "params['rfc__max_depth'] = [25,30]\n",
    "params['rfc__max_leaf_nodes']=[4500]\n",
    "\n",
    "rfc_imb_gs1 = GridSearchCV(estimator=rfc_model_pipe,\n",
    "                           param_grid=params,\n",
    "                           cv=5,\n",
    "                           n_jobs=Notebook_n_jobs,\n",
    "                           scoring=[ 'accuracy','precision_macro','recall_macro','f1_macro'],\n",
    "                           refit='accuracy',\n",
    "                           return_train_score=True)\n",
    "\n",
    "rfc_imb_gs1.fit(X_train,y_train)\n",
    "\n",
    "filePath = f'models/{rfc_imb_gs1=}'.split('=')[0] + '.sav'\n",
    "pickle.dump(rfc_imb_gs1, open(filePath, 'wb'))"
   ]
  },
  {
   "cell_type": "code",
   "execution_count": 50,
   "id": "7d976fcf",
   "metadata": {
    "ExecuteTime": {
     "end_time": "2022-04-21T02:22:17.544607Z",
     "start_time": "2022-04-21T02:22:17.514607Z"
    },
    "collapsed": true
   },
   "outputs": [
    {
     "data": {
      "text/html": [
       "<div>\n",
       "<style scoped>\n",
       "    .dataframe tbody tr th:only-of-type {\n",
       "        vertical-align: middle;\n",
       "    }\n",
       "\n",
       "    .dataframe tbody tr th {\n",
       "        vertical-align: top;\n",
       "    }\n",
       "\n",
       "    .dataframe thead th {\n",
       "        text-align: right;\n",
       "    }\n",
       "</style>\n",
       "<table border=\"1\" class=\"dataframe\">\n",
       "  <thead>\n",
       "    <tr style=\"text-align: right;\">\n",
       "      <th></th>\n",
       "      <th>Mean Test Accuracy</th>\n",
       "      <th>Mean Test Precision (macro)</th>\n",
       "      <th>Mean Test Recall (macro)</th>\n",
       "      <th>Mean Test F1-Score (macro)</th>\n",
       "      <th>param_rfc__criterion</th>\n",
       "      <th>param_rfc__max_depth</th>\n",
       "      <th>param_rfc__max_leaf_nodes</th>\n",
       "      <th>param_rfc__n_estimators</th>\n",
       "    </tr>\n",
       "    <tr>\n",
       "      <th>Rank (By Accuracy)</th>\n",
       "      <th></th>\n",
       "      <th></th>\n",
       "      <th></th>\n",
       "      <th></th>\n",
       "      <th></th>\n",
       "      <th></th>\n",
       "      <th></th>\n",
       "      <th></th>\n",
       "    </tr>\n",
       "  </thead>\n",
       "  <tbody>\n",
       "    <tr>\n",
       "      <th>1</th>\n",
       "      <td>0.7977</td>\n",
       "      <td>0.7197</td>\n",
       "      <td>0.6444</td>\n",
       "      <td>0.6675</td>\n",
       "      <td>entropy</td>\n",
       "      <td>27</td>\n",
       "      <td>4500</td>\n",
       "      <td>450</td>\n",
       "    </tr>\n",
       "    <tr>\n",
       "      <th>2</th>\n",
       "      <td>0.7976</td>\n",
       "      <td>0.7195</td>\n",
       "      <td>0.6444</td>\n",
       "      <td>0.6675</td>\n",
       "      <td>entropy</td>\n",
       "      <td>30</td>\n",
       "      <td>4500</td>\n",
       "      <td>500</td>\n",
       "    </tr>\n",
       "    <tr>\n",
       "      <th>3</th>\n",
       "      <td>0.7976</td>\n",
       "      <td>0.7197</td>\n",
       "      <td>0.6444</td>\n",
       "      <td>0.6676</td>\n",
       "      <td>entropy</td>\n",
       "      <td>27</td>\n",
       "      <td>4500</td>\n",
       "      <td>500</td>\n",
       "    </tr>\n",
       "    <tr>\n",
       "      <th>4</th>\n",
       "      <td>0.7975</td>\n",
       "      <td>0.7217</td>\n",
       "      <td>0.6387</td>\n",
       "      <td>0.6626</td>\n",
       "      <td>entropy</td>\n",
       "      <td>27</td>\n",
       "      <td>4000</td>\n",
       "      <td>500</td>\n",
       "    </tr>\n",
       "    <tr>\n",
       "      <th>5</th>\n",
       "      <td>0.7974</td>\n",
       "      <td>0.7191</td>\n",
       "      <td>0.6441</td>\n",
       "      <td>0.6671</td>\n",
       "      <td>entropy</td>\n",
       "      <td>30</td>\n",
       "      <td>4500</td>\n",
       "      <td>350</td>\n",
       "    </tr>\n",
       "    <tr>\n",
       "      <th>...</th>\n",
       "      <td>...</td>\n",
       "      <td>...</td>\n",
       "      <td>...</td>\n",
       "      <td>...</td>\n",
       "      <td>...</td>\n",
       "      <td>...</td>\n",
       "      <td>...</td>\n",
       "      <td>...</td>\n",
       "    </tr>\n",
       "    <tr>\n",
       "      <th>68</th>\n",
       "      <td>0.7947</td>\n",
       "      <td>0.7249</td>\n",
       "      <td>0.6282</td>\n",
       "      <td>0.6529</td>\n",
       "      <td>gini</td>\n",
       "      <td>20</td>\n",
       "      <td>4500</td>\n",
       "      <td>450</td>\n",
       "    </tr>\n",
       "    <tr>\n",
       "      <th>69</th>\n",
       "      <td>0.7946</td>\n",
       "      <td>0.7247</td>\n",
       "      <td>0.6286</td>\n",
       "      <td>0.6532</td>\n",
       "      <td>gini</td>\n",
       "      <td>20</td>\n",
       "      <td>5000</td>\n",
       "      <td>500</td>\n",
       "    </tr>\n",
       "    <tr>\n",
       "      <th>70</th>\n",
       "      <td>0.7945</td>\n",
       "      <td>0.7245</td>\n",
       "      <td>0.6290</td>\n",
       "      <td>0.6537</td>\n",
       "      <td>gini</td>\n",
       "      <td>20</td>\n",
       "      <td>4500</td>\n",
       "      <td>350</td>\n",
       "    </tr>\n",
       "    <tr>\n",
       "      <th>71</th>\n",
       "      <td>0.7945</td>\n",
       "      <td>0.7272</td>\n",
       "      <td>0.6277</td>\n",
       "      <td>0.6528</td>\n",
       "      <td>gini</td>\n",
       "      <td>20</td>\n",
       "      <td>4000</td>\n",
       "      <td>350</td>\n",
       "    </tr>\n",
       "    <tr>\n",
       "      <th>72</th>\n",
       "      <td>0.7945</td>\n",
       "      <td>0.7241</td>\n",
       "      <td>0.6295</td>\n",
       "      <td>0.6541</td>\n",
       "      <td>gini</td>\n",
       "      <td>20</td>\n",
       "      <td>5000</td>\n",
       "      <td>350</td>\n",
       "    </tr>\n",
       "  </tbody>\n",
       "</table>\n",
       "<p>72 rows × 8 columns</p>\n",
       "</div>"
      ],
      "text/plain": [
       "                   Mean Test Accuracy Mean Test Precision (macro)  \\\n",
       "Rank (By Accuracy)                                                  \n",
       "1                              0.7977                      0.7197   \n",
       "2                              0.7976                      0.7195   \n",
       "3                              0.7976                      0.7197   \n",
       "4                              0.7975                      0.7217   \n",
       "5                              0.7974                      0.7191   \n",
       "...                               ...                         ...   \n",
       "68                             0.7947                      0.7249   \n",
       "69                             0.7946                      0.7247   \n",
       "70                             0.7945                      0.7245   \n",
       "71                             0.7945                      0.7272   \n",
       "72                             0.7945                      0.7241   \n",
       "\n",
       "                   Mean Test Recall (macro) Mean Test F1-Score (macro)  \\\n",
       "Rank (By Accuracy)                                                       \n",
       "1                                    0.6444                     0.6675   \n",
       "2                                    0.6444                     0.6675   \n",
       "3                                    0.6444                     0.6676   \n",
       "4                                    0.6387                     0.6626   \n",
       "5                                    0.6441                     0.6671   \n",
       "...                                     ...                        ...   \n",
       "68                                   0.6282                     0.6529   \n",
       "69                                   0.6286                     0.6532   \n",
       "70                                   0.6290                     0.6537   \n",
       "71                                   0.6277                     0.6528   \n",
       "72                                   0.6295                     0.6541   \n",
       "\n",
       "                   param_rfc__criterion param_rfc__max_depth  \\\n",
       "Rank (By Accuracy)                                             \n",
       "1                               entropy                   27   \n",
       "2                               entropy                   30   \n",
       "3                               entropy                   27   \n",
       "4                               entropy                   27   \n",
       "5                               entropy                   30   \n",
       "...                                 ...                  ...   \n",
       "68                                 gini                   20   \n",
       "69                                 gini                   20   \n",
       "70                                 gini                   20   \n",
       "71                                 gini                   20   \n",
       "72                                 gini                   20   \n",
       "\n",
       "                   param_rfc__max_leaf_nodes param_rfc__n_estimators  \n",
       "Rank (By Accuracy)                                                    \n",
       "1                                       4500                     450  \n",
       "2                                       4500                     500  \n",
       "3                                       4500                     500  \n",
       "4                                       4000                     500  \n",
       "5                                       4500                     350  \n",
       "...                                      ...                     ...  \n",
       "68                                      4500                     450  \n",
       "69                                      5000                     500  \n",
       "70                                      4500                     350  \n",
       "71                                      4000                     350  \n",
       "72                                      5000                     350  \n",
       "\n",
       "[72 rows x 8 columns]"
      ]
     },
     "execution_count": 50,
     "metadata": {},
     "output_type": "execute_result"
    }
   ],
   "source": [
    "prettyPrintGridCVResults(rfc_imb_gs1)"
   ]
  },
  {
   "cell_type": "markdown",
   "id": "0d5f6c1b",
   "metadata": {},
   "source": [
    "## kNN"
   ]
  },
  {
   "cell_type": "markdown",
   "id": "47232711",
   "metadata": {},
   "source": [
    "### Simple Model"
   ]
  },
  {
   "cell_type": "code",
   "execution_count": 42,
   "id": "526b0838",
   "metadata": {
    "ExecuteTime": {
     "end_time": "2022-04-21T13:19:18.920165Z",
     "start_time": "2022-04-21T13:19:18.899161Z"
    }
   },
   "outputs": [],
   "source": [
    "ct = ColumnTransformer(transformers=[\n",
    "\n",
    "    ('ct_cyr', subpipe_num, ['construction_year']),\n",
    "    \n",
    "    # Note: region is passed to allow groupby. Not returned.\n",
    "    ('ct_coord', subpipe_coord, ['latitude', 'longitude', 'region']),\n",
    "    \n",
    "    ('ct_cat1', subpipe_cat1, ['public_meeting','scheme_management', 'permit', 'source_class']),\n",
    "    \n",
    "    ('ct_cat2', subpipe_cat2, ['basin', 'extraction_type_class', 'management', 'payment', 'quality_group',\n",
    "                               'quantity', 'source_type', 'waterpoint_type_group']),\n",
    "\n",
    "])"
   ]
  },
  {
   "cell_type": "code",
   "execution_count": 48,
   "id": "8a8a6e92",
   "metadata": {
    "ExecuteTime": {
     "end_time": "2022-04-21T13:37:29.794762Z",
     "start_time": "2022-04-21T13:36:03.316404Z"
    }
   },
   "outputs": [
    {
     "data": {
      "text/html": [
       "<style  type=\"text/css\" >\n",
       "</style><table id=\"T_3086b913_c178_11ec_88ee_ec2e98d37a84\" ><caption>Cross Validation Results</caption><thead>    <tr>        <th class=\"blank level0\" ></th>        <th class=\"col_heading level0 col0\" >Scores</th>    </tr>    <tr>        <th class=\"index_name level0\" ></th>        <th class=\"blank\" ></th>    </tr></thead><tbody>\n",
       "                <tr>\n",
       "                        <th id=\"T_3086b913_c178_11ec_88ee_ec2e98d37a84level0_row0\" class=\"row_heading level0 row0\" >Accuracy</th>\n",
       "                        <td id=\"T_3086b913_c178_11ec_88ee_ec2e98d37a84row0_col0\" class=\"data row0 col0\" >0.7731</td>\n",
       "            </tr>\n",
       "            <tr>\n",
       "                        <th id=\"T_3086b913_c178_11ec_88ee_ec2e98d37a84level0_row1\" class=\"row_heading level0 row1\" >Precision</th>\n",
       "                        <td id=\"T_3086b913_c178_11ec_88ee_ec2e98d37a84row1_col0\" class=\"data row1 col0\" >0.6834</td>\n",
       "            </tr>\n",
       "            <tr>\n",
       "                        <th id=\"T_3086b913_c178_11ec_88ee_ec2e98d37a84level0_row2\" class=\"row_heading level0 row2\" >Recall</th>\n",
       "                        <td id=\"T_3086b913_c178_11ec_88ee_ec2e98d37a84row2_col0\" class=\"data row2 col0\" >0.6309</td>\n",
       "            </tr>\n",
       "            <tr>\n",
       "                        <th id=\"T_3086b913_c178_11ec_88ee_ec2e98d37a84level0_row3\" class=\"row_heading level0 row3\" >F1</th>\n",
       "                        <td id=\"T_3086b913_c178_11ec_88ee_ec2e98d37a84row3_col0\" class=\"data row3 col0\" >0.6491</td>\n",
       "            </tr>\n",
       "    </tbody></table>"
      ],
      "text/plain": [
       "<pandas.io.formats.style.Styler at 0x1a54708a3d0>"
      ]
     },
     "metadata": {},
     "output_type": "display_data"
    },
    {
     "data": {
      "image/png": "[encoded data removed]",
      "text/plain": [
       "<Figure size 576x576 with 2 Axes>"
      ]
     },
     "metadata": {
      "needs_background": "light"
     },
     "output_type": "display_data"
    }
   ],
   "source": [
    "knn_model_pipe = Pipeline([\n",
    "    ('ct',ct),\n",
    "   ('knn',KNeighborsClassifier(n_jobs=Notebook_n_jobs))\n",
    "])\n",
    "\n",
    "knn_model_pipe.fit(X_train,y_train)\n",
    "modelReport(knn_model_pipe,X_train,y_train)\n",
    "\n",
    "filePath = f'models/{knn_model_pipe=}'.split('=')[0] + '.sav'\n",
    "pickle.dump(knn_model_pipe, open(filePath, 'wb'))"
   ]
  },
  {
   "cell_type": "markdown",
   "id": "4e07f6f2",
   "metadata": {},
   "source": [
    "### Hypertuned kNN"
   ]
  },
  {
   "cell_type": "code",
   "execution_count": null,
   "id": "46d1a089",
   "metadata": {
    "ExecuteTime": {
     "start_time": "2022-04-21T13:38:07.851Z"
    }
   },
   "outputs": [
    {
     "name": "stdout",
     "output_type": "stream",
     "text": [
      "Fitting 5 folds for each of 8 candidates, totalling 40 fits\n"
     ]
    }
   ],
   "source": [
    "params = {}\n",
    "params['knn__n_neighbors'] = [5,10,15,20]\n",
    "params['knn__metric']=['manhattan','euclidean']\n",
    "\n",
    "\n",
    "knn_gs1 = GridSearchCV(estimator=knn_model_pipe,\n",
    "                           param_grid=params,\n",
    "                           cv=5,\n",
    "                           n_jobs=Notebook_n_jobs,\n",
    "                           scoring=[ 'accuracy','precision_macro','recall_macro','f1_macro'],\n",
    "                           refit='accuracy',\n",
    "                           return_train_score=True,\n",
    "                      verbose=2)\n",
    "\n",
    "knn_gs1.fit(X_train,y_train)\n",
    "\n",
    "filePath = f'models/{knn_gs1=}'.split('=')[0] + '.sav'\n",
    "pickle.dump(knn_gs1, open(filePath, 'wb'))"
   ]
  },
  {
   "cell_type": "code",
   "execution_count": null,
   "id": "1bcdd1a6",
   "metadata": {
    "ExecuteTime": {
     "end_time": "2022-04-21T13:23:10.116317Z",
     "start_time": "2022-04-21T13:23:07.444Z"
    }
   },
   "outputs": [],
   "source": [
    "prettyPrintGridCVResults(knn_gs1)"
   ]
  },
  {
   "cell_type": "markdown",
   "id": "10bf6c5d",
   "metadata": {},
   "source": [
    "### Hypertuned SMOTE KNN\n"
   ]
  },
  {
   "cell_type": "code",
   "execution_count": null,
   "id": "1bb91422",
   "metadata": {
    "ExecuteTime": {
     "end_time": "2022-04-19T17:33:03.294340Z",
     "start_time": "2022-04-19T17:31:49.759850Z"
    }
   },
   "outputs": [],
   "source": [
    "knn_imb_model_pipe = ImPipeline([\n",
    "    ('sm',SMOTE(random_state=42)),\n",
    "   ('knn',KNeighborsClassifier())\n",
    "])\n",
    "\n",
    "knn_imb_model_pipe.fit(X_train,y_train)\n",
    "filePath = f'models/{knn_imb_model_pipe=}'.split('=')[0] + '.sav'\n",
    "pickle.dump(knn_imb_model_pipe, open(filePath, 'wb'))\n",
    "\n",
    "cross_val_score(knn_imb_model_pipe,X_train,y_train,cv=5).mean()"
   ]
  },
  {
   "cell_type": "code",
   "execution_count": null,
   "id": "99a7f492",
   "metadata": {},
   "outputs": [],
   "source": []
  },
  {
   "cell_type": "code",
   "execution_count": null,
   "id": "05e3b32c",
   "metadata": {},
   "outputs": [],
   "source": []
  },
  {
   "cell_type": "markdown",
   "id": "48e8140a",
   "metadata": {},
   "source": [
    "## XGBoost"
   ]
  },
  {
   "cell_type": "code",
   "execution_count": 21,
   "id": "c2ee3ea0",
   "metadata": {
    "ExecuteTime": {
     "end_time": "2022-04-21T05:47:30.035646Z",
     "start_time": "2022-04-21T05:47:30.029645Z"
    }
   },
   "outputs": [],
   "source": [
    "ct = ColumnTransformer(transformers=[\n",
    "\n",
    "    ('ct_cyr', subpipe_num, ['construction_year']),\n",
    "    \n",
    "    # Note: region is passed to allow groupby. Not returned.\n",
    "    ('ct_coord', subpipe_coord, ['latitude', 'longitude', 'region']),\n",
    "    \n",
    "    ('ct_cat1', subpipe_cat1, ['public_meeting','scheme_management', 'permit', 'source_class']),\n",
    "    \n",
    "    ('ct_cat2', subpipe_cat2, ['basin', 'extraction_type_class', 'management', 'payment', 'quality_group',\n",
    "                               'quantity', 'source_type', 'waterpoint_type_group']),\n",
    "\n",
    "])"
   ]
  },
  {
   "cell_type": "code",
   "execution_count": 22,
   "id": "01aff189",
   "metadata": {
    "ExecuteTime": {
     "end_time": "2022-04-21T05:47:31.001687Z",
     "start_time": "2022-04-21T05:47:30.990686Z"
    }
   },
   "outputs": [],
   "source": [
    "XGBRF_model_pipe = Pipeline([\n",
    "    ('ct',ct),\n",
    "   ('xg',xgboost.XGBRFClassifier(random_state=42,n_jobs=Notebook_n_jobs))\n",
    "])"
   ]
  },
  {
   "cell_type": "code",
   "execution_count": 23,
   "id": "c8b3aaf8",
   "metadata": {
    "ExecuteTime": {
     "end_time": "2022-04-21T05:48:22.284498Z",
     "start_time": "2022-04-21T05:47:36.123909Z"
    },
    "scrolled": false
   },
   "outputs": [
    {
     "data": {
      "text/html": [
       "<style  type=\"text/css\" >\n",
       "</style><table id=\"T_a752da98_c136_11ec_919a_ec2e98d37a84\" ><caption>Cross Validation Results</caption><thead>    <tr>        <th class=\"blank level0\" ></th>        <th class=\"col_heading level0 col0\" >Scores</th>    </tr>    <tr>        <th class=\"index_name level0\" ></th>        <th class=\"blank\" ></th>    </tr></thead><tbody>\n",
       "                <tr>\n",
       "                        <th id=\"T_a752da98_c136_11ec_919a_ec2e98d37a84level0_row0\" class=\"row_heading level0 row0\" >Accuracy</th>\n",
       "                        <td id=\"T_a752da98_c136_11ec_919a_ec2e98d37a84row0_col0\" class=\"data row0 col0\" >0.7271</td>\n",
       "            </tr>\n",
       "            <tr>\n",
       "                        <th id=\"T_a752da98_c136_11ec_919a_ec2e98d37a84level0_row1\" class=\"row_heading level0 row1\" >Precision</th>\n",
       "                        <td id=\"T_a752da98_c136_11ec_919a_ec2e98d37a84row1_col0\" class=\"data row1 col0\" >0.7241</td>\n",
       "            </tr>\n",
       "            <tr>\n",
       "                        <th id=\"T_a752da98_c136_11ec_919a_ec2e98d37a84level0_row2\" class=\"row_heading level0 row2\" >Recall</th>\n",
       "                        <td id=\"T_a752da98_c136_11ec_919a_ec2e98d37a84row2_col0\" class=\"data row2 col0\" >0.5113</td>\n",
       "            </tr>\n",
       "            <tr>\n",
       "                        <th id=\"T_a752da98_c136_11ec_919a_ec2e98d37a84level0_row3\" class=\"row_heading level0 row3\" >F1</th>\n",
       "                        <td id=\"T_a752da98_c136_11ec_919a_ec2e98d37a84row3_col0\" class=\"data row3 col0\" >0.5151</td>\n",
       "            </tr>\n",
       "    </tbody></table>"
      ],
      "text/plain": [
       "<pandas.io.formats.style.Styler at 0x1a5472cffa0>"
      ]
     },
     "metadata": {},
     "output_type": "display_data"
    },
    {
     "data": {
      "image/png": "[encoded data removed]",
      "text/plain": [
       "<Figure size 576x576 with 2 Axes>"
      ]
     },
     "metadata": {
      "needs_background": "light"
     },
     "output_type": "display_data"
    }
   ],
   "source": [
    "XGBRF_model_pipe.fit(X_train,y_train)\n",
    "modelReport(XGBRF_model_pipe,X_train,y_train)\n",
    "\n",
    "filePath = f'models/{XGBRF_model_pipe=}'.split('=')[0] + '.sav'\n",
    "pickle.dump(XGBRF_model_pipe, open(filePath, 'wb'))"
   ]
  },
  {
   "cell_type": "markdown",
   "id": "f95860d0",
   "metadata": {},
   "source": [
    "### Hypertuned XGBoost"
   ]
  },
  {
   "cell_type": "markdown",
   "id": "3ffcbfb4",
   "metadata": {},
   "source": [
    "#### Round 1"
   ]
  },
  {
   "cell_type": "code",
   "execution_count": 24,
   "id": "6c4281c3",
   "metadata": {
    "ExecuteTime": {
     "end_time": "2022-04-21T05:55:58.864124Z",
     "start_time": "2022-04-21T05:48:35.555643Z"
    },
    "scrolled": true
   },
   "outputs": [
    {
     "name": "stdout",
     "output_type": "stream",
     "text": [
      "[00:55:40] WARNING: C:\\Users\\Administrator\\workspace\\xgboost-win64_release_1.2.0\\src\\learner.cc:516: \n",
      "Parameters: { criterion, max_leaf_nodes } might not be used.\n",
      "\n",
      "  This may not be accurate due to some parameters are only used in language bindings but\n",
      "  passed down to XGBoost core.  Or some parameters are not used but slip through this\n",
      "  verification. Please open an issue if you find above cases.\n",
      "\n",
      "\n"
     ]
    }
   ],
   "source": [
    "params = {}\n",
    "# params['xg__learning_rate'] = [0.1,1,10]\n",
    "# params['xg__reg_lambda'] = [1e-06,1e-05,1e-04]\n",
    "params['xg__criterion'] = ['gini','entropy']\n",
    "params['xg__n_estimators'] = [350,550]\n",
    "# params['xg__max_depth'] = [20,30]\n",
    "params['xg__max_leaf_nodes']=[4000,5000]\n",
    "\n",
    "\n",
    "xgbrf_gs1 = GridSearchCV(estimator=XGBRF_model_pipe,\n",
    "                           param_grid=params,\n",
    "                           cv=5,\n",
    "                           n_jobs=Notebook_n_jobs,\n",
    "                           scoring=[ 'accuracy','precision_macro','recall_macro','f1_macro'],\n",
    "                           refit='accuracy',\n",
    "                           return_train_score=True)\n",
    "\n",
    "xgbrf_gs1.fit(X_train,y_train)\n",
    "\n",
    "filePath = f'models/{xgbrf_gs1=}'.split('=')[0] + '.sav'\n",
    "pickle.dump(xgbrf_gs1, open(filePath, 'wb'))"
   ]
  },
  {
   "cell_type": "markdown",
   "id": "8065bc79",
   "metadata": {},
   "source": [
    "Per the output criterion, max_leaf_nodes might not be used. Dropping them from further hypertunes"
   ]
  },
  {
   "cell_type": "code",
   "execution_count": 25,
   "id": "49efbff2",
   "metadata": {
    "ExecuteTime": {
     "end_time": "2022-04-21T05:56:28.979004Z",
     "start_time": "2022-04-21T05:56:28.966002Z"
    },
    "scrolled": true
   },
   "outputs": [
    {
     "data": {
      "text/html": [
       "<div>\n",
       "<style scoped>\n",
       "    .dataframe tbody tr th:only-of-type {\n",
       "        vertical-align: middle;\n",
       "    }\n",
       "\n",
       "    .dataframe tbody tr th {\n",
       "        vertical-align: top;\n",
       "    }\n",
       "\n",
       "    .dataframe thead th {\n",
       "        text-align: right;\n",
       "    }\n",
       "</style>\n",
       "<table border=\"1\" class=\"dataframe\">\n",
       "  <thead>\n",
       "    <tr style=\"text-align: right;\">\n",
       "      <th></th>\n",
       "      <th>Mean Test Accuracy</th>\n",
       "      <th>Mean Test Precision (macro)</th>\n",
       "      <th>Mean Test Recall (macro)</th>\n",
       "      <th>Mean Test F1-Score (macro)</th>\n",
       "      <th>param_xg__criterion</th>\n",
       "      <th>param_xg__max_leaf_nodes</th>\n",
       "      <th>param_xg__n_estimators</th>\n",
       "    </tr>\n",
       "    <tr>\n",
       "      <th>Rank (By Accuracy)</th>\n",
       "      <th></th>\n",
       "      <th></th>\n",
       "      <th></th>\n",
       "      <th></th>\n",
       "      <th></th>\n",
       "      <th></th>\n",
       "      <th></th>\n",
       "    </tr>\n",
       "  </thead>\n",
       "  <tbody>\n",
       "    <tr>\n",
       "      <th>1</th>\n",
       "      <td>0.7264</td>\n",
       "      <td>0.7245</td>\n",
       "      <td>0.5104</td>\n",
       "      <td>0.5138</td>\n",
       "      <td>gini</td>\n",
       "      <td>4000</td>\n",
       "      <td>550</td>\n",
       "    </tr>\n",
       "    <tr>\n",
       "      <th>1</th>\n",
       "      <td>0.7264</td>\n",
       "      <td>0.7245</td>\n",
       "      <td>0.5104</td>\n",
       "      <td>0.5138</td>\n",
       "      <td>gini</td>\n",
       "      <td>5000</td>\n",
       "      <td>550</td>\n",
       "    </tr>\n",
       "    <tr>\n",
       "      <th>1</th>\n",
       "      <td>0.7264</td>\n",
       "      <td>0.7245</td>\n",
       "      <td>0.5104</td>\n",
       "      <td>0.5138</td>\n",
       "      <td>entropy</td>\n",
       "      <td>4000</td>\n",
       "      <td>550</td>\n",
       "    </tr>\n",
       "    <tr>\n",
       "      <th>1</th>\n",
       "      <td>0.7264</td>\n",
       "      <td>0.7245</td>\n",
       "      <td>0.5104</td>\n",
       "      <td>0.5138</td>\n",
       "      <td>entropy</td>\n",
       "      <td>5000</td>\n",
       "      <td>550</td>\n",
       "    </tr>\n",
       "    <tr>\n",
       "      <th>5</th>\n",
       "      <td>0.7262</td>\n",
       "      <td>0.7213</td>\n",
       "      <td>0.5104</td>\n",
       "      <td>0.5139</td>\n",
       "      <td>gini</td>\n",
       "      <td>4000</td>\n",
       "      <td>350</td>\n",
       "    </tr>\n",
       "    <tr>\n",
       "      <th>5</th>\n",
       "      <td>0.7262</td>\n",
       "      <td>0.7213</td>\n",
       "      <td>0.5104</td>\n",
       "      <td>0.5139</td>\n",
       "      <td>gini</td>\n",
       "      <td>5000</td>\n",
       "      <td>350</td>\n",
       "    </tr>\n",
       "    <tr>\n",
       "      <th>5</th>\n",
       "      <td>0.7262</td>\n",
       "      <td>0.7213</td>\n",
       "      <td>0.5104</td>\n",
       "      <td>0.5139</td>\n",
       "      <td>entropy</td>\n",
       "      <td>4000</td>\n",
       "      <td>350</td>\n",
       "    </tr>\n",
       "    <tr>\n",
       "      <th>5</th>\n",
       "      <td>0.7262</td>\n",
       "      <td>0.7213</td>\n",
       "      <td>0.5104</td>\n",
       "      <td>0.5139</td>\n",
       "      <td>entropy</td>\n",
       "      <td>5000</td>\n",
       "      <td>350</td>\n",
       "    </tr>\n",
       "  </tbody>\n",
       "</table>\n",
       "</div>"
      ],
      "text/plain": [
       "                   Mean Test Accuracy Mean Test Precision (macro)  \\\n",
       "Rank (By Accuracy)                                                  \n",
       "1                              0.7264                      0.7245   \n",
       "1                              0.7264                      0.7245   \n",
       "1                              0.7264                      0.7245   \n",
       "1                              0.7264                      0.7245   \n",
       "5                              0.7262                      0.7213   \n",
       "5                              0.7262                      0.7213   \n",
       "5                              0.7262                      0.7213   \n",
       "5                              0.7262                      0.7213   \n",
       "\n",
       "                   Mean Test Recall (macro) Mean Test F1-Score (macro)  \\\n",
       "Rank (By Accuracy)                                                       \n",
       "1                                    0.5104                     0.5138   \n",
       "1                                    0.5104                     0.5138   \n",
       "1                                    0.5104                     0.5138   \n",
       "1                                    0.5104                     0.5138   \n",
       "5                                    0.5104                     0.5139   \n",
       "5                                    0.5104                     0.5139   \n",
       "5                                    0.5104                     0.5139   \n",
       "5                                    0.5104                     0.5139   \n",
       "\n",
       "                   param_xg__criterion param_xg__max_leaf_nodes  \\\n",
       "Rank (By Accuracy)                                                \n",
       "1                                 gini                     4000   \n",
       "1                                 gini                     5000   \n",
       "1                              entropy                     4000   \n",
       "1                              entropy                     5000   \n",
       "5                                 gini                     4000   \n",
       "5                                 gini                     5000   \n",
       "5                              entropy                     4000   \n",
       "5                              entropy                     5000   \n",
       "\n",
       "                   param_xg__n_estimators  \n",
       "Rank (By Accuracy)                         \n",
       "1                                     550  \n",
       "1                                     550  \n",
       "1                                     550  \n",
       "1                                     550  \n",
       "5                                     350  \n",
       "5                                     350  \n",
       "5                                     350  \n",
       "5                                     350  "
      ]
     },
     "execution_count": 25,
     "metadata": {},
     "output_type": "execute_result"
    }
   ],
   "source": [
    "prettyPrintGridCVResults(xgbrf_gs1)"
   ]
  },
  {
   "cell_type": "markdown",
   "id": "c0114206",
   "metadata": {},
   "source": [
    "#### Round 2"
   ]
  },
  {
   "cell_type": "code",
   "execution_count": 36,
   "id": "6db8c02e",
   "metadata": {
    "ExecuteTime": {
     "end_time": "2022-04-21T07:01:14.317026Z",
     "start_time": "2022-04-21T06:56:26.956008Z"
    }
   },
   "outputs": [
    {
     "name": "stdout",
     "output_type": "stream",
     "text": [
      "Fitting 5 folds for each of 4 candidates, totalling 20 fits\n"
     ]
    }
   ],
   "source": [
    "params = {}\n",
    "params['xg__learning_rate'] = [1,10]\n",
    "# params['xg__reg_lambda'] = [1e-06,1e-05,1e-04]\n",
    "# params['xg__criterion'] = ['gini','entropy']\n",
    "# params['xg__n_estimators'] = [350]\n",
    "params['xg__max_depth'] = [25,30]\n",
    "# params['xg__max_leaf_nodes']=[4000,5000]\n",
    "\n",
    "\n",
    "xgbrf_gs2 = GridSearchCV(estimator=XGBRF_model_pipe,\n",
    "                           param_grid=params,\n",
    "                           cv=5,\n",
    "                           n_jobs=Notebook_n_jobs,\n",
    "                           scoring=[ 'accuracy','precision_macro','recall_macro','f1_macro'],\n",
    "                           refit='accuracy',\n",
    "                           return_train_score=True,\n",
    "                        verbose=2)\n",
    "\n",
    "xgbrf_gs2.fit(X_train,y_train)\n",
    "\n",
    "filePath = f'models/{xgbrf_gs2=}'.split('=')[0] + '.sav'\n",
    "pickle.dump(xgbrf_gs2, open(filePath, 'wb'))"
   ]
  },
  {
   "cell_type": "code",
   "execution_count": 37,
   "id": "9ffdc843",
   "metadata": {
    "ExecuteTime": {
     "end_time": "2022-04-21T07:01:28.250500Z",
     "start_time": "2022-04-21T07:01:28.231496Z"
    },
    "scrolled": false
   },
   "outputs": [
    {
     "data": {
      "text/html": [
       "<div>\n",
       "<style scoped>\n",
       "    .dataframe tbody tr th:only-of-type {\n",
       "        vertical-align: middle;\n",
       "    }\n",
       "\n",
       "    .dataframe tbody tr th {\n",
       "        vertical-align: top;\n",
       "    }\n",
       "\n",
       "    .dataframe thead th {\n",
       "        text-align: right;\n",
       "    }\n",
       "</style>\n",
       "<table border=\"1\" class=\"dataframe\">\n",
       "  <thead>\n",
       "    <tr style=\"text-align: right;\">\n",
       "      <th></th>\n",
       "      <th>Mean Test Accuracy</th>\n",
       "      <th>Mean Test Precision (macro)</th>\n",
       "      <th>Mean Test Recall (macro)</th>\n",
       "      <th>Mean Test F1-Score (macro)</th>\n",
       "      <th>param_xg__learning_rate</th>\n",
       "      <th>param_xg__max_depth</th>\n",
       "    </tr>\n",
       "    <tr>\n",
       "      <th>Rank (By Accuracy)</th>\n",
       "      <th></th>\n",
       "      <th></th>\n",
       "      <th></th>\n",
       "      <th></th>\n",
       "      <th></th>\n",
       "      <th></th>\n",
       "    </tr>\n",
       "  </thead>\n",
       "  <tbody>\n",
       "    <tr>\n",
       "      <th>1</th>\n",
       "      <td>0.7978</td>\n",
       "      <td>0.7149</td>\n",
       "      <td>0.6520</td>\n",
       "      <td>0.6729</td>\n",
       "      <td>1</td>\n",
       "      <td>25</td>\n",
       "    </tr>\n",
       "    <tr>\n",
       "      <th>1</th>\n",
       "      <td>0.7978</td>\n",
       "      <td>0.7149</td>\n",
       "      <td>0.6520</td>\n",
       "      <td>0.6729</td>\n",
       "      <td>10</td>\n",
       "      <td>25</td>\n",
       "    </tr>\n",
       "    <tr>\n",
       "      <th>3</th>\n",
       "      <td>0.7972</td>\n",
       "      <td>0.7136</td>\n",
       "      <td>0.6533</td>\n",
       "      <td>0.6736</td>\n",
       "      <td>1</td>\n",
       "      <td>30</td>\n",
       "    </tr>\n",
       "    <tr>\n",
       "      <th>3</th>\n",
       "      <td>0.7972</td>\n",
       "      <td>0.7136</td>\n",
       "      <td>0.6533</td>\n",
       "      <td>0.6736</td>\n",
       "      <td>10</td>\n",
       "      <td>30</td>\n",
       "    </tr>\n",
       "  </tbody>\n",
       "</table>\n",
       "</div>"
      ],
      "text/plain": [
       "                   Mean Test Accuracy Mean Test Precision (macro)  \\\n",
       "Rank (By Accuracy)                                                  \n",
       "1                              0.7978                      0.7149   \n",
       "1                              0.7978                      0.7149   \n",
       "3                              0.7972                      0.7136   \n",
       "3                              0.7972                      0.7136   \n",
       "\n",
       "                   Mean Test Recall (macro) Mean Test F1-Score (macro)  \\\n",
       "Rank (By Accuracy)                                                       \n",
       "1                                    0.6520                     0.6729   \n",
       "1                                    0.6520                     0.6729   \n",
       "3                                    0.6533                     0.6736   \n",
       "3                                    0.6533                     0.6736   \n",
       "\n",
       "                   param_xg__learning_rate param_xg__max_depth  \n",
       "Rank (By Accuracy)                                              \n",
       "1                                        1                  25  \n",
       "1                                       10                  25  \n",
       "3                                        1                  30  \n",
       "3                                       10                  30  "
      ]
     },
     "execution_count": 37,
     "metadata": {},
     "output_type": "execute_result"
    }
   ],
   "source": [
    "prettyPrintGridCVResults(xgbrf_gs2)"
   ]
  },
  {
   "cell_type": "markdown",
   "id": "7416ee53",
   "metadata": {},
   "source": [
    "#### Round 3"
   ]
  },
  {
   "cell_type": "code",
   "execution_count": 38,
   "id": "25c71327",
   "metadata": {
    "ExecuteTime": {
     "end_time": "2022-04-21T07:17:57.769927Z",
     "start_time": "2022-04-21T07:03:34.443695Z"
    }
   },
   "outputs": [
    {
     "name": "stdout",
     "output_type": "stream",
     "text": [
      "Fitting 5 folds for each of 3 candidates, totalling 15 fits\n",
      "[02:16:43] WARNING: C:\\Users\\Administrator\\workspace\\xgboost-win64_release_1.2.0\\src\\learner.cc:516: \n",
      "Parameters: { criterion, max_leaf_nodes } might not be used.\n",
      "\n",
      "  This may not be accurate due to some parameters are only used in language bindings but\n",
      "  passed down to XGBoost core.  Or some parameters are not used but slip through this\n",
      "  verification. Please open an issue if you find above cases.\n",
      "\n",
      "\n"
     ]
    }
   ],
   "source": [
    "params = {}\n",
    "params['xg__learning_rate'] = [0.1,1,10]\n",
    "# params['xg__reg_lambda'] = [1e-06,1e-05,1e-04]\n",
    "params['xg__criterion'] = ['entropy']\n",
    "params['xg__n_estimators'] = [450]\n",
    "params['xg__max_depth'] = [27]\n",
    "params['xg__max_leaf_nodes']=[4500]\n",
    "\n",
    "\n",
    "xgbrf_gs3 = GridSearchCV(estimator=XGBRF_model_pipe,\n",
    "                           param_grid=params,\n",
    "                           cv=5,\n",
    "                           n_jobs=Notebook_n_jobs,\n",
    "                           scoring=[ 'accuracy','precision_macro','recall_macro','f1_macro'],\n",
    "                           refit='accuracy',\n",
    "                           return_train_score=True,\n",
    "                        verbose=2)\n",
    "\n",
    "xgbrf_gs3.fit(X_train,y_train)\n",
    "\n",
    "filePath = f'models/{xgbrf_gs3=}'.split('=')[0] + '.sav'\n",
    "pickle.dump(xgbrf_gs3, open(filePath, 'wb'))"
   ]
  },
  {
   "cell_type": "code",
   "execution_count": 39,
   "id": "318b7fe4",
   "metadata": {
    "ExecuteTime": {
     "end_time": "2022-04-21T07:18:04.034066Z",
     "start_time": "2022-04-21T07:18:04.002348Z"
    },
    "scrolled": true
   },
   "outputs": [
    {
     "data": {
      "text/html": [
       "<div>\n",
       "<style scoped>\n",
       "    .dataframe tbody tr th:only-of-type {\n",
       "        vertical-align: middle;\n",
       "    }\n",
       "\n",
       "    .dataframe tbody tr th {\n",
       "        vertical-align: top;\n",
       "    }\n",
       "\n",
       "    .dataframe thead th {\n",
       "        text-align: right;\n",
       "    }\n",
       "</style>\n",
       "<table border=\"1\" class=\"dataframe\">\n",
       "  <thead>\n",
       "    <tr style=\"text-align: right;\">\n",
       "      <th></th>\n",
       "      <th>Mean Test Accuracy</th>\n",
       "      <th>Mean Test Precision (macro)</th>\n",
       "      <th>Mean Test Recall (macro)</th>\n",
       "      <th>Mean Test F1-Score (macro)</th>\n",
       "      <th>param_xg__criterion</th>\n",
       "      <th>param_xg__learning_rate</th>\n",
       "      <th>param_xg__max_depth</th>\n",
       "      <th>param_xg__max_leaf_nodes</th>\n",
       "      <th>param_xg__n_estimators</th>\n",
       "    </tr>\n",
       "    <tr>\n",
       "      <th>Rank (By Accuracy)</th>\n",
       "      <th></th>\n",
       "      <th></th>\n",
       "      <th></th>\n",
       "      <th></th>\n",
       "      <th></th>\n",
       "      <th></th>\n",
       "      <th></th>\n",
       "      <th></th>\n",
       "      <th></th>\n",
       "    </tr>\n",
       "  </thead>\n",
       "  <tbody>\n",
       "    <tr>\n",
       "      <th>1</th>\n",
       "      <td>0.7971</td>\n",
       "      <td>0.7133</td>\n",
       "      <td>0.6516</td>\n",
       "      <td>0.6721</td>\n",
       "      <td>entropy</td>\n",
       "      <td>0.1</td>\n",
       "      <td>27</td>\n",
       "      <td>4500</td>\n",
       "      <td>450</td>\n",
       "    </tr>\n",
       "    <tr>\n",
       "      <th>1</th>\n",
       "      <td>0.7971</td>\n",
       "      <td>0.7133</td>\n",
       "      <td>0.6516</td>\n",
       "      <td>0.6721</td>\n",
       "      <td>entropy</td>\n",
       "      <td>1</td>\n",
       "      <td>27</td>\n",
       "      <td>4500</td>\n",
       "      <td>450</td>\n",
       "    </tr>\n",
       "    <tr>\n",
       "      <th>1</th>\n",
       "      <td>0.7971</td>\n",
       "      <td>0.7133</td>\n",
       "      <td>0.6516</td>\n",
       "      <td>0.6721</td>\n",
       "      <td>entropy</td>\n",
       "      <td>10</td>\n",
       "      <td>27</td>\n",
       "      <td>4500</td>\n",
       "      <td>450</td>\n",
       "    </tr>\n",
       "  </tbody>\n",
       "</table>\n",
       "</div>"
      ],
      "text/plain": [
       "                   Mean Test Accuracy Mean Test Precision (macro)  \\\n",
       "Rank (By Accuracy)                                                  \n",
       "1                              0.7971                      0.7133   \n",
       "1                              0.7971                      0.7133   \n",
       "1                              0.7971                      0.7133   \n",
       "\n",
       "                   Mean Test Recall (macro) Mean Test F1-Score (macro)  \\\n",
       "Rank (By Accuracy)                                                       \n",
       "1                                    0.6516                     0.6721   \n",
       "1                                    0.6516                     0.6721   \n",
       "1                                    0.6516                     0.6721   \n",
       "\n",
       "                   param_xg__criterion param_xg__learning_rate  \\\n",
       "Rank (By Accuracy)                                               \n",
       "1                              entropy                     0.1   \n",
       "1                              entropy                       1   \n",
       "1                              entropy                      10   \n",
       "\n",
       "                   param_xg__max_depth param_xg__max_leaf_nodes  \\\n",
       "Rank (By Accuracy)                                                \n",
       "1                                   27                     4500   \n",
       "1                                   27                     4500   \n",
       "1                                   27                     4500   \n",
       "\n",
       "                   param_xg__n_estimators  \n",
       "Rank (By Accuracy)                         \n",
       "1                                     450  \n",
       "1                                     450  \n",
       "1                                     450  "
      ]
     },
     "execution_count": 39,
     "metadata": {},
     "output_type": "execute_result"
    }
   ],
   "source": [
    "prettyPrintGridCVResults(xgbrf_gs3)"
   ]
  },
  {
   "cell_type": "code",
   "execution_count": null,
   "id": "c70c64bc",
   "metadata": {},
   "outputs": [],
   "source": []
  },
  {
   "cell_type": "markdown",
   "id": "625ddb22",
   "metadata": {},
   "source": [
    "#### Round 4"
   ]
  },
  {
   "cell_type": "code",
   "execution_count": 40,
   "id": "c95577ba",
   "metadata": {
    "ExecuteTime": {
     "end_time": "2022-04-21T08:03:10.070792Z",
     "start_time": "2022-04-21T07:23:32.127507Z"
    }
   },
   "outputs": [
    {
     "name": "stdout",
     "output_type": "stream",
     "text": [
      "Fitting 5 folds for each of 8 candidates, totalling 40 fits\n",
      "[03:01:56] WARNING: C:\\Users\\Administrator\\workspace\\xgboost-win64_release_1.2.0\\src\\learner.cc:516: \n",
      "Parameters: { criterion } might not be used.\n",
      "\n",
      "  This may not be accurate due to some parameters are only used in language bindings but\n",
      "  passed down to XGBoost core.  Or some parameters are not used but slip through this\n",
      "  verification. Please open an issue if you find above cases.\n",
      "\n",
      "\n"
     ]
    }
   ],
   "source": [
    "params = {}\n",
    "params['xg__learning_rate'] = [0.1]\n",
    "# params['xg__reg_lambda'] = [1e-06,1e-05,1e-04]\n",
    "params['xg__criterion'] = ['entropy','gini']\n",
    "params['xg__n_estimators'] = [500,550]\n",
    "params['xg__max_depth'] = [20,25]\n",
    "# params['xg__max_leaf_nodes']=[4500]\n",
    "\n",
    "\n",
    "xgbrf_gs4 = GridSearchCV(estimator=XGBRF_model_pipe,\n",
    "                           param_grid=params,\n",
    "                           cv=5,\n",
    "                           n_jobs=Notebook_n_jobs,\n",
    "                           scoring=[ 'accuracy','precision_macro','recall_macro','f1_macro'],\n",
    "                           refit='accuracy',\n",
    "                           return_train_score=True,\n",
    "                        verbose=3)\n",
    "\n",
    "xgbrf_gs4.fit(X_train,y_train)\n",
    "\n",
    "filePath = f'models/{xgbrf_gs4=}'.split('=')[0] + '.sav'\n",
    "pickle.dump(xgbrf_gs4, open(filePath, 'wb'))"
   ]
  },
  {
   "cell_type": "code",
   "execution_count": 41,
   "id": "f86c55e4",
   "metadata": {
    "ExecuteTime": {
     "end_time": "2022-04-21T08:03:10.545359Z",
     "start_time": "2022-04-21T08:03:10.515767Z"
    },
    "scrolled": true
   },
   "outputs": [
    {
     "data": {
      "text/html": [
       "<div>\n",
       "<style scoped>\n",
       "    .dataframe tbody tr th:only-of-type {\n",
       "        vertical-align: middle;\n",
       "    }\n",
       "\n",
       "    .dataframe tbody tr th {\n",
       "        vertical-align: top;\n",
       "    }\n",
       "\n",
       "    .dataframe thead th {\n",
       "        text-align: right;\n",
       "    }\n",
       "</style>\n",
       "<table border=\"1\" class=\"dataframe\">\n",
       "  <thead>\n",
       "    <tr style=\"text-align: right;\">\n",
       "      <th></th>\n",
       "      <th>Mean Test Accuracy</th>\n",
       "      <th>Mean Test Precision (macro)</th>\n",
       "      <th>Mean Test Recall (macro)</th>\n",
       "      <th>Mean Test F1-Score (macro)</th>\n",
       "      <th>param_xg__criterion</th>\n",
       "      <th>param_xg__learning_rate</th>\n",
       "      <th>param_xg__max_depth</th>\n",
       "      <th>param_xg__n_estimators</th>\n",
       "    </tr>\n",
       "    <tr>\n",
       "      <th>Rank (By Accuracy)</th>\n",
       "      <th></th>\n",
       "      <th></th>\n",
       "      <th></th>\n",
       "      <th></th>\n",
       "      <th></th>\n",
       "      <th></th>\n",
       "      <th></th>\n",
       "      <th></th>\n",
       "    </tr>\n",
       "  </thead>\n",
       "  <tbody>\n",
       "    <tr>\n",
       "      <th>1</th>\n",
       "      <td>0.7992</td>\n",
       "      <td>0.7243</td>\n",
       "      <td>0.6474</td>\n",
       "      <td>0.6711</td>\n",
       "      <td>entropy</td>\n",
       "      <td>0.1</td>\n",
       "      <td>20</td>\n",
       "      <td>550</td>\n",
       "    </tr>\n",
       "    <tr>\n",
       "      <th>1</th>\n",
       "      <td>0.7992</td>\n",
       "      <td>0.7243</td>\n",
       "      <td>0.6474</td>\n",
       "      <td>0.6711</td>\n",
       "      <td>gini</td>\n",
       "      <td>0.1</td>\n",
       "      <td>20</td>\n",
       "      <td>550</td>\n",
       "    </tr>\n",
       "    <tr>\n",
       "      <th>3</th>\n",
       "      <td>0.7990</td>\n",
       "      <td>0.7234</td>\n",
       "      <td>0.6469</td>\n",
       "      <td>0.6705</td>\n",
       "      <td>entropy</td>\n",
       "      <td>0.1</td>\n",
       "      <td>20</td>\n",
       "      <td>500</td>\n",
       "    </tr>\n",
       "    <tr>\n",
       "      <th>3</th>\n",
       "      <td>0.7990</td>\n",
       "      <td>0.7234</td>\n",
       "      <td>0.6469</td>\n",
       "      <td>0.6705</td>\n",
       "      <td>gini</td>\n",
       "      <td>0.1</td>\n",
       "      <td>20</td>\n",
       "      <td>500</td>\n",
       "    </tr>\n",
       "    <tr>\n",
       "      <th>5</th>\n",
       "      <td>0.7978</td>\n",
       "      <td>0.7158</td>\n",
       "      <td>0.6517</td>\n",
       "      <td>0.6729</td>\n",
       "      <td>entropy</td>\n",
       "      <td>0.1</td>\n",
       "      <td>25</td>\n",
       "      <td>550</td>\n",
       "    </tr>\n",
       "    <tr>\n",
       "      <th>5</th>\n",
       "      <td>0.7978</td>\n",
       "      <td>0.7158</td>\n",
       "      <td>0.6517</td>\n",
       "      <td>0.6729</td>\n",
       "      <td>gini</td>\n",
       "      <td>0.1</td>\n",
       "      <td>25</td>\n",
       "      <td>550</td>\n",
       "    </tr>\n",
       "    <tr>\n",
       "      <th>7</th>\n",
       "      <td>0.7976</td>\n",
       "      <td>0.7156</td>\n",
       "      <td>0.6512</td>\n",
       "      <td>0.6724</td>\n",
       "      <td>entropy</td>\n",
       "      <td>0.1</td>\n",
       "      <td>25</td>\n",
       "      <td>500</td>\n",
       "    </tr>\n",
       "    <tr>\n",
       "      <th>7</th>\n",
       "      <td>0.7976</td>\n",
       "      <td>0.7156</td>\n",
       "      <td>0.6512</td>\n",
       "      <td>0.6724</td>\n",
       "      <td>gini</td>\n",
       "      <td>0.1</td>\n",
       "      <td>25</td>\n",
       "      <td>500</td>\n",
       "    </tr>\n",
       "  </tbody>\n",
       "</table>\n",
       "</div>"
      ],
      "text/plain": [
       "                   Mean Test Accuracy Mean Test Precision (macro)  \\\n",
       "Rank (By Accuracy)                                                  \n",
       "1                              0.7992                      0.7243   \n",
       "1                              0.7992                      0.7243   \n",
       "3                              0.7990                      0.7234   \n",
       "3                              0.7990                      0.7234   \n",
       "5                              0.7978                      0.7158   \n",
       "5                              0.7978                      0.7158   \n",
       "7                              0.7976                      0.7156   \n",
       "7                              0.7976                      0.7156   \n",
       "\n",
       "                   Mean Test Recall (macro) Mean Test F1-Score (macro)  \\\n",
       "Rank (By Accuracy)                                                       \n",
       "1                                    0.6474                     0.6711   \n",
       "1                                    0.6474                     0.6711   \n",
       "3                                    0.6469                     0.6705   \n",
       "3                                    0.6469                     0.6705   \n",
       "5                                    0.6517                     0.6729   \n",
       "5                                    0.6517                     0.6729   \n",
       "7                                    0.6512                     0.6724   \n",
       "7                                    0.6512                     0.6724   \n",
       "\n",
       "                   param_xg__criterion param_xg__learning_rate  \\\n",
       "Rank (By Accuracy)                                               \n",
       "1                              entropy                     0.1   \n",
       "1                                 gini                     0.1   \n",
       "3                              entropy                     0.1   \n",
       "3                                 gini                     0.1   \n",
       "5                              entropy                     0.1   \n",
       "5                                 gini                     0.1   \n",
       "7                              entropy                     0.1   \n",
       "7                                 gini                     0.1   \n",
       "\n",
       "                   param_xg__max_depth param_xg__n_estimators  \n",
       "Rank (By Accuracy)                                             \n",
       "1                                   20                    550  \n",
       "1                                   20                    550  \n",
       "3                                   20                    500  \n",
       "3                                   20                    500  \n",
       "5                                   25                    550  \n",
       "5                                   25                    550  \n",
       "7                                   25                    500  \n",
       "7                                   25                    500  "
      ]
     },
     "execution_count": 41,
     "metadata": {},
     "output_type": "execute_result"
    }
   ],
   "source": [
    "prettyPrintGridCVResults(xgbrf_gs4)"
   ]
  },
  {
   "cell_type": "code",
   "execution_count": null,
   "id": "3f48f7bc",
   "metadata": {},
   "outputs": [],
   "source": []
  },
  {
   "cell_type": "markdown",
   "id": "2f2ec7e0",
   "metadata": {},
   "source": [
    "### Final Model"
   ]
  },
  {
   "cell_type": "code",
   "execution_count": null,
   "id": "9fed82ef",
   "metadata": {},
   "outputs": [],
   "source": []
  }
 ],
 "metadata": {
  "kernelspec": {
   "display_name": "Python (learn-env)",
   "language": "python",
   "name": "learn-env"
  },
  "language_info": {
   "codemirror_mode": {
    "name": "ipython",
    "version": 3
   },
   "file_extension": ".py",
   "mimetype": "text/x-python",
   "name": "python",
   "nbconvert_exporter": "python",
   "pygments_lexer": "ipython3",
   "version": "3.8.5"
  },
  "notify_time": "10",
  "toc": {
   "base_numbering": 1,
   "nav_menu": {},
   "number_sections": true,
   "sideBar": true,
   "skip_h1_title": false,
   "title_cell": "Table of Contents",
   "title_sidebar": "Contents",
   "toc_cell": false,
   "toc_position": {
    "height": "calc(100% - 180px)",
    "left": "10px",
    "top": "150px",
    "width": "349.08px"
   },
   "toc_section_display": true,
   "toc_window_display": true
  },
  "varInspector": {
   "cols": {
    "lenName": 16,
    "lenType": 16,
    "lenVar": 40
   },
   "kernels_config": {
    "python": {
     "delete_cmd_postfix": "",
     "delete_cmd_prefix": "del ",
     "library": "var_list.py",
     "varRefreshCmd": "print(var_dic_list())"
    },
    "r": {
     "delete_cmd_postfix": ") ",
     "delete_cmd_prefix": "rm(",
     "library": "var_list.r",
     "varRefreshCmd": "cat(var_dic_list()) "
    }
   },
   "position": {
    "height": "851.858px",
    "left": "1763.33px",
    "right": "20px",
    "top": "120px",
    "width": "350px"
   },
   "types_to_exclude": [
    "module",
    "function",
    "builtin_function_or_method",
    "instance",
    "_Feature"
   ],
   "window_display": false
  }
 },
 "nbformat": 4,
 "nbformat_minor": 5
}
