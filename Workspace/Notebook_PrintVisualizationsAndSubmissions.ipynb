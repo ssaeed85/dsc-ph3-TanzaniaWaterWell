{
 "cells": [
  {
   "cell_type": "code",
   "execution_count": 5,
   "id": "fd33c151",
   "metadata": {
    "ExecuteTime": {
     "end_time": "2022-04-22T05:58:25.173184Z",
     "start_time": "2022-04-22T05:58:25.164191Z"
    }
   },
   "outputs": [],
   "source": [
    "import os\n",
    "import pickle\n",
    "import pandas as pd\n",
    "import time\n",
    "import matplotlib.pyplot as plt\n",
    "import time\n",
    "  \n",
    "\n",
    "# from pandas_profiling import ProfileReport\n",
    "\n",
    "# from sklearn.dummy import DummyClassifier\n",
    "# from sklearn.model_selection import train_test_split, GridSearchCV, cross_val_score\n",
    "# from sklearn.pipeline import Pipeline\n",
    "# from sklearn.preprocessing import StandardScaler, OneHotEncoder, FunctionTransformer, OrdinalEncoder\n",
    "# from sklearn.impute import SimpleImputer\n",
    "# from sklearn.compose import ColumnTransformer\n",
    "# from sklearn.linear_model import LogisticRegression\n",
    "# from sklearn.ensemble import RandomForestClassifier, GradientBoostingClassifier, StackingClassifier\n",
    "from sklearn.metrics import plot_confusion_matrix, recall_score,\\\n",
    "    accuracy_score, precision_score, f1_score, classification_report, ConfusionMatrixDisplay, confusion_matrix\n",
    "# import xgboost"
   ]
  },
  {
   "cell_type": "markdown",
   "id": "515b40c4",
   "metadata": {},
   "source": [
    "# Helper Functions"
   ]
  },
  {
   "cell_type": "code",
   "execution_count": 6,
   "id": "49f7b5e7",
   "metadata": {
    "ExecuteTime": {
     "end_time": "2022-04-22T05:58:25.831334Z",
     "start_time": "2022-04-22T05:58:25.820325Z"
    }
   },
   "outputs": [],
   "source": [
    "from src.pandas_helper import modelReport"
   ]
  },
  {
   "cell_type": "markdown",
   "id": "cfdae191",
   "metadata": {},
   "source": [
    "# Load Data"
   ]
  },
  {
   "cell_type": "code",
   "execution_count": 41,
   "id": "e3f4e126",
   "metadata": {
    "ExecuteTime": {
     "end_time": "2022-04-22T06:21:26.701777Z",
     "start_time": "2022-04-22T06:21:26.348003Z"
    }
   },
   "outputs": [],
   "source": [
    "X = pd.read_csv('data/Training_set.csv')\n",
    "y = pd.read_csv('data/Training_labels.csv').status_group\n",
    "\n",
    "Test_Values = pd.read_csv('data/Test_set.csv')\n",
    "X_train,X_test, y_train, y_test = train_test_split(X,y,random_state=42)"
   ]
  },
  {
   "cell_type": "code",
   "execution_count": 8,
   "id": "c1199fb0",
   "metadata": {
    "ExecuteTime": {
     "end_time": "2022-04-22T05:58:27.721319Z",
     "start_time": "2022-04-22T05:58:27.716326Z"
    }
   },
   "outputs": [],
   "source": [
    "titles={'baseline_00.sav':'Dummy Classifier',\n",
    "'knn_gs1.sav':'KNN Classifier - Hypertune',\n",
    "'knn_model_pipe.sav':'KNN Classifier - Simple',\n",
    "'log_reg_gs1.sav':'Logistic Regression Classifier - Hypertuned',\n",
    "'log_reg_pipe.sav':'Logistic Regression Classifier - Simple',\n",
    "'rfc_gs1.sav':'Random Forest Classifier - Hypertuned',\n",
    "'rfc_imb_gs1.sav':'Random Forest Classifier - Hypertuned + SMOTE',\n",
    "'rfc_model_pipe.sav':'Random Forest Classifier - Simple',\n",
    "'xgbrf_gs1.sav':'XGBoost - Hypertune 1',\n",
    "'xgbrf_gs2.sav':'XGBoost - Hypertune 2',\n",
    "'xgbrf_gs3.sav':'XGBoost - Hypertune 3',\n",
    "'xgbrf_gs4.sav':'XGBoost - Hypertune 4',\n",
    "'xgbrf_imb_gs1.sav':'XGBRF Classifier - Hypertune + SMOTE 1',\n",
    "'xgbrf_imb_gs2.sav':'XGBRF Classifier - Hypertune + SMOTE 2',\n",
    "'XGBRF_model_pipe.sav':'XGBRF Classifier - Simple'}\n",
    "\n",
    "models={}\n",
    "\n",
    "for pickle_file in os.listdir('models/'):\n",
    "    models[titles[str(pickle_file)]] = pickle.load(open(f'models/{pickle_file}', 'rb'))"
   ]
  },
  {
   "cell_type": "code",
   "execution_count": 35,
   "id": "eaac6202",
   "metadata": {
    "ExecuteTime": {
     "end_time": "2022-04-22T06:15:32.128049Z",
     "start_time": "2022-04-22T06:14:30.693104Z"
    }
   },
   "outputs": [
    {
     "data": {
      "text/plain": [
       "<Figure size 720x720 with 0 Axes>"
      ]
     },
     "metadata": {},
     "output_type": "display_data"
    },
    {
     "data": {
      "text/plain": [
       "<Figure size 720x720 with 0 Axes>"
      ]
     },
     "metadata": {},
     "output_type": "display_data"
    },
    {
     "data": {
      "text/plain": [
       "<Figure size 720x720 with 0 Axes>"
      ]
     },
     "metadata": {},
     "output_type": "display_data"
    },
    {
     "data": {
      "text/plain": [
       "<Figure size 720x720 with 0 Axes>"
      ]
     },
     "metadata": {},
     "output_type": "display_data"
    },
    {
     "data": {
      "text/plain": [
       "<Figure size 720x720 with 0 Axes>"
      ]
     },
     "metadata": {},
     "output_type": "display_data"
    },
    {
     "data": {
      "text/plain": [
       "<Figure size 720x720 with 0 Axes>"
      ]
     },
     "metadata": {},
     "output_type": "display_data"
    },
    {
     "data": {
      "text/plain": [
       "<Figure size 720x720 with 0 Axes>"
      ]
     },
     "metadata": {},
     "output_type": "display_data"
    },
    {
     "data": {
      "text/plain": [
       "<Figure size 720x720 with 0 Axes>"
      ]
     },
     "metadata": {},
     "output_type": "display_data"
    },
    {
     "data": {
      "text/plain": [
       "<Figure size 720x720 with 0 Axes>"
      ]
     },
     "metadata": {},
     "output_type": "display_data"
    },
    {
     "data": {
      "text/plain": [
       "<Figure size 720x720 with 0 Axes>"
      ]
     },
     "metadata": {},
     "output_type": "display_data"
    },
    {
     "data": {
      "text/plain": [
       "<Figure size 720x720 with 0 Axes>"
      ]
     },
     "metadata": {},
     "output_type": "display_data"
    },
    {
     "data": {
      "text/plain": [
       "<Figure size 720x720 with 0 Axes>"
      ]
     },
     "metadata": {},
     "output_type": "display_data"
    },
    {
     "data": {
      "text/plain": [
       "<Figure size 720x720 with 0 Axes>"
      ]
     },
     "metadata": {},
     "output_type": "display_data"
    },
    {
     "data": {
      "text/plain": [
       "<Figure size 720x720 with 0 Axes>"
      ]
     },
     "metadata": {},
     "output_type": "display_data"
    },
    {
     "data": {
      "text/plain": [
       "<Figure size 720x720 with 0 Axes>"
      ]
     },
     "metadata": {},
     "output_type": "display_data"
    }
   ],
   "source": [
    "for title,estimator in models.items():\n",
    "    fig, ax = plt.subplots(figsize=(10,10))\n",
    "    \n",
    "    try:\n",
    "        mod = estimator.best_estimator_\n",
    "    except:\n",
    "        mod = estimator\n",
    "    \n",
    "    disp = ConfusionMatrixDisplay.from_estimator(\n",
    "        mod,\n",
    "        X_test,\n",
    "        y_test,\n",
    "        display_labels=mod.classes_,\n",
    "        cmap='OrRd',\n",
    "        normalize='true',\n",
    "        ax=ax\n",
    "       ).ax_.set_title(title)\n",
    "        \n",
    "    plt.savefig(f'images/normalized_confusion_matrices/{title}.jpg',\n",
    "                bbox_inches ='tight',\n",
    "                transparent = False\n",
    "       )\n",
    "\n",
    "    plt.clf()\n",
    "    \n"
   ]
  },
  {
   "cell_type": "code",
   "execution_count": 36,
   "id": "2a251886",
   "metadata": {
    "ExecuteTime": {
     "end_time": "2022-04-22T06:16:44.574492Z",
     "start_time": "2022-04-22T06:15:44.152993Z"
    }
   },
   "outputs": [
    {
     "data": {
      "text/plain": [
       "<Figure size 720x720 with 0 Axes>"
      ]
     },
     "metadata": {},
     "output_type": "display_data"
    },
    {
     "data": {
      "text/plain": [
       "<Figure size 720x720 with 0 Axes>"
      ]
     },
     "metadata": {},
     "output_type": "display_data"
    },
    {
     "data": {
      "text/plain": [
       "<Figure size 720x720 with 0 Axes>"
      ]
     },
     "metadata": {},
     "output_type": "display_data"
    },
    {
     "data": {
      "text/plain": [
       "<Figure size 720x720 with 0 Axes>"
      ]
     },
     "metadata": {},
     "output_type": "display_data"
    },
    {
     "data": {
      "text/plain": [
       "<Figure size 720x720 with 0 Axes>"
      ]
     },
     "metadata": {},
     "output_type": "display_data"
    },
    {
     "data": {
      "text/plain": [
       "<Figure size 720x720 with 0 Axes>"
      ]
     },
     "metadata": {},
     "output_type": "display_data"
    },
    {
     "data": {
      "text/plain": [
       "<Figure size 720x720 with 0 Axes>"
      ]
     },
     "metadata": {},
     "output_type": "display_data"
    },
    {
     "data": {
      "text/plain": [
       "<Figure size 720x720 with 0 Axes>"
      ]
     },
     "metadata": {},
     "output_type": "display_data"
    },
    {
     "data": {
      "text/plain": [
       "<Figure size 720x720 with 0 Axes>"
      ]
     },
     "metadata": {},
     "output_type": "display_data"
    },
    {
     "data": {
      "text/plain": [
       "<Figure size 720x720 with 0 Axes>"
      ]
     },
     "metadata": {},
     "output_type": "display_data"
    },
    {
     "data": {
      "text/plain": [
       "<Figure size 720x720 with 0 Axes>"
      ]
     },
     "metadata": {},
     "output_type": "display_data"
    },
    {
     "data": {
      "text/plain": [
       "<Figure size 720x720 with 0 Axes>"
      ]
     },
     "metadata": {},
     "output_type": "display_data"
    },
    {
     "data": {
      "text/plain": [
       "<Figure size 720x720 with 0 Axes>"
      ]
     },
     "metadata": {},
     "output_type": "display_data"
    },
    {
     "data": {
      "text/plain": [
       "<Figure size 720x720 with 0 Axes>"
      ]
     },
     "metadata": {},
     "output_type": "display_data"
    },
    {
     "data": {
      "text/plain": [
       "<Figure size 720x720 with 0 Axes>"
      ]
     },
     "metadata": {},
     "output_type": "display_data"
    }
   ],
   "source": [
    "for title,estimator in models.items():\n",
    "    fig, ax = plt.subplots(figsize=(10,10))\n",
    "    \n",
    "    try:\n",
    "        mod = estimator.best_estimator_\n",
    "    except:\n",
    "        mod = estimator\n",
    "        \n",
    "    disp = ConfusionMatrixDisplay.from_estimator(\n",
    "        mod,\n",
    "        X_test,\n",
    "        y_test,\n",
    "        display_labels=mod.classes_,\n",
    "        cmap='OrRd',\n",
    "        ax=ax\n",
    "       ).ax_.set_title(title)\n",
    "        \n",
    "    plt.savefig(f'images/confusion_matrices/{title}.jpg',\n",
    "                bbox_inches ='tight',\n",
    "                transparent = False\n",
    "       )\n",
    "    plt.clf()"
   ]
  },
  {
   "cell_type": "code",
   "execution_count": 37,
   "id": "06015184",
   "metadata": {
    "ExecuteTime": {
     "end_time": "2022-04-22T06:18:55.628018Z",
     "start_time": "2022-04-22T06:18:54.352164Z"
    }
   },
   "outputs": [],
   "source": [
    "final_model =  pickle.load(open(f'models/xgbrf_gs4.sav', 'rb')).best_estimator_"
   ]
  },
  {
   "cell_type": "code",
   "execution_count": 38,
   "id": "69b54609",
   "metadata": {
    "ExecuteTime": {
     "end_time": "2022-04-22T06:20:59.733350Z",
     "start_time": "2022-04-22T06:18:58.074401Z"
    }
   },
   "outputs": [
    {
     "name": "stdout",
     "output_type": "stream",
     "text": [
      "[01:18:59] WARNING: C:\\Users\\Administrator\\workspace\\xgboost-win64_release_1.2.0\\src\\learner.cc:516: \n",
      "Parameters: { criterion } might not be used.\n",
      "\n",
      "  This may not be accurate due to some parameters are only used in language bindings but\n",
      "  passed down to XGBoost core.  Or some parameters are not used but slip through this\n",
      "  verification. Please open an issue if you find above cases.\n",
      "\n",
      "\n"
     ]
    },
    {
     "data": {
      "text/plain": [
       "Pipeline(steps=[('ct',\n",
       "                 ColumnTransformer(transformers=[('ct_cyr',\n",
       "                                                  Pipeline(steps=[('num_imp',\n",
       "                                                                   SimpleImputer(strategy='median')),\n",
       "                                                                  ('num_sc',\n",
       "                                                                   MinMaxScaler())]),\n",
       "                                                  ['construction_year']),\n",
       "                                                 ('ct_coord',\n",
       "                                                  Pipeline(steps=[('coord_imp',\n",
       "                                                                   CoordinatesImputer()),\n",
       "                                                                  ('coord_sc',\n",
       "                                                                   MinMaxScaler())]),\n",
       "                                                  ['latitude', 'longitude',\n",
       "                                                   'region']),\n",
       "                                                 ('ct_cat1',\n",
       "                                                  Pipeline(steps=[('cat1_imp1',\n",
       "                                                                   Simple...\n",
       "                                 criterion='entropy', gamma=0, gpu_id=-1,\n",
       "                                 importance_type='gain',\n",
       "                                 interaction_constraints='', learning_rate=0.1,\n",
       "                                 max_delta_step=0, max_depth=20,\n",
       "                                 min_child_weight=1, missing=nan,\n",
       "                                 monotone_constraints='()', n_estimators=550,\n",
       "                                 n_jobs=5, num_parallel_tree=550,\n",
       "                                 objective='multi:softprob', random_state=42,\n",
       "                                 reg_alpha=0, scale_pos_weight=None,\n",
       "                                 tree_method='exact', validate_parameters=1,\n",
       "                                 verbosity=None))])"
      ]
     },
     "execution_count": 38,
     "metadata": {},
     "output_type": "execute_result"
    }
   ],
   "source": [
    "final_model.fit(X_train, y_train)"
   ]
  },
  {
   "cell_type": "code",
   "execution_count": 39,
   "id": "7696f9bf",
   "metadata": {
    "ExecuteTime": {
     "end_time": "2022-04-22T06:21:05.068547Z",
     "start_time": "2022-04-22T06:21:00.751580Z"
    }
   },
   "outputs": [
    {
     "data": {
      "text/plain": [
       "0.7995286195286195"
      ]
     },
     "execution_count": 39,
     "metadata": {},
     "output_type": "execute_result"
    }
   ],
   "source": [
    "final_model.score(X_test, y_test)"
   ]
  },
  {
   "cell_type": "code",
   "execution_count": null,
   "id": "3e7004b3",
   "metadata": {},
   "outputs": [],
   "source": []
  },
  {
   "cell_type": "code",
   "execution_count": 43,
   "id": "0ccd1756",
   "metadata": {
    "ExecuteTime": {
     "end_time": "2022-04-22T06:33:46.152917Z",
     "start_time": "2022-04-22T06:31:01.346793Z"
    }
   },
   "outputs": [
    {
     "name": "stdout",
     "output_type": "stream",
     "text": [
      "[01:31:02] WARNING: C:\\Users\\Administrator\\workspace\\xgboost-win64_release_1.2.0\\src\\learner.cc:516: \n",
      "Parameters: { criterion } might not be used.\n",
      "\n",
      "  This may not be accurate due to some parameters are only used in language bindings but\n",
      "  passed down to XGBoost core.  Or some parameters are not used but slip through this\n",
      "  verification. Please open an issue if you find above cases.\n",
      "\n",
      "\n"
     ]
    },
    {
     "data": {
      "text/plain": [
       "Pipeline(steps=[('ct',\n",
       "                 ColumnTransformer(transformers=[('ct_cyr',\n",
       "                                                  Pipeline(steps=[('num_imp',\n",
       "                                                                   SimpleImputer(strategy='median')),\n",
       "                                                                  ('num_sc',\n",
       "                                                                   MinMaxScaler())]),\n",
       "                                                  ['construction_year']),\n",
       "                                                 ('ct_coord',\n",
       "                                                  Pipeline(steps=[('coord_imp',\n",
       "                                                                   CoordinatesImputer()),\n",
       "                                                                  ('coord_sc',\n",
       "                                                                   MinMaxScaler())]),\n",
       "                                                  ['latitude', 'longitude',\n",
       "                                                   'region']),\n",
       "                                                 ('ct_cat1',\n",
       "                                                  Pipeline(steps=[('cat1_imp1',\n",
       "                                                                   Simple...\n",
       "                                 criterion='entropy', gamma=0, gpu_id=-1,\n",
       "                                 importance_type='gain',\n",
       "                                 interaction_constraints='', learning_rate=0.1,\n",
       "                                 max_delta_step=0, max_depth=20,\n",
       "                                 min_child_weight=1, missing=nan,\n",
       "                                 monotone_constraints='()', n_estimators=550,\n",
       "                                 n_jobs=5, num_parallel_tree=550,\n",
       "                                 objective='multi:softprob', random_state=42,\n",
       "                                 reg_alpha=0, scale_pos_weight=None,\n",
       "                                 tree_method='exact', validate_parameters=1,\n",
       "                                 verbosity=None))])"
      ]
     },
     "execution_count": 43,
     "metadata": {},
     "output_type": "execute_result"
    }
   ],
   "source": [
    "final_model.fit(X,y)"
   ]
  },
  {
   "cell_type": "code",
   "execution_count": 44,
   "id": "73a2d34e",
   "metadata": {
    "ExecuteTime": {
     "end_time": "2022-04-22T06:33:51.565150Z",
     "start_time": "2022-04-22T06:33:47.183161Z"
    }
   },
   "outputs": [],
   "source": [
    "Test_predictions = final_model.predict(Test_Values)"
   ]
  },
  {
   "cell_type": "code",
   "execution_count": 45,
   "id": "47cbeeb2",
   "metadata": {
    "ExecuteTime": {
     "end_time": "2022-04-22T06:35:21.388244Z",
     "start_time": "2022-04-22T06:35:21.371252Z"
    }
   },
   "outputs": [
    {
     "data": {
      "text/plain": [
       "array(['functional', 'functional', 'functional', ..., 'functional',\n",
       "       'functional', 'non functional'], dtype=object)"
      ]
     },
     "execution_count": 45,
     "metadata": {},
     "output_type": "execute_result"
    }
   ],
   "source": [
    "Test_predictions"
   ]
  },
  {
   "cell_type": "code",
   "execution_count": 50,
   "id": "563ba1a1",
   "metadata": {
    "ExecuteTime": {
     "end_time": "2022-04-22T06:37:48.050182Z",
     "start_time": "2022-04-22T06:37:48.034179Z"
    }
   },
   "outputs": [
    {
     "data": {
      "text/html": [
       "<div>\n",
       "<style scoped>\n",
       "    .dataframe tbody tr th:only-of-type {\n",
       "        vertical-align: middle;\n",
       "    }\n",
       "\n",
       "    .dataframe tbody tr th {\n",
       "        vertical-align: top;\n",
       "    }\n",
       "\n",
       "    .dataframe thead th {\n",
       "        text-align: right;\n",
       "    }\n",
       "</style>\n",
       "<table border=\"1\" class=\"dataframe\">\n",
       "  <thead>\n",
       "    <tr style=\"text-align: right;\">\n",
       "      <th></th>\n",
       "      <th>status_group</th>\n",
       "    </tr>\n",
       "  </thead>\n",
       "  <tbody>\n",
       "    <tr>\n",
       "      <th>0</th>\n",
       "      <td>functional</td>\n",
       "    </tr>\n",
       "    <tr>\n",
       "      <th>1</th>\n",
       "      <td>functional</td>\n",
       "    </tr>\n",
       "    <tr>\n",
       "      <th>2</th>\n",
       "      <td>functional</td>\n",
       "    </tr>\n",
       "    <tr>\n",
       "      <th>3</th>\n",
       "      <td>non functional</td>\n",
       "    </tr>\n",
       "    <tr>\n",
       "      <th>4</th>\n",
       "      <td>functional</td>\n",
       "    </tr>\n",
       "    <tr>\n",
       "      <th>...</th>\n",
       "      <td>...</td>\n",
       "    </tr>\n",
       "    <tr>\n",
       "      <th>14845</th>\n",
       "      <td>non functional</td>\n",
       "    </tr>\n",
       "    <tr>\n",
       "      <th>14846</th>\n",
       "      <td>functional</td>\n",
       "    </tr>\n",
       "    <tr>\n",
       "      <th>14847</th>\n",
       "      <td>functional</td>\n",
       "    </tr>\n",
       "    <tr>\n",
       "      <th>14848</th>\n",
       "      <td>functional</td>\n",
       "    </tr>\n",
       "    <tr>\n",
       "      <th>14849</th>\n",
       "      <td>non functional</td>\n",
       "    </tr>\n",
       "  </tbody>\n",
       "</table>\n",
       "<p>14850 rows × 1 columns</p>\n",
       "</div>"
      ],
      "text/plain": [
       "         status_group\n",
       "0          functional\n",
       "1          functional\n",
       "2          functional\n",
       "3      non functional\n",
       "4          functional\n",
       "...               ...\n",
       "14845  non functional\n",
       "14846      functional\n",
       "14847      functional\n",
       "14848      functional\n",
       "14849  non functional\n",
       "\n",
       "[14850 rows x 1 columns]"
      ]
     },
     "execution_count": 50,
     "metadata": {},
     "output_type": "execute_result"
    }
   ],
   "source": [
    "pd.DataFrame(Test_predictions, columns =['status_group'])"
   ]
  },
  {
   "cell_type": "code",
   "execution_count": 52,
   "id": "71544eab",
   "metadata": {
    "ExecuteTime": {
     "end_time": "2022-04-22T06:39:42.642408Z",
     "start_time": "2022-04-22T06:39:42.634406Z"
    }
   },
   "outputs": [],
   "source": [
    "submission = pd.DataFrame(Test_Values.id).join(pd.DataFrame(Test_predictions, columns =['status_group']))\n"
   ]
  },
  {
   "cell_type": "code",
   "execution_count": 63,
   "id": "22205827",
   "metadata": {
    "ExecuteTime": {
     "end_time": "2022-04-22T06:44:30.627568Z",
     "start_time": "2022-04-22T06:44:30.593845Z"
    }
   },
   "outputs": [],
   "source": [
    "# Timestamp in seconds\n",
    "ts = int(time.time())\n",
    "\n",
    "submission.to_csv(f'data/SaadSaeed_{ts}.csv',index=False)"
   ]
  },
  {
   "cell_type": "code",
   "execution_count": null,
   "id": "5dff3e21",
   "metadata": {},
   "outputs": [],
   "source": []
  },
  {
   "cell_type": "code",
   "execution_count": null,
   "id": "5533c4a1",
   "metadata": {},
   "outputs": [],
   "source": []
  },
  {
   "cell_type": "code",
   "execution_count": 64,
   "id": "bf416c28",
   "metadata": {
    "ExecuteTime": {
     "end_time": "2022-04-22T07:10:18.593379Z",
     "start_time": "2022-04-22T07:10:18.576375Z"
    }
   },
   "outputs": [
    {
     "data": {
      "text/plain": [
       "24947    non functional\n",
       "22630        functional\n",
       "13789        functional\n",
       "15697        functional\n",
       "22613    non functional\n",
       "              ...      \n",
       "54343        functional\n",
       "38158        functional\n",
       "860      non functional\n",
       "15795        functional\n",
       "56422    non functional\n",
       "Name: status_group, Length: 44550, dtype: object"
      ]
     },
     "execution_count": 64,
     "metadata": {},
     "output_type": "execute_result"
    }
   ],
   "source": [
    "y_train"
   ]
  },
  {
   "cell_type": "code",
   "execution_count": 75,
   "id": "9d58bc28",
   "metadata": {
    "ExecuteTime": {
     "end_time": "2022-04-22T07:20:50.157619Z",
     "start_time": "2022-04-22T07:20:50.071599Z"
    }
   },
   "outputs": [
    {
     "data": {
      "text/plain": [
       "<AxesSubplot:>"
      ]
     },
     "execution_count": 75,
     "metadata": {},
     "output_type": "execute_result"
    },
    {
     "data": {
      "image/png": "[encoded data removed]",
      "text/plain": [
       "<Figure size 432x288 with 1 Axes>"
      ]
     },
     "metadata": {
      "needs_background": "light"
     },
     "output_type": "display_data"
    }
   ],
   "source": []
  },
  {
   "cell_type": "code",
   "execution_count": null,
   "id": "74b6fc5d",
   "metadata": {},
   "outputs": [],
   "source": []
  },
  {
   "cell_type": "code",
   "execution_count": null,
   "id": "2abcdc19",
   "metadata": {},
   "outputs": [],
   "source": []
  },
  {
   "cell_type": "code",
   "execution_count": null,
   "id": "bbd062de",
   "metadata": {},
   "outputs": [],
   "source": []
  },
  {
   "cell_type": "code",
   "execution_count": null,
   "id": "f123db2a",
   "metadata": {},
   "outputs": [],
   "source": []
  },
  {
   "cell_type": "code",
   "execution_count": null,
   "id": "2b42d4dc",
   "metadata": {},
   "outputs": [],
   "source": []
  }
 ],
 "metadata": {
  "kernelspec": {
   "display_name": "Python (learn-env)",
   "language": "python",
   "name": "learn-env"
  },
  "language_info": {
   "codemirror_mode": {
    "name": "ipython",
    "version": 3
   },
   "file_extension": ".py",
   "mimetype": "text/x-python",
   "name": "python",
   "nbconvert_exporter": "python",
   "pygments_lexer": "ipython3",
   "version": "3.8.5"
  },
  "toc": {
   "base_numbering": 1,
   "nav_menu": {},
   "number_sections": true,
   "sideBar": true,
   "skip_h1_title": false,
   "title_cell": "Table of Contents",
   "title_sidebar": "Contents",
   "toc_cell": false,
   "toc_position": {
    "height": "calc(100% - 180px)",
    "left": "10px",
    "top": "150px",
    "width": "349.078px"
   },
   "toc_section_display": true,
   "toc_window_display": true
  },
  "varInspector": {
   "cols": {
    "lenName": 16,
    "lenType": 16,
    "lenVar": 40
   },
   "kernels_config": {
    "python": {
     "delete_cmd_postfix": "",
     "delete_cmd_prefix": "del ",
     "library": "var_list.py",
     "varRefreshCmd": "print(var_dic_list())"
    },
    "r": {
     "delete_cmd_postfix": ") ",
     "delete_cmd_prefix": "rm(",
     "library": "var_list.r",
     "varRefreshCmd": "cat(var_dic_list()) "
    }
   },
   "types_to_exclude": [
    "module",
    "function",
    "builtin_function_or_method",
    "instance",
    "_Feature"
   ],
   "window_display": false
  }
 },
 "nbformat": 4,
 "nbformat_minor": 5
}
