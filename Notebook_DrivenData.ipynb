{
 "cells": [
  {
   "cell_type": "markdown",
   "id": "065e39a0",
   "metadata": {},
   "source": [
    "# References\n",
    "https://geodata.lib.berkeley.edu/catalog/stanford-gn214np6763 (for tanzania polygon)\\\n",
    "https://autogis-site.readthedocs.io/en/latest/notebooks/L1/geometric-objects.html (for handling shape files)\\\n",
    "https://towardsdatascience.com/exploratory-data-analysis-with-pandas-profiling-de3aae2ddff3 (for pandas-profiling)"
   ]
  },
  {
   "cell_type": "code",
   "execution_count": 1,
   "id": "35294469",
   "metadata": {
    "ExecuteTime": {
     "end_time": "2022-04-19T07:17:09.865289Z",
     "start_time": "2022-04-19T07:17:08.637444Z"
    }
   },
   "outputs": [],
   "source": [
    "import pandas as pd\n",
    "import json\n",
    "import seaborn as sns\n",
    "import numpy as np\n",
    "from shapely.geometry import Point, shape, LineString\n",
    "import folium\n",
    "import matplotlib.pyplot as plt\n",
    "\n",
    "# from pandas_profiling import ProfileReport\n",
    "\n",
    "\n",
    "from sklearn.model_selection import train_test_split, GridSearchCV, cross_val_score\n",
    "from sklearn.pipeline import Pipeline\n",
    "from sklearn.preprocessing import StandardScaler, OneHotEncoder, FunctionTransformer, OrdinalEncoder\n",
    "from sklearn.impute import SimpleImputer\n",
    "from sklearn.compose import ColumnTransformer\n",
    "from sklearn.linear_model import LogisticRegression\n",
    "from sklearn.ensemble import RandomForestClassifier, GradientBoostingClassifier, StackingClassifier\n",
    "from sklearn.metrics import plot_confusion_matrix, recall_score,\\\n",
    "    accuracy_score, precision_score, f1_score\n",
    "\n",
    "Tanzania_coord = (-6.3690,34.8888)\n",
    "\n",
    "pd.set_option('display.max_columns', None)\n",
    "# pd.reset_option(“max_columns”)\n",
    "sns.set(rc={'figure.figsize':(11,8)})"
   ]
  },
  {
   "cell_type": "code",
   "execution_count": 2,
   "id": "5471a109",
   "metadata": {
    "ExecuteTime": {
     "end_time": "2022-04-19T07:17:10.355951Z",
     "start_time": "2022-04-19T07:17:09.913310Z"
    }
   },
   "outputs": [],
   "source": [
    "X_train_raw = pd.read_csv('data/Training_set.csv')\n",
    "y_train_raw = pd.read_csv('data/Training_labels.csv')\n",
    "\n",
    "X_test_raw = pd.read_csv('data/Test_set.csv')\n",
    "\n",
    "df_train = pd.merge(X_train_raw,y_train_raw,on='id')"
   ]
  },
  {
   "cell_type": "code",
   "execution_count": 3,
   "id": "08596fa8",
   "metadata": {
    "ExecuteTime": {
     "end_time": "2022-04-19T07:17:10.545432Z",
     "start_time": "2022-04-19T07:17:10.531428Z"
    },
    "scrolled": true
   },
   "outputs": [
    {
     "data": {
      "text/plain": [
       "functional                 0.543081\n",
       "non functional             0.384242\n",
       "functional needs repair    0.072677\n",
       "Name: status_group, dtype: float64"
      ]
     },
     "execution_count": 3,
     "metadata": {},
     "output_type": "execute_result"
    }
   ],
   "source": [
    "df_train.status_group.value_counts(normalize=True)"
   ]
  },
  {
   "cell_type": "markdown",
   "id": "e1482572",
   "metadata": {},
   "source": [
    "'functional needs repair' will probably need smoting"
   ]
  },
  {
   "cell_type": "code",
   "execution_count": 4,
   "id": "15326af0",
   "metadata": {
    "ExecuteTime": {
     "end_time": "2022-04-19T07:17:11.244281Z",
     "start_time": "2022-04-19T07:17:11.174265Z"
    },
    "scrolled": true
   },
   "outputs": [
    {
     "name": "stdout",
     "output_type": "stream",
     "text": [
      "<class 'pandas.core.frame.DataFrame'>\n",
      "Int64Index: 59400 entries, 0 to 59399\n",
      "Data columns (total 41 columns):\n",
      " #   Column                 Non-Null Count  Dtype  \n",
      "---  ------                 --------------  -----  \n",
      " 0   id                     59400 non-null  int64  \n",
      " 1   amount_tsh             59400 non-null  float64\n",
      " 2   date_recorded          59400 non-null  object \n",
      " 3   funder                 55765 non-null  object \n",
      " 4   gps_height             59400 non-null  int64  \n",
      " 5   installer              55745 non-null  object \n",
      " 6   longitude              59400 non-null  float64\n",
      " 7   latitude               59400 non-null  float64\n",
      " 8   wpt_name               59400 non-null  object \n",
      " 9   num_private            59400 non-null  int64  \n",
      " 10  basin                  59400 non-null  object \n",
      " 11  subvillage             59029 non-null  object \n",
      " 12  region                 59400 non-null  object \n",
      " 13  region_code            59400 non-null  int64  \n",
      " 14  district_code          59400 non-null  int64  \n",
      " 15  lga                    59400 non-null  object \n",
      " 16  ward                   59400 non-null  object \n",
      " 17  population             59400 non-null  int64  \n",
      " 18  public_meeting         56066 non-null  object \n",
      " 19  recorded_by            59400 non-null  object \n",
      " 20  scheme_management      55523 non-null  object \n",
      " 21  scheme_name            31234 non-null  object \n",
      " 22  permit                 56344 non-null  object \n",
      " 23  construction_year      59400 non-null  int64  \n",
      " 24  extraction_type        59400 non-null  object \n",
      " 25  extraction_type_group  59400 non-null  object \n",
      " 26  extraction_type_class  59400 non-null  object \n",
      " 27  management             59400 non-null  object \n",
      " 28  management_group       59400 non-null  object \n",
      " 29  payment                59400 non-null  object \n",
      " 30  payment_type           59400 non-null  object \n",
      " 31  water_quality          59400 non-null  object \n",
      " 32  quality_group          59400 non-null  object \n",
      " 33  quantity               59400 non-null  object \n",
      " 34  quantity_group         59400 non-null  object \n",
      " 35  source                 59400 non-null  object \n",
      " 36  source_type            59400 non-null  object \n",
      " 37  source_class           59400 non-null  object \n",
      " 38  waterpoint_type        59400 non-null  object \n",
      " 39  waterpoint_type_group  59400 non-null  object \n",
      " 40  status_group           59400 non-null  object \n",
      "dtypes: float64(3), int64(7), object(31)\n",
      "memory usage: 19.0+ MB\n"
     ]
    }
   ],
   "source": [
    "df_train.info()"
   ]
  },
  {
   "cell_type": "code",
   "execution_count": 5,
   "id": "fd049103",
   "metadata": {
    "ExecuteTime": {
     "end_time": "2022-04-19T07:17:14.175701Z",
     "start_time": "2022-04-19T07:17:14.117688Z"
    },
    "scrolled": true
   },
   "outputs": [
    {
     "data": {
      "text/plain": [
       "id                           0\n",
       "amount_tsh                   0\n",
       "date_recorded                0\n",
       "funder                    3635\n",
       "gps_height                   0\n",
       "installer                 3655\n",
       "longitude                    0\n",
       "latitude                     0\n",
       "wpt_name                     0\n",
       "num_private                  0\n",
       "basin                        0\n",
       "subvillage                 371\n",
       "region                       0\n",
       "region_code                  0\n",
       "district_code                0\n",
       "lga                          0\n",
       "ward                         0\n",
       "population                   0\n",
       "public_meeting            3334\n",
       "recorded_by                  0\n",
       "scheme_management         3877\n",
       "scheme_name              28166\n",
       "permit                    3056\n",
       "construction_year            0\n",
       "extraction_type              0\n",
       "extraction_type_group        0\n",
       "extraction_type_class        0\n",
       "management                   0\n",
       "management_group             0\n",
       "payment                      0\n",
       "payment_type                 0\n",
       "water_quality                0\n",
       "quality_group                0\n",
       "quantity                     0\n",
       "quantity_group               0\n",
       "source                       0\n",
       "source_type                  0\n",
       "source_class                 0\n",
       "waterpoint_type              0\n",
       "waterpoint_type_group        0\n",
       "status_group                 0\n",
       "dtype: int64"
      ]
     },
     "execution_count": 5,
     "metadata": {},
     "output_type": "execute_result"
    }
   ],
   "source": [
    "df_train.isna().sum()"
   ]
  },
  {
   "cell_type": "code",
   "execution_count": null,
   "id": "c54c167a",
   "metadata": {
    "ExecuteTime": {
     "start_time": "2022-04-19T07:16:53.270Z"
    }
   },
   "outputs": [],
   "source": [
    "# ProfileReport(df_train)"
   ]
  },
  {
   "cell_type": "code",
   "execution_count": 6,
   "id": "aa1133f8",
   "metadata": {
    "ExecuteTime": {
     "end_time": "2022-04-19T07:17:20.703784Z",
     "start_time": "2022-04-19T07:17:20.685779Z"
    },
    "collapsed": true
   },
   "outputs": [
    {
     "data": {
      "text/plain": [
       "11    5300\n",
       "17    5011\n",
       "12    4639\n",
       "3     4379\n",
       "5     4040\n",
       "18    3324\n",
       "19    3047\n",
       "2     3024\n",
       "16    2816\n",
       "10    2640\n",
       "4     2513\n",
       "1     2201\n",
       "13    2093\n",
       "14    1979\n",
       "20    1969\n",
       "15    1808\n",
       "6     1609\n",
       "21    1583\n",
       "80    1238\n",
       "60    1025\n",
       "90     917\n",
       "7      805\n",
       "99     423\n",
       "9      390\n",
       "24     326\n",
       "8      300\n",
       "40       1\n",
       "Name: region_code, dtype: int64"
      ]
     },
     "execution_count": 6,
     "metadata": {},
     "output_type": "execute_result"
    }
   ],
   "source": [
    "df_train.region_code.value_counts()"
   ]
  },
  {
   "cell_type": "code",
   "execution_count": null,
   "id": "37009389",
   "metadata": {
    "ExecuteTime": {
     "end_time": "2022-04-19T05:54:31.600851Z",
     "start_time": "2022-04-19T05:54:31.584847Z"
    },
    "scrolled": true
   },
   "outputs": [],
   "source": [
    "df_train[df_train.population>1000].status_group.value_counts(normalize=True)"
   ]
  },
  {
   "cell_type": "markdown",
   "id": "3ec1708a",
   "metadata": {},
   "source": [
    "# Column Analysis"
   ]
  },
  {
   "cell_type": "markdown",
   "id": "69776817",
   "metadata": {},
   "source": [
    "## ID\n",
    "Too unique and spread. No good for prediction. Drop"
   ]
  },
  {
   "cell_type": "markdown",
   "id": "6abcba31",
   "metadata": {},
   "source": [
    "## amount_tsh"
   ]
  },
  {
   "cell_type": "code",
   "execution_count": 7,
   "id": "e6fec0c5",
   "metadata": {
    "ExecuteTime": {
     "end_time": "2022-04-19T07:17:42.289574Z",
     "start_time": "2022-04-19T07:17:42.277572Z"
    },
    "scrolled": false
   },
   "outputs": [
    {
     "data": {
      "text/plain": [
       "0.0         41639\n",
       "500.0        3102\n",
       "50.0         2472\n",
       "1000.0       1488\n",
       "20.0         1463\n",
       "            ...  \n",
       "8500.0          1\n",
       "6300.0          1\n",
       "220.0           1\n",
       "138000.0        1\n",
       "12.0            1\n",
       "Name: amount_tsh, Length: 98, dtype: int64"
      ]
     },
     "execution_count": 7,
     "metadata": {},
     "output_type": "execute_result"
    }
   ],
   "source": [
    "df_train.amount_tsh.value_counts()"
   ]
  },
  {
   "cell_type": "code",
   "execution_count": 8,
   "id": "886f1205",
   "metadata": {
    "ExecuteTime": {
     "end_time": "2022-04-19T07:17:42.605785Z",
     "start_time": "2022-04-19T07:17:42.590782Z"
    }
   },
   "outputs": [
    {
     "data": {
      "text/plain": [
       "0.700993265993266"
      ]
     },
     "execution_count": 8,
     "metadata": {},
     "output_type": "execute_result"
    }
   ],
   "source": [
    "(df_train.amount_tsh==0).sum()/df_train.shape[0]"
   ]
  },
  {
   "cell_type": "markdown",
   "id": "af9d445d",
   "metadata": {},
   "source": [
    "skewed. 70% zeros. **Drop?**"
   ]
  },
  {
   "cell_type": "markdown",
   "id": "6050fc56",
   "metadata": {},
   "source": [
    "### funder"
   ]
  },
  {
   "cell_type": "code",
   "execution_count": 9,
   "id": "16057252",
   "metadata": {
    "ExecuteTime": {
     "end_time": "2022-04-19T07:17:43.857364Z",
     "start_time": "2022-04-19T07:17:43.838360Z"
    },
    "scrolled": true
   },
   "outputs": [
    {
     "data": {
      "text/plain": [
       "Government Of Tanzania            0.162898\n",
       "Danida                            0.055841\n",
       "Hesawa                            0.039487\n",
       "Rwssp                             0.024639\n",
       "World Bank                        0.024191\n",
       "                                    ...   \n",
       "Tabea                             0.000018\n",
       "Sent Tho                          0.000018\n",
       "Christan Outrich                  0.000018\n",
       "Saidi Halfani                     0.000018\n",
       "Tanzania Egypt Technical Co Op    0.000018\n",
       "Name: funder, Length: 1897, dtype: float64"
      ]
     },
     "execution_count": 9,
     "metadata": {},
     "output_type": "execute_result"
    }
   ],
   "source": [
    "df_train.funder.value_counts(normalize=True)"
   ]
  },
  {
   "cell_type": "code",
   "execution_count": 10,
   "id": "e7f0aac3",
   "metadata": {
    "ExecuteTime": {
     "end_time": "2022-04-19T07:17:45.670843Z",
     "start_time": "2022-04-19T07:17:45.653839Z"
    }
   },
   "outputs": [
    {
     "data": {
      "text/plain": [
       "0.0611952861952862"
      ]
     },
     "execution_count": 10,
     "metadata": {},
     "output_type": "execute_result"
    }
   ],
   "source": [
    "df_train.funder.isna().sum()/df_train.shape[0]"
   ]
  },
  {
   "cell_type": "markdown",
   "id": "9f91ed9d",
   "metadata": {},
   "source": [
    "Missing 6% of data. Most frequent value is 16% of dataframe. 2nd is 5%.\n",
    "\n",
    "1897 unique labels. **Drop**"
   ]
  },
  {
   "cell_type": "markdown",
   "id": "b334a5a5",
   "metadata": {},
   "source": [
    "### gps_height"
   ]
  },
  {
   "cell_type": "code",
   "execution_count": 11,
   "id": "4c06f090",
   "metadata": {
    "ExecuteTime": {
     "end_time": "2022-04-19T07:17:51.230572Z",
     "start_time": "2022-04-19T07:17:51.213567Z"
    },
    "scrolled": true
   },
   "outputs": [
    {
     "data": {
      "text/plain": [
       " 0       0.344074\n",
       "-15      0.001010\n",
       "-16      0.000926\n",
       "-13      0.000926\n",
       "-20      0.000875\n",
       "           ...   \n",
       " 2285    0.000017\n",
       " 2424    0.000017\n",
       " 2552    0.000017\n",
       " 2413    0.000017\n",
       " 2385    0.000017\n",
       "Name: gps_height, Length: 2428, dtype: float64"
      ]
     },
     "execution_count": 11,
     "metadata": {},
     "output_type": "execute_result"
    }
   ],
   "source": [
    "df_train.gps_height.value_counts(normalize=True)"
   ]
  },
  {
   "cell_type": "markdown",
   "id": "fe4e8a6d",
   "metadata": {},
   "source": [
    "34% is zero. Valid values?"
   ]
  },
  {
   "cell_type": "code",
   "execution_count": 12,
   "id": "49fcafb4",
   "metadata": {
    "ExecuteTime": {
     "end_time": "2022-04-19T07:17:52.771920Z",
     "start_time": "2022-04-19T07:17:52.765918Z"
    }
   },
   "outputs": [
    {
     "data": {
      "text/plain": [
       "0.025185185185185185"
      ]
     },
     "execution_count": 12,
     "metadata": {},
     "output_type": "execute_result"
    }
   ],
   "source": [
    "(df_train.gps_height<0).sum()/df_train.shape[0]"
   ]
  },
  {
   "cell_type": "markdown",
   "id": "b73cc482",
   "metadata": {},
   "source": [
    "2.5% of gps_height is negative. 0 sounds like a valid value. Lakes?"
   ]
  },
  {
   "cell_type": "markdown",
   "id": "977e0ab8",
   "metadata": {},
   "source": [
    "### installer"
   ]
  },
  {
   "cell_type": "code",
   "execution_count": 13,
   "id": "75ad8c94",
   "metadata": {
    "ExecuteTime": {
     "end_time": "2022-04-19T07:17:56.430276Z",
     "start_time": "2022-04-19T07:17:56.413271Z"
    }
   },
   "outputs": [
    {
     "data": {
      "text/plain": [
       "DWE                           17402\n",
       "Government                     1825\n",
       "RWE                            1206\n",
       "Commu                          1060\n",
       "DANIDA                         1050\n",
       "                              ...  \n",
       "Mama Hamisa                       1\n",
       "Amadi                             1\n",
       "COW                               1\n",
       "AFRICA MUSLIM                     1\n",
       "MKONGO BUILDING CONTRACTOR        1\n",
       "Name: installer, Length: 2145, dtype: int64"
      ]
     },
     "execution_count": 13,
     "metadata": {},
     "output_type": "execute_result"
    }
   ],
   "source": [
    "df_train.installer.value_counts()"
   ]
  },
  {
   "cell_type": "markdown",
   "id": "5e8dfa45",
   "metadata": {},
   "source": [
    "2145 unique installers. No good way to bin it. OHE -> 2100 new columns to manage. **Drop**"
   ]
  },
  {
   "cell_type": "markdown",
   "id": "ac2781bb",
   "metadata": {},
   "source": [
    "### latitude & longitude"
   ]
  },
  {
   "cell_type": "code",
   "execution_count": null,
   "id": "3467d026",
   "metadata": {},
   "outputs": [],
   "source": []
  },
  {
   "cell_type": "code",
   "execution_count": null,
   "id": "f25d3c4a",
   "metadata": {},
   "outputs": [],
   "source": []
  },
  {
   "cell_type": "code",
   "execution_count": null,
   "id": "19b5d8c8",
   "metadata": {},
   "outputs": [],
   "source": []
  },
  {
   "cell_type": "code",
   "execution_count": null,
   "id": "547ad307",
   "metadata": {},
   "outputs": [],
   "source": []
  },
  {
   "cell_type": "code",
   "execution_count": null,
   "id": "e9001687",
   "metadata": {},
   "outputs": [],
   "source": []
  },
  {
   "cell_type": "code",
   "execution_count": null,
   "id": "8efe1866",
   "metadata": {},
   "outputs": [],
   "source": []
  },
  {
   "cell_type": "code",
   "execution_count": null,
   "id": "3e535c9c",
   "metadata": {},
   "outputs": [],
   "source": []
  },
  {
   "cell_type": "code",
   "execution_count": null,
   "id": "1db31cc6",
   "metadata": {},
   "outputs": [],
   "source": []
  },
  {
   "cell_type": "markdown",
   "id": "72bdc915",
   "metadata": {},
   "source": [
    "### wpt_name"
   ]
  },
  {
   "cell_type": "code",
   "execution_count": 14,
   "id": "870a86e1",
   "metadata": {
    "ExecuteTime": {
     "end_time": "2022-04-19T07:18:00.528349Z",
     "start_time": "2022-04-19T07:18:00.501343Z"
    }
   },
   "outputs": [
    {
     "data": {
      "text/plain": [
       "none                        0.059983\n",
       "Shuleni                     0.029428\n",
       "Zahanati                    0.013973\n",
       "Msikitini                   0.009007\n",
       "Kanisani                    0.005438\n",
       "                              ...   \n",
       "Kwa Uromi                   0.000017\n",
       "Kwa Ligwea                  0.000017\n",
       "Kwa Bahati Buhele           0.000017\n",
       "Maruvango Primary School    0.000017\n",
       "Kipeke                      0.000017\n",
       "Name: wpt_name, Length: 37400, dtype: float64"
      ]
     },
     "execution_count": 14,
     "metadata": {},
     "output_type": "execute_result"
    }
   ],
   "source": [
    "df_train.wpt_name.value_counts(normalize=True)"
   ]
  },
  {
   "cell_type": "markdown",
   "id": "f604b256",
   "metadata": {},
   "source": [
    "37000 distinct values. too spread out. **Drop**"
   ]
  },
  {
   "cell_type": "markdown",
   "id": "65bf8505",
   "metadata": {},
   "source": [
    "### num_private"
   ]
  },
  {
   "cell_type": "code",
   "execution_count": 15,
   "id": "246d4570",
   "metadata": {
    "ExecuteTime": {
     "end_time": "2022-04-19T07:18:02.356733Z",
     "start_time": "2022-04-19T07:18:02.341730Z"
    }
   },
   "outputs": [
    {
     "data": {
      "text/plain": [
       "0      0.987256\n",
       "6      0.001364\n",
       "1      0.001229\n",
       "5      0.000774\n",
       "8      0.000774\n",
       "         ...   \n",
       "180    0.000017\n",
       "213    0.000017\n",
       "23     0.000017\n",
       "55     0.000017\n",
       "94     0.000017\n",
       "Name: num_private, Length: 65, dtype: float64"
      ]
     },
     "execution_count": 15,
     "metadata": {},
     "output_type": "execute_result"
    }
   ],
   "source": [
    "df_train.num_private.value_counts(normalize=True)"
   ]
  },
  {
   "cell_type": "markdown",
   "id": "c7c24f47",
   "metadata": {},
   "source": [
    "*Heavily* skewed. 98.7% zeroes. Next closest value at 0.1%.  **Drop**"
   ]
  },
  {
   "cell_type": "markdown",
   "id": "46d92cb5",
   "metadata": {},
   "source": [
    "### basin"
   ]
  },
  {
   "cell_type": "code",
   "execution_count": 16,
   "id": "fc2a893e",
   "metadata": {
    "ExecuteTime": {
     "end_time": "2022-04-19T07:18:03.875401Z",
     "start_time": "2022-04-19T07:18:03.853396Z"
    },
    "scrolled": true
   },
   "outputs": [
    {
     "data": {
      "text/plain": [
       "Lake Victoria              0.172525\n",
       "Pangani                    0.150505\n",
       "Rufiji                     0.134276\n",
       "Internal                   0.131061\n",
       "Lake Tanganyika            0.108283\n",
       "Wami / Ruvu                0.100791\n",
       "Lake Nyasa                 0.085606\n",
       "Ruvuma / Southern Coast    0.075640\n",
       "Lake Rukwa                 0.041313\n",
       "Name: basin, dtype: float64"
      ]
     },
     "execution_count": 16,
     "metadata": {},
     "output_type": "execute_result"
    }
   ],
   "source": [
    "df_train.basin.value_counts(normalize=True)"
   ]
  },
  {
   "cell_type": "code",
   "execution_count": 17,
   "id": "87b3751f",
   "metadata": {
    "ExecuteTime": {
     "end_time": "2022-04-19T07:18:04.391736Z",
     "start_time": "2022-04-19T07:18:04.373733Z"
    }
   },
   "outputs": [
    {
     "data": {
      "text/plain": [
       "Lake Victoria              10248\n",
       "Pangani                     8940\n",
       "Rufiji                      7976\n",
       "Internal                    7785\n",
       "Lake Tanganyika             6432\n",
       "Wami / Ruvu                 5987\n",
       "Lake Nyasa                  5085\n",
       "Ruvuma / Southern Coast     4493\n",
       "Lake Rukwa                  2454\n",
       "Name: basin, dtype: int64"
      ]
     },
     "execution_count": 17,
     "metadata": {},
     "output_type": "execute_result"
    }
   ],
   "source": [
    "df_train.basin.value_counts()"
   ]
  },
  {
   "cell_type": "code",
   "execution_count": 19,
   "id": "503a5055",
   "metadata": {
    "ExecuteTime": {
     "end_time": "2022-04-19T07:18:17.682376Z",
     "start_time": "2022-04-19T07:18:17.518347Z"
    }
   },
   "outputs": [
    {
     "data": {
      "text/plain": [
       "<AxesSubplot:>"
      ]
     },
     "execution_count": 19,
     "metadata": {},
     "output_type": "execute_result"
    },
    {
     "data": {
      "image/png": "[encoded data removed]",
      "text/plain": [
       "<Figure size 792x576 with 1 Axes>"
      ]
     },
     "metadata": {},
     "output_type": "display_data"
    }
   ],
   "source": [
    "df_train.basin.value_counts().plot(kind='bar')"
   ]
  },
  {
   "cell_type": "markdown",
   "id": "56dd70a6",
   "metadata": {},
   "source": [
    "Perfect. **OHE**"
   ]
  },
  {
   "cell_type": "markdown",
   "id": "aedfafd8",
   "metadata": {},
   "source": [
    "### sub-village"
   ]
  },
  {
   "cell_type": "code",
   "execution_count": 21,
   "id": "5dd8df0d",
   "metadata": {
    "ExecuteTime": {
     "end_time": "2022-04-19T07:20:56.994505Z",
     "start_time": "2022-04-19T07:20:56.975487Z"
    }
   },
   "outputs": [
    {
     "data": {
      "text/plain": [
       "Madukani      508\n",
       "Shuleni       506\n",
       "Majengo       502\n",
       "Kati          373\n",
       "Mtakuja       262\n",
       "             ... \n",
       "Ng'Hona         1\n",
       "Isagalla A      1\n",
       "Usawini         1\n",
       "Kigore          1\n",
       "Kipeke          1\n",
       "Name: subvillage, Length: 19287, dtype: int64"
      ]
     },
     "execution_count": 21,
     "metadata": {},
     "output_type": "execute_result"
    }
   ],
   "source": [
    "df_train.subvillage.value_counts()"
   ]
  },
  {
   "cell_type": "markdown",
   "id": "de368f1e",
   "metadata": {},
   "source": [
    "19k distinct values. **drop**"
   ]
  },
  {
   "cell_type": "markdown",
   "id": "e4bb61cd",
   "metadata": {},
   "source": [
    "### Region & Region Code"
   ]
  },
  {
   "cell_type": "code",
   "execution_count": 26,
   "id": "bb957bf2",
   "metadata": {
    "ExecuteTime": {
     "end_time": "2022-04-19T07:21:38.720144Z",
     "start_time": "2022-04-19T07:21:38.710141Z"
    }
   },
   "outputs": [
    {
     "data": {
      "text/plain": [
       "Iringa           5294\n",
       "Shinyanga        4982\n",
       "Mbeya            4639\n",
       "Kilimanjaro      4379\n",
       "Morogoro         4006\n",
       "Arusha           3350\n",
       "Kagera           3316\n",
       "Mwanza           3102\n",
       "Kigoma           2816\n",
       "Ruvuma           2640\n",
       "Pwani            2635\n",
       "Tanga            2547\n",
       "Dodoma           2201\n",
       "Singida          2093\n",
       "Mara             1969\n",
       "Tabora           1959\n",
       "Rukwa            1808\n",
       "Mtwara           1730\n",
       "Manyara          1583\n",
       "Lindi            1546\n",
       "Dar es Salaam     805\n",
       "Name: region, dtype: int64"
      ]
     },
     "execution_count": 26,
     "metadata": {},
     "output_type": "execute_result"
    }
   ],
   "source": [
    "df_train.region.value_counts()"
   ]
  },
  {
   "cell_type": "code",
   "execution_count": 27,
   "id": "a2b81f0d",
   "metadata": {
    "ExecuteTime": {
     "end_time": "2022-04-19T07:22:39.833714Z",
     "start_time": "2022-04-19T07:22:39.822721Z"
    }
   },
   "outputs": [
    {
     "data": {
      "text/plain": [
       "11    5300\n",
       "17    5011\n",
       "12    4639\n",
       "3     4379\n",
       "5     4040\n",
       "18    3324\n",
       "19    3047\n",
       "2     3024\n",
       "16    2816\n",
       "10    2640\n",
       "4     2513\n",
       "1     2201\n",
       "13    2093\n",
       "14    1979\n",
       "20    1969\n",
       "15    1808\n",
       "6     1609\n",
       "21    1583\n",
       "80    1238\n",
       "60    1025\n",
       "90     917\n",
       "7      805\n",
       "99     423\n",
       "9      390\n",
       "24     326\n",
       "8      300\n",
       "40       1\n",
       "Name: region_code, dtype: int64"
      ]
     },
     "execution_count": 27,
     "metadata": {},
     "output_type": "execute_result"
    }
   ],
   "source": [
    "df_train.region_code.value_counts()"
   ]
  },
  {
   "cell_type": "markdown",
   "id": "4fc6e40d",
   "metadata": {},
   "source": [
    "Prefer region. Fewer columns. More readable. Might be able to cross lookup with geojson files as well. \n",
    "\n",
    "**OHE** region. **Drop** region_code"
   ]
  },
  {
   "cell_type": "markdown",
   "id": "c4e51afa",
   "metadata": {},
   "source": [
    "### District Code"
   ]
  },
  {
   "cell_type": "code",
   "execution_count": 31,
   "id": "abba397e",
   "metadata": {
    "ExecuteTime": {
     "end_time": "2022-04-19T07:25:28.400027Z",
     "start_time": "2022-04-19T07:25:28.199983Z"
    },
    "scrolled": true
   },
   "outputs": [
    {
     "data": {
      "text/plain": [
       "<AxesSubplot:>"
      ]
     },
     "execution_count": 31,
     "metadata": {},
     "output_type": "execute_result"
    },
    {
     "data": {
      "image/png": "[encoded data removed]",
      "text/plain": [
       "<Figure size 792x576 with 1 Axes>"
      ]
     },
     "metadata": {},
     "output_type": "display_data"
    }
   ],
   "source": [
    "df_train.district_code.value_counts().plot(kind='bar')"
   ]
  },
  {
   "cell_type": "code",
   "execution_count": 36,
   "id": "1944d839",
   "metadata": {
    "ExecuteTime": {
     "end_time": "2022-04-19T07:28:34.854586Z",
     "start_time": "2022-04-19T07:28:34.847584Z"
    }
   },
   "outputs": [
    {
     "data": {
      "text/plain": [
       "20"
      ]
     },
     "execution_count": 36,
     "metadata": {},
     "output_type": "execute_result"
    }
   ],
   "source": [
    "len(df_train.district_code.unique())"
   ]
  },
  {
   "cell_type": "markdown",
   "id": "999d3baf",
   "metadata": {},
   "source": [
    "**OHE** to keep or **Drop**? Both seem fairly viable\n",
    "Don't use as numerical. Although it does look like smaller the number the more frequent it is used."
   ]
  },
  {
   "cell_type": "markdown",
   "id": "cf805154",
   "metadata": {},
   "source": [
    "### lga"
   ]
  },
  {
   "cell_type": "code",
   "execution_count": 39,
   "id": "2b615dcf",
   "metadata": {
    "ExecuteTime": {
     "end_time": "2022-04-19T07:37:04.636498Z",
     "start_time": "2022-04-19T07:37:04.623495Z"
    },
    "scrolled": false
   },
   "outputs": [
    {
     "data": {
      "text/plain": [
       "Njombe          0.042138\n",
       "Arusha Rural    0.021077\n",
       "Moshi Rural     0.021061\n",
       "Bariadi         0.019815\n",
       "Rungwe          0.018620\n",
       "                  ...   \n",
       "Moshi Urban     0.001330\n",
       "Kigoma Urban    0.001195\n",
       "Arusha Urban    0.001061\n",
       "Lindi Urban     0.000354\n",
       "Nyamagana       0.000017\n",
       "Name: lga, Length: 125, dtype: float64"
      ]
     },
     "execution_count": 39,
     "metadata": {},
     "output_type": "execute_result"
    }
   ],
   "source": [
    "df_train.lga.value_counts(normalize=True)"
   ]
  },
  {
   "cell_type": "markdown",
   "id": "01ca337e",
   "metadata": {},
   "source": [
    "125 distinct values. Not worth the extra computation after OHE. **Drop**"
   ]
  },
  {
   "cell_type": "markdown",
   "id": "e747cdaa",
   "metadata": {},
   "source": [
    "### ward"
   ]
  },
  {
   "cell_type": "code",
   "execution_count": 40,
   "id": "ad7cf0df",
   "metadata": {
    "ExecuteTime": {
     "end_time": "2022-04-19T07:38:05.966374Z",
     "start_time": "2022-04-19T07:38:05.952372Z"
    }
   },
   "outputs": [
    {
     "data": {
      "text/plain": [
       "Igosi              0.005168\n",
       "Imalinyi           0.004242\n",
       "Siha Kati          0.003906\n",
       "Mdandu             0.003889\n",
       "Nduruma            0.003653\n",
       "                     ...   \n",
       "Ifinga             0.000017\n",
       "Ukata              0.000017\n",
       "Kapilula           0.000017\n",
       "Sungwisi           0.000017\n",
       "Uwanja wa Ndege    0.000017\n",
       "Name: ward, Length: 2092, dtype: float64"
      ]
     },
     "execution_count": 40,
     "metadata": {},
     "output_type": "execute_result"
    }
   ],
   "source": [
    "df_train.ward.value_counts(normalize=True)"
   ]
  },
  {
   "cell_type": "markdown",
   "id": "2d79d558",
   "metadata": {},
   "source": [
    "2092 distinct values. Not worth the extra computation after OHE. **Drop**"
   ]
  },
  {
   "cell_type": "markdown",
   "id": "57acbea0",
   "metadata": {},
   "source": [
    "### population"
   ]
  },
  {
   "cell_type": "code",
   "execution_count": 69,
   "id": "17619fbc",
   "metadata": {
    "ExecuteTime": {
     "end_time": "2022-04-19T07:51:22.838001Z",
     "start_time": "2022-04-19T07:51:22.823998Z"
    },
    "scrolled": false
   },
   "outputs": [
    {
     "data": {
      "text/plain": [
       "0       21381\n",
       "1        7025\n",
       "200      1940\n",
       "150      1892\n",
       "250      1681\n",
       "        ...  \n",
       "3241        1\n",
       "1960        1\n",
       "1685        1\n",
       "2248        1\n",
       "1439        1\n",
       "Name: population, Length: 1049, dtype: int64"
      ]
     },
     "execution_count": 69,
     "metadata": {},
     "output_type": "execute_result"
    }
   ],
   "source": [
    "df_train.population.value_counts()"
   ]
  },
  {
   "cell_type": "code",
   "execution_count": 70,
   "id": "d2c4bc33",
   "metadata": {
    "ExecuteTime": {
     "end_time": "2022-04-19T07:51:30.538034Z",
     "start_time": "2022-04-19T07:51:30.528032Z"
    },
    "scrolled": false
   },
   "outputs": [
    {
     "data": {
      "text/plain": [
       "0       0.359949\n",
       "1       0.118266\n",
       "200     0.032660\n",
       "150     0.031852\n",
       "250     0.028300\n",
       "          ...   \n",
       "3241    0.000017\n",
       "1960    0.000017\n",
       "1685    0.000017\n",
       "2248    0.000017\n",
       "1439    0.000017\n",
       "Name: population, Length: 1049, dtype: float64"
      ]
     },
     "execution_count": 70,
     "metadata": {},
     "output_type": "execute_result"
    }
   ],
   "source": [
    "df_train.population.value_counts(normalize=True)"
   ]
  },
  {
   "cell_type": "markdown",
   "id": "5ebcaf5c",
   "metadata": {},
   "source": [
    "Nearly 36% of well water sites have a population of **0** around it?? Find that hard to believe"
   ]
  },
  {
   "cell_type": "code",
   "execution_count": 64,
   "id": "238883d1",
   "metadata": {
    "ExecuteTime": {
     "end_time": "2022-04-19T07:49:37.628224Z",
     "start_time": "2022-04-19T07:49:37.617221Z"
    }
   },
   "outputs": [
    {
     "data": {
      "text/plain": [
       "count    59400.000000\n",
       "mean       179.909983\n",
       "std        471.482176\n",
       "min          0.000000\n",
       "25%          0.000000\n",
       "50%         25.000000\n",
       "75%        215.000000\n",
       "max      30500.000000\n",
       "Name: population, dtype: float64"
      ]
     },
     "execution_count": 64,
     "metadata": {},
     "output_type": "execute_result"
    }
   ],
   "source": [
    "df_train.population.describe()"
   ]
  },
  {
   "cell_type": "code",
   "execution_count": 67,
   "id": "7a153315",
   "metadata": {
    "ExecuteTime": {
     "end_time": "2022-04-19T07:50:32.985733Z",
     "start_time": "2022-04-19T07:50:32.824696Z"
    },
    "scrolled": false
   },
   "outputs": [
    {
     "data": {
      "text/plain": [
       "<AxesSubplot:>"
      ]
     },
     "execution_count": 67,
     "metadata": {},
     "output_type": "execute_result"
    },
    {
     "data": {
      "image/png": "[encoded data removed]",
      "text/plain": [
       "<Figure size 1080x576 with 1 Axes>"
      ]
     },
     "metadata": {},
     "output_type": "display_data"
    }
   ],
   "source": [
    "df_train.population.plot(kind='line',figsize=(15,8))"
   ]
  },
  {
   "cell_type": "markdown",
   "id": "1ceef9d5",
   "metadata": {
    "ExecuteTime": {
     "end_time": "2022-04-19T07:41:05.359357Z",
     "start_time": "2022-04-19T07:41:05.328350Z"
    }
   },
   "source": [
    "Not comfortable imputing zeroes (a third of our dataset) in this scenario. Plus there is always a possibility that the wells may not have a population around them.\n",
    "Median = 25\n",
    "Number of wells with 0 pop = 21381\n",
    "\n",
    "If we impute in the median for these zero values"
   ]
  },
  {
   "cell_type": "code",
   "execution_count": 73,
   "id": "8f7d0c89",
   "metadata": {
    "ExecuteTime": {
     "end_time": "2022-04-19T07:54:08.328181Z",
     "start_time": "2022-04-19T07:54:08.312187Z"
    },
    "scrolled": true
   },
   "outputs": [
    {
     "data": {
      "text/plain": [
       "0.050017999087272697"
      ]
     },
     "execution_count": 73,
     "metadata": {},
     "output_type": "execute_result"
    }
   ],
   "source": [
    "25*21381/df_train.population.sum()"
   ]
  },
  {
   "cell_type": "markdown",
   "id": "5eea0d72",
   "metadata": {},
   "source": [
    "We'd be increasing the overall population of the entire dataset by 5%. **Drop**"
   ]
  },
  {
   "cell_type": "markdown",
   "id": "b9fb8ef4",
   "metadata": {},
   "source": [
    "### public_meeting"
   ]
  },
  {
   "cell_type": "code",
   "execution_count": 60,
   "id": "b8f8c6e9",
   "metadata": {
    "ExecuteTime": {
     "end_time": "2022-04-19T07:47:55.157933Z",
     "start_time": "2022-04-19T07:47:55.152932Z"
    },
    "scrolled": true
   },
   "outputs": [
    {
     "data": {
      "text/plain": [
       "array([True, nan, False], dtype=object)"
      ]
     },
     "execution_count": 60,
     "metadata": {},
     "output_type": "execute_result"
    }
   ],
   "source": [
    "df_train.public_meeting.unique()"
   ]
  },
  {
   "cell_type": "code",
   "execution_count": 61,
   "id": "6008be88",
   "metadata": {
    "ExecuteTime": {
     "end_time": "2022-04-19T07:47:56.755272Z",
     "start_time": "2022-04-19T07:47:56.736268Z"
    }
   },
   "outputs": [
    {
     "data": {
      "text/plain": [
       "True     51011\n",
       "False     5055\n",
       "Name: public_meeting, dtype: int64"
      ]
     },
     "execution_count": 61,
     "metadata": {},
     "output_type": "execute_result"
    }
   ],
   "source": [
    "df_train.public_meeting.value_counts()"
   ]
  },
  {
   "cell_type": "markdown",
   "id": "4809133d",
   "metadata": {},
   "source": [
    "**Impute** nan with mode (True). Binary, no need to **OHE**"
   ]
  },
  {
   "cell_type": "markdown",
   "id": "e44a826d",
   "metadata": {},
   "source": [
    "### scheme_management"
   ]
  },
  {
   "cell_type": "code",
   "execution_count": 77,
   "id": "ff34020d",
   "metadata": {
    "ExecuteTime": {
     "end_time": "2022-04-19T07:56:10.308756Z",
     "start_time": "2022-04-19T07:56:10.288751Z"
    },
    "scrolled": true
   },
   "outputs": [
    {
     "data": {
      "text/plain": [
       "0.06526936026936027"
      ]
     },
     "execution_count": 77,
     "metadata": {},
     "output_type": "execute_result"
    }
   ],
   "source": [
    "df_train.scheme_management.isna().sum()/df_train.shape[0]"
   ]
  },
  {
   "cell_type": "markdown",
   "id": "e79a3069",
   "metadata": {},
   "source": [
    "6% missing data"
   ]
  },
  {
   "cell_type": "code",
   "execution_count": 81,
   "id": "50b3a121",
   "metadata": {
    "ExecuteTime": {
     "end_time": "2022-04-19T07:56:42.871055Z",
     "start_time": "2022-04-19T07:56:42.857051Z"
    }
   },
   "outputs": [
    {
     "data": {
      "text/plain": [
       "VWC                 0.662662\n",
       "WUG                 0.093763\n",
       "Water authority     0.056787\n",
       "WUA                 0.051924\n",
       "Water Board         0.049493\n",
       "Parastatal          0.030258\n",
       "Private operator    0.019145\n",
       "Company             0.019109\n",
       "Other               0.013796\n",
       "SWC                 0.001747\n",
       "Trust               0.001297\n",
       "None                0.000018\n",
       "Name: scheme_management, dtype: float64"
      ]
     },
     "execution_count": 81,
     "metadata": {},
     "output_type": "execute_result"
    }
   ],
   "source": [
    "df_train.scheme_management.value_counts(normalize=True)"
   ]
  },
  {
   "cell_type": "markdown",
   "id": "7651befa",
   "metadata": {},
   "source": [
    "**Impute** with mode. **OHE**"
   ]
  },
  {
   "cell_type": "markdown",
   "id": "a24941c0",
   "metadata": {},
   "source": [
    "### scheme_name"
   ]
  },
  {
   "cell_type": "code",
   "execution_count": 83,
   "id": "e844b654",
   "metadata": {
    "ExecuteTime": {
     "end_time": "2022-04-19T07:59:49.229159Z",
     "start_time": "2022-04-19T07:59:49.209155Z"
    }
   },
   "outputs": [
    {
     "data": {
      "text/plain": [
       "0.4741750841750842"
      ]
     },
     "execution_count": 83,
     "metadata": {},
     "output_type": "execute_result"
    }
   ],
   "source": [
    "df_train.scheme_name.isna().sum()/df_train.shape[0]"
   ]
  },
  {
   "cell_type": "code",
   "execution_count": 85,
   "id": "431a3fd6",
   "metadata": {
    "ExecuteTime": {
     "end_time": "2022-04-19T08:00:49.442125Z",
     "start_time": "2022-04-19T08:00:49.433132Z"
    },
    "scrolled": true
   },
   "outputs": [
    {
     "data": {
      "text/plain": [
       "K                            682\n",
       "None                         644\n",
       "Borehole                     546\n",
       "Chalinze wate                405\n",
       "M                            400\n",
       "                            ... \n",
       "Matiganjola hydram Scheme      1\n",
       "BL K puchini Sisters           1\n",
       "AMRSF                          1\n",
       "Namba 7 dam                    1\n",
       "Halmashauri                    1\n",
       "Name: scheme_name, Length: 2696, dtype: int64"
      ]
     },
     "execution_count": 85,
     "metadata": {},
     "output_type": "execute_result"
    }
   ],
   "source": [
    "df_train.scheme_name.value_counts()"
   ]
  },
  {
   "cell_type": "markdown",
   "id": "1c090eb7",
   "metadata": {},
   "source": [
    "47% missing values and 2700 distinct labels. **Drop**"
   ]
  },
  {
   "cell_type": "code",
   "execution_count": null,
   "id": "ccea8e4a",
   "metadata": {},
   "outputs": [],
   "source": []
  },
  {
   "cell_type": "markdown",
   "id": "d4c78550",
   "metadata": {},
   "source": [
    "### permit"
   ]
  },
  {
   "cell_type": "code",
   "execution_count": 88,
   "id": "264c652a",
   "metadata": {
    "ExecuteTime": {
     "end_time": "2022-04-19T08:01:53.339451Z",
     "start_time": "2022-04-19T08:01:53.321450Z"
    },
    "scrolled": true
   },
   "outputs": [
    {
     "data": {
      "text/plain": [
       "0.05144781144781145"
      ]
     },
     "execution_count": 88,
     "metadata": {},
     "output_type": "execute_result"
    }
   ],
   "source": [
    "df_train.permit.isna().sum()/df_train.shape[0]"
   ]
  },
  {
   "cell_type": "markdown",
   "id": "2d16d1a4",
   "metadata": {},
   "source": [
    "5% data missing"
   ]
  },
  {
   "cell_type": "code",
   "execution_count": 89,
   "id": "51dd7bf5",
   "metadata": {
    "ExecuteTime": {
     "end_time": "2022-04-19T08:02:10.886033Z",
     "start_time": "2022-04-19T08:02:10.873030Z"
    }
   },
   "outputs": [
    {
     "data": {
      "text/plain": [
       "True     38852\n",
       "False    17492\n",
       "Name: permit, dtype: int64"
      ]
     },
     "execution_count": 89,
     "metadata": {},
     "output_type": "execute_result"
    }
   ],
   "source": [
    "df_train.permit.value_counts()"
   ]
  },
  {
   "cell_type": "markdown",
   "id": "801f46df",
   "metadata": {},
   "source": [
    "**Impute** with mode ('True'). Binary, no need to OHE"
   ]
  },
  {
   "cell_type": "markdown",
   "id": "0048edda",
   "metadata": {},
   "source": [
    "### construction_year"
   ]
  },
  {
   "cell_type": "code",
   "execution_count": 94,
   "id": "a20b255d",
   "metadata": {
    "ExecuteTime": {
     "end_time": "2022-04-19T08:05:17.295875Z",
     "start_time": "2022-04-19T08:05:17.281881Z"
    }
   },
   "outputs": [
    {
     "data": {
      "text/plain": [
       "0.34863636363636363"
      ]
     },
     "execution_count": 94,
     "metadata": {},
     "output_type": "execute_result"
    }
   ],
   "source": [
    "(df_train.construction_year==0).sum()/df_train.shape[0]"
   ]
  },
  {
   "cell_type": "markdown",
   "id": "564c6388",
   "metadata": {},
   "source": [
    "34.8% of data is filled with zeroes"
   ]
  },
  {
   "cell_type": "code",
   "execution_count": 95,
   "id": "c280008f",
   "metadata": {
    "ExecuteTime": {
     "end_time": "2022-04-19T08:09:43.815755Z",
     "start_time": "2022-04-19T08:09:43.802753Z"
    },
    "scrolled": true
   },
   "outputs": [
    {
     "data": {
      "text/plain": [
       "1986.0"
      ]
     },
     "execution_count": 95,
     "metadata": {},
     "output_type": "execute_result"
    }
   ],
   "source": [
    "df_train.construction_year.median()"
   ]
  },
  {
   "cell_type": "code",
   "execution_count": 122,
   "id": "de823639",
   "metadata": {
    "ExecuteTime": {
     "end_time": "2022-04-19T08:25:12.400312Z",
     "start_time": "2022-04-19T08:25:12.378307Z"
    }
   },
   "outputs": [
    {
     "data": {
      "text/plain": [
       "2000.0"
      ]
     },
     "execution_count": 122,
     "metadata": {},
     "output_type": "execute_result"
    }
   ],
   "source": [
    "df_train[df_train.construction_year>0].construction_year.median()"
   ]
  },
  {
   "cell_type": "code",
   "execution_count": 118,
   "id": "9eeef870",
   "metadata": {
    "ExecuteTime": {
     "end_time": "2022-04-19T08:20:39.961685Z",
     "start_time": "2022-04-19T08:20:39.946682Z"
    }
   },
   "outputs": [
    {
     "data": {
      "text/plain": [
       "functional                 0.509682\n",
       "non functional             0.403931\n",
       "functional needs repair    0.086388\n",
       "Name: status_group, dtype: float64"
      ]
     },
     "execution_count": 118,
     "metadata": {},
     "output_type": "execute_result"
    }
   ],
   "source": [
    "df_train[(df_train.construction_year==0)].status_group.value_counts(normalize=True)"
   ]
  },
  {
   "cell_type": "code",
   "execution_count": 125,
   "id": "c71171b4",
   "metadata": {
    "ExecuteTime": {
     "end_time": "2022-04-19T08:26:26.146032Z",
     "start_time": "2022-04-19T08:26:26.107023Z"
    },
    "scrolled": false
   },
   "outputs": [
    {
     "name": "stdout",
     "output_type": "stream",
     "text": [
      "----------------------------------------------------------------\n",
      "Constructed between 1960 and 1970: Total count 436\n",
      "non functional             0.614679\n",
      "functional                 0.302752\n",
      "functional needs repair    0.082569\n",
      "Name: status_group, dtype: float64\n",
      "----------------------------------------------------------------\n",
      "Constructed between 1970 and 1980: Total count 3995\n",
      "non functional             0.589487\n",
      "functional                 0.327159\n",
      "functional needs repair    0.083354\n",
      "Name: status_group, dtype: float64\n",
      "----------------------------------------------------------------\n",
      "Constructed between 1980 and 1990: Total count 4767\n",
      "non functional             0.512272\n",
      "functional                 0.411580\n",
      "functional needs repair    0.076149\n",
      "Name: status_group, dtype: float64\n",
      "----------------------------------------------------------------\n",
      "Constructed between 1990 and 2000: Total count 6724\n",
      "functional                 0.546252\n",
      "non functional             0.385485\n",
      "functional needs repair    0.068263\n",
      "Name: status_group, dtype: float64\n",
      "----------------------------------------------------------------\n",
      "Constructed between 2000 and 2010: Total count 13239\n",
      "functional                 0.657905\n",
      "non functional             0.278571\n",
      "functional needs repair    0.063524\n",
      "Name: status_group, dtype: float64\n",
      "----------------------------------------------------------------\n",
      "Constructed between 2010 and 2020: Total count 2516\n",
      "functional                 0.703895\n",
      "non functional             0.244436\n",
      "functional needs repair    0.051669\n",
      "Name: status_group, dtype: float64\n"
     ]
    }
   ],
   "source": [
    "for year in [1960, 1970, 1980, 1990, 2000, 2010]:\n",
    "    print('-'*64)\n",
    "    #subset by decade\n",
    "    sub = df_train[(df_train.construction_year > year) &\n",
    "                   (df_train.construction_year < year+10)]\n",
    "    print(f'Constructed between {year} and {year+10}: Total count {sub.shape[0]}')\n",
    "    print(sub.status_group.value_counts(normalize=True))"
   ]
  },
  {
   "cell_type": "markdown",
   "id": "26c3827f",
   "metadata": {},
   "source": [
    "Target statistics for homes with a construction year of zero are most similar to 1990-2000s.\\\n",
    "**Replace** 0 with median (2000)"
   ]
  },
  {
   "cell_type": "markdown",
   "id": "63c953db",
   "metadata": {},
   "source": [
    "### Extraction_type and Extraction_type_group"
   ]
  },
  {
   "cell_type": "markdown",
   "id": "9618090c",
   "metadata": {},
   "source": [
    "Almost identical"
   ]
  },
  {
   "cell_type": "code",
   "execution_count": 134,
   "id": "35eaa63d",
   "metadata": {
    "ExecuteTime": {
     "end_time": "2022-04-19T08:30:24.530994Z",
     "start_time": "2022-04-19T08:30:24.522991Z"
    },
    "scrolled": true
   },
   "outputs": [
    {
     "data": {
      "text/plain": [
       "gravity                      0.450842\n",
       "nira/tanira                  0.137273\n",
       "other                        0.108249\n",
       "submersible                  0.080202\n",
       "swn 80                       0.061785\n",
       "mono                         0.048232\n",
       "india mark ii                0.040404\n",
       "afridev                      0.029798\n",
       "ksb                          0.023822\n",
       "other - rope pump            0.007593\n",
       "other - swn 81               0.003855\n",
       "windmill                     0.001970\n",
       "india mark iii               0.001650\n",
       "cemo                         0.001515\n",
       "other - play pump            0.001431\n",
       "walimi                       0.000808\n",
       "climax                       0.000539\n",
       "other - mkulima/shinyanga    0.000034\n",
       "Name: extraction_type, dtype: float64"
      ]
     },
     "execution_count": 134,
     "metadata": {},
     "output_type": "execute_result"
    }
   ],
   "source": [
    "df_train.extraction_type.value_counts(normalize=True)"
   ]
  },
  {
   "cell_type": "code",
   "execution_count": 139,
   "id": "b9b27495",
   "metadata": {
    "ExecuteTime": {
     "end_time": "2022-04-19T08:32:22.350215Z",
     "start_time": "2022-04-19T08:32:22.139167Z"
    },
    "scrolled": false
   },
   "outputs": [
    {
     "data": {
      "text/plain": [
       "<AxesSubplot:>"
      ]
     },
     "execution_count": 139,
     "metadata": {},
     "output_type": "execute_result"
    },
    {
     "data": {
      "image/png": "[encoded data removed]",
      "text/plain": [
       "<Figure size 792x576 with 1 Axes>"
      ]
     },
     "metadata": {},
     "output_type": "display_data"
    }
   ],
   "source": [
    "df_train.extraction_type.value_counts().plot(kind='bar')"
   ]
  },
  {
   "cell_type": "code",
   "execution_count": 132,
   "id": "1bf4c0fa",
   "metadata": {
    "ExecuteTime": {
     "end_time": "2022-04-19T08:30:21.627864Z",
     "start_time": "2022-04-19T08:30:21.610861Z"
    },
    "scrolled": true
   },
   "outputs": [
    {
     "data": {
      "text/plain": [
       "gravity            0.450842\n",
       "nira/tanira        0.137273\n",
       "other              0.108249\n",
       "submersible        0.104024\n",
       "swn 80             0.061785\n",
       "mono               0.048232\n",
       "india mark ii      0.040404\n",
       "afridev            0.029798\n",
       "rope pump          0.007593\n",
       "other handpump     0.006128\n",
       "other motorpump    0.002054\n",
       "wind-powered       0.001970\n",
       "india mark iii     0.001650\n",
       "Name: extraction_type_group, dtype: float64"
      ]
     },
     "execution_count": 132,
     "metadata": {},
     "output_type": "execute_result"
    }
   ],
   "source": [
    "df_train.extraction_type_group.value_counts(normalize=True)"
   ]
  },
  {
   "cell_type": "code",
   "execution_count": 138,
   "id": "21de4297",
   "metadata": {
    "ExecuteTime": {
     "end_time": "2022-04-19T08:32:10.426834Z",
     "start_time": "2022-04-19T08:32:10.258796Z"
    },
    "scrolled": false
   },
   "outputs": [
    {
     "data": {
      "text/plain": [
       "<AxesSubplot:>"
      ]
     },
     "execution_count": 138,
     "metadata": {},
     "output_type": "execute_result"
    },
    {
     "data": {
      "image/png": "[encoded data removed]",
      "text/plain": [
       "<Figure size 792x576 with 1 Axes>"
      ]
     },
     "metadata": {},
     "output_type": "display_data"
    }
   ],
   "source": [
    "df_train.extraction_type_group.value_counts().plot(kind='bar')"
   ]
  },
  {
   "cell_type": "code",
   "execution_count": 135,
   "id": "7810a55f",
   "metadata": {
    "ExecuteTime": {
     "end_time": "2022-04-19T08:30:57.753567Z",
     "start_time": "2022-04-19T08:30:57.745566Z"
    },
    "scrolled": true
   },
   "outputs": [
    {
     "data": {
      "text/plain": [
       "gravity         0.450842\n",
       "handpump        0.277037\n",
       "other           0.108249\n",
       "submersible     0.104024\n",
       "motorpump       0.050286\n",
       "rope pump       0.007593\n",
       "wind-powered    0.001970\n",
       "Name: extraction_type_class, dtype: float64"
      ]
     },
     "execution_count": 135,
     "metadata": {},
     "output_type": "execute_result"
    }
   ],
   "source": [
    "df_train.extraction_type_class.value_counts(normalize=True)"
   ]
  },
  {
   "cell_type": "code",
   "execution_count": 137,
   "id": "03ef28ba",
   "metadata": {
    "ExecuteTime": {
     "end_time": "2022-04-19T08:31:55.562570Z",
     "start_time": "2022-04-19T08:31:52.986152Z"
    }
   },
   "outputs": [
    {
     "data": {
      "text/plain": [
       "<AxesSubplot:>"
      ]
     },
     "execution_count": 137,
     "metadata": {},
     "output_type": "execute_result"
    },
    {
     "data": {
      "image/png": "[encoded data removed]",
      "text/plain": [
       "<Figure size 792x576 with 1 Axes>"
      ]
     },
     "metadata": {},
     "output_type": "display_data"
    }
   ],
   "source": [
    "df_train.extraction_type_class.value_counts().plot(kind='bar')"
   ]
  },
  {
   "cell_type": "markdown",
   "id": "e16c4fa7",
   "metadata": {},
   "source": [
    "Data is a lot less skewed in the last (smallest) of these sub groups. \n",
    "\n",
    "**Drop** Extraction_type\\\n",
    "**Drop** Extraction_type_group\\\n",
    "**OHE** Extraction_type_class"
   ]
  },
  {
   "cell_type": "markdown",
   "id": "e7b11328",
   "metadata": {},
   "source": [
    "### Management and Management Group"
   ]
  },
  {
   "cell_type": "code",
   "execution_count": 144,
   "id": "ba7cc438",
   "metadata": {
    "ExecuteTime": {
     "end_time": "2022-04-19T08:35:43.654359Z",
     "start_time": "2022-04-19T08:35:43.643357Z"
    }
   },
   "outputs": [
    {
     "data": {
      "text/plain": [
       "vwc                 0.681936\n",
       "wug                 0.109680\n",
       "water board         0.049377\n",
       "wua                 0.042677\n",
       "private operator    0.033182\n",
       "parastatal          0.029764\n",
       "water authority     0.015219\n",
       "other               0.014209\n",
       "company             0.011532\n",
       "unknown             0.009444\n",
       "other - school      0.001667\n",
       "trust               0.001313\n",
       "Name: management, dtype: float64"
      ]
     },
     "execution_count": 144,
     "metadata": {},
     "output_type": "execute_result"
    }
   ],
   "source": [
    "df_train.management.value_counts(normalize=True)"
   ]
  },
  {
   "cell_type": "code",
   "execution_count": 142,
   "id": "af4dd054",
   "metadata": {
    "ExecuteTime": {
     "end_time": "2022-04-19T08:35:04.896515Z",
     "start_time": "2022-04-19T08:35:04.731479Z"
    },
    "scrolled": false
   },
   "outputs": [
    {
     "data": {
      "text/plain": [
       "<AxesSubplot:>"
      ]
     },
     "execution_count": 142,
     "metadata": {},
     "output_type": "execute_result"
    },
    {
     "data": {
      "image/png": "[encoded data removed]",
      "text/plain": [
       "<Figure size 792x576 with 1 Axes>"
      ]
     },
     "metadata": {},
     "output_type": "display_data"
    }
   ],
   "source": [
    "df_train.management.value_counts().plot(kind='bar')"
   ]
  },
  {
   "cell_type": "code",
   "execution_count": 145,
   "id": "f6df297c",
   "metadata": {
    "ExecuteTime": {
     "end_time": "2022-04-19T08:35:52.400504Z",
     "start_time": "2022-04-19T08:35:52.379499Z"
    }
   },
   "outputs": [
    {
     "data": {
      "text/plain": [
       "user-group    0.883670\n",
       "commercial    0.061246\n",
       "parastatal    0.029764\n",
       "other         0.015875\n",
       "unknown       0.009444\n",
       "Name: management_group, dtype: float64"
      ]
     },
     "execution_count": 145,
     "metadata": {},
     "output_type": "execute_result"
    }
   ],
   "source": [
    "df_train.management_group.value_counts(normalize=True)"
   ]
  },
  {
   "cell_type": "code",
   "execution_count": 148,
   "id": "ba138571",
   "metadata": {
    "ExecuteTime": {
     "end_time": "2022-04-19T08:36:59.394001Z",
     "start_time": "2022-04-19T08:36:59.283976Z"
    }
   },
   "outputs": [
    {
     "data": {
      "text/plain": [
       "<AxesSubplot:>"
      ]
     },
     "execution_count": 148,
     "metadata": {},
     "output_type": "execute_result"
    },
    {
     "data": {
      "image/png": "[encoded data removed]",
      "text/plain": [
       "<Figure size 792x576 with 1 Axes>"
      ]
     },
     "metadata": {},
     "output_type": "display_data"
    }
   ],
   "source": [
    "df_train.management_group.value_counts().plot(kind='bar')"
   ]
  },
  {
   "cell_type": "markdown",
   "id": "4efae0a2",
   "metadata": {},
   "source": [
    "Both are pretty skewed, but former is better. \n",
    "\n",
    "**Drop** Management_group\\\n",
    "**OHE** Management"
   ]
  },
  {
   "cell_type": "markdown",
   "id": "a0acaa90",
   "metadata": {},
   "source": [
    "### Payment and Payment Group"
   ]
  },
  {
   "cell_type": "code",
   "execution_count": 152,
   "id": "16024677",
   "metadata": {
    "ExecuteTime": {
     "end_time": "2022-04-19T08:38:23.289540Z",
     "start_time": "2022-04-19T08:38:23.276537Z"
    }
   },
   "outputs": [
    {
     "data": {
      "text/plain": [
       "never pay                0.426734\n",
       "pay per bucket           0.151263\n",
       "pay monthly              0.139731\n",
       "unknown                  0.137323\n",
       "pay when scheme fails    0.065892\n",
       "pay annually             0.061313\n",
       "other                    0.017744\n",
       "Name: payment, dtype: float64"
      ]
     },
     "execution_count": 152,
     "metadata": {},
     "output_type": "execute_result"
    }
   ],
   "source": [
    "df_train.payment.value_counts(normalize=True)"
   ]
  },
  {
   "cell_type": "code",
   "execution_count": 154,
   "id": "c9d6dc23",
   "metadata": {
    "ExecuteTime": {
     "end_time": "2022-04-19T08:38:40.455583Z",
     "start_time": "2022-04-19T08:38:40.444583Z"
    }
   },
   "outputs": [
    {
     "data": {
      "text/plain": [
       "never pay     0.426734\n",
       "per bucket    0.151263\n",
       "monthly       0.139731\n",
       "unknown       0.137323\n",
       "on failure    0.065892\n",
       "annually      0.061313\n",
       "other         0.017744\n",
       "Name: payment_type, dtype: float64"
      ]
     },
     "execution_count": 154,
     "metadata": {},
     "output_type": "execute_result"
    }
   ],
   "source": [
    "df_train.payment_type.value_counts(normalize=True)"
   ]
  },
  {
   "cell_type": "markdown",
   "id": "97772337",
   "metadata": {},
   "source": [
    "Exactly identical. Prefer wording on first\n",
    "\n",
    "**Drop** payment_type\\\n",
    "**OHE** payment"
   ]
  },
  {
   "cell_type": "markdown",
   "id": "5819b884",
   "metadata": {},
   "source": [
    "### Water Quality and Quality Group"
   ]
  },
  {
   "cell_type": "code",
   "execution_count": 161,
   "id": "1a5c524c",
   "metadata": {
    "ExecuteTime": {
     "end_time": "2022-04-19T08:43:26.423732Z",
     "start_time": "2022-04-19T08:43:26.403727Z"
    }
   },
   "outputs": [
    {
     "data": {
      "text/plain": [
       "soft                  50818\n",
       "salty                  4856\n",
       "unknown                1876\n",
       "milky                   804\n",
       "coloured                490\n",
       "salty abandoned         339\n",
       "fluoride                200\n",
       "fluoride abandoned       17\n",
       "Name: water_quality, dtype: int64"
      ]
     },
     "execution_count": 161,
     "metadata": {},
     "output_type": "execute_result"
    }
   ],
   "source": [
    "df_train.water_quality.value_counts()"
   ]
  },
  {
   "cell_type": "code",
   "execution_count": 160,
   "id": "d952b3dc",
   "metadata": {
    "ExecuteTime": {
     "end_time": "2022-04-19T08:43:25.075148Z",
     "start_time": "2022-04-19T08:43:25.059642Z"
    }
   },
   "outputs": [
    {
     "data": {
      "text/plain": [
       "good        50818\n",
       "salty        5195\n",
       "unknown      1876\n",
       "milky         804\n",
       "colored       490\n",
       "fluoride      217\n",
       "Name: quality_group, dtype: int64"
      ]
     },
     "execution_count": 160,
     "metadata": {},
     "output_type": "execute_result"
    }
   ],
   "source": [
    "df_train.quality_group.value_counts()"
   ]
  },
  {
   "cell_type": "markdown",
   "id": "17d86d5b",
   "metadata": {
    "ExecuteTime": {
     "end_time": "2022-04-19T08:42:04.398574Z",
     "start_time": "2022-04-19T08:42:04.363566Z"
    }
   },
   "source": [
    "Salty abandoned and Salty combined, fluoride and and fluoride abandoned are combined in 2nd set.\n",
    "\n",
    "**Drop** water_quality\n",
    "**OHE** quality_group"
   ]
  },
  {
   "cell_type": "markdown",
   "id": "191caa2d",
   "metadata": {},
   "source": [
    "### Quantity and Quantity_group"
   ]
  },
  {
   "cell_type": "code",
   "execution_count": 163,
   "id": "fb248bea",
   "metadata": {
    "ExecuteTime": {
     "end_time": "2022-04-19T08:45:19.354967Z",
     "start_time": "2022-04-19T08:45:19.331962Z"
    }
   },
   "outputs": [
    {
     "data": {
      "text/plain": [
       "enough          33186\n",
       "insufficient    15129\n",
       "dry              6246\n",
       "seasonal         4050\n",
       "unknown           789\n",
       "Name: quantity, dtype: int64"
      ]
     },
     "execution_count": 163,
     "metadata": {},
     "output_type": "execute_result"
    }
   ],
   "source": [
    "df_train.quantity.value_counts()"
   ]
  },
  {
   "cell_type": "code",
   "execution_count": 164,
   "id": "35fd79af",
   "metadata": {
    "ExecuteTime": {
     "end_time": "2022-04-19T08:45:26.401299Z",
     "start_time": "2022-04-19T08:45:26.380295Z"
    }
   },
   "outputs": [
    {
     "data": {
      "text/plain": [
       "enough          33186\n",
       "insufficient    15129\n",
       "dry              6246\n",
       "seasonal         4050\n",
       "unknown           789\n",
       "Name: quantity_group, dtype: int64"
      ]
     },
     "execution_count": 164,
     "metadata": {},
     "output_type": "execute_result"
    }
   ],
   "source": [
    "df_train.quantity_group.value_counts()"
   ]
  },
  {
   "cell_type": "markdown",
   "id": "b2737345",
   "metadata": {},
   "source": [
    "*Exactly* the same. \n",
    "\n",
    "**Drop** quantity_group\n",
    "**OHE** quantity"
   ]
  },
  {
   "cell_type": "markdown",
   "id": "dc40b61b",
   "metadata": {},
   "source": [
    "### Source and Source_Type"
   ]
  },
  {
   "cell_type": "code",
   "execution_count": 166,
   "id": "1031dca3",
   "metadata": {
    "ExecuteTime": {
     "end_time": "2022-04-19T08:46:47.863324Z",
     "start_time": "2022-04-19T08:46:47.844318Z"
    },
    "scrolled": true
   },
   "outputs": [
    {
     "data": {
      "text/plain": [
       "spring                  17021\n",
       "shallow well            16824\n",
       "machine dbh             11075\n",
       "river                    9612\n",
       "rainwater harvesting     2295\n",
       "hand dtw                  874\n",
       "lake                      765\n",
       "dam                       656\n",
       "other                     212\n",
       "unknown                    66\n",
       "Name: source, dtype: int64"
      ]
     },
     "execution_count": 166,
     "metadata": {},
     "output_type": "execute_result"
    }
   ],
   "source": [
    "df_train.source.value_counts()"
   ]
  },
  {
   "cell_type": "code",
   "execution_count": 167,
   "id": "3c9066d6",
   "metadata": {
    "ExecuteTime": {
     "end_time": "2022-04-19T08:47:04.370874Z",
     "start_time": "2022-04-19T08:47:04.354871Z"
    },
    "scrolled": true
   },
   "outputs": [
    {
     "data": {
      "text/plain": [
       "spring                  17021\n",
       "shallow well            16824\n",
       "borehole                11949\n",
       "river/lake              10377\n",
       "rainwater harvesting     2295\n",
       "dam                       656\n",
       "other                     278\n",
       "Name: source_type, dtype: int64"
      ]
     },
     "execution_count": 167,
     "metadata": {},
     "output_type": "execute_result"
    }
   ],
   "source": [
    "df_train.source_type.value_counts()"
   ]
  },
  {
   "cell_type": "markdown",
   "id": "1b4c270a",
   "metadata": {},
   "source": [
    "### Source Class"
   ]
  },
  {
   "cell_type": "code",
   "execution_count": 169,
   "id": "9b6da34b",
   "metadata": {
    "ExecuteTime": {
     "end_time": "2022-04-19T08:48:08.113202Z",
     "start_time": "2022-04-19T08:48:08.093197Z"
    }
   },
   "outputs": [
    {
     "data": {
      "text/plain": [
       "groundwater    0.770943\n",
       "surface        0.224377\n",
       "unknown        0.004680\n",
       "Name: source_class, dtype: float64"
      ]
     },
     "execution_count": 169,
     "metadata": {},
     "output_type": "execute_result"
    }
   ],
   "source": [
    "df_train.source_class.value_counts(normalize=True)"
   ]
  },
  {
   "cell_type": "markdown",
   "id": "425e69eb",
   "metadata": {},
   "source": [
    "'unknown' comprises less than 0.5% of the dataset. \\\n",
    "**Impute** with mode. \\\n",
    "**OHE** to get binary column"
   ]
  },
  {
   "cell_type": "markdown",
   "id": "febe1fc9",
   "metadata": {},
   "source": [
    "### waterpoint_type and waterpoint_type_group"
   ]
  },
  {
   "cell_type": "code",
   "execution_count": 173,
   "id": "b946aa4b",
   "metadata": {
    "ExecuteTime": {
     "end_time": "2022-04-19T08:51:17.808250Z",
     "start_time": "2022-04-19T08:51:17.799248Z"
    }
   },
   "outputs": [
    {
     "data": {
      "text/plain": [
       "communal standpipe             0.480168\n",
       "hand pump                      0.294411\n",
       "other                          0.107407\n",
       "communal standpipe multiple    0.102744\n",
       "improved spring                0.013199\n",
       "cattle trough                  0.001953\n",
       "dam                            0.000118\n",
       "Name: waterpoint_type, dtype: float64"
      ]
     },
     "execution_count": 173,
     "metadata": {},
     "output_type": "execute_result"
    }
   ],
   "source": [
    "df_train.waterpoint_type.value_counts(normalize=True)"
   ]
  },
  {
   "cell_type": "code",
   "execution_count": 174,
   "id": "93c43207",
   "metadata": {
    "ExecuteTime": {
     "end_time": "2022-04-19T08:51:25.098746Z",
     "start_time": "2022-04-19T08:51:25.084743Z"
    }
   },
   "outputs": [
    {
     "data": {
      "text/plain": [
       "communal standpipe    0.582912\n",
       "hand pump             0.294411\n",
       "other                 0.107407\n",
       "improved spring       0.013199\n",
       "cattle trough         0.001953\n",
       "dam                   0.000118\n",
       "Name: waterpoint_type_group, dtype: float64"
      ]
     },
     "execution_count": 174,
     "metadata": {},
     "output_type": "execute_result"
    }
   ],
   "source": [
    "df_train.waterpoint_type_group.value_counts(normalize=True)"
   ]
  },
  {
   "cell_type": "markdown",
   "id": "14b7f656",
   "metadata": {},
   "source": [
    "Fairly similar, with the second combing communal standpipe and communal standpipe multiple.\n",
    "\n",
    "**Drop** waterpoint_type\n",
    "**OHE** waterpoint_type_group"
   ]
  },
  {
   "cell_type": "code",
   "execution_count": null,
   "id": "79be6627",
   "metadata": {},
   "outputs": [],
   "source": []
  },
  {
   "cell_type": "code",
   "execution_count": null,
   "id": "2e57ce59",
   "metadata": {},
   "outputs": [],
   "source": []
  },
  {
   "cell_type": "code",
   "execution_count": null,
   "id": "904fc6d1",
   "metadata": {},
   "outputs": [],
   "source": []
  },
  {
   "cell_type": "code",
   "execution_count": null,
   "id": "ee5cd722",
   "metadata": {},
   "outputs": [],
   "source": []
  },
  {
   "cell_type": "code",
   "execution_count": null,
   "id": "b090b29c",
   "metadata": {},
   "outputs": [],
   "source": []
  },
  {
   "cell_type": "code",
   "execution_count": null,
   "id": "f7b0fe63",
   "metadata": {},
   "outputs": [],
   "source": []
  },
  {
   "cell_type": "code",
   "execution_count": null,
   "id": "c2e9bebd",
   "metadata": {},
   "outputs": [],
   "source": []
  },
  {
   "cell_type": "markdown",
   "id": "d1a61c7e",
   "metadata": {
    "heading_collapsed": true
   },
   "source": [
    "# Branch here for Flatiron or DrivenData\n",
    "For Flatiron do a train test split to get your new X_train, X_test, y_train,y_test\n",
    "For DrivenData copy X_train_raw, X_test_raw and y_train_raw to new X_train, X_test, y_train. Submit y_test"
   ]
  },
  {
   "cell_type": "code",
   "execution_count": null,
   "id": "0e8c7f63",
   "metadata": {
    "hidden": true
   },
   "outputs": [],
   "source": []
  },
  {
   "cell_type": "code",
   "execution_count": null,
   "id": "616081b1",
   "metadata": {
    "ExecuteTime": {
     "end_time": "2022-04-19T01:04:18.687854Z",
     "start_time": "2022-04-19T01:04:18.657847Z"
    },
    "hidden": true,
    "scrolled": true
   },
   "outputs": [],
   "source": [
    "df_train[df_train.public_meeting==True].status_group.value_counts(normalize=True)"
   ]
  },
  {
   "cell_type": "code",
   "execution_count": null,
   "id": "a29886ad",
   "metadata": {
    "ExecuteTime": {
     "end_time": "2022-04-19T00:42:23.253697Z",
     "start_time": "2022-04-19T00:42:23.177676Z"
    },
    "hidden": true
   },
   "outputs": [],
   "source": [
    "df_train.isna().sum()"
   ]
  },
  {
   "cell_type": "code",
   "execution_count": null,
   "id": "3df2aae9",
   "metadata": {
    "ExecuteTime": {
     "end_time": "2022-04-19T00:58:22.139337Z",
     "start_time": "2022-04-19T00:58:22.026320Z"
    },
    "hidden": true
   },
   "outputs": [],
   "source": [
    "imp_missing = SimpleImputer(strategy='constant', fill_value='Missing',add_indicator=True)\n",
    "ct = ColumnTransformer(transformers= \n",
    "                      [\n",
    "                          ('missing_imp',imp_missing,['funder','installer'])\n",
    "                      ],\n",
    "                      remainder='passthrough')\n",
    "X_train = ct.fit_transform(X_train_raw)\n",
    "pd.DataFrame(\n",
    "    X_train,\n",
    "    columns = ct.get_feature_names_out(),\n",
    "#     index = X_train_raw.index\n",
    "            )"
   ]
  },
  {
   "cell_type": "code",
   "execution_count": null,
   "id": "602d7d84",
   "metadata": {
    "ExecuteTime": {
     "end_time": "2022-04-19T00:27:35.392282Z",
     "start_time": "2022-04-19T00:27:35.327267Z"
    },
    "hidden": true,
    "scrolled": true
   },
   "outputs": [],
   "source": [
    "df_train.drop(columns = ['latitude','longitude','id'])"
   ]
  },
  {
   "cell_type": "code",
   "execution_count": null,
   "id": "73e36ce1",
   "metadata": {
    "ExecuteTime": {
     "end_time": "2022-04-19T00:13:49.017458Z",
     "start_time": "2022-04-19T00:13:48.975449Z"
    },
    "hidden": true
   },
   "outputs": [],
   "source": [
    "X_test_raw[X_test_raw.longitude==0]"
   ]
  },
  {
   "cell_type": "code",
   "execution_count": null,
   "id": "35072f7a",
   "metadata": {
    "ExecuteTime": {
     "end_time": "2022-04-19T00:07:16.489332Z",
     "start_time": "2022-04-19T00:07:16.456324Z"
    },
    "hidden": true,
    "scrolled": false
   },
   "outputs": [],
   "source": [
    "region_from_df = list(set(df.region.str.lower().to_list()))\n",
    "region_from_df"
   ]
  },
  {
   "cell_type": "code",
   "execution_count": null,
   "id": "5b029d42",
   "metadata": {
    "ExecuteTime": {
     "end_time": "2022-04-19T00:07:20.757161Z",
     "start_time": "2022-04-19T00:07:20.743157Z"
    },
    "hidden": true,
    "scrolled": true
   },
   "outputs": [],
   "source": [
    "for each in region_from_df:\n",
    "    if each not in adm1_list:\n",
    "        print(each)"
   ]
  },
  {
   "cell_type": "markdown",
   "id": "caa3bd1a",
   "metadata": {
    "ExecuteTime": {
     "end_time": "2022-04-18T18:37:16.128513Z",
     "start_time": "2022-04-18T18:37:16.117512Z"
    }
   },
   "source": [
    "# MAP STUFF. IGNORE FOR NOW"
   ]
  },
  {
   "cell_type": "code",
   "execution_count": null,
   "id": "4246fea2",
   "metadata": {
    "ExecuteTime": {
     "end_time": "2022-04-18T22:44:50.059819Z",
     "start_time": "2022-04-18T22:44:49.954641Z"
    }
   },
   "outputs": [],
   "source": [
    "with open('data/stanford-tn398yw9512-geojson_districtBoundary.json', 'r',encoding='utf8') as f:\n",
    "    geoJSON_raw = json.load(f)"
   ]
  },
  {
   "cell_type": "code",
   "execution_count": null,
   "id": "c10e724e",
   "metadata": {
    "ExecuteTime": {
     "end_time": "2022-04-19T00:08:55.228249Z",
     "start_time": "2022-04-19T00:08:55.223248Z"
    }
   },
   "outputs": [],
   "source": [
    "adm1_list_gjson = list(set([each['properties']['adm1'].replace('-', ' ').lower() for each in geoJSON_raw['features']]))\n",
    "# adm2_list_gjson = list(set([each['properties']['adm2'].replace('-', ' ').lower() for each in geoJSON_raw['features']]))"
   ]
  },
  {
   "cell_type": "code",
   "execution_count": null,
   "id": "f69418d6",
   "metadata": {
    "ExecuteTime": {
     "end_time": "2022-04-18T22:34:36.452973Z",
     "start_time": "2022-04-18T22:34:36.441971Z"
    }
   },
   "outputs": [],
   "source": [
    "map_shape = shape(geoJSON_raw['features'][0]['geometry'])"
   ]
  },
  {
   "cell_type": "code",
   "execution_count": null,
   "id": "1932faa9",
   "metadata": {
    "ExecuteTime": {
     "end_time": "2022-04-18T18:43:34.697074Z",
     "start_time": "2022-04-18T18:43:34.622057Z"
    },
    "scrolled": true
   },
   "outputs": [],
   "source": []
  },
  {
   "cell_type": "code",
   "execution_count": null,
   "id": "f2a9fcb3",
   "metadata": {
    "ExecuteTime": {
     "end_time": "2022-04-18T18:51:21.165673Z",
     "start_time": "2022-04-18T18:51:21.151670Z"
    }
   },
   "outputs": [],
   "source": []
  },
  {
   "cell_type": "code",
   "execution_count": null,
   "id": "13b7983d",
   "metadata": {
    "ExecuteTime": {
     "end_time": "2022-04-18T18:43:45.135973Z",
     "start_time": "2022-04-18T18:43:45.125971Z"
    }
   },
   "outputs": [],
   "source": []
  },
  {
   "cell_type": "code",
   "execution_count": null,
   "id": "21a08bdd",
   "metadata": {
    "ExecuteTime": {
     "end_time": "2022-04-18T21:56:32.904890Z",
     "start_time": "2022-04-18T21:56:32.469792Z"
    }
   },
   "outputs": [],
   "source": [
    "m=folium.Map(location=Tanzania_coord, zoom_start=5, tiles='CartoDB positron')\n",
    "geo_j = folium.GeoJson(data=geoJSON_raw,\n",
    "                           style_function=lambda x: {'fillColor': 'orange'})\n",
    "geo_j.add_to(m)\n",
    "\n",
    "for each in df_high_head.iterrows():\n",
    "    folium.Marker(\n",
    "#         location=[each[1]['latitude'], each[1]['longitude']],\n",
    "        location=(each[1]['latitude'],each[1]['longitude']),\n",
    "        icon=folium.Icon(color=\"blue\",icon=\"tint\", prefix='fa')\n",
    "    ).add_to(m)\n",
    "\n",
    "m"
   ]
  },
  {
   "cell_type": "markdown",
   "id": "16653dab",
   "metadata": {},
   "source": [
    "# LAT and LONG"
   ]
  },
  {
   "cell_type": "markdown",
   "id": "f43ea4ab",
   "metadata": {},
   "source": [
    "Some are marked as (lat,long) = (-2*e-8, 0) ~ (0,0) . In other words, location is missing.\n",
    "\n",
    "1812 records ~ 3.050505 %"
   ]
  },
  {
   "cell_type": "code",
   "execution_count": null,
   "id": "d59f2d6d",
   "metadata": {
    "ExecuteTime": {
     "end_time": "2022-04-18T21:18:07.254684Z",
     "start_time": "2022-04-18T21:18:07.238680Z"
    },
    "scrolled": true
   },
   "outputs": [],
   "source": [
    "X_train.loc[(abs(X_train.longitude) <0.05) & (abs(X_train.latitude) <0.05)].region.unique()"
   ]
  },
  {
   "cell_type": "code",
   "execution_count": null,
   "id": "84910a8f",
   "metadata": {
    "ExecuteTime": {
     "end_time": "2022-04-18T21:27:42.759379Z",
     "start_time": "2022-04-18T21:27:42.712369Z"
    },
    "scrolled": true
   },
   "outputs": [],
   "source": [
    "X_train[X_train.region=='Shinyanga']"
   ]
  },
  {
   "cell_type": "code",
   "execution_count": null,
   "id": "5ace7f0d",
   "metadata": {
    "ExecuteTime": {
     "end_time": "2022-04-18T21:56:20.770476Z",
     "start_time": "2022-04-18T21:56:20.765476Z"
    }
   },
   "outputs": [],
   "source": [
    "df_high_head = X_train[X_train.amount_tsh>10000]"
   ]
  },
  {
   "cell_type": "code",
   "execution_count": null,
   "id": "4896b839",
   "metadata": {
    "ExecuteTime": {
     "end_time": "2022-04-18T20:02:40.634862Z",
     "start_time": "2022-04-18T20:02:40.626860Z"
    }
   },
   "outputs": [],
   "source": [
    "# X_train['lon_lat'] = tuple(zip(X_train['longitude'], X_train['latitude']))\n",
    "# X_train['inside_Tanzania_border'] = X_train['lon_lat'].map(lambda x : tanzania_shape.contains(Point(x)))"
   ]
  },
  {
   "cell_type": "code",
   "execution_count": null,
   "id": "40520bda",
   "metadata": {
    "ExecuteTime": {
     "end_time": "2022-04-18T20:22:28.752843Z",
     "start_time": "2022-04-18T20:22:28.748843Z"
    },
    "scrolled": true
   },
   "outputs": [],
   "source": [
    "# X_train_notInTanzania_minus00 = X_train.loc[\n",
    "#     (X_train.inside_Tanzania_border == False) &\n",
    "#     (abs(X_train.longitude) > 0.05) &\n",
    "#     (abs(X_train.latitude) > 0.05)\n",
    "#            ]\n",
    "# X_train_notInTanzania_minus00"
   ]
  },
  {
   "cell_type": "code",
   "execution_count": null,
   "id": "663abc22",
   "metadata": {
    "ExecuteTime": {
     "end_time": "2022-04-18T20:23:06.655093Z",
     "start_time": "2022-04-18T20:23:06.604091Z"
    }
   },
   "outputs": [],
   "source": []
  },
  {
   "cell_type": "code",
   "execution_count": null,
   "id": "a199d261",
   "metadata": {
    "ExecuteTime": {
     "end_time": "2022-04-18T19:57:32.920066Z",
     "start_time": "2022-04-18T19:57:32.218377Z"
    }
   },
   "outputs": [],
   "source": [
    "# X_train.to_csv('data/X_train.csv')"
   ]
  },
  {
   "cell_type": "markdown",
   "id": "c4f4f023",
   "metadata": {},
   "source": [
    "# amount_tsh\n",
    "total static head has no negative values. \n",
    "0 = outlet same level as inlet (assuming no inlet and outlet pressures other than head)\n",
    "-ve = outlet lower than inlet. why pump? maybe hand pumps? (assuming no inlet and outlet pressures other than head)\n",
    "+ve = outlet higher than inlet. (assuming no inlet and outlet pressures other than head)"
   ]
  },
  {
   "cell_type": "code",
   "execution_count": null,
   "id": "ed0b963b",
   "metadata": {
    "ExecuteTime": {
     "end_time": "2022-04-18T22:24:55.002894Z",
     "start_time": "2022-04-18T22:24:54.991891Z"
    },
    "scrolled": true
   },
   "outputs": [],
   "source": [
    "X_train[X_train.amount_tsh>10000].index"
   ]
  },
  {
   "cell_type": "code",
   "execution_count": null,
   "id": "77f3f0fb",
   "metadata": {
    "ExecuteTime": {
     "end_time": "2022-04-18T22:29:12.759069Z",
     "start_time": "2022-04-18T22:29:12.738064Z"
    }
   },
   "outputs": [],
   "source": [
    "y_train.iloc[X_train[X_train.amount_tsh>1].index,:].status_group.value_counts(normalize=True)"
   ]
  },
  {
   "cell_type": "markdown",
   "id": "7234a799",
   "metadata": {},
   "source": [
    "# NULLS"
   ]
  },
  {
   "cell_type": "code",
   "execution_count": null,
   "id": "58091a05",
   "metadata": {
    "ExecuteTime": {
     "end_time": "2022-04-18T21:16:29.966840Z",
     "start_time": "2022-04-18T21:16:29.918828Z"
    },
    "scrolled": true
   },
   "outputs": [],
   "source": [
    "# Columns with nulls\n",
    "X_train.isna().sum()"
   ]
  },
  {
   "cell_type": "code",
   "execution_count": null,
   "id": "ac90c88e",
   "metadata": {
    "ExecuteTime": {
     "end_time": "2022-04-18T21:17:15.327632Z",
     "start_time": "2022-04-18T21:17:15.277362Z"
    },
    "scrolled": true
   },
   "outputs": [],
   "source": []
  },
  {
   "cell_type": "code",
   "execution_count": null,
   "id": "72956c30",
   "metadata": {
    "ExecuteTime": {
     "end_time": "2022-04-18T15:01:47.864394Z",
     "start_time": "2022-04-18T15:01:47.860418Z"
    }
   },
   "outputs": [],
   "source": [
    "X_train.shape[0]"
   ]
  },
  {
   "cell_type": "code",
   "execution_count": null,
   "id": "5020eceb",
   "metadata": {
    "ExecuteTime": {
     "end_time": "2022-04-18T16:19:35.597681Z",
     "start_time": "2022-04-18T16:19:35.581677Z"
    },
    "scrolled": true
   },
   "outputs": [],
   "source": []
  },
  {
   "cell_type": "code",
   "execution_count": null,
   "id": "4619b771",
   "metadata": {
    "ExecuteTime": {
     "end_time": "2022-04-18T16:14:42.651160Z",
     "start_time": "2022-04-18T16:14:42.622154Z"
    }
   },
   "outputs": [],
   "source": []
  },
  {
   "cell_type": "code",
   "execution_count": null,
   "id": "79b7628a",
   "metadata": {
    "ExecuteTime": {
     "end_time": "2022-04-18T16:15:24.758873Z",
     "start_time": "2022-04-18T16:15:24.749880Z"
    }
   },
   "outputs": [],
   "source": [
    "X_train.village.isna().sum()"
   ]
  },
  {
   "cell_type": "code",
   "execution_count": null,
   "id": "6535e17a",
   "metadata": {
    "ExecuteTime": {
     "end_time": "2022-04-18T16:15:50.143291Z",
     "start_time": "2022-04-18T16:15:50.134290Z"
    },
    "scrolled": true
   },
   "outputs": [],
   "source": [
    "X_train.subvillage.isna().sum()"
   ]
  },
  {
   "cell_type": "code",
   "execution_count": null,
   "id": "fc0e0e92",
   "metadata": {},
   "outputs": [],
   "source": []
  },
  {
   "cell_type": "code",
   "execution_count": null,
   "id": "2a9f0108",
   "metadata": {
    "ExecuteTime": {
     "end_time": "2022-04-18T14:20:04.307568Z",
     "start_time": "2022-04-18T14:20:04.261558Z"
    }
   },
   "outputs": [],
   "source": [
    "X_train.describe()"
   ]
  },
  {
   "cell_type": "code",
   "execution_count": null,
   "id": "854650f4",
   "metadata": {
    "ExecuteTime": {
     "end_time": "2022-04-18T14:20:04.450440Z",
     "start_time": "2022-04-18T14:20:04.308568Z"
    }
   },
   "outputs": [],
   "source": [
    "df = pd.merge(X_train,y_train,on='id')"
   ]
  },
  {
   "cell_type": "code",
   "execution_count": null,
   "id": "12819bca",
   "metadata": {
    "ExecuteTime": {
     "end_time": "2022-04-18T14:20:04.498450Z",
     "start_time": "2022-04-18T14:20:04.451441Z"
    },
    "scrolled": true
   },
   "outputs": [],
   "source": [
    "df.select_dtypes(np.number)"
   ]
  },
  {
   "cell_type": "code",
   "execution_count": null,
   "id": "80b462ec",
   "metadata": {
    "ExecuteTime": {
     "end_time": "2022-04-18T14:20:04.577468Z",
     "start_time": "2022-04-18T14:20:04.499451Z"
    }
   },
   "outputs": [],
   "source": [
    "df = pd.DataFrame.copy(X_train)\n",
    "df.drop(columns = ['id','longitude','latitude','gps_height'])\n",
    "df"
   ]
  },
  {
   "cell_type": "code",
   "execution_count": null,
   "id": "48cd7eac",
   "metadata": {
    "ExecuteTime": {
     "end_time": "2022-04-18T14:20:04.592475Z",
     "start_time": "2022-04-18T14:20:04.578468Z"
    }
   },
   "outputs": [],
   "source": [
    "df['water_quality | quality_grup']= df.water_quality + df.quality_group"
   ]
  },
  {
   "cell_type": "code",
   "execution_count": null,
   "id": "09ddc271",
   "metadata": {
    "ExecuteTime": {
     "end_time": "2022-04-18T14:20:04.608483Z",
     "start_time": "2022-04-18T14:20:04.593475Z"
    }
   },
   "outputs": [],
   "source": [
    "df['water_quality'].value_counts()"
   ]
  },
  {
   "cell_type": "code",
   "execution_count": null,
   "id": "abd4ba01",
   "metadata": {
    "ExecuteTime": {
     "end_time": "2022-04-18T14:20:04.623486Z",
     "start_time": "2022-04-18T14:20:04.609484Z"
    }
   },
   "outputs": [],
   "source": [
    "df['quality_group'].value_counts()"
   ]
  },
  {
   "cell_type": "code",
   "execution_count": null,
   "id": "545ec065",
   "metadata": {
    "ExecuteTime": {
     "end_time": "2022-04-18T14:20:04.638490Z",
     "start_time": "2022-04-18T14:20:04.624487Z"
    },
    "scrolled": true
   },
   "outputs": [],
   "source": [
    "df['water_quality | quality_grup'].value_counts()"
   ]
  },
  {
   "cell_type": "code",
   "execution_count": null,
   "id": "67af0965",
   "metadata": {
    "ExecuteTime": {
     "end_time": "2022-04-18T14:20:04.654493Z",
     "start_time": "2022-04-18T14:20:04.639491Z"
    }
   },
   "outputs": [],
   "source": [
    "df['wpt_type_to_wpt_type_grp'] = df.waterpoint_type +  df.waterpoint_type_group"
   ]
  },
  {
   "cell_type": "code",
   "execution_count": null,
   "id": "e637f7f3",
   "metadata": {
    "ExecuteTime": {
     "end_time": "2022-04-18T14:20:04.670497Z",
     "start_time": "2022-04-18T14:20:04.655494Z"
    }
   },
   "outputs": [],
   "source": [
    "df.waterpoint_type.value_counts()"
   ]
  },
  {
   "cell_type": "code",
   "execution_count": null,
   "id": "323f569f",
   "metadata": {
    "ExecuteTime": {
     "end_time": "2022-04-18T14:20:04.686501Z",
     "start_time": "2022-04-18T14:20:04.671497Z"
    }
   },
   "outputs": [],
   "source": [
    "df.waterpoint_type_group.value_counts()"
   ]
  },
  {
   "cell_type": "code",
   "execution_count": null,
   "id": "fcc8ed6c",
   "metadata": {
    "ExecuteTime": {
     "end_time": "2022-04-18T14:20:04.702504Z",
     "start_time": "2022-04-18T14:20:04.687501Z"
    }
   },
   "outputs": [],
   "source": [
    "df.funder.value_counts()"
   ]
  },
  {
   "cell_type": "code",
   "execution_count": null,
   "id": "36a63588",
   "metadata": {
    "ExecuteTime": {
     "end_time": "2022-04-18T14:20:04.718508Z",
     "start_time": "2022-04-18T14:20:04.703505Z"
    }
   },
   "outputs": [],
   "source": [
    "df.installer.value_counts()"
   ]
  },
  {
   "cell_type": "code",
   "execution_count": null,
   "id": "cefa80ae",
   "metadata": {
    "ExecuteTime": {
     "end_time": "2022-04-18T14:20:05.542321Z",
     "start_time": "2022-04-18T14:20:04.719508Z"
    },
    "scrolled": true
   },
   "outputs": [],
   "source": [
    "sns.heatmap(df.corr(),annot= True)"
   ]
  },
  {
   "cell_type": "code",
   "execution_count": null,
   "id": "92f368f3",
   "metadata": {
    "ExecuteTime": {
     "end_time": "2022-04-18T14:27:24.188305Z",
     "start_time": "2022-04-18T14:27:24.170301Z"
    }
   },
   "outputs": [],
   "source": [
    "df.gps_height.sort_values()"
   ]
  },
  {
   "cell_type": "code",
   "execution_count": null,
   "id": "3e71759a",
   "metadata": {
    "ExecuteTime": {
     "end_time": "2022-04-18T14:28:15.575814Z",
     "start_time": "2022-04-18T14:28:15.560811Z"
    }
   },
   "outputs": [],
   "source": [
    "df_highest = df[df.gps_height>2500].sort_values(by='gps_height')"
   ]
  },
  {
   "cell_type": "code",
   "execution_count": null,
   "id": "86f0e551",
   "metadata": {
    "ExecuteTime": {
     "end_time": "2022-04-18T14:54:34.342912Z",
     "start_time": "2022-04-18T14:54:34.327909Z"
    },
    "scrolled": true
   },
   "outputs": [],
   "source": [
    "df_highest.status_group"
   ]
  },
  {
   "cell_type": "code",
   "execution_count": null,
   "id": "2ce4b8fe",
   "metadata": {
    "ExecuteTime": {
     "end_time": "2022-04-18T16:23:47.530965Z",
     "start_time": "2022-04-18T16:23:47.501958Z"
    }
   },
   "outputs": [],
   "source": [
    "import folium\n",
    "\n",
    "m = folium.Map(location = (-2.000000e-08,0), tiles = \"Stamen Watercolor\", zoom_start = 10)\n",
    "number_of_markers = 100\n",
    "i=0\n",
    "for each in df_highest.iterrows():    \n",
    "    folium.Marker(\n",
    "        location=[each[1]['latitude'], each[1]['longitude']],\n",
    "        icon=folium.Icon(color=\"green\",icon=\"money\", prefix='fa')\n",
    "    ).add_to(m)\n",
    "        \n",
    "m"
   ]
  },
  {
   "cell_type": "markdown",
   "id": "8e2af294",
   "metadata": {},
   "source": [
    "# New heading"
   ]
  }
 ],
 "metadata": {
  "kernelspec": {
   "display_name": "Python (learn-env)",
   "language": "python",
   "name": "learn-env"
  },
  "language_info": {
   "codemirror_mode": {
    "name": "ipython",
    "version": 3
   },
   "file_extension": ".py",
   "mimetype": "text/x-python",
   "name": "python",
   "nbconvert_exporter": "python",
   "pygments_lexer": "ipython3",
   "version": "3.8.5"
  },
  "toc": {
   "base_numbering": 1,
   "nav_menu": {},
   "number_sections": true,
   "sideBar": true,
   "skip_h1_title": false,
   "title_cell": "Table of Contents",
   "title_sidebar": "Contents",
   "toc_cell": false,
   "toc_position": {
    "height": "calc(100% - 180px)",
    "left": "10px",
    "top": "150px",
    "width": "368.111px"
   },
   "toc_section_display": true,
   "toc_window_display": true
  },
  "varInspector": {
   "cols": {
    "lenName": 16,
    "lenType": 16,
    "lenVar": 40
   },
   "kernels_config": {
    "python": {
     "delete_cmd_postfix": "",
     "delete_cmd_prefix": "del ",
     "library": "var_list.py",
     "varRefreshCmd": "print(var_dic_list())"
    },
    "r": {
     "delete_cmd_postfix": ") ",
     "delete_cmd_prefix": "rm(",
     "library": "var_list.r",
     "varRefreshCmd": "cat(var_dic_list()) "
    }
   },
   "types_to_exclude": [
    "module",
    "function",
    "builtin_function_or_method",
    "instance",
    "_Feature"
   ],
   "window_display": false
  }
 },
 "nbformat": 4,
 "nbformat_minor": 5
}
